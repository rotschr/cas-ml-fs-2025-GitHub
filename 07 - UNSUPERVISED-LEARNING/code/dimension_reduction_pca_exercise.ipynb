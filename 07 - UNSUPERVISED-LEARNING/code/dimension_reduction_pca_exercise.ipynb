{
 "cells": [
  {
   "cell_type": "markdown",
   "metadata": {},
   "source": [
    "# PCA - Code Notebook Exercise\n",
    "**Author**: Dr. Yves Staudt\n",
    "\n",
    "CAS: Machine Learning - Unsupervised Learning"
   ]
  },
  {
   "cell_type": "markdown",
   "metadata": {},
   "source": [
    "## Loading Packages"
   ]
  },
  {
   "cell_type": "code",
   "execution_count": 1,
   "metadata": {},
   "outputs": [],
   "source": [
    "import pandas as pd\n",
    "import numpy as np\n",
    "\n",
    "from sklearn.preprocessing import MinMaxScaler\n",
    "from sklearn.cluster import KMeans\n",
    "\n",
    "from sklearn import decomposition\n",
    "\n",
    "import plotly.express as px"
   ]
  },
  {
   "cell_type": "markdown",
   "metadata": {},
   "source": [
    "## Loading Data"
   ]
  },
  {
   "cell_type": "code",
   "execution_count": 2,
   "metadata": {},
   "outputs": [],
   "source": [
    "# Attention to adapt path\n",
    "df = pd.read_csv(xxx)"
   ]
  },
  {
   "cell_type": "markdown",
   "metadata": {},
   "source": [
    "## Scaling Data"
   ]
  },
  {
   "cell_type": "code",
   "execution_count": 3,
   "metadata": {},
   "outputs": [],
   "source": [
    "# set up the scaler\n",
    "scaler = MinMaxScaler()\n",
    "\n",
    "# fit the scaler to the train set, it will learn the parameters\n",
    "scaler.fit( xxx )\n",
    "\n",
    "# transform train and test sets\n",
    "df_scaled = xxx"
   ]
  },
  {
   "cell_type": "code",
   "execution_count": 4,
   "metadata": {},
   "outputs": [],
   "source": [
    "# let's transform the returned NumPy arrays to dataframes for the rest of\n",
    "# the demo\n",
    "\n",
    "df_scaled = xxx"
   ]
  },
  {
   "cell_type": "markdown",
   "metadata": {},
   "source": [
    "## k-Means Clustering for Optimal k"
   ]
  },
  {
   "cell_type": "code",
   "execution_count": null,
   "metadata": {},
   "outputs": [],
   "source": [
    "km = KMeans(\n",
    "   xxx\n",
    ")\n",
    "km.fit(df_scaled)"
   ]
  },
  {
   "cell_type": "markdown",
   "metadata": {},
   "source": [
    "## Cluster Centers"
   ]
  },
  {
   "cell_type": "code",
   "execution_count": null,
   "metadata": {},
   "outputs": [],
   "source": [
    "cluster_centers = xxx\n",
    "cluster_centers"
   ]
  },
  {
   "cell_type": "markdown",
   "metadata": {},
   "source": [
    "## PCA - Dimension Reduction"
   ]
  },
  {
   "cell_type": "code",
   "execution_count": 7,
   "metadata": {},
   "outputs": [],
   "source": [
    "# keep the first two principal components\n",
    "pca = decomposition.PCA(n_components=xxx)\n",
    "# fit pca model to the survey\n",
    "survey_pca = pca.fit(xxx)"
   ]
  },
  {
   "cell_type": "code",
   "execution_count": null,
   "metadata": {},
   "outputs": [],
   "source": [
    "pca.explained_variance_ratio_"
   ]
  },
  {
   "cell_type": "markdown",
   "metadata": {},
   "source": [
    "Transform data"
   ]
  },
  {
   "cell_type": "code",
   "execution_count": 9,
   "metadata": {},
   "outputs": [
    {
     "name": "stdout",
     "output_type": "stream",
     "text": [
      "Orignial shape: (890, 39)\n",
      "Reduced shape: (890, 2)\n"
     ]
    }
   ],
   "source": [
    "# projecting the values on the pca directions\n",
    "df_pca = pca.transform(xxx)\n",
    "# controling shape of the dataset\n",
    "print(\"Orignial shape: {}\". format(str(df_scaled.shape)))\n",
    "print(\"Reduced shape: {}\".format(str(df_pca.shape)))"
   ]
  },
  {
   "cell_type": "code",
   "execution_count": null,
   "metadata": {},
   "outputs": [],
   "source": [
    "# saving data as dataframe\n",
    "df_pca = pd.DataFrame(df_pca, columns = ['Pc1', 'Pc2'])\n",
    "df_pca.info()\n",
    "#df_pca.describe()"
   ]
  },
  {
   "cell_type": "code",
   "execution_count": 11,
   "metadata": {},
   "outputs": [],
   "source": [
    "df_pca['cluster'] = km.labels_\n",
    "# Convert 'cluster' to a categorical variable with a specified order\n",
    "order = [0, 1, 2, 3]\n",
    "df_pca['cluster'] = pd.Categorical(df_pca['cluster'], categories=order, ordered=True)\n"
   ]
  },
  {
   "cell_type": "markdown",
   "metadata": {},
   "source": [
    "## Visualisation"
   ]
  },
  {
   "cell_type": "code",
   "execution_count": null,
   "metadata": {},
   "outputs": [],
   "source": [
    "# representing the data\n",
    "fig = px.scatter(df_pca, x=\"Pc1\", y=\"Pc2\",color=\"cluster\",\n",
    "                 labels= {\n",
    "                     \"Pc1\": \"Principal Component 1\",\n",
    "                     \"Pc2\": \"Principal Component 2\",\n",
    "                     \"cluster\": \"Number of associated cluster\"\n",
    "                 },\n",
    "                 title= \"Representation of the two first principal components of PCA\") \n",
    "fig.show()"
   ]
  }
 ],
 "metadata": {
  "kernelspec": {
   "display_name": "Python 3",
   "language": "python",
   "name": "python3"
  },
  "language_info": {
   "codemirror_mode": {
    "name": "ipython",
    "version": 3
   },
   "file_extension": ".py",
   "mimetype": "text/x-python",
   "name": "python",
   "nbconvert_exporter": "python",
   "pygments_lexer": "ipython3",
   "version": "3.11.4"
  }
 },
 "nbformat": 4,
 "nbformat_minor": 2
}
