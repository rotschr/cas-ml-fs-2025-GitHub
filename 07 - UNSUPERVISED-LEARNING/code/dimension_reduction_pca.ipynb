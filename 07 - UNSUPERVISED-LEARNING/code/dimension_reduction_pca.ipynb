{
 "cells": [
  {
   "cell_type": "markdown",
   "metadata": {},
   "source": [
    "# PCA - Code Notebook Solution\n",
    "**Author**: Dr. Yves Staudt\n",
    "\n",
    "CAS: Machine Learning - Unsupervised Learning"
   ]
  },
  {
   "cell_type": "markdown",
   "metadata": {},
   "source": [
    "## Loading Packages"
   ]
  },
  {
   "cell_type": "code",
   "execution_count": 1,
   "metadata": {},
   "outputs": [],
   "source": [
    "import pandas as pd\n",
    "import numpy as np\n",
    "\n",
    "from sklearn.preprocessing import MinMaxScaler\n",
    "from sklearn.cluster import KMeans\n",
    "\n",
    "from sklearn import decomposition\n",
    "\n",
    "import plotly.express as px"
   ]
  },
  {
   "cell_type": "markdown",
   "metadata": {},
   "source": [
    "## Loading Data"
   ]
  },
  {
   "cell_type": "code",
   "execution_count": 2,
   "metadata": {},
   "outputs": [],
   "source": [
    "# Attention to adapt path\n",
    "df = pd.read_csv('lego_dataset_encoded_prepared_selected_feature.csv')"
   ]
  },
  {
   "cell_type": "markdown",
   "metadata": {},
   "source": [
    "## Scaling Data"
   ]
  },
  {
   "cell_type": "code",
   "execution_count": 3,
   "metadata": {},
   "outputs": [],
   "source": [
    "# set up the scaler\n",
    "scaler = MinMaxScaler()\n",
    "\n",
    "# fit the scaler to the train set, it will learn the parameters\n",
    "scaler.fit(df)\n",
    "\n",
    "# transform train and test sets\n",
    "df_scaled = scaler.transform(df)"
   ]
  },
  {
   "cell_type": "code",
   "execution_count": 4,
   "metadata": {},
   "outputs": [],
   "source": [
    "# let's transform the returned NumPy arrays to dataframes for the rest of\n",
    "# the demo\n",
    "\n",
    "df_scaled = pd.DataFrame(df_scaled, columns=df.columns)"
   ]
  },
  {
   "cell_type": "markdown",
   "metadata": {},
   "source": [
    "## k-Means Clustering for Optimal k"
   ]
  },
  {
   "cell_type": "code",
   "execution_count": 5,
   "metadata": {},
   "outputs": [
    {
     "data": {
      "text/html": [
       "<style>#sk-container-id-1 {color: black;}#sk-container-id-1 pre{padding: 0;}#sk-container-id-1 div.sk-toggleable {background-color: white;}#sk-container-id-1 label.sk-toggleable__label {cursor: pointer;display: block;width: 100%;margin-bottom: 0;padding: 0.3em;box-sizing: border-box;text-align: center;}#sk-container-id-1 label.sk-toggleable__label-arrow:before {content: \"▸\";float: left;margin-right: 0.25em;color: #696969;}#sk-container-id-1 label.sk-toggleable__label-arrow:hover:before {color: black;}#sk-container-id-1 div.sk-estimator:hover label.sk-toggleable__label-arrow:before {color: black;}#sk-container-id-1 div.sk-toggleable__content {max-height: 0;max-width: 0;overflow: hidden;text-align: left;background-color: #f0f8ff;}#sk-container-id-1 div.sk-toggleable__content pre {margin: 0.2em;color: black;border-radius: 0.25em;background-color: #f0f8ff;}#sk-container-id-1 input.sk-toggleable__control:checked~div.sk-toggleable__content {max-height: 200px;max-width: 100%;overflow: auto;}#sk-container-id-1 input.sk-toggleable__control:checked~label.sk-toggleable__label-arrow:before {content: \"▾\";}#sk-container-id-1 div.sk-estimator input.sk-toggleable__control:checked~label.sk-toggleable__label {background-color: #d4ebff;}#sk-container-id-1 div.sk-label input.sk-toggleable__control:checked~label.sk-toggleable__label {background-color: #d4ebff;}#sk-container-id-1 input.sk-hidden--visually {border: 0;clip: rect(1px 1px 1px 1px);clip: rect(1px, 1px, 1px, 1px);height: 1px;margin: -1px;overflow: hidden;padding: 0;position: absolute;width: 1px;}#sk-container-id-1 div.sk-estimator {font-family: monospace;background-color: #f0f8ff;border: 1px dotted black;border-radius: 0.25em;box-sizing: border-box;margin-bottom: 0.5em;}#sk-container-id-1 div.sk-estimator:hover {background-color: #d4ebff;}#sk-container-id-1 div.sk-parallel-item::after {content: \"\";width: 100%;border-bottom: 1px solid gray;flex-grow: 1;}#sk-container-id-1 div.sk-label:hover label.sk-toggleable__label {background-color: #d4ebff;}#sk-container-id-1 div.sk-serial::before {content: \"\";position: absolute;border-left: 1px solid gray;box-sizing: border-box;top: 0;bottom: 0;left: 50%;z-index: 0;}#sk-container-id-1 div.sk-serial {display: flex;flex-direction: column;align-items: center;background-color: white;padding-right: 0.2em;padding-left: 0.2em;position: relative;}#sk-container-id-1 div.sk-item {position: relative;z-index: 1;}#sk-container-id-1 div.sk-parallel {display: flex;align-items: stretch;justify-content: center;background-color: white;position: relative;}#sk-container-id-1 div.sk-item::before, #sk-container-id-1 div.sk-parallel-item::before {content: \"\";position: absolute;border-left: 1px solid gray;box-sizing: border-box;top: 0;bottom: 0;left: 50%;z-index: -1;}#sk-container-id-1 div.sk-parallel-item {display: flex;flex-direction: column;z-index: 1;position: relative;background-color: white;}#sk-container-id-1 div.sk-parallel-item:first-child::after {align-self: flex-end;width: 50%;}#sk-container-id-1 div.sk-parallel-item:last-child::after {align-self: flex-start;width: 50%;}#sk-container-id-1 div.sk-parallel-item:only-child::after {width: 0;}#sk-container-id-1 div.sk-dashed-wrapped {border: 1px dashed gray;margin: 0 0.4em 0.5em 0.4em;box-sizing: border-box;padding-bottom: 0.4em;background-color: white;}#sk-container-id-1 div.sk-label label {font-family: monospace;font-weight: bold;display: inline-block;line-height: 1.2em;}#sk-container-id-1 div.sk-label-container {text-align: center;}#sk-container-id-1 div.sk-container {/* jupyter's `normalize.less` sets `[hidden] { display: none; }` but bootstrap.min.css set `[hidden] { display: none !important; }` so we also need the `!important` here to be able to override the default hidden behavior on the sphinx rendered scikit-learn.org. See: https://github.com/scikit-learn/scikit-learn/issues/21755 */display: inline-block !important;position: relative;}#sk-container-id-1 div.sk-text-repr-fallback {display: none;}</style><div id=\"sk-container-id-1\" class=\"sk-top-container\"><div class=\"sk-text-repr-fallback\"><pre>KMeans(init=&#x27;random&#x27;, n_clusters=4, n_init=10, random_state=0)</pre><b>In a Jupyter environment, please rerun this cell to show the HTML representation or trust the notebook. <br />On GitHub, the HTML representation is unable to render, please try loading this page with nbviewer.org.</b></div><div class=\"sk-container\" hidden><div class=\"sk-item\"><div class=\"sk-estimator sk-toggleable\"><input class=\"sk-toggleable__control sk-hidden--visually\" id=\"sk-estimator-id-1\" type=\"checkbox\" checked><label for=\"sk-estimator-id-1\" class=\"sk-toggleable__label sk-toggleable__label-arrow\">KMeans</label><div class=\"sk-toggleable__content\"><pre>KMeans(init=&#x27;random&#x27;, n_clusters=4, n_init=10, random_state=0)</pre></div></div></div></div></div>"
      ],
      "text/plain": [
       "KMeans(init='random', n_clusters=4, n_init=10, random_state=0)"
      ]
     },
     "execution_count": 5,
     "metadata": {},
     "output_type": "execute_result"
    }
   ],
   "source": [
    "km = KMeans(\n",
    "    n_clusters=4, init='random',\n",
    "    n_init=10, max_iter=300,\n",
    "    tol=1e-04, random_state=0\n",
    ")\n",
    "km.fit(df_scaled)"
   ]
  },
  {
   "cell_type": "markdown",
   "metadata": {},
   "source": [
    "## Cluster Centers"
   ]
  },
  {
   "cell_type": "code",
   "execution_count": 6,
   "metadata": {},
   "outputs": [
    {
     "data": {
      "text/html": [
       "<div>\n",
       "<style scoped>\n",
       "    .dataframe tbody tr th:only-of-type {\n",
       "        vertical-align: middle;\n",
       "    }\n",
       "\n",
       "    .dataframe tbody tr th {\n",
       "        vertical-align: top;\n",
       "    }\n",
       "\n",
       "    .dataframe thead th {\n",
       "        text-align: right;\n",
       "    }\n",
       "</style>\n",
       "<table border=\"1\" class=\"dataframe\">\n",
       "  <thead>\n",
       "    <tr style=\"text-align: right;\">\n",
       "      <th></th>\n",
       "      <th>Empfohlenes Alter in Jahren (mind.)</th>\n",
       "      <th>Empfohlenes Alter in Jahren (max.)</th>\n",
       "      <th>Verpackungsbreite</th>\n",
       "      <th>Verpackungstiefe</th>\n",
       "      <th>Verpackungshöhe</th>\n",
       "      <th>Paketgewicht</th>\n",
       "      <th>kein_nachhaltigkeitszertifikat</th>\n",
       "      <th>Produktfarbe_Rare</th>\n",
       "      <th>Ursprungsland_ Ungarn</th>\n",
       "      <th>Ursprungsland_ China</th>\n",
       "      <th>...</th>\n",
       "      <th>LegoCategory_LEGO Architecture</th>\n",
       "      <th>LegoCategory_LEGO Classic</th>\n",
       "      <th>LegoCategory_LEGO Ideas</th>\n",
       "      <th>LegoCategory_LEGO Super Mario</th>\n",
       "      <th>LegoCategory_LEGO Friends</th>\n",
       "      <th>LegoCategory_LEGO Creator 3in1</th>\n",
       "      <th>LegoCategory_LEGO Minecraft</th>\n",
       "      <th>LegoCategory_LEGO Spider</th>\n",
       "      <th>LegoCategory_LEGO Jurassic World</th>\n",
       "      <th>LegoCategory_LEGO Dots</th>\n",
       "    </tr>\n",
       "  </thead>\n",
       "  <tbody>\n",
       "    <tr>\n",
       "      <th>0</th>\n",
       "      <td>0.350687</td>\n",
       "      <td>0.968448</td>\n",
       "      <td>0.450695</td>\n",
       "      <td>0.467618</td>\n",
       "      <td>0.183426</td>\n",
       "      <td>0.086588</td>\n",
       "      <td>0.477273</td>\n",
       "      <td>6.818182e-02</td>\n",
       "      <td>-2.775558e-17</td>\n",
       "      <td>1.387779e-16</td>\n",
       "      <td>...</td>\n",
       "      <td>5.681818e-02</td>\n",
       "      <td>1.022727e-01</td>\n",
       "      <td>3.409091e-02</td>\n",
       "      <td>0.068182</td>\n",
       "      <td>0.045455</td>\n",
       "      <td>1.022727e-01</td>\n",
       "      <td>-1.040834e-17</td>\n",
       "      <td>-3.469447e-18</td>\n",
       "      <td>-1.734723e-18</td>\n",
       "      <td>0.022727</td>\n",
       "    </tr>\n",
       "    <tr>\n",
       "      <th>1</th>\n",
       "      <td>0.314499</td>\n",
       "      <td>0.985553</td>\n",
       "      <td>0.437644</td>\n",
       "      <td>0.449296</td>\n",
       "      <td>0.155700</td>\n",
       "      <td>0.062332</td>\n",
       "      <td>0.886420</td>\n",
       "      <td>7.407407e-03</td>\n",
       "      <td>4.996004e-16</td>\n",
       "      <td>-3.885781e-16</td>\n",
       "      <td>...</td>\n",
       "      <td>-5.204170e-18</td>\n",
       "      <td>-4.163336e-17</td>\n",
       "      <td>1.975309e-02</td>\n",
       "      <td>0.079012</td>\n",
       "      <td>0.009877</td>\n",
       "      <td>2.716049e-02</td>\n",
       "      <td>5.185185e-02</td>\n",
       "      <td>1.234568e-02</td>\n",
       "      <td>2.469136e-03</td>\n",
       "      <td>0.032099</td>\n",
       "    </tr>\n",
       "    <tr>\n",
       "      <th>2</th>\n",
       "      <td>0.351058</td>\n",
       "      <td>1.000000</td>\n",
       "      <td>0.483364</td>\n",
       "      <td>0.548925</td>\n",
       "      <td>0.171586</td>\n",
       "      <td>0.093004</td>\n",
       "      <td>0.824121</td>\n",
       "      <td>6.938894e-18</td>\n",
       "      <td>9.045226e-01</td>\n",
       "      <td>1.942890e-16</td>\n",
       "      <td>...</td>\n",
       "      <td>2.010050e-02</td>\n",
       "      <td>5.527638e-02</td>\n",
       "      <td>3.469447e-18</td>\n",
       "      <td>0.010050</td>\n",
       "      <td>0.211055</td>\n",
       "      <td>6.938894e-18</td>\n",
       "      <td>1.005025e-02</td>\n",
       "      <td>1.005025e-02</td>\n",
       "      <td>5.025126e-03</td>\n",
       "      <td>0.070352</td>\n",
       "    </tr>\n",
       "    <tr>\n",
       "      <th>3</th>\n",
       "      <td>0.215292</td>\n",
       "      <td>1.000000</td>\n",
       "      <td>0.378691</td>\n",
       "      <td>0.432321</td>\n",
       "      <td>0.148085</td>\n",
       "      <td>0.049638</td>\n",
       "      <td>0.853535</td>\n",
       "      <td>8.673617e-18</td>\n",
       "      <td>1.665335e-16</td>\n",
       "      <td>1.000000e+00</td>\n",
       "      <td>...</td>\n",
       "      <td>8.673617e-18</td>\n",
       "      <td>-3.122502e-17</td>\n",
       "      <td>1.515152e-02</td>\n",
       "      <td>0.035354</td>\n",
       "      <td>0.156566</td>\n",
       "      <td>5.050505e-03</td>\n",
       "      <td>5.050505e-03</td>\n",
       "      <td>1.515152e-02</td>\n",
       "      <td>5.555556e-02</td>\n",
       "      <td>0.010101</td>\n",
       "    </tr>\n",
       "  </tbody>\n",
       "</table>\n",
       "<p>4 rows × 39 columns</p>\n",
       "</div>"
      ],
      "text/plain": [
       "   Empfohlenes Alter in Jahren (mind.)  Empfohlenes Alter in Jahren (max.)  \\\n",
       "0                             0.350687                            0.968448   \n",
       "1                             0.314499                            0.985553   \n",
       "2                             0.351058                            1.000000   \n",
       "3                             0.215292                            1.000000   \n",
       "\n",
       "   Verpackungsbreite  Verpackungstiefe  Verpackungshöhe  Paketgewicht  \\\n",
       "0           0.450695          0.467618         0.183426      0.086588   \n",
       "1           0.437644          0.449296         0.155700      0.062332   \n",
       "2           0.483364          0.548925         0.171586      0.093004   \n",
       "3           0.378691          0.432321         0.148085      0.049638   \n",
       "\n",
       "   kein_nachhaltigkeitszertifikat  Produktfarbe_Rare  Ursprungsland_ Ungarn   \\\n",
       "0                        0.477273       6.818182e-02           -2.775558e-17   \n",
       "1                        0.886420       7.407407e-03            4.996004e-16   \n",
       "2                        0.824121       6.938894e-18            9.045226e-01   \n",
       "3                        0.853535       8.673617e-18            1.665335e-16   \n",
       "\n",
       "   Ursprungsland_ China   ...  LegoCategory_LEGO Architecture   \\\n",
       "0           1.387779e-16  ...                     5.681818e-02   \n",
       "1          -3.885781e-16  ...                    -5.204170e-18   \n",
       "2           1.942890e-16  ...                     2.010050e-02   \n",
       "3           1.000000e+00  ...                     8.673617e-18   \n",
       "\n",
       "   LegoCategory_LEGO Classic   LegoCategory_LEGO Ideas   \\\n",
       "0                1.022727e-01              3.409091e-02   \n",
       "1               -4.163336e-17              1.975309e-02   \n",
       "2                5.527638e-02              3.469447e-18   \n",
       "3               -3.122502e-17              1.515152e-02   \n",
       "\n",
       "   LegoCategory_LEGO Super Mario   LegoCategory_LEGO Friends   \\\n",
       "0                        0.068182                    0.045455   \n",
       "1                        0.079012                    0.009877   \n",
       "2                        0.010050                    0.211055   \n",
       "3                        0.035354                    0.156566   \n",
       "\n",
       "   LegoCategory_LEGO Creator 3in1   LegoCategory_LEGO Minecraft   \\\n",
       "0                     1.022727e-01                 -1.040834e-17   \n",
       "1                     2.716049e-02                  5.185185e-02   \n",
       "2                     6.938894e-18                  1.005025e-02   \n",
       "3                     5.050505e-03                  5.050505e-03   \n",
       "\n",
       "   LegoCategory_LEGO Spider  LegoCategory_LEGO Jurassic World   \\\n",
       "0             -3.469447e-18                      -1.734723e-18   \n",
       "1              1.234568e-02                       2.469136e-03   \n",
       "2              1.005025e-02                       5.025126e-03   \n",
       "3              1.515152e-02                       5.555556e-02   \n",
       "\n",
       "   LegoCategory_LEGO Dots   \n",
       "0                 0.022727  \n",
       "1                 0.032099  \n",
       "2                 0.070352  \n",
       "3                 0.010101  \n",
       "\n",
       "[4 rows x 39 columns]"
      ]
     },
     "execution_count": 6,
     "metadata": {},
     "output_type": "execute_result"
    }
   ],
   "source": [
    "cluster_centers = pd.DataFrame(km.cluster_centers_, columns=df_scaled.columns)\n",
    "cluster_centers"
   ]
  },
  {
   "cell_type": "markdown",
   "metadata": {},
   "source": [
    "## PCA - Dimension Reduction"
   ]
  },
  {
   "cell_type": "code",
   "execution_count": 7,
   "metadata": {},
   "outputs": [],
   "source": [
    "# keep the first two principal components\n",
    "pca = decomposition.PCA(n_components=2)\n",
    "# fit pca model to the survey\n",
    "survey_pca = pca.fit(df_scaled)"
   ]
  },
  {
   "cell_type": "code",
   "execution_count": 8,
   "metadata": {},
   "outputs": [
    {
     "data": {
      "text/plain": [
       "array([0.19375395, 0.10919315])"
      ]
     },
     "execution_count": 8,
     "metadata": {},
     "output_type": "execute_result"
    }
   ],
   "source": [
    "pca.explained_variance_ratio_"
   ]
  },
  {
   "cell_type": "markdown",
   "metadata": {},
   "source": [
    "Transform data"
   ]
  },
  {
   "cell_type": "code",
   "execution_count": 9,
   "metadata": {},
   "outputs": [
    {
     "name": "stdout",
     "output_type": "stream",
     "text": [
      "Orignial shape: (890, 39)\n",
      "Reduced shape: (890, 2)\n"
     ]
    }
   ],
   "source": [
    "# projecting the values on the pca directions\n",
    "df_pca = pca.transform(df_scaled)\n",
    "# controling shape of the dataset\n",
    "print(\"Orignial shape: {}\". format(str(df_scaled.shape)))\n",
    "print(\"Reduced shape: {}\".format(str(df_pca.shape)))"
   ]
  },
  {
   "cell_type": "code",
   "execution_count": 10,
   "metadata": {},
   "outputs": [
    {
     "name": "stdout",
     "output_type": "stream",
     "text": [
      "<class 'pandas.core.frame.DataFrame'>\n",
      "RangeIndex: 890 entries, 0 to 889\n",
      "Data columns (total 2 columns):\n",
      " #   Column  Non-Null Count  Dtype  \n",
      "---  ------  --------------  -----  \n",
      " 0   Pc1     890 non-null    float64\n",
      " 1   Pc2     890 non-null    float64\n",
      "dtypes: float64(2)\n",
      "memory usage: 14.0 KB\n"
     ]
    }
   ],
   "source": [
    "# saving data as dataframe\n",
    "df_pca = pd.DataFrame(df_pca, columns = ['Pc1', 'Pc2'])\n",
    "df_pca.info()\n",
    "#df_pca.describe()"
   ]
  },
  {
   "cell_type": "code",
   "execution_count": 11,
   "metadata": {},
   "outputs": [],
   "source": [
    "df_pca['cluster'] = km.labels_\n",
    "# Convert 'cluster' to a categorical variable with a specified order\n",
    "order = [0, 1, 2, 3]\n",
    "df_pca['cluster'] = pd.Categorical(df_pca['cluster'], categories=order, ordered=True)\n"
   ]
  },
  {
   "cell_type": "markdown",
   "metadata": {},
   "source": [
    "## Visualisation"
   ]
  },
  {
   "cell_type": "code",
   "execution_count": 15,
   "metadata": {},
   "outputs": [
    {
     "data": {
      "application/vnd.plotly.v1+json": {
       "config": {
        "plotlyServerURL": "https://plotly.com"
       },
       "data": [
        {
         "hovertemplate": "Number of associated cluster=2<br>Principal Component 1=%{x}<br>Principal Component 2=%{y}<extra></extra>",
         "legendgroup": "2",
         "marker": {
          "color": "#636efa",
          "symbol": "circle"
         },
         "mode": "markers",
         "name": "2",
         "orientation": "v",
         "showlegend": true,
         "type": "scatter",
         "x": [
          -0.4231895854051161,
          -0.7011327743975907,
          -0.6542805831643544,
          -0.5924402182973253,
          -0.6763832520291946,
          -0.6370897307561865,
          -0.7011335194777853,
          -0.6355044015455905,
          -0.6864831417877282,
          -0.6370015557202432,
          -0.6255885470884296,
          -0.637304634762686,
          -0.613333612175701,
          -0.41781308575439124,
          -0.7022040972951472,
          -0.5214130269748685,
          -0.6359578435085841,
          -0.6811639389101182,
          -0.6819080897195372,
          -0.24896815418569113,
          -0.34974181846688523,
          -0.5808707567813245,
          -0.4451257369918641,
          -0.6359577428220713,
          -0.5563313193707784,
          -0.35218992830371654,
          -0.6842273303767783,
          -0.6254313138837684,
          -0.4204449787240115,
          -0.8226909012215691,
          -0.6434996051078836,
          -0.719458731105264,
          -0.6763812382989389,
          -0.5580826398605153,
          -0.6735157436976067,
          -0.2670019224063813,
          -0.6337972415077345,
          -0.6053755271301557,
          -0.677484699577991,
          -0.6819346138659735,
          -0.6367683395224237,
          -0.4231912970758335,
          -0.6976651500550001,
          -0.6762443101492387,
          -0.6815288418405031,
          -0.6841708813228421,
          -0.8283571718375096,
          -0.6816482489567465,
          -0.6167298332334563,
          -0.65054306908723,
          -0.32634033377716637,
          -0.8156146906073559,
          -0.5308597218940607,
          -0.6813311161273002,
          -0.6986626691168883,
          -0.679030881236434,
          -0.8182440850431084,
          -0.8262223379593734,
          -0.6727437060670228,
          -0.8300681906642111,
          -0.44937867064683845,
          -0.8312174961229852,
          -0.4103113574281074,
          -0.7548088149627918,
          -0.7548311774857026,
          -0.6746957281177983,
          -0.7598193849861545,
          -0.669042356513513,
          -0.8302560875258101,
          -0.6699472841711486,
          -0.6834129317515578,
          -0.681331272191395,
          -0.6433106510379004,
          -0.7489521119488547,
          -0.6262433726914464,
          -0.5969316834037905,
          -0.24884197289531312,
          -0.6287438536624539,
          -0.423904266340358,
          -0.827258452955272,
          -0.5527893764293342,
          -0.42178469528440143,
          -0.6747039305956355,
          -0.6399821105791758,
          -0.5368334994544816,
          -0.2619743634326795,
          -0.3534418907801747,
          -0.6568154219011592,
          -0.720626106129698,
          -0.637216234576814,
          -0.5325703610201723,
          -0.6306168274985567,
          -0.5308828904067512,
          -0.6706427612989615,
          -0.41499416915058074,
          -0.4290639665188768,
          -0.8308064922622707,
          -0.6416661806669633,
          -0.462387576679809,
          -0.8274127359830462,
          -0.8304485058202807,
          -0.6760664921823315,
          -0.6642291955194081,
          -0.8234821830135983,
          -0.8285147624792911,
          -0.5897181681300722,
          -0.6810154880461378,
          -0.43886301315455767,
          -0.6794843017131068,
          -0.6838679533101686,
          -0.8252793863184749,
          -0.8236961215652605,
          -0.8325491564394096,
          -0.4217842421950939,
          -0.7472381795210766,
          -0.6760665173539597,
          -0.8300681906642111,
          -0.8325489047231277,
          -0.6545227557336107,
          -0.8281779757447075,
          -0.8310943746757063,
          -0.8279157901904898,
          -0.6729944511006037,
          -0.8298631429096466,
          -0.3668390330124196,
          -0.8346531605278619,
          -0.8270903358162952,
          -0.6836053590936138,
          -0.7131209456943096,
          -0.5151017172631938,
          -0.712856415616654,
          -0.7568114150026061,
          -0.7192636671030002,
          -0.834840664712061,
          -0.7489766605755591,
          -0.7481714450831066,
          -0.5245250366929783,
          -0.32171783811107224,
          -0.4220486988632397,
          -0.33899880416875555,
          -0.7141562268821807,
          -0.8308998090716808,
          -0.6701959233071658,
          -0.7548316205063589,
          -0.7876549875300518,
          -0.7900919338601079,
          -0.7878009088827179,
          -0.6680825538323547,
          -0.777493847337634,
          -0.8312180398301542,
          -0.6693286252215079,
          -0.6680824833517958,
          -0.2895354546926816,
          -0.6703131443200733,
          -0.6644918692692259,
          -0.6453990960070296,
          -0.7018226934779151,
          -0.30030323099917144,
          -0.7774938574062854,
          -0.673911274261039,
          -0.6739121653366771,
          -0.6679036397483661,
          -0.41110883017445565,
          -0.6141487491804146,
          -0.6700720467110411,
          -0.6370009516011665,
          -0.28953547986430983,
          -0.7774938725092623,
          -0.6703133607960757,
          -0.7774938674749367,
          -0.380617857419697,
          -0.23942672310165075,
          -0.7543580717113425,
          -0.8323602023694264,
          -0.8348407150553173,
          -0.5352241030730517,
          -0.4258002753707524,
          -0.7189391057881682,
          -0.7155502259393393,
          -0.6171311485444165,
          -0.6328028347058116,
          -0.8316744196386334,
          -0.8320425051804262,
          -0.7190131472948826,
          -0.529282995588035,
          -0.8322149354790933,
          -0.7484808352182248,
          -0.4251788424398202,
          -0.7532123830212502,
          -0.6736454518906906,
          -0.8245466985503506,
          -0.41641727724912214,
          -0.7487336377002322,
          -0.6370001461090643,
          -0.6835006391938987,
          -0.6327375949766345,
          -0.6365559049670347,
          -0.8276763619874615,
          -0.34108038166012133
         ],
         "xaxis": "x",
         "y": [
          0.45336702824750347,
          0.6266299984994105,
          0.9277826033615063,
          1.04908287765109,
          0.5755052129858134,
          1.0286323076016344,
          0.6260722091099578,
          0.6495675117536257,
          0.756240450784161,
          0.7531253972001827,
          0.7073462218611175,
          0.7504224857579365,
          0.649854584376894,
          -0.07849774335559871,
          0.6666668732673845,
          1.1405140670288259,
          0.7356439363520957,
          0.6337333911650164,
          0.5178981623264493,
          0.4563274435008302,
          0.007468334910274917,
          1.0041817609451296,
          0.3359047911853819,
          0.7357193132966163,
          1.0509956497011,
          0.2065928674784972,
          0.6328271728013106,
          0.7088084518142571,
          -0.032754035232939516,
          0.7937864568391788,
          0.6387393807364083,
          0.5599656515079734,
          0.577012751876226,
          0.8724877159192755,
          0.6034451530871271,
          0.055082530616310646,
          0.7163503109870032,
          0.7174226694477387,
          0.5178058193888747,
          0.6394167706861305,
          0.8216212378320352,
          0.45208562019065274,
          0.8398039932142888,
          0.6303204719279558,
          0.6167331353683086,
          0.7126103898995831,
          0.6830172556929409,
          0.734785381597304,
          0.6307727472230225,
          0.6215146837520389,
          0.3476206607689971,
          0.75839601292734,
          0.8453438756315649,
          0.5471762654074475,
          0.5331978581669329,
          0.4978233611086172,
          0.764120347374511,
          0.6876584423324631,
          0.4312287232916447,
          0.7174509992403514,
          0.38740108313232374,
          0.655836359337404,
          0.5719889514893746,
          0.5217223940574531,
          0.5115346320536229,
          0.5382196083257385,
          0.5793966010346026,
          0.48603996879336314,
          0.7413266864092123,
          0.5218081643485493,
          0.6679392714384143,
          0.5470594311434405,
          0.615655151485014,
          0.5074840401060553,
          0.721697523950327,
          0.6314520079468969,
          0.34386195280581106,
          0.6973033648643212,
          -0.0056825253213617566,
          0.6308317045888625,
          0.9074408812778868,
          0.40026460848042716,
          0.8367633827531024,
          0.7656405235898935,
          1.0621838203292366,
          0.5437613985055614,
          0.03845257829333131,
          0.646073354309598,
          0.6273399920111359,
          0.9267942991300101,
          0.8579754642786717,
          0.6420034734072843,
          0.8284628165062867,
          0.8101247709073196,
          0.42129176230097803,
          0.49023797555916776,
          0.6754365337582354,
          0.8692394572044475,
          0.3318263144265758,
          0.7394202486146854,
          0.6178170305865732,
          0.5912310672535809,
          0.6654032822006133,
          0.5971125586759894,
          0.6812874375867531,
          0.9839292255895022,
          0.5992144848012917,
          0.3128799987702838,
          0.6378409897587858,
          0.7152002359250483,
          0.603728811697396,
          0.7064952422432175,
          0.7344732692185703,
          0.4006038047307699,
          0.4749571347237825,
          0.5912122230174507,
          0.7174509992403514,
          0.7346617115798718,
          0.6526252637221575,
          0.5843485336297887,
          0.6566716323707047,
          0.5769229031640912,
          0.4924874997868482,
          0.5918046420540248,
          0.15464089526610617,
          0.7046185374155066,
          0.6321385982834321,
          0.6650397824118389,
          0.5541458392636774,
          0.7924211492805807,
          0.48364103272158826,
          0.6190426044937105,
          0.5420043957200728,
          0.7287881946679979,
          0.4591222559347378,
          0.4734257747483069,
          0.8408526103059724,
          -0.09058572163072937,
          0.39775294534226197,
          0.0033692593652418345,
          0.4849908321160963,
          0.6383372607074269,
          0.557833857369814,
          0.5112029734977321,
          1.0071135826418118,
          1.0004931032274416,
          1.0058163684443149,
          0.5549122941472847,
          0.9030227369100348,
          0.6554293238369926,
          0.6128298316544265,
          0.5549650580084491,
          0.22557553585493334,
          0.5680726359382883,
          0.5594046731144567,
          0.974846176642976,
          0.761098891093695,
          0.2090908164613743,
          0.9030151992155826,
          0.6017348084007823,
          0.6010677224417746,
          0.564099334393195,
          0.36673342177239016,
          0.7380814917512115,
          0.5592344574870193,
          0.7535776588673064,
          0.22555669161880318,
          0.9030038926739046,
          0.5679105755075688,
          0.9030076615211305,
          0.7958985183778686,
          0.4126712567226821,
          0.5319575940679029,
          0.711389039967176,
          0.7287505061957377,
          0.8744479787131224,
          0.4846309953878733,
          0.5896624272395536,
          0.5453004219164186,
          1.0212662218394812,
          0.8881694437495063,
          0.6199694535703688,
          0.7649762555709191,
          0.5805432856406647,
          0.8718453548569249,
          0.7121963040252889,
          0.5115541467984875,
          0.5002048572327831,
          0.5347511363292505,
          0.47532054386401595,
          0.6177078442736551,
          0.44164370771073863,
          0.5091245847769923,
          0.7541806744234715,
          0.6661428153118921,
          0.901088601786005,
          0.6079407396270489,
          0.7371912490184725,
          0.1764434519001097
         ],
         "yaxis": "y"
        },
        {
         "hovertemplate": "Number of associated cluster=3<br>Principal Component 1=%{x}<br>Principal Component 2=%{y}<extra></extra>",
         "legendgroup": "3",
         "marker": {
          "color": "#EF553B",
          "symbol": "circle"
         },
         "mode": "markers",
         "name": "3",
         "orientation": "v",
         "showlegend": true,
         "type": "scatter",
         "x": [
          -0.7511811989167286,
          -0.761985500493508,
          -0.7445127356834411,
          -0.7421467327738371,
          -0.7391642029051959,
          -0.750162587295105,
          -0.761987413537251,
          -0.7434196467997797,
          -0.7582483974221463,
          -0.7435103868801686,
          -0.7666923289291785,
          -0.7492737238849024,
          -0.687049888188702,
          -0.5142575813410163,
          -0.8179933497911024,
          -0.766692097350199,
          -0.7221317114148269,
          -0.7403264242274994,
          -0.7666920923158734,
          -0.7658559263048824,
          -0.7730403050395823,
          -0.5135412503259874,
          -0.6922095115317142,
          -0.6926399689698132,
          -0.742817314506489,
          -0.5088059980599945,
          -0.5455958689812144,
          -0.8960407554284437,
          -0.764813830889172,
          -0.735722338358623,
          -0.7739511029617172,
          -0.5125968515752887,
          -0.8957195845547525,
          -0.7502426765301894,
          -0.8208203478119137,
          -0.7382493509853416,
          -0.8202864690479583,
          -0.5154471228719986,
          -0.7502010026926516,
          -0.6980381507733212,
          -0.8208230210388281,
          -0.7756336237052203,
          -0.7669501774529149,
          -0.8953539759011743,
          -0.5109406973305288,
          -0.748332028215729,
          -0.7666921930023862,
          -0.8100998860247764,
          -0.6966699821763512,
          -0.747176995676916,
          -0.7915991330697993,
          -0.7548260958215433,
          -0.6566160260245595,
          -0.7366756082786978,
          -0.6858304947876217,
          -0.7678529439541931,
          -0.7648141832919667,
          -0.8134729567551416,
          -0.6899986363036722,
          -0.8947749730436545,
          -0.6858303185862243,
          -0.775727397071578,
          -0.556740311760916,
          -0.8983333561497588,
          -0.7024394304370353,
          -0.8948980592506538,
          -0.8116167950896208,
          -0.7532208384719692,
          -0.8887538786835653,
          -0.8134728560686288,
          -0.8889595819403718,
          -0.7465332036504863,
          -0.7469861692504133,
          -0.5116243064474463,
          -0.7472950549598307,
          -0.7560154812884307,
          -0.8099547260334236,
          -0.513390665864107,
          -0.7788833881651614,
          -0.6361196276086114,
          -0.7389925911143093,
          -0.6981311675687631,
          -0.7877229098629865,
          -0.7782236492090486,
          -0.5045804223400662,
          -0.894331372757575,
          -0.7427211728131197,
          -0.8870121386033535,
          -0.7348839012076395,
          -0.8124132090657499,
          -0.33838974663612686,
          -0.8190075445740972,
          -0.8882268639662937,
          -0.7469256250677654,
          -0.5131450984927727,
          -0.7339080790596397,
          -0.6978405006032284,
          -0.7339081294028962,
          -0.7450118906966458,
          -0.8447434572793326,
          -0.7005516760607015,
          -0.23580161676486333,
          -0.8129575452024981,
          -0.5064760529893778,
          -0.8870121788779586,
          -0.8135595622868267,
          -0.7317626135274594,
          -0.7446901334264768,
          -0.7176163210652647,
          -0.8882267985200604,
          -0.7339081142999192,
          -0.7357654840896476,
          -0.7031297280573906,
          -0.8476345671314903,
          -0.740330099285216,
          -0.7633576100938997,
          -0.6867243958090583,
          -0.7383842269040453,
          -0.7485373001495428,
          -0.777836377195147,
          -0.7011887793569027,
          -0.7855547848225471,
          -0.6963394371640259,
          -0.7391582333519212,
          -0.733908104231268,
          -0.7788834435427435,
          -0.5060989411842688,
          -0.7393262246327571,
          -0.896042049250133,
          -0.5075501768655625,
          -0.5124466469461729,
          -0.8983335575227844,
          -0.733908104231268,
          -0.7339081294028962,
          -0.8944865821633292,
          -0.6371164933689364,
          -0.7397407856994074,
          -0.8967422518536198,
          -0.7459756932647302,
          -0.6855576793550916,
          -0.7327223809683382,
          -0.7281573890076528,
          -0.7339081294028962,
          -0.8424516620501199,
          -0.841174058062508,
          -0.8561122685032261,
          -0.681677040402729,
          -0.7790797042641415,
          -0.733908104231268,
          -0.7527338099152472,
          -0.504964725249549,
          -0.5090937646839406,
          -0.5105496892395639,
          -0.6833179733206264,
          -0.7045456789341866,
          -0.637116513506239,
          -0.7348840069284779,
          -0.8953542829950383,
          -0.7389671165513492,
          -0.7339081142999192,
          -0.7339081294028962,
          -0.8463781619552841,
          -0.7477115723680974,
          -0.5079058851958069,
          -0.7211757578077941,
          -0.6905262010756763,
          -0.8183012394737655,
          -0.5179737981988993,
          -0.6433321688753554,
          -0.8465332605438118,
          -0.733908104231268,
          -0.7212435389035208,
          -0.888226929412527,
          -0.8180378343812345,
          -0.8128836286524593,
          -0.5052582155036036,
          -0.8928110182691908,
          -0.7169690062085665,
          -0.7837186595618985,
          -0.7742775100120693,
          -0.8472762031150775,
          -0.8124126250839758,
          -0.7249730307452313,
          -0.5115800142083617,
          -0.51380177544566,
          -0.7863797838113369,
          -0.7387158580165532,
          -0.7585427405971056,
          -0.674761997253413,
          -0.7510958176504718,
          -0.7455918263667752,
          -0.750106721414357,
          -0.5089250713546005,
          -0.6979443103940446,
          -0.5125057683137456,
          -0.7660250251373589,
          -0.7502953144096539,
          -0.7658584938109584
         ],
         "xaxis": "x",
         "y": [
          -0.508410299986283,
          -0.5360942855726155,
          -0.5719148530729335,
          -0.6649097696702981,
          -0.6191175825607623,
          -0.4184336625145936,
          -0.5375264475185075,
          -0.652299265330411,
          -0.5260789027994383,
          -0.6811469114550395,
          -0.6128791432596353,
          -0.6621016775258098,
          -0.4257897750165131,
          -0.9066957482507071,
          -0.533460969582397,
          -0.6127057762872379,
          -0.3174606079620501,
          -0.6014732768536747,
          -0.6127020074400119,
          -0.45569535629351,
          -0.3672243919146243,
          -0.843454438593428,
          -0.6773090968789018,
          -0.571339929830814,
          -0.5388414321807502,
          -0.8393798753639898,
          -0.3492531258362605,
          -0.46411421972130557,
          -0.5492501459116743,
          -0.6695491390571277,
          -0.3685425546428216,
          -0.09561068329693755,
          -0.4079264995316008,
          -0.67490161724545,
          -0.6097417806509029,
          -0.617258081000443,
          -0.5403520752452994,
          -0.9159866097634447,
          -0.5495671925500734,
          -0.5988900350754703,
          -0.6117430385279257,
          -0.6553248002968761,
          -0.41762244334703635,
          -0.5547875743673586,
          -0.9438865676693761,
          -0.6431995903755187,
          -0.6127773843845324,
          -0.7223823080451987,
          -0.600351143700578,
          -0.6511766252664843,
          -0.6177363498367382,
          -0.6865732741246771,
          -0.1318343401449113,
          -0.6834680215687573,
          -0.6122737659362745,
          -0.37048903371065034,
          -0.5495139652174965,
          -0.6857376727100165,
          -0.6502287463051756,
          -0.5188655469428112,
          -0.6121418562833634,
          -0.24609057604610582,
          -0.3008068164946636,
          -0.4706171341199267,
          -0.6333048616397735,
          -0.5196744380455296,
          -0.7135137782040643,
          -0.5898191159693185,
          -0.5697515086093959,
          -0.6856622957654959,
          -0.5715068598380375,
          -0.5481344357035345,
          -0.649475629657787,
          -0.9592442805498723,
          -0.689502309348133,
          -0.6957473013734078,
          -0.6828905234695886,
          -0.8519862063552727,
          -0.6603899885783359,
          -0.40738718675426383,
          -0.7013646737817809,
          -0.6837082755994287,
          -0.6273637877960025,
          -0.26731890346224507,
          -0.8804156575799045,
          -0.4997728386171763,
          -0.6233994580228942,
          -0.5863207594779023,
          -0.7120884288339214,
          -0.6656437497024134,
          -0.4772541174114332,
          -0.6578269829266841,
          -0.5575052141784221,
          -0.612000800164693,
          -0.828638807962666,
          -0.7639463058222178,
          -0.6595781645842513,
          -0.763983994294478,
          -0.6284928235589795,
          -0.29690765074510206,
          -0.6460208868380503,
          -0.5062003631195994,
          -0.6818404182319667,
          -0.8815471904207639,
          -0.5863509102557105,
          -0.6689347797975972,
          -0.6202216185130459,
          -0.6503018798408977,
          -0.6272107968811927,
          -0.5574562191644837,
          -0.7639726877528,
          -0.2832033017797756,
          -0.2463180125026908,
          -0.19869929677626655,
          -0.6042245353286777,
          -0.4329218015146977,
          -0.6514949360372515,
          -0.3385476657268515,
          -0.5642430377515838,
          -0.6902109197943029,
          -0.37449327588179737,
          -0.6227099663344845,
          -0.5399034247806339,
          -0.3564632111967858,
          -0.763965150058348,
          -0.6604314458978222,
          -0.9549305122908355,
          -0.3576758837107046,
          -0.4650828134583957,
          -0.8902011865428056,
          -0.9351168413784212,
          -0.470767888008968,
          -0.763965150058348,
          -0.763983994294478,
          -0.4997199919854512,
          -0.40052093203208744,
          -0.7068161288251197,
          -0.5195933562454345,
          -0.3266135568646655,
          -0.6426848599248404,
          -0.6890675619363854,
          -0.6741815655568375,
          -0.763983994294478,
          -0.291007751902646,
          -0.2722242411670767,
          -0.15608536554439473,
          -0.6958867034685081,
          -0.3019913975857813,
          -0.763965150058348,
          -0.17445896041721784,
          -0.7985451408699269,
          -0.8580580932653218,
          -0.7811119847377654,
          -0.24393436599147694,
          -0.3658925806036215,
          -0.40053600742099155,
          -0.712167574625668,
          -0.5550174740481465,
          -0.6891530961193296,
          -0.7639726877528,
          -0.763983994294478,
          -0.24908342167686262,
          -0.6132920029185471,
          -0.9700512496539702,
          -0.5828350538703049,
          -0.516907453927414,
          -0.590204982011404,
          -0.863443038942616,
          -0.20128233351983627,
          -0.14110543090165673,
          -0.763965150058348,
          -0.6436686206560752,
          -0.5575542091923605,
          -0.6429539566060918,
          -0.6262374172973083,
          -0.8841769157418904,
          -0.5697271227526499,
          -0.671421771083318,
          -0.6517385302997819,
          -0.6447060070953832,
          -0.25603613640597644,
          -0.6652065634241937,
          -0.6795782193235261,
          -0.9205030981941439,
          -0.8716655265678508,
          -0.5135625324065174,
          -0.7500274501974779,
          -0.6436409168307987,
          -0.4424216461866691,
          -0.6814543194105895,
          -0.6681970684620988,
          -0.19003326230889847,
          -0.8889017815219076,
          -0.5613988019131545,
          -0.8081695011473715,
          -0.4577371751971556,
          -0.670210017302437,
          -0.45761746837878603
         ],
         "yaxis": "y"
        },
        {
         "hovertemplate": "Number of associated cluster=1<br>Principal Component 1=%{x}<br>Principal Component 2=%{y}<extra></extra>",
         "legendgroup": "1",
         "marker": {
          "color": "#00cc96",
          "symbol": "circle"
         },
         "mode": "markers",
         "name": "1",
         "orientation": "v",
         "showlegend": true,
         "type": "scatter",
         "x": [
          0.3970707825559793,
          0.47495251350133405,
          0.4776632598681436,
          0.42772281574802246,
          0.4765647272559548,
          0.4661013013684158,
          0.4332313643925595,
          0.42039749603779153,
          0.6838890003357275,
          0.47521533187625886,
          0.4750582980601846,
          0.4710502589967827,
          0.39511906995076956,
          0.6562092760356236,
          0.6756873470942357,
          0.5211244184543887,
          0.5053507316124695,
          0.6614973113271724,
          0.5106638973727435,
          0.4680616610116754,
          0.4011947707831957,
          0.5529963021962836,
          0.4710502791340853,
          0.6625713747914493,
          0.4710503596832955,
          0.449416167126296,
          0.4268172520314709,
          0.427722891262907,
          0.424357022500766,
          0.47765914301112045,
          0.4042836167146832,
          0.42470411816102915,
          0.46316085757433906,
          0.40423382343630904,
          0.27990986873349255,
          0.47980273993751565,
          0.6610064697010016,
          0.6610064697010016,
          0.47553947605706925,
          0.5084355688924423,
          0.5150843033104616,
          0.5110268984096343,
          0.4280394586917365,
          0.47766357199633325,
          0.6665222777176377,
          0.4294298742838628,
          0.4460073873026628,
          0.4300807391471574,
          0.4194521580674328,
          0.6649221471876022,
          0.47270831784796796,
          0.6581045368035101,
          0.4738668870556743,
          0.6610064697010016,
          0.4705235448349922,
          0.43079772439269093,
          0.42661052859573523,
          0.5110270494394036,
          0.49016857763498983,
          0.507550750482764,
          0.47386703808544345,
          0.42955944655015454,
          0.46961803146169706,
          0.4263361696867734,
          0.6558126308191332,
          0.4215559708515107,
          0.4758145430052821,
          0.43280260771441015,
          0.4696178401573228,
          0.4060685052646314,
          0.46728413395652113,
          0.6648630089222417,
          0.6639575458922029,
          0.4267607329846616,
          0.5017155717848061,
          0.46961791567220734,
          0.5499129248707461,
          0.4765642892696242,
          0.4268465837177868,
          0.5073797297952758,
          0.47156998561687025,
          0.48160733712407877,
          0.4267607329846616,
          0.4810884984746246,
          0.6534546503754214,
          0.4750582678542308,
          0.42676075815628983,
          0.6599528676734356,
          0.5127870345957767,
          0.6917914276325337,
          0.5190254057183787,
          0.47591404616967276,
          0.49719219324353625,
          0.4767570868658038,
          0.4744651204695193,
          0.45796786401253037,
          0.4705875785465228,
          0.47488043674271146,
          0.5156225852490515,
          0.4023266689227583,
          0.4215559708515107,
          0.42043777398475185,
          0.4738672898017255,
          0.42343759536351766,
          0.41215957509543416,
          0.6648630290595443,
          0.4746377159702788,
          0.4253924931029828,
          0.5002085934487953,
          0.4709416856938699,
          0.4460076843278756,
          0.42898384923726907,
          0.46806266787680323,
          0.4843554561630763,
          0.4520784970871455,
          0.4664243258107921,
          0.4705232931187103,
          0.658104496528905,
          0.4253021904073064,
          0.47641178881316004,
          0.4654899851136946,
          0.4681123784361417,
          0.5081325905365124,
          0.5182405984950821,
          0.46549036268811755,
          0.4240350990978509,
          0.4323130566549443,
          0.47352311024751526,
          0.47058272840928356,
          0.6637892575861544,
          0.466666854583983,
          0.4326234606456741,
          0.40652542100763156,
          0.44893219537321427,
          0.42898359752098714,
          0.4293065313262559,
          0.4833343326746928,
          0.4705829801255655,
          0.4562090422866469,
          0.4079494094164024,
          0.6688141685990376,
          0.6610064697010016,
          0.47488541427771813,
          0.449416167126296,
          0.43237186984538584,
          0.4654898743585305,
          0.4674491462380862,
          0.43033159493590234,
          0.4694496122631819,
          0.4721699502023245,
          0.47683785583720556,
          0.49121709350463943,
          0.45796786401253037,
          0.43033159493590234,
          0.4743606045607298,
          0.497455869591208,
          0.5219375494391684,
          0.4303313193671826,
          0.5156445921193414,
          0.3915455072696092,
          0.47266221346683607,
          0.4454229284957207,
          0.43280261274873577,
          0.4649647344411889,
          0.47738425737447476,
          0.4750582678542308,
          0.47352270750146414,
          0.5185434214034531,
          0.4318514582553699,
          0.4673554052230414,
          0.4709162199374591,
          0.4736806203400866,
          0.48142006349237454,
          0.43237186984538584,
          0.4520784970871455,
          0.46961805663332523,
          0.6536434712914766,
          0.43389034832933526,
          0.48594980175504326,
          0.6773418678815197,
          0.4846823867863804,
          0.43262355629786126,
          0.47068516641653696,
          0.4773841164133569,
          0.4685971507598354,
          0.4823905714198651,
          0.44600731682210387,
          0.4676611400160417,
          0.4836580216288074,
          0.4680615603251626,
          0.4847605220089943,
          0.6586865516501286,
          0.4773841667566133,
          0.6680517501216416,
          0.6610064697010016,
          0.6610817180847769,
          0.5196524856091881,
          0.6610064697010016,
          0.4836578705990382,
          0.42852129431582314,
          0.27990986873349255,
          0.4549159959317212,
          0.48954048523128196,
          0.6610064697010016,
          0.4323719806005499,
          0.4908840048187854,
          0.47878653920865555,
          0.6610064697010016,
          0.4450121964885906,
          0.6610064697010016,
          0.48194548600772197,
          0.6610064697010016,
          0.6610064697010016,
          0.3662520868678897,
          0.6610064697010016,
          0.48246865126489685,
          0.524659016130581,
          0.4863991085958504,
          0.4261582127171131,
          0.45720790695042374,
          0.48574326458935624,
          0.6610064697010016,
          0.4562879106581203,
          0.44862766167221546,
          0.6610064697010016,
          0.6610064697010016,
          0.47994208165883445,
          0.6610064697010016,
          0.44913912018197555,
          0.5083757847118332,
          0.6610064697010016,
          0.6610064697010016,
          0.4869751221152973,
          0.27990986873349255,
          0.6610064697010016,
          0.45272947139272207,
          0.43680467392002176,
          0.4410385565253503,
          0.6610064697010016,
          0.6610064697010016,
          0.3662520868678897,
          0.6610064697010016,
          0.4332313643925595,
          0.44103855149102467,
          0.5305102380336719,
          0.44547377019271794,
          0.6610064697010016,
          0.6610064697010016,
          0.4410385565253503,
          0.4332313643925595,
          0.4332313643925595,
          0.46197086887367717,
          0.6610064697010016,
          0.6651551198380263,
          0.6610064697010016,
          0.4332313643925595,
          0.6610064697010016,
          0.6610064697010016,
          0.6610064697010016,
          0.6610064697010016,
          0.43680467392002176,
          0.44547377019271794,
          0.4869751221152973,
          0.48529119539269044,
          0.5233563894095201,
          0.46728413395652113,
          0.4661066336561176,
          0.526505791393884,
          0.44626007040614046,
          0.44667889568559627,
          0.4484801563825023,
          0.4781975799528372,
          0.510825777666534,
          0.7317292431424383,
          0.6610064697010016,
          0.6610064697010016,
          0.6610064697010016,
          0.6610064697010016,
          0.6610064697010016,
          0.6610064697010016,
          0.6610064697010016,
          0.6610064697010016,
          0.6610064697010016,
          0.6610064697010016,
          0.6610064697010016,
          0.6610064697010016,
          0.6610064697010016,
          0.6610064697010016,
          0.6610064697010016,
          0.6610064697010016,
          0.6610064697010016,
          0.6610064697010016,
          0.6610064697010016,
          0.4707908214065515,
          0.6610064697010016,
          0.6610064697010016,
          0.3915455072696092,
          0.6563950433774772,
          0.48726981089761984,
          0.48239104968080077,
          0.4819457880672603,
          0.6610064697010016,
          0.6610064697010016,
          0.6610064697010016,
          0.4659328569982725,
          0.6610064697010016,
          0.6610064697010016,
          0.6610064697010016,
          0.6610064697010016,
          0.47229361309212625,
          0.6610064697010016,
          0.4233338090800261,
          0.6610064697010016,
          0.6610064697010016,
          0.6610064697010016,
          0.6610064697010016,
          0.6610064697010016,
          0.6610064697010016,
          0.6610064697010016,
          0.6776931142408132,
          0.6833184779181085,
          0.6610064697010016,
          0.4783360336833638,
          0.4979924767290027,
          0.6680517350186648,
          0.44964848636290977,
          0.44506466432550473,
          0.6610064697010016,
          0.6610064697010016,
          0.6610064697010016,
          0.6610064697010016,
          0.6610064697010016,
          0.6610064697010016,
          0.6610064697010016,
          0.6610064697010016,
          0.6610064697010016,
          0.43680467392002176,
          0.47839710284182385,
          0.4722554831652396,
          0.6610064697010016,
          0.6610064697010016,
          0.46610693068133024,
          0.6610064697010016,
          0.6610064697010016,
          0.27990986873349255,
          0.43680467392002176,
          0.6610064697010016,
          0.6610064697010016,
          0.6610064697010016,
          0.6610064697010016,
          0.6610064697010016,
          0.6610064697010016,
          0.5293209280816691,
          0.662948421150325,
          0.47838646354226144,
          0.6610064697010016,
          0.5144739409965382,
          0.6610064697010016,
          0.4454227371913464,
          0.48333423198818,
          0.6610064697010016,
          0.4289837988940127,
          0.6610064697010016,
          0.48851494136085477,
          -0.08397089489187869,
          0.6563947815925439,
          0.4836579612168997,
          0.4562878502462127,
          0.40423352137677065,
          0.47819760512446535,
          0.6916383357078061,
          0.46605952606941087,
          0.6610064697010016,
          0.5017157731578317,
          0.5018079356079233,
          0.440529733443193,
          0.4833340306151544,
          0.468596848700297,
          0.4328024818562692,
          0.4293063752621611,
          0.6610064697010016,
          0.6535206644228487,
          0.3915455072696092,
          0.4216966516100446,
          0.6876865895838293,
          0.45126498925201924,
          0.4830703039242263,
          0.43008077942176254,
          0.4722985467312526,
          0.47073711075497465,
          0.4067046335226009,
          0.4279789950582989,
          0.47270771372889125,
          0.4293063299532303,
          0.4776591681827486,
          0.48726326956277755,
          0.659830063388672,
          0.4727255307855978,
          0.47738406607010053,
          0.4686355336246653,
          0.44897102821462687,
          0.47105006769240837,
          0.4275938446754013,
          0.46863540776652435,
          0.4025493667903196
         ],
         "xaxis": "x",
         "y": [
          0.19195925326346372,
          0.011646591999564401,
          -0.0880329022118012,
          -0.10190230962052386,
          -0.035707903760359476,
          0.15829813970507084,
          -0.1330059946772301,
          -0.09171913798952817,
          -0.1370124308530164,
          -0.08705773601468657,
          -0.1272634824968447,
          -0.09362555545107083,
          0.17607505393691977,
          -0.2503734925298559,
          -0.3243826531560287,
          0.2590171636476358,
          0.08168622634417802,
          -0.3560125461893604,
          0.45519783196248637,
          0.10862922282519397,
          0.16386920476796618,
          0.2858800447708843,
          -0.0936104800621667,
          -0.34740377623403124,
          -0.09355017850655022,
          -0.006093204425527468,
          -0.1089177534921051,
          -0.10184577691213341,
          -0.11636198340437072,
          -0.13693224622650166,
          0.29945876164484453,
          -0.03548464491286305,
          -0.06892317689288018,
          -0.014937133599770084,
          0.024847081678466512,
          -0.09899096057825364,
          -0.32690656946861457,
          -0.32690656946861457,
          -0.09270505315143439,
          -0.009625174012899536,
          0.20355587813076723,
          0.18970298092519775,
          -0.12205410768747427,
          -0.08779923368378724,
          -0.36000433443417473,
          -0.1717545269661137,
          -0.12921287412249124,
          -0.15468932991838422,
          -0.10599091547366567,
          -0.3291213733236346,
          -0.005515035524209118,
          -0.3114191063322261,
          0.12246692596447178,
          -0.32690656946861457,
          -0.09196818488914689,
          -0.08337848611953246,
          -0.1414439768193589,
          0.18981604634197868,
          0.13027688599736006,
          0.3388159859802789,
          0.12257999138125272,
          -0.043731676618105134,
          -0.0989459402884678,
          -0.14340457474022075,
          -0.3174019198136549,
          -0.0762793998651912,
          -0.037682484450454475,
          -0.20865167506544005,
          -0.09908915648305698,
          0.2490853219740931,
          -0.06104941456413007,
          -0.34162448050280814,
          -0.34856454742986875,
          -0.12943686758438183,
          -0.0070552017907503746,
          -0.09903262377466653,
          0.37828441082351105,
          -0.03603579346902424,
          -0.1799888037449676,
          0.28709131165793744,
          0.07525428479107646,
          0.09476839364696135,
          -0.12943686758438183,
          -0.060840221567992826,
          -0.3829406608712293,
          -0.12728609558020088,
          -0.12941802334825167,
          -0.32451015694030205,
          0.47111254909533024,
          -0.24968475295234394,
          0.16722436002169563,
          0.12923839746693677,
          0.01837108610051339,
          -0.1219173917108303,
          -0.1279454313589714,
          -0.1296620018544365,
          0.04033612188625845,
          -0.0649662716808746,
          0.20796783763417773,
          0.1180514054187756,
          -0.0762793998651912,
          -0.10691977384272175,
          0.1227684337425543,
          -0.16277354626614976,
          0.17618718930088353,
          -0.34160940511390403,
          0.1057398934202867,
          -0.06001765810570201,
          0.3601791098868423,
          -0.06928361651005609,
          -0.12899051213615537,
          -0.06568503439076405,
          0.10938299227040028,
          0.0634939906731976,
          -0.13722182418819465,
          0.3183095438002605,
          -0.09215662725044847,
          -0.31144925711003435,
          -0.14844872602364897,
          0.2575339936607715,
          -0.07591149634627727,
          -0.0608329129401147,
          -0.012252708510625038,
          0.2532983819578141,
          -0.0756288328043249,
          -0.0946772990809116,
          -0.10481291419550258,
          -0.043311026292636286,
          -0.07943115808493904,
          -0.34999958193012337,
          -0.07736333927173425,
          -0.20991252907099442,
          -0.10915148434009621,
          -0.1317874749478003,
          -0.06587347675206562,
          -0.17275562927735974,
          -0.0008008923381416892,
          -0.07924271572363746,
          -0.06642174953628195,
          0.20359949413914472,
          -0.35403282749442405,
          -0.32690656946861457,
          -0.046627195361888175,
          -0.006093204425527468,
          -0.1492869189097643,
          -0.07599441098524996,
          -0.10416885768111654,
          -0.21586519177461497,
          -0.10047896481659922,
          -0.07881830460811606,
          -0.14321090885888155,
          0.0959490325681261,
          -0.1296620018544365,
          -0.21586519177461497,
          0.011914392638397539,
          0.020637774168986548,
          0.36571706889012195,
          -0.11610521383107976,
          0.1468590598013763,
          -0.07186266803149062,
          0.0068660407832396835,
          -0.055838944187283905,
          -0.20864790621821402,
          -0.003912981355990088,
          -0.08180466784422959,
          -0.12728609558020088,
          -0.04361253407071881,
          0.26721073803841344,
          -0.037669717344929736,
          0.014960433560143866,
          -0.1495950121905041,
          -0.04164150974206494,
          -0.0005693439210791088,
          -0.1492869189097643,
          -0.13722182418819465,
          -0.09892709605233767,
          -0.2743199626023774,
          -0.16078623346727616,
          -0.1012291254787531,
          -0.1669334770261217,
          -0.05078388550023772,
          -0.20984092097369986,
          -0.023752873049731168,
          -0.08191019556655847,
          0.17922495934312765,
          -0.05669885973159792,
          -0.12926563798365567,
          0.11400298021610021,
          -0.10711771777953108,
          0.10855384588067334,
          -0.11032400693573713,
          -0.2701583275247558,
          -0.08187250709429815,
          -0.3894910294336172,
          -0.32690656946861457,
          -0.24791933203577574,
          0.20726924463822782,
          -0.32690656946861457,
          -0.10723078319631202,
          0.0007420814868627969,
          0.024847081678466512,
          -0.09027055674828816,
          -0.14545442877391496,
          -0.32690656946861457,
          -0.1492040042707916,
          -0.15349404211352152,
          0.02072752367625212,
          -0.32690656946861457,
          -0.07523560085790965,
          -0.32690656946861457,
          -0.07690337798891214,
          -0.32690656946861457,
          -0.32690656946861457,
          -0.09459200916480523,
          -0.32690656946861457,
          -0.1162804384865837,
          0.23253711318157871,
          -0.042760787295258076,
          -0.08117897202154534,
          -0.08428397441963334,
          -0.1336159014586438,
          -0.32690656946861457,
          -0.09839998425887808,
          -0.10025683174526456,
          -0.32690656946861457,
          -0.32690656946861457,
          -0.06365772187400827,
          -0.32690656946861457,
          -0.09911049773150515,
          0.2296949339828941,
          -0.32690656946861457,
          -0.32690656946861457,
          -0.1441464767674807,
          0.024847081678466512,
          -0.32690656946861457,
          -0.14358454494358514,
          -0.049163689151521146,
          -0.1370915550833888,
          -0.32690656946861457,
          -0.32690656946861457,
          -0.09459200916480523,
          -0.32690656946861457,
          -0.1330059946772301,
          -0.13709532393061483,
          0.19405373131869497,
          -0.12813282596286366,
          -0.32690656946861457,
          -0.32690656946861457,
          -0.1370915550833888,
          -0.1330059946772301,
          -0.1330059946772301,
          -0.0657216653063425,
          -0.32690656946861457,
          -0.3824441769710874,
          -0.32690656946861457,
          -0.1330059946772301,
          -0.32690656946861457,
          -0.32690656946861457,
          -0.32690656946861457,
          -0.32690656946861457,
          -0.049163689151521146,
          -0.12813282596286366,
          -0.1441464767674807,
          -0.07316622314675462,
          0.22798117815032037,
          -0.06104941456413007,
          0.2647260970437434,
          0.2182814887806591,
          -0.000877344562072297,
          -0.10655095879654475,
          -0.0713151835525549,
          -0.005996615651174936,
          0.24850958820249924,
          0.14900800031917902,
          -0.32690656946861457,
          -0.32690656946861457,
          -0.32690656946861457,
          -0.32690656946861457,
          -0.32690656946861457,
          -0.32690656946861457,
          -0.32690656946861457,
          -0.32690656946861457,
          -0.32690656946861457,
          -0.32690656946861457,
          -0.32690656946861457,
          -0.32690656946861457,
          -0.32690656946861457,
          -0.32690656946861457,
          -0.32690656946861457,
          -0.32690656946861457,
          -0.32690656946861457,
          -0.32690656946861457,
          -0.32690656946861457,
          0.2907883565536362,
          -0.32690656946861457,
          -0.32690656946861457,
          -0.07186266803149062,
          -0.2758434020753281,
          -0.06812366107163502,
          -0.05634081924512494,
          -0.07667724715535024,
          -0.32690656946861457,
          -0.32690656946861457,
          -0.32690656946861457,
          0.15674627094080926,
          -0.32690656946861457,
          -0.32690656946861457,
          -0.32690656946861457,
          -0.32690656946861457,
          0.17999439849177884,
          -0.32690656946861457,
          -0.15000191286877307,
          -0.32690656946861457,
          -0.32690656946861457,
          -0.32690656946861457,
          -0.32690656946861457,
          -0.32690656946861457,
          -0.32690656946861457,
          -0.32690656946861457,
          -0.1613845711702068,
          -0.243380769325925,
          -0.32690656946861457,
          0.08149250270120362,
          0.13067793274449646,
          -0.38950233597529527,
          -0.10539993041176121,
          -0.11737309506907082,
          -0.32690656946861457,
          -0.32690656946861457,
          -0.32690656946861457,
          -0.32690656946861457,
          -0.32690656946861457,
          -0.32690656946861457,
          -0.32690656946861457,
          -0.32690656946861457,
          -0.32690656946861457,
          -0.049163689151521146,
          0.2020507032061697,
          0.045864072044386486,
          -0.32690656946861457,
          -0.32690656946861457,
          0.26494845903007924,
          -0.32690656946861457,
          -0.32690656946861457,
          0.024847081678466512,
          -0.049163689151521146,
          -0.32690656946861457,
          -0.32690656946861457,
          -0.32690656946861457,
          -0.32690656946861457,
          -0.32690656946861457,
          -0.32690656946861457,
          0.18493623677835472,
          -0.42083609311804115,
          -0.029133608763733686,
          -0.32690656946861457,
          0.32037721552050946,
          -0.32690656946861457,
          -0.055982160381873085,
          -0.0008762692826623195,
          -0.32690656946861457,
          -0.06572272286302436,
          -0.32690656946861457,
          -0.11236363585775053,
          -0.18174208838612366,
          -0.27603938213108176,
          -0.10716294394624346,
          -0.09844521042559046,
          -0.015163264433331962,
          -0.005977771415044789,
          -0.2928583614193854,
          -0.05387296054076406,
          -0.32690656946861457,
          -0.006904447901709114,
          0.08971094069184238,
          0.1793711605333628,
          -0.0010270231717035803,
          0.17899882850956575,
          -0.20874589624609083,
          -0.1728724635413667,
          -0.32690656946861457,
          -0.32342995946179603,
          -0.07186266803149062,
          -0.07475376364936792,
          -0.14060247495675843,
          0.18738091992122818,
          -0.0033313997124370426,
          -0.15465917914057598,
          0.18368786877328974,
          -0.08985047428296557,
          -0.10784163532060338,
          -0.1594686356249518,
          -0.0059672971913329,
          -0.172906383166401,
          -0.13691340199037147,
          0.013102152335957743,
          -0.3251079925983627,
          0.09626697194101348,
          -0.0819478840388188,
          -0.10021751113223835,
          -0.10039854718994456,
          -0.09376877164566004,
          -0.14265435490352174,
          -0.10031173231288913,
          -0.044319873478744234
         ],
         "yaxis": "y"
        },
        {
         "hovertemplate": "Number of associated cluster=0<br>Principal Component 1=%{x}<br>Principal Component 2=%{y}<extra></extra>",
         "legendgroup": "0",
         "marker": {
          "color": "#ab63fa",
          "symbol": "circle"
         },
         "mode": "markers",
         "name": "0",
         "orientation": "v",
         "showlegend": true,
         "type": "scatter",
         "x": [
          0.5874866593797073,
          0.750225178930207,
          0.7529206792820445,
          0.8027828806586012,
          0.7217095916471854,
          0.5648544713832551,
          0.5781603097379729,
          0.6145464405021981,
          0.6145465160170828,
          0.781247962251629,
          0.7402748139362991,
          0.613900591784075,
          0.745250664623151,
          -0.20212877578069657,
          0.8230000969853404,
          1.0528558032066717,
          0.6205663141261502,
          0.9913078840243363,
          0.7383207822679319,
          0.7984009663867768,
          0.7755451538160483,
          0.5891422217671116,
          0.989953819030339,
          0.9770948814111142,
          0.7898084401601138,
          0.7784698226002087,
          0.7958209354790811,
          0.567124043589035,
          0.7360805381570619,
          0.7427670470089432,
          0.8008787829678394,
          0.7444904892049427,
          -0.19955261775265695,
          0.6207345218829885,
          0.7887952767567035,
          -0.19955262278698258,
          0.7860020325312795,
          0.6123074835256829,
          0.5526046463971668,
          0.6193990690679914,
          0.9964422036454068,
          1.0091261299436305,
          0.7060610638468838,
          0.7893858192145785,
          0.5834501182957352,
          0.5482414340059174,
          0.8011337143247992,
          0.5818271676538248,
          0.7976528759628424,
          0.9801059490021942,
          0.6208800663397931,
          0.8446602620995886,
          0.6195447135327474,
          0.5934605924363885,
          0.7717769370748379,
          0.7421982509550735,
          -0.17508018646002857,
          0.08298974297787487,
          0.7454795632526205,
          0.7931628370382476,
          0.7998665661753952,
          0.9800064608492438,
          0.8030953413467867,
          0.7884266247053408,
          0.9902516966816116,
          0.5796246634351261,
          0.9872745595705968,
          0.8032342661472398,
          0.6992710186462818,
          0.5970512960499297,
          0.7416118170035304,
          0.7418761981567916,
          0.7459101666353525,
          1.006834218924928,
          0.5792228342399071,
          0.6202531123071244,
          0.6202532381652655,
          -0.19955261775265695,
          0.7825398161910356,
          0.7598868027031942,
          0.7885626463801887,
          0.8040242119839929,
          0.7306454275116876,
          0.6145463750559648,
          0.8524407028394363,
          0.8330201831072159,
          0.7857727446633629,
          1.0156145145586986
         ],
         "xaxis": "x",
         "y": [
          0.053387405471285385,
          0.6617671312695376,
          0.5238859604015426,
          0.6485497835802014,
          0.6731980800527816,
          0.39152947593606463,
          0.12374179937483804,
          0.17315653004628054,
          0.17321306275467102,
          0.6966559338058751,
          0.6777871670400849,
          0.2120262072193162,
          0.44666643303561065,
          0.3390315442867867,
          0.36035705441862936,
          0.4467917807077217,
          0.17810492289568372,
          0.5362154741984487,
          0.660961086768495,
          0.6041501892272664,
          0.643074911858209,
          0.41789307009973053,
          0.09430146022493423,
          0.43019278614656326,
          0.6965558428643295,
          0.7763197736600694,
          0.3516303125627677,
          0.1936916871914863,
          0.3888613208721142,
          0.6455588210210538,
          0.7093781680896571,
          0.5094683789910579,
          0.2838931889078245,
          0.17947965584032183,
          0.5786107398783208,
          0.2838894200605985,
          0.726514978313164,
          0.23361172353956947,
          0.16568020442203354,
          0.1688991178245392,
          0.15514132234556335,
          0.09841675663088938,
          0.5959811605160696,
          0.6903376632589348,
          0.07072218716177557,
          0.405767731195747,
          0.5809609631646302,
          0.24485674492375303,
          0.5661433186848136,
          0.35298580068077595,
          0.1846985229583955,
          0.6503568926042725,
          0.16998904542460444,
          0.6730743691473954,
          0.6697805622154479,
          0.5032368215927111,
          0.7956984887854242,
          0.9090830209541271,
          0.6398051712974504,
          0.6744172498211343,
          0.6316059520461251,
          0.32302467596455303,
          0.675091523134441,
          0.6681565675617063,
          0.4577651936151323,
          0.1794649061374332,
          0.13119499303094415,
          0.35530352753917727,
          0.24192807251139564,
          0.6288641412411375,
          0.6079841957024431,
          0.6107785223825606,
          0.5713526441989009,
          0.09243017430223459,
          0.18970589629698748,
          0.1447478595225141,
          0.14484208070316487,
          0.2838931889078245,
          0.6975236380789043,
          0.282215452687664,
          0.794172008912403,
          0.4800699837946055,
          0.7805392626100625,
          0.17310753503234214,
          0.7481946707702237,
          0.15891811534737357,
          0.7234646534889235,
          0.15925661875151845
         ],
         "yaxis": "y"
        }
       ],
       "layout": {
        "legend": {
         "title": {
          "text": "Number of associated cluster"
         },
         "tracegroupgap": 0
        },
        "template": {
         "data": {
          "bar": [
           {
            "error_x": {
             "color": "#2a3f5f"
            },
            "error_y": {
             "color": "#2a3f5f"
            },
            "marker": {
             "line": {
              "color": "#E5ECF6",
              "width": 0.5
             },
             "pattern": {
              "fillmode": "overlay",
              "size": 10,
              "solidity": 0.2
             }
            },
            "type": "bar"
           }
          ],
          "barpolar": [
           {
            "marker": {
             "line": {
              "color": "#E5ECF6",
              "width": 0.5
             },
             "pattern": {
              "fillmode": "overlay",
              "size": 10,
              "solidity": 0.2
             }
            },
            "type": "barpolar"
           }
          ],
          "carpet": [
           {
            "aaxis": {
             "endlinecolor": "#2a3f5f",
             "gridcolor": "white",
             "linecolor": "white",
             "minorgridcolor": "white",
             "startlinecolor": "#2a3f5f"
            },
            "baxis": {
             "endlinecolor": "#2a3f5f",
             "gridcolor": "white",
             "linecolor": "white",
             "minorgridcolor": "white",
             "startlinecolor": "#2a3f5f"
            },
            "type": "carpet"
           }
          ],
          "choropleth": [
           {
            "colorbar": {
             "outlinewidth": 0,
             "ticks": ""
            },
            "type": "choropleth"
           }
          ],
          "contour": [
           {
            "colorbar": {
             "outlinewidth": 0,
             "ticks": ""
            },
            "colorscale": [
             [
              0,
              "#0d0887"
             ],
             [
              0.1111111111111111,
              "#46039f"
             ],
             [
              0.2222222222222222,
              "#7201a8"
             ],
             [
              0.3333333333333333,
              "#9c179e"
             ],
             [
              0.4444444444444444,
              "#bd3786"
             ],
             [
              0.5555555555555556,
              "#d8576b"
             ],
             [
              0.6666666666666666,
              "#ed7953"
             ],
             [
              0.7777777777777778,
              "#fb9f3a"
             ],
             [
              0.8888888888888888,
              "#fdca26"
             ],
             [
              1,
              "#f0f921"
             ]
            ],
            "type": "contour"
           }
          ],
          "contourcarpet": [
           {
            "colorbar": {
             "outlinewidth": 0,
             "ticks": ""
            },
            "type": "contourcarpet"
           }
          ],
          "heatmap": [
           {
            "colorbar": {
             "outlinewidth": 0,
             "ticks": ""
            },
            "colorscale": [
             [
              0,
              "#0d0887"
             ],
             [
              0.1111111111111111,
              "#46039f"
             ],
             [
              0.2222222222222222,
              "#7201a8"
             ],
             [
              0.3333333333333333,
              "#9c179e"
             ],
             [
              0.4444444444444444,
              "#bd3786"
             ],
             [
              0.5555555555555556,
              "#d8576b"
             ],
             [
              0.6666666666666666,
              "#ed7953"
             ],
             [
              0.7777777777777778,
              "#fb9f3a"
             ],
             [
              0.8888888888888888,
              "#fdca26"
             ],
             [
              1,
              "#f0f921"
             ]
            ],
            "type": "heatmap"
           }
          ],
          "heatmapgl": [
           {
            "colorbar": {
             "outlinewidth": 0,
             "ticks": ""
            },
            "colorscale": [
             [
              0,
              "#0d0887"
             ],
             [
              0.1111111111111111,
              "#46039f"
             ],
             [
              0.2222222222222222,
              "#7201a8"
             ],
             [
              0.3333333333333333,
              "#9c179e"
             ],
             [
              0.4444444444444444,
              "#bd3786"
             ],
             [
              0.5555555555555556,
              "#d8576b"
             ],
             [
              0.6666666666666666,
              "#ed7953"
             ],
             [
              0.7777777777777778,
              "#fb9f3a"
             ],
             [
              0.8888888888888888,
              "#fdca26"
             ],
             [
              1,
              "#f0f921"
             ]
            ],
            "type": "heatmapgl"
           }
          ],
          "histogram": [
           {
            "marker": {
             "pattern": {
              "fillmode": "overlay",
              "size": 10,
              "solidity": 0.2
             }
            },
            "type": "histogram"
           }
          ],
          "histogram2d": [
           {
            "colorbar": {
             "outlinewidth": 0,
             "ticks": ""
            },
            "colorscale": [
             [
              0,
              "#0d0887"
             ],
             [
              0.1111111111111111,
              "#46039f"
             ],
             [
              0.2222222222222222,
              "#7201a8"
             ],
             [
              0.3333333333333333,
              "#9c179e"
             ],
             [
              0.4444444444444444,
              "#bd3786"
             ],
             [
              0.5555555555555556,
              "#d8576b"
             ],
             [
              0.6666666666666666,
              "#ed7953"
             ],
             [
              0.7777777777777778,
              "#fb9f3a"
             ],
             [
              0.8888888888888888,
              "#fdca26"
             ],
             [
              1,
              "#f0f921"
             ]
            ],
            "type": "histogram2d"
           }
          ],
          "histogram2dcontour": [
           {
            "colorbar": {
             "outlinewidth": 0,
             "ticks": ""
            },
            "colorscale": [
             [
              0,
              "#0d0887"
             ],
             [
              0.1111111111111111,
              "#46039f"
             ],
             [
              0.2222222222222222,
              "#7201a8"
             ],
             [
              0.3333333333333333,
              "#9c179e"
             ],
             [
              0.4444444444444444,
              "#bd3786"
             ],
             [
              0.5555555555555556,
              "#d8576b"
             ],
             [
              0.6666666666666666,
              "#ed7953"
             ],
             [
              0.7777777777777778,
              "#fb9f3a"
             ],
             [
              0.8888888888888888,
              "#fdca26"
             ],
             [
              1,
              "#f0f921"
             ]
            ],
            "type": "histogram2dcontour"
           }
          ],
          "mesh3d": [
           {
            "colorbar": {
             "outlinewidth": 0,
             "ticks": ""
            },
            "type": "mesh3d"
           }
          ],
          "parcoords": [
           {
            "line": {
             "colorbar": {
              "outlinewidth": 0,
              "ticks": ""
             }
            },
            "type": "parcoords"
           }
          ],
          "pie": [
           {
            "automargin": true,
            "type": "pie"
           }
          ],
          "scatter": [
           {
            "fillpattern": {
             "fillmode": "overlay",
             "size": 10,
             "solidity": 0.2
            },
            "type": "scatter"
           }
          ],
          "scatter3d": [
           {
            "line": {
             "colorbar": {
              "outlinewidth": 0,
              "ticks": ""
             }
            },
            "marker": {
             "colorbar": {
              "outlinewidth": 0,
              "ticks": ""
             }
            },
            "type": "scatter3d"
           }
          ],
          "scattercarpet": [
           {
            "marker": {
             "colorbar": {
              "outlinewidth": 0,
              "ticks": ""
             }
            },
            "type": "scattercarpet"
           }
          ],
          "scattergeo": [
           {
            "marker": {
             "colorbar": {
              "outlinewidth": 0,
              "ticks": ""
             }
            },
            "type": "scattergeo"
           }
          ],
          "scattergl": [
           {
            "marker": {
             "colorbar": {
              "outlinewidth": 0,
              "ticks": ""
             }
            },
            "type": "scattergl"
           }
          ],
          "scattermapbox": [
           {
            "marker": {
             "colorbar": {
              "outlinewidth": 0,
              "ticks": ""
             }
            },
            "type": "scattermapbox"
           }
          ],
          "scatterpolar": [
           {
            "marker": {
             "colorbar": {
              "outlinewidth": 0,
              "ticks": ""
             }
            },
            "type": "scatterpolar"
           }
          ],
          "scatterpolargl": [
           {
            "marker": {
             "colorbar": {
              "outlinewidth": 0,
              "ticks": ""
             }
            },
            "type": "scatterpolargl"
           }
          ],
          "scatterternary": [
           {
            "marker": {
             "colorbar": {
              "outlinewidth": 0,
              "ticks": ""
             }
            },
            "type": "scatterternary"
           }
          ],
          "surface": [
           {
            "colorbar": {
             "outlinewidth": 0,
             "ticks": ""
            },
            "colorscale": [
             [
              0,
              "#0d0887"
             ],
             [
              0.1111111111111111,
              "#46039f"
             ],
             [
              0.2222222222222222,
              "#7201a8"
             ],
             [
              0.3333333333333333,
              "#9c179e"
             ],
             [
              0.4444444444444444,
              "#bd3786"
             ],
             [
              0.5555555555555556,
              "#d8576b"
             ],
             [
              0.6666666666666666,
              "#ed7953"
             ],
             [
              0.7777777777777778,
              "#fb9f3a"
             ],
             [
              0.8888888888888888,
              "#fdca26"
             ],
             [
              1,
              "#f0f921"
             ]
            ],
            "type": "surface"
           }
          ],
          "table": [
           {
            "cells": {
             "fill": {
              "color": "#EBF0F8"
             },
             "line": {
              "color": "white"
             }
            },
            "header": {
             "fill": {
              "color": "#C8D4E3"
             },
             "line": {
              "color": "white"
             }
            },
            "type": "table"
           }
          ]
         },
         "layout": {
          "annotationdefaults": {
           "arrowcolor": "#2a3f5f",
           "arrowhead": 0,
           "arrowwidth": 1
          },
          "autotypenumbers": "strict",
          "coloraxis": {
           "colorbar": {
            "outlinewidth": 0,
            "ticks": ""
           }
          },
          "colorscale": {
           "diverging": [
            [
             0,
             "#8e0152"
            ],
            [
             0.1,
             "#c51b7d"
            ],
            [
             0.2,
             "#de77ae"
            ],
            [
             0.3,
             "#f1b6da"
            ],
            [
             0.4,
             "#fde0ef"
            ],
            [
             0.5,
             "#f7f7f7"
            ],
            [
             0.6,
             "#e6f5d0"
            ],
            [
             0.7,
             "#b8e186"
            ],
            [
             0.8,
             "#7fbc41"
            ],
            [
             0.9,
             "#4d9221"
            ],
            [
             1,
             "#276419"
            ]
           ],
           "sequential": [
            [
             0,
             "#0d0887"
            ],
            [
             0.1111111111111111,
             "#46039f"
            ],
            [
             0.2222222222222222,
             "#7201a8"
            ],
            [
             0.3333333333333333,
             "#9c179e"
            ],
            [
             0.4444444444444444,
             "#bd3786"
            ],
            [
             0.5555555555555556,
             "#d8576b"
            ],
            [
             0.6666666666666666,
             "#ed7953"
            ],
            [
             0.7777777777777778,
             "#fb9f3a"
            ],
            [
             0.8888888888888888,
             "#fdca26"
            ],
            [
             1,
             "#f0f921"
            ]
           ],
           "sequentialminus": [
            [
             0,
             "#0d0887"
            ],
            [
             0.1111111111111111,
             "#46039f"
            ],
            [
             0.2222222222222222,
             "#7201a8"
            ],
            [
             0.3333333333333333,
             "#9c179e"
            ],
            [
             0.4444444444444444,
             "#bd3786"
            ],
            [
             0.5555555555555556,
             "#d8576b"
            ],
            [
             0.6666666666666666,
             "#ed7953"
            ],
            [
             0.7777777777777778,
             "#fb9f3a"
            ],
            [
             0.8888888888888888,
             "#fdca26"
            ],
            [
             1,
             "#f0f921"
            ]
           ]
          },
          "colorway": [
           "#636efa",
           "#EF553B",
           "#00cc96",
           "#ab63fa",
           "#FFA15A",
           "#19d3f3",
           "#FF6692",
           "#B6E880",
           "#FF97FF",
           "#FECB52"
          ],
          "font": {
           "color": "#2a3f5f"
          },
          "geo": {
           "bgcolor": "white",
           "lakecolor": "white",
           "landcolor": "#E5ECF6",
           "showlakes": true,
           "showland": true,
           "subunitcolor": "white"
          },
          "hoverlabel": {
           "align": "left"
          },
          "hovermode": "closest",
          "mapbox": {
           "style": "light"
          },
          "paper_bgcolor": "white",
          "plot_bgcolor": "#E5ECF6",
          "polar": {
           "angularaxis": {
            "gridcolor": "white",
            "linecolor": "white",
            "ticks": ""
           },
           "bgcolor": "#E5ECF6",
           "radialaxis": {
            "gridcolor": "white",
            "linecolor": "white",
            "ticks": ""
           }
          },
          "scene": {
           "xaxis": {
            "backgroundcolor": "#E5ECF6",
            "gridcolor": "white",
            "gridwidth": 2,
            "linecolor": "white",
            "showbackground": true,
            "ticks": "",
            "zerolinecolor": "white"
           },
           "yaxis": {
            "backgroundcolor": "#E5ECF6",
            "gridcolor": "white",
            "gridwidth": 2,
            "linecolor": "white",
            "showbackground": true,
            "ticks": "",
            "zerolinecolor": "white"
           },
           "zaxis": {
            "backgroundcolor": "#E5ECF6",
            "gridcolor": "white",
            "gridwidth": 2,
            "linecolor": "white",
            "showbackground": true,
            "ticks": "",
            "zerolinecolor": "white"
           }
          },
          "shapedefaults": {
           "line": {
            "color": "#2a3f5f"
           }
          },
          "ternary": {
           "aaxis": {
            "gridcolor": "white",
            "linecolor": "white",
            "ticks": ""
           },
           "baxis": {
            "gridcolor": "white",
            "linecolor": "white",
            "ticks": ""
           },
           "bgcolor": "#E5ECF6",
           "caxis": {
            "gridcolor": "white",
            "linecolor": "white",
            "ticks": ""
           }
          },
          "title": {
           "x": 0.05
          },
          "xaxis": {
           "automargin": true,
           "gridcolor": "white",
           "linecolor": "white",
           "ticks": "",
           "title": {
            "standoff": 15
           },
           "zerolinecolor": "white",
           "zerolinewidth": 2
          },
          "yaxis": {
           "automargin": true,
           "gridcolor": "white",
           "linecolor": "white",
           "ticks": "",
           "title": {
            "standoff": 15
           },
           "zerolinecolor": "white",
           "zerolinewidth": 2
          }
         }
        },
        "title": {
         "text": "Representation of the two first principal components of PCA"
        },
        "xaxis": {
         "anchor": "y",
         "domain": [
          0,
          1
         ],
         "title": {
          "text": "Principal Component 1"
         }
        },
        "yaxis": {
         "anchor": "x",
         "domain": [
          0,
          1
         ],
         "title": {
          "text": "Principal Component 2"
         }
        }
       }
      }
     },
     "metadata": {},
     "output_type": "display_data"
    }
   ],
   "source": [
    "# representing the data\n",
    "fig = px.scatter(df_pca, x=\"Pc1\", y=\"Pc2\",color=\"cluster\",\n",
    "                 labels= {\n",
    "                     \"Pc1\": \"Principal Component 1\",\n",
    "                     \"Pc2\": \"Principal Component 2\",\n",
    "                     \"cluster\": \"Number of associated cluster\"\n",
    "                 },\n",
    "                 title= \"Representation of the two first principal components of PCA\") \n",
    "fig.show()"
   ]
  }
 ],
 "metadata": {
  "kernelspec": {
   "display_name": "Python 3",
   "language": "python",
   "name": "python3"
  },
  "language_info": {
   "codemirror_mode": {
    "name": "ipython",
    "version": 3
   },
   "file_extension": ".py",
   "mimetype": "text/x-python",
   "name": "python",
   "nbconvert_exporter": "python",
   "pygments_lexer": "ipython3",
   "version": "3.11.4"
  }
 },
 "nbformat": 4,
 "nbformat_minor": 2
}
