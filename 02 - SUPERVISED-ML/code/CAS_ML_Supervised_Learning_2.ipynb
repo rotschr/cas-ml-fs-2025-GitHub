{
  "cells": [
    {
      "cell_type": "code",
      "execution_count": null,
      "metadata": {
        "colab": {
          "base_uri": "https://localhost:8080/"
        },
        "id": "rAC9g27g-tLc",
        "outputId": "688acc89-fb82-4b62-ba88-d93670d1d9ab"
      },
      "outputs": [],
      "source": [
        "# Get the data\n",
        "\n",
        "import requests\n",
        "\n",
        "url = \"https://raw.githubusercontent.com/datasciencedojo/datasets/master/titanic.csv\"\n",
        "response = requests.get(url)\n",
        "with open(\"titanic.csv\", \"wb\") as file:\n",
        "    file.write(response.content)\n",
        "\n",
        "\n",
        "#wget https://raw.githubusercontent.com/datasciencedojo/datasets/master/titanic.csv"
      ]
    },
    {
      "cell_type": "code",
      "execution_count": null,
      "metadata": {
        "id": "gd-uB8WI9W1Z"
      },
      "outputs": [],
      "source": [
        "# Import necessary libraries\n",
        "import pandas as pd\n",
        "import numpy as np\n",
        "from sklearn.model_selection import train_test_split, cross_val_score\n",
        "from sklearn.impute import SimpleImputer\n",
        "from sklearn.preprocessing import StandardScaler\n",
        "from sklearn.linear_model import LogisticRegression\n",
        "from sklearn.tree import DecisionTreeClassifier\n",
        "from sklearn.ensemble import RandomForestClassifier\n",
        "from imblearn.over_sampling import RandomOverSampler, SMOTE\n",
        "from imblearn.under_sampling import RandomUnderSampler\n",
        "from sklearn.metrics import accuracy_score, precision_score, recall_score, f1_score\n",
        "import matplotlib.pyplot as plt\n",
        "import seaborn as sns"
      ]
    },
    {
      "cell_type": "code",
      "execution_count": null,
      "metadata": {
        "id": "bYzIbpR19tPH"
      },
      "outputs": [],
      "source": [
        "# Load the Titanic dataset\n",
        "df = pd.read_csv('titanic.csv')"
      ]
    },
    {
      "cell_type": "code",
      "execution_count": null,
      "metadata": {
        "colab": {
          "base_uri": "https://localhost:8080/",
          "height": 1000
        },
        "id": "v4dqLSUS9wxh",
        "outputId": "623cceeb-fd33-4b78-a200-a9404c58d251"
      },
      "outputs": [],
      "source": [
        "# Data Exploration -- we can do a lot more than this of course\n",
        "#print(df.describe())\n",
        "#print(df.info())\n",
        "print(df.head())\n",
        "df.plot(kind='scatter', x='Age', y='Fare')  # Is there a relationship between Age and Fare?"
      ]
    },
    {
      "cell_type": "code",
      "execution_count": null,
      "metadata": {
        "id": "PSloBy5991os"
      },
      "outputs": [],
      "source": [
        "# Data Cleaning\n",
        "df = df.drop(columns=['Name', 'Cabin', 'Ticket', 'PassengerId'])\n",
        "df['Age'] = df['Age'].fillna(df['Age'].median())"
      ]
    },
    {
      "cell_type": "code",
      "execution_count": null,
      "metadata": {
        "id": "-dKHowEE9371"
      },
      "outputs": [],
      "source": [
        "# Feature Engineering\n",
        "df['FamilySize'] = df['SibSp'] + df['Parch'] + 1\n",
        "df['IsAlone'] = 0\n",
        "df.loc[df['FamilySize'] == 1, 'IsAlone'] = 1"
      ]
    },
    {
      "cell_type": "code",
      "execution_count": null,
      "metadata": {
        "id": "XQ1UYalZ97Dj"
      },
      "outputs": [],
      "source": [
        "# Imputation\n",
        "imputer = SimpleImputer(strategy='most_frequent')\n",
        "df[['Sex', 'Embarked']] = imputer.fit_transform(df[['Sex', 'Embarked']])"
      ]
    },
    {
      "cell_type": "code",
      "execution_count": null,
      "metadata": {
        "id": "f8tUrvSS15g3"
      },
      "outputs": [],
      "source": [
        "# One-hot encoding for Embarked\n",
        "pd.get_dummies(df, columns=['Embarked'], prefix='Embarked', drop_first=True)\n",
        "df = df.drop(columns=['Embarked'])"
      ]
    },
    {
      "cell_type": "code",
      "execution_count": null,
      "metadata": {
        "id": "u_L8r6x1GId7"
      },
      "outputs": [],
      "source": [
        "df['Sex'] = df['Sex'].map({'female': 1, 'male': 0})"
      ]
    },
    {
      "cell_type": "code",
      "execution_count": null,
      "metadata": {
        "colab": {
          "base_uri": "https://localhost:8080/",
          "height": 836
        },
        "id": "YZ0ZnlSOA3_J",
        "outputId": "3d1fcaa2-5d2e-43f2-e90a-f7bcfafe153d"
      },
      "outputs": [],
      "source": [
        "# Examine correlation matrix\n",
        "corr_matrix = df.corr()\n",
        "plt.figure(figsize=(12, 10))\n",
        "sns.heatmap(corr_matrix, annot=True, cmap=plt.cm.Reds)\n",
        "plt.show()"
      ]
    },
    {
      "cell_type": "code",
      "execution_count": null,
      "metadata": {
        "id": "IZnM0DK-98xd"
      },
      "outputs": [],
      "source": [
        "# Feature Selection -- highly correlated with the FamilySize variable which we engineered\n",
        "df.drop(columns=['SibSp', 'Parch'], inplace=True)"
      ]
    },
    {
      "cell_type": "code",
      "execution_count": null,
      "metadata": {
        "colab": {
          "base_uri": "https://localhost:8080/",
          "height": 423
        },
        "id": "0J9tSWZfAdeT",
        "outputId": "e5a46f4f-e603-42cf-cb6d-a54147ac0104"
      },
      "outputs": [],
      "source": [
        "df"
      ]
    },
    {
      "cell_type": "code",
      "execution_count": null,
      "metadata": {
        "id": "I6kdawlg9-YN"
      },
      "outputs": [],
      "source": [
        "#- Dealing with Imbalanced Classes\n",
        "X = df.drop(columns=['Survived'])\n",
        "y = df['Survived']\n",
        "\n",
        "ros = RandomOverSampler()\n",
        "rus = RandomUnderSampler()\n",
        "smote = SMOTE()\n",
        "\n",
        "ä\n",
        "X_ros, y_ros = ros.fit_resample(X, y)\n",
        "X_rus, y_rus = rus.fit_resample(X, y)\n",
        "X_smote, y_smote = smote.fit_resample(X, y)"
      ]
    },
    {
      "cell_type": "code",
      "execution_count": null,
      "metadata": {
        "id": "SZStLx-G-Cgq"
      },
      "outputs": [],
      "source": [
        "# Split the data into training and testing sets\n",
        "X_train, X_test, y_train, y_test = train_test_split(X_smote, y_smote, test_size=0.2, random_state=42)"
      ]
    },
    {
      "cell_type": "code",
      "execution_count": null,
      "metadata": {
        "id": "avgidI5C-EX2"
      },
      "outputs": [],
      "source": [
        "# Data Scaling -- fit the Scaler only on the training set, so as not to cause data leakage from the testing set!\n",
        "scaler = StandardScaler()\n",
        "X_train = scaler.fit_transform(X_train)\n",
        "X_test = scaler.transform(X_test)"
      ]
    },
    {
      "cell_type": "code",
      "execution_count": null,
      "metadata": {
        "colab": {
          "base_uri": "https://localhost:8080/"
        },
        "id": "hKfy_5kP-Jdw",
        "outputId": "71265577-5031-40b8-e437-2813b8f1bf25"
      },
      "outputs": [],
      "source": [
        "# Hyperparameter Tuning\n",
        "from sklearn.model_selection import GridSearchCV\n",
        "lr = LogisticRegression()\n",
        "dt = DecisionTreeClassifier()\n",
        "rf = RandomForestClassifier()\n",
        "\n",
        "param_grid = {'C': [0.01, 0.1, 1, 10, 100]}\n",
        "grid_lr = GridSearchCV(lr, param_grid, cv=5)\n",
        "grid_lr.fit(X_train, y_train)\n",
        "\n",
        "print('Best Parameters for Logistic Regression:', grid_lr.best_params_)\n",
        "\n",
        "param_grid = {'max_depth': [3, 5, 7, 10], 'min_samples_leaf': [2, 5, 10]}\n",
        "grid_dt = GridSearchCV(dt, param_grid, cv=5)\n",
        "grid_dt.fit(X_train, y_train)\n",
        "\n",
        "print('Best Parameters for Decision Tree:', grid_dt.best_params_)\n",
        "\n",
        "param_grid = {'n_estimators': [50, 100, 150], 'max_depth': [3, 5, 7, 10]}\n",
        "grid_rf = GridSearchCV(rf, param_grid, cv=5)\n",
        "grid_rf.fit(X_train, y_train)\n",
        "\n",
        "print('Best Parameters for Random Forest:', grid_rf.best_params_)"
      ]
    },
    {
      "cell_type": "code",
      "execution_count": null,
      "metadata": {
        "colab": {
          "base_uri": "https://localhost:8080/",
          "height": 80
        },
        "id": "bkpDOojJ-LcI",
        "outputId": "76253ca8-1dbf-42da-df26-3c4f16d5061a"
      },
      "outputs": [],
      "source": [
        "# Final Model\n",
        "final_model = grid_rf.best_estimator_\n",
        "final_model.fit(X_train, y_train)"
      ]
    },
    {
      "cell_type": "code",
      "execution_count": null,
      "metadata": {
        "colab": {
          "base_uri": "https://localhost:8080/"
        },
        "id": "jx5syOul-NHw",
        "outputId": "5f51b9a3-52d4-4fd4-92db-5a6fa689653c"
      },
      "outputs": [],
      "source": [
        "# Model Evaluation on Test Set\n",
        "y_pred = final_model.predict(X_test)\n",
        "print('Final Model Evaluation on Test Set')\n",
        "print('Accuracy:', accuracy_score(y_test, y_pred))\n",
        "print('Precision:', precision_score(y_test, y_pred))\n",
        "print('Recall:', recall_score(y_test, y_pred))\n",
        "print('F1 Score:', f1_score(y_test, y_pred))"
      ]
    },
    {
      "cell_type": "code",
      "execution_count": null,
      "metadata": {
        "colab": {
          "base_uri": "https://localhost:8080/",
          "height": 449
        },
        "id": "2Aag5Qbb-aXq",
        "outputId": "838fc00b-44d4-4d1a-b7ae-5cc3322f3b7b"
      },
      "outputs": [],
      "source": [
        "# Feature Importance\n",
        "feature_importance = final_model.feature_importances_\n",
        "feature_names = X.columns\n",
        "sorted_idx = feature_importance.argsort()\n",
        "\n",
        "import matplotlib.pyplot as plt\n",
        "plt.barh(range(len(sorted_idx)), feature_importance[sorted_idx])\n",
        "plt.yticks(range(len(sorted_idx)), [feature_names[i] for i in sorted_idx])\n",
        "plt.xlabel('Feature Importance')\n",
        "plt.show()"
      ]
    }
  ],
  "metadata": {
    "colab": {
      "provenance": []
    },
    "kernelspec": {
      "display_name": "Python 3",
      "name": "python3"
    },
    "language_info": {
      "codemirror_mode": {
        "name": "ipython",
        "version": 3
      },
      "file_extension": ".py",
      "mimetype": "text/x-python",
      "name": "python",
      "nbconvert_exporter": "python",
      "pygments_lexer": "ipython3",
      "version": "3.13.0"
    }
  },
  "nbformat": 4,
  "nbformat_minor": 0
}
