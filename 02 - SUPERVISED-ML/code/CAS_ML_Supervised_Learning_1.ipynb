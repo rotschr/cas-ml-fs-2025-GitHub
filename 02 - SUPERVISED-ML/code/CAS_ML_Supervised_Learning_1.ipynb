{
 "cells": [
  {
   "cell_type": "code",
   "execution_count": 3,
   "metadata": {
    "id": "oZWBWuCPbPJS"
   },
   "outputs": [],
   "source": [
    "import numpy as np\n",
    "import pandas as pd\n",
    "from sklearn.datasets import fetch_california_housing\n",
    "from sklearn.model_selection import train_test_split, GridSearchCV, RandomizedSearchCV\n",
    "from sklearn.linear_model import LinearRegression, Lasso, Ridge, ElasticNet\n",
    "from sklearn.preprocessing import StandardScaler\n",
    "from sklearn.metrics import mean_squared_error, mean_absolute_error, r2_score\n",
    "from sklearn.pipeline import Pipeline\n",
    "import matplotlib.pyplot as plt\n",
    "import seaborn as sns"
   ]
  },
  {
   "cell_type": "code",
   "execution_count": 4,
   "metadata": {
    "id": "bh2iZiJbdnEN"
   },
   "outputs": [],
   "source": [
    "# Load the California Housing dataset\n",
    "california = fetch_california_housing()\n",
    "data = pd.DataFrame(california.data, columns=california.feature_names)"
   ]
  },
  {
   "cell_type": "code",
   "execution_count": 5,
   "metadata": {
    "colab": {
     "base_uri": "https://localhost:8080/",
     "height": 423
    },
    "id": "E7ZGGBNBR8qa",
    "outputId": "a96b3fd0-50b7-4219-fd3f-990111f3dd9c"
   },
   "outputs": [
    {
     "data": {
      "text/html": [
       "<div>\n",
       "<style scoped>\n",
       "    .dataframe tbody tr th:only-of-type {\n",
       "        vertical-align: middle;\n",
       "    }\n",
       "\n",
       "    .dataframe tbody tr th {\n",
       "        vertical-align: top;\n",
       "    }\n",
       "\n",
       "    .dataframe thead th {\n",
       "        text-align: right;\n",
       "    }\n",
       "</style>\n",
       "<table border=\"1\" class=\"dataframe\">\n",
       "  <thead>\n",
       "    <tr style=\"text-align: right;\">\n",
       "      <th></th>\n",
       "      <th>MedInc</th>\n",
       "      <th>HouseAge</th>\n",
       "      <th>AveRooms</th>\n",
       "      <th>AveBedrms</th>\n",
       "      <th>Population</th>\n",
       "      <th>AveOccup</th>\n",
       "      <th>Latitude</th>\n",
       "      <th>Longitude</th>\n",
       "    </tr>\n",
       "  </thead>\n",
       "  <tbody>\n",
       "    <tr>\n",
       "      <th>0</th>\n",
       "      <td>8.3252</td>\n",
       "      <td>41.0</td>\n",
       "      <td>6.984127</td>\n",
       "      <td>1.023810</td>\n",
       "      <td>322.0</td>\n",
       "      <td>2.555556</td>\n",
       "      <td>37.88</td>\n",
       "      <td>-122.23</td>\n",
       "    </tr>\n",
       "    <tr>\n",
       "      <th>1</th>\n",
       "      <td>8.3014</td>\n",
       "      <td>21.0</td>\n",
       "      <td>6.238137</td>\n",
       "      <td>0.971880</td>\n",
       "      <td>2401.0</td>\n",
       "      <td>2.109842</td>\n",
       "      <td>37.86</td>\n",
       "      <td>-122.22</td>\n",
       "    </tr>\n",
       "    <tr>\n",
       "      <th>2</th>\n",
       "      <td>7.2574</td>\n",
       "      <td>52.0</td>\n",
       "      <td>8.288136</td>\n",
       "      <td>1.073446</td>\n",
       "      <td>496.0</td>\n",
       "      <td>2.802260</td>\n",
       "      <td>37.85</td>\n",
       "      <td>-122.24</td>\n",
       "    </tr>\n",
       "    <tr>\n",
       "      <th>3</th>\n",
       "      <td>5.6431</td>\n",
       "      <td>52.0</td>\n",
       "      <td>5.817352</td>\n",
       "      <td>1.073059</td>\n",
       "      <td>558.0</td>\n",
       "      <td>2.547945</td>\n",
       "      <td>37.85</td>\n",
       "      <td>-122.25</td>\n",
       "    </tr>\n",
       "    <tr>\n",
       "      <th>4</th>\n",
       "      <td>3.8462</td>\n",
       "      <td>52.0</td>\n",
       "      <td>6.281853</td>\n",
       "      <td>1.081081</td>\n",
       "      <td>565.0</td>\n",
       "      <td>2.181467</td>\n",
       "      <td>37.85</td>\n",
       "      <td>-122.25</td>\n",
       "    </tr>\n",
       "    <tr>\n",
       "      <th>...</th>\n",
       "      <td>...</td>\n",
       "      <td>...</td>\n",
       "      <td>...</td>\n",
       "      <td>...</td>\n",
       "      <td>...</td>\n",
       "      <td>...</td>\n",
       "      <td>...</td>\n",
       "      <td>...</td>\n",
       "    </tr>\n",
       "    <tr>\n",
       "      <th>20635</th>\n",
       "      <td>1.5603</td>\n",
       "      <td>25.0</td>\n",
       "      <td>5.045455</td>\n",
       "      <td>1.133333</td>\n",
       "      <td>845.0</td>\n",
       "      <td>2.560606</td>\n",
       "      <td>39.48</td>\n",
       "      <td>-121.09</td>\n",
       "    </tr>\n",
       "    <tr>\n",
       "      <th>20636</th>\n",
       "      <td>2.5568</td>\n",
       "      <td>18.0</td>\n",
       "      <td>6.114035</td>\n",
       "      <td>1.315789</td>\n",
       "      <td>356.0</td>\n",
       "      <td>3.122807</td>\n",
       "      <td>39.49</td>\n",
       "      <td>-121.21</td>\n",
       "    </tr>\n",
       "    <tr>\n",
       "      <th>20637</th>\n",
       "      <td>1.7000</td>\n",
       "      <td>17.0</td>\n",
       "      <td>5.205543</td>\n",
       "      <td>1.120092</td>\n",
       "      <td>1007.0</td>\n",
       "      <td>2.325635</td>\n",
       "      <td>39.43</td>\n",
       "      <td>-121.22</td>\n",
       "    </tr>\n",
       "    <tr>\n",
       "      <th>20638</th>\n",
       "      <td>1.8672</td>\n",
       "      <td>18.0</td>\n",
       "      <td>5.329513</td>\n",
       "      <td>1.171920</td>\n",
       "      <td>741.0</td>\n",
       "      <td>2.123209</td>\n",
       "      <td>39.43</td>\n",
       "      <td>-121.32</td>\n",
       "    </tr>\n",
       "    <tr>\n",
       "      <th>20639</th>\n",
       "      <td>2.3886</td>\n",
       "      <td>16.0</td>\n",
       "      <td>5.254717</td>\n",
       "      <td>1.162264</td>\n",
       "      <td>1387.0</td>\n",
       "      <td>2.616981</td>\n",
       "      <td>39.37</td>\n",
       "      <td>-121.24</td>\n",
       "    </tr>\n",
       "  </tbody>\n",
       "</table>\n",
       "<p>20640 rows × 8 columns</p>\n",
       "</div>"
      ],
      "text/plain": [
       "       MedInc  HouseAge  AveRooms  AveBedrms  Population  AveOccup  Latitude  \\\n",
       "0      8.3252      41.0  6.984127   1.023810       322.0  2.555556     37.88   \n",
       "1      8.3014      21.0  6.238137   0.971880      2401.0  2.109842     37.86   \n",
       "2      7.2574      52.0  8.288136   1.073446       496.0  2.802260     37.85   \n",
       "3      5.6431      52.0  5.817352   1.073059       558.0  2.547945     37.85   \n",
       "4      3.8462      52.0  6.281853   1.081081       565.0  2.181467     37.85   \n",
       "...       ...       ...       ...        ...         ...       ...       ...   \n",
       "20635  1.5603      25.0  5.045455   1.133333       845.0  2.560606     39.48   \n",
       "20636  2.5568      18.0  6.114035   1.315789       356.0  3.122807     39.49   \n",
       "20637  1.7000      17.0  5.205543   1.120092      1007.0  2.325635     39.43   \n",
       "20638  1.8672      18.0  5.329513   1.171920       741.0  2.123209     39.43   \n",
       "20639  2.3886      16.0  5.254717   1.162264      1387.0  2.616981     39.37   \n",
       "\n",
       "       Longitude  \n",
       "0        -122.23  \n",
       "1        -122.22  \n",
       "2        -122.24  \n",
       "3        -122.25  \n",
       "4        -122.25  \n",
       "...          ...  \n",
       "20635    -121.09  \n",
       "20636    -121.21  \n",
       "20637    -121.22  \n",
       "20638    -121.32  \n",
       "20639    -121.24  \n",
       "\n",
       "[20640 rows x 8 columns]"
      ]
     },
     "execution_count": 5,
     "metadata": {},
     "output_type": "execute_result"
    }
   ],
   "source": [
    "data"
   ]
  },
  {
   "cell_type": "code",
   "execution_count": null,
   "metadata": {
    "id": "iWRE8a4CnS6t"
   },
   "outputs": [],
   "source": [
    "# Feature engineering: One-hot encode median_income\n",
    "bins = [-np.inf, 1.5, 3, 4.5, 6, np.inf]\n",
    "labels = [1, 2, 3, 4, 5]\n",
    "data['median_income_binned'] = pd.cut(data['MedInc'], bins=bins, labels=labels)\n",
    "data = pd.get_dummies(data, columns=['median_income_binned'], prefix='median_income_bin')\n",
    "data = data.drop('MedInc', axis=1)  # Drop the original column since it is highly correlated with the new binned variables"
   ]
  },
  {
   "cell_type": "code",
   "execution_count": 6,
   "metadata": {},
   "outputs": [
    {
     "data": {
      "image/png": "[encoded data removed]",
      "text/plain": [
       "<Figure size 1200x1000 with 2 Axes>"
      ]
     },
     "metadata": {},
     "output_type": "display_data"
    }
   ],
   "source": [
    "corr_matrix = data.corr()\n",
    "plt.figure(figsize=(12, 10))\n",
    "sns.heatmap(corr_matrix, annot=True, cmap=plt.cm.Reds)\n",
    "plt.show()"
   ]
  },
  {
   "cell_type": "code",
   "execution_count": null,
   "metadata": {
    "id": "KSTJnBPIdowp"
   },
   "outputs": [],
   "source": [
    "# Split the data into train, validation, and test sets\n",
    "X_trainval, X_test, y_trainval, y_test = train_test_split(data, california.target, test_size=0.2, random_state=42)"
   ]
  },
  {
   "cell_type": "code",
   "execution_count": null,
   "metadata": {
    "id": "OCRUVJTedruy"
   },
   "outputs": [],
   "source": [
    "# Define the pipelines for each model\n",
    "linear_pipeline = Pipeline([\n",
    "    ('scaler', StandardScaler()),\n",
    "    ('linear', LinearRegression())\n",
    "])\n",
    "\n",
    "lasso_pipeline = Pipeline([\n",
    "    ('scaler', StandardScaler()),\n",
    "    ('lasso', Lasso())\n",
    "])\n",
    "\n",
    "ridge_pipeline = Pipeline([\n",
    "    ('scaler', StandardScaler()),\n",
    "    ('ridge', Ridge())\n",
    "])\n",
    "\n",
    "elasticnet_pipeline = Pipeline([\n",
    "    ('scaler', StandardScaler()),\n",
    "    ('elasticnet', ElasticNet())\n",
    "])"
   ]
  },
  {
   "cell_type": "code",
   "execution_count": null,
   "metadata": {
    "id": "qLzokfOUdtfK"
   },
   "outputs": [],
   "source": [
    "# Define the hyperparameters to search over for each model\n",
    "grid_linear_params = {\n",
    "    'linear__fit_intercept': [True, False]\n",
    "}\n",
    "\n",
    "grid_lasso_params = {\n",
    "    'lasso__alpha': [0.1, 1, 10],\n",
    "    'lasso__max_iter': [100, 1000, 10000]\n",
    "}\n",
    "\n",
    "grid_ridge_params = {\n",
    "    'ridge__alpha': [0.1, 1, 10],\n",
    "    'ridge__max_iter': [100, 1000, 10000]\n",
    "}\n",
    "\n",
    "grid_elasticnet_params = {\n",
    "    'elasticnet__alpha': [0.1, 1, 10],\n",
    "    'elasticnet__l1_ratio': [0.1, 0.5, 0.9],\n",
    "    'elasticnet__max_iter': [100, 1000, 10000]\n",
    "}"
   ]
  },
  {
   "cell_type": "code",
   "execution_count": null,
   "metadata": {
    "colab": {
     "base_uri": "https://localhost:8080/",
     "height": 151
    },
    "id": "vN0sg55AdvG_",
    "outputId": "ed9ac957-d3e8-4167-e734-4bc2932766ef"
   },
   "outputs": [],
   "source": [
    "# Perform hyperparameter tuning with GridSearchCV\n",
    "grid_search_linear = GridSearchCV(linear_pipeline, grid_linear_params, cv=5, n_jobs=-1)\n",
    "grid_search_lasso = GridSearchCV(lasso_pipeline, grid_lasso_params, cv=5, n_jobs=-1)\n",
    "grid_search_ridge = GridSearchCV(ridge_pipeline, grid_ridge_params, cv=5, n_jobs=-1)\n",
    "grid_search_elasticnet = GridSearchCV(elasticnet_pipeline, grid_elasticnet_params, cv=5, n_jobs=-1)\n",
    "\n",
    "grid_search_linear.fit(X_trainval, y_trainval)\n",
    "grid_search_lasso.fit(X_trainval, y_trainval)\n",
    "grid_search_ridge.fit(X_trainval, y_trainval)\n",
    "grid_search_elasticnet.fit(X_trainval, y_trainval)"
   ]
  },
  {
   "cell_type": "code",
   "execution_count": null,
   "metadata": {
    "id": "KfiUk3IIq6al"
   },
   "outputs": [],
   "source": [
    "# Define the hyperparameters to search over for each model\n",
    "rand_lasso_params = {\n",
    "    'lasso__alpha': np.arange(0, 10, 0.01),\n",
    "}\n",
    "\n",
    "rand_ridge_params = {\n",
    "    'ridge__alpha': np.arange(0, 10, 0.01),\n",
    "    'ridge__max_iter': [10, 100, 1000, 10000]\n",
    "}\n",
    "\n",
    "rand_elasticnet_params = {\n",
    "    'elasticnet__alpha': np.arange(0, 10, 0.01),\n",
    "    'elasticnet__l1_ratio': np.arange(0, 1, 0.01),\n",
    "    'elasticnet__max_iter': [10, 100, 1000, 10000]\n",
    "}"
   ]
  },
  {
   "cell_type": "code",
   "execution_count": null,
   "metadata": {
    "colab": {
     "base_uri": "https://localhost:8080/",
     "height": 151
    },
    "id": "VOHiOJBapS4I",
    "outputId": "d6111220-f191-4036-9871-444f75c0c97d"
   },
   "outputs": [],
   "source": [
    "# Perform hyperparameter tuning with RandomizedSearchCV\n",
    "random_search_lasso = RandomizedSearchCV(lasso_pipeline, rand_lasso_params, cv=5, n_jobs=-1, random_state=42)\n",
    "random_search_ridge = RandomizedSearchCV(ridge_pipeline, rand_ridge_params, cv=5, n_jobs=-1, random_state=42)\n",
    "random_search_elasticnet = RandomizedSearchCV(elasticnet_pipeline, rand_elasticnet_params, cv=5, n_jobs=-1, random_state=42)\n",
    "\n",
    "random_search_lasso.fit(X_trainval, y_trainval)\n",
    "random_search_ridge.fit(X_trainval, y_trainval)\n",
    "random_search_elasticnet.fit(X_trainval, y_trainval)"
   ]
  },
  {
   "cell_type": "code",
   "execution_count": null,
   "metadata": {
    "id": "qfsyfJsady_7"
   },
   "outputs": [],
   "source": [
    "# Get the best model and its parameters from GridSearchCV\n",
    "best_model_grid_linear = grid_search_linear.best_estimator_\n",
    "\n",
    "best_model_lasso = grid_search_lasso.best_estimator_\n",
    "best_params_lasso = grid_search_lasso.best_params_\n",
    "\n",
    "best_model_ridge = grid_search_ridge.best_estimator_\n",
    "best_params_ridge = grid_search_ridge.best_params_\n",
    "\n",
    "best_model_elasticnet = grid_search_elasticnet.best_estimator_\n",
    "best_params_elasticnet = grid_search_elasticnet.best_params_"
   ]
  },
  {
   "cell_type": "code",
   "execution_count": null,
   "metadata": {
    "id": "JHvXukYDd2NE"
   },
   "outputs": [],
   "source": [
    "# Get the best model and its parameters from RandomizedSearchCV\n",
    "best_model_random_lasso = random_search_lasso.best_estimator_\n",
    "best_params_random_lasso = random_search_lasso.best_params_\n",
    "\n",
    "best_model_random_ridge = random_search_ridge.best_estimator_\n",
    "best_params_random_ridge = random_search_ridge.best_params_\n",
    "\n",
    "best_model_random_elasticnet = random_search_elasticnet.best_estimator_\n",
    "best_params_random_elasticnet = random_search_elasticnet.best_params_"
   ]
  },
  {
   "cell_type": "code",
   "execution_count": null,
   "metadata": {
    "colab": {
     "base_uri": "https://localhost:8080/",
     "height": 125
    },
    "id": "ZYluLdbMTqAS",
    "outputId": "601700e6-551a-4ef8-c9a6-ad343496d73c"
   },
   "outputs": [],
   "source": [
    "best_model_random_elasticnet"
   ]
  },
  {
   "cell_type": "code",
   "execution_count": null,
   "metadata": {
    "id": "ptmMJbKVd3pt"
   },
   "outputs": [],
   "source": [
    "# Evaluate the models on the test set\n",
    "y_pred_linear = best_model_grid_linear.predict(X_test)\n",
    "\n",
    "y_pred_lasso = best_model_lasso.predict(X_test)\n",
    "mse_lasso = mean_squared_error(y_test, y_pred_lasso)\n",
    "mae_lasso = mean_absolute_error(y_test, y_pred_lasso)\n",
    "r2_lasso = r2_score(y_test, y_pred_lasso)\n",
    "\n",
    "y_pred_ridge = best_model_ridge.predict(X_test)\n",
    "mse_ridge = mean_squared_error(y_test, y_pred_ridge)\n",
    "mae_ridge = mean_absolute_error(y_test, y_pred_ridge)\n",
    "r2_ridge = r2_score(y_test, y_pred_ridge)\n",
    "\n",
    "y_pred_elasticnet = best_model_elasticnet.predict(X_test)\n",
    "mse_elasticnet = mean_squared_error(y_test, y_pred_elasticnet)\n",
    "mae_elasticnet = mean_absolute_error(y_test, y_pred_elasticnet)\n",
    "r2_elasticnet = r2_score(y_test, y_pred_elasticnet)\n",
    "\n",
    "y_pred_random_lasso = best_model_random_lasso.predict(X_test)\n",
    "mse_random_lasso = mean_squared_error(y_test, y_pred_random_lasso)\n",
    "mae_random_lasso = mean_absolute_error(y_test, y_pred_random_lasso)\n",
    "r2_random_lasso = r2_score(y_test, y_pred_random_lasso)\n",
    "\n",
    "y_pred_random_ridge = best_model_random_ridge.predict(X_test)\n",
    "mse_random_ridge = mean_squared_error(y_test, y_pred_random_ridge)\n",
    "mae_random_ridge = mean_absolute_error(y_test, y_pred_random_ridge)\n",
    "r2_random_ridge = r2_score(y_test, y_pred_random_ridge)\n",
    "\n",
    "y_pred_random_elasticnet = best_model_random_elasticnet.predict(X_test)\n",
    "mse_random_elasticnet = mean_squared_error(y_test, y_pred_random_elasticnet)\n",
    "mae_random_elasticnet = mean_absolute_error(y_test, y_pred_random_elasticnet)\n",
    "r2_random_elasticnet = r2_score(y_test, y_pred_random_elasticnet)"
   ]
  },
  {
   "cell_type": "code",
   "execution_count": null,
   "metadata": {
    "colab": {
     "base_uri": "https://localhost:8080/"
    },
    "id": "vachA-sUd5BT",
    "outputId": "1477f14d-a32e-409f-f31b-62a0047451b2"
   },
   "outputs": [],
   "source": [
    "# Print the results\n",
    "print(\"Results for best LinearRegression model:\")\n",
    "print(\"MSE: {:.4f}\".format(mean_squared_error(y_test, y_pred_linear)))\n",
    "print(\"MAE: {:.4f}\".format(mean_absolute_error(y_test, y_pred_linear)))\n",
    "print(\"R^2: {:.4f}\".format(r2_score(y_test, y_pred_linear)))\n",
    "print()\n",
    "\n",
    "print(\"Results for best Lasso model (GridSearchCV):\")\n",
    "print(\"MSE: {:.4f}\".format(mse_lasso))\n",
    "print(\"MAE: {:.4f}\".format(mae_lasso))\n",
    "print(\"R^2: {:.4f}\".format(r2_lasso))\n",
    "print(\"Best parameters: {}\".format(best_params_lasso))\n",
    "print()\n",
    "\n",
    "print(\"Results for best Ridge model (GridSearchCV):\")\n",
    "print(\"MSE: {:.4f}\".format(mse_ridge))\n",
    "print(\"MAE: {:.4f}\".format(mae_ridge))\n",
    "print(\"R^2: {:.4f}\".format(r2_ridge))\n",
    "print(\"Best parameters: {}\".format(best_params_ridge))\n",
    "print()\n",
    "\n",
    "print(\"Results for best ElasticNet model (GridSearchCV):\")\n",
    "print(\"MSE: {:.4f}\".format(mse_elasticnet))\n",
    "print(\"MAE: {:.4f}\".format(mae_elasticnet))\n",
    "print(\"R^2: {:.4f}\".format(r2_elasticnet))\n",
    "print(\"Best parameters: {}\".format(best_params_elasticnet))\n",
    "print()\n",
    "\n",
    "print(\"Results for best Lasso model (RandomizedSearchCV):\")\n",
    "print(\"MSE: {:.4f}\".format(mse_random_lasso))\n",
    "print(\"MAE: {:.4f}\".format(mae_random_lasso))\n",
    "print(\"R^2: {:.4f}\".format(r2_random_lasso))\n",
    "print(\"Best parameters: {}\".format(best_params_random_lasso))\n",
    "print()\n",
    "\n",
    "print(\"Results for best Ridge model (RandomizedSearchCV):\")\n",
    "print(\"MSE: {:.4f}\".format(mse_random_ridge))\n",
    "print(\"MAE: {:.4f}\".format(mae_random_ridge))\n",
    "print(\"R^2: {:.4f}\".format(r2_random_ridge))\n",
    "print(\"Best parameters: {}\".format(best_params_random_ridge))\n",
    "print()\n",
    "\n",
    "print(\"Results for best ElasticNet model (RandomizedSearchCV):\")\n",
    "print(\"MSE: {:.4f}\".format(mse_random_elasticnet))\n",
    "print(\"MAE: {:.4f}\".format(mae_random_elasticnet))\n",
    "print(\"R^2: {:.4f}\".format(r2_random_elasticnet))\n",
    "print(\"Best parameters: {}\".format(best_params_random_elasticnet))\n",
    "print()"
   ]
  }
 ],
 "metadata": {
  "colab": {
   "provenance": []
  },
  "kernelspec": {
   "display_name": "Python 3",
   "language": "python",
   "name": "python3"
  },
  "language_info": {
   "codemirror_mode": {
    "name": "ipython",
    "version": 3
   },
   "file_extension": ".py",
   "mimetype": "text/x-python",
   "name": "python",
   "nbconvert_exporter": "python",
   "pygments_lexer": "ipython3",
   "version": "3.13.0"
  }
 },
 "nbformat": 4,
 "nbformat_minor": 4
}
