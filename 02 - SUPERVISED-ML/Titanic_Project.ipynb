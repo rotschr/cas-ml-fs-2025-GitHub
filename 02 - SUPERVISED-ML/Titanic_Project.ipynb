{
 "cells": [
  {
   "cell_type": "code",
   "execution_count": null,
   "id": "f3527dd8",
   "metadata": {},
   "outputs": [],
   "source": [
    "# Import necessary libraries\n",
    "import pandas as pd\n",
    "import numpy as np\n",
    "from sklearn.model_selection import train_test_split, cross_val_score\n",
    "from sklearn.impute import SimpleImputer\n",
    "from sklearn.preprocessing import StandardScaler\n",
    "from sklearn.linear_model import LogisticRegression\n",
    "from sklearn.tree import DecisionTreeClassifier\n",
    "from sklearn.ensemble import RandomForestClassifier\n",
    "from imblearn.over_sampling import RandomOverSampler, SMOTE\n",
    "from imblearn.under_sampling import RandomUnderSampler\n",
    "from sklearn.metrics import accuracy_score, precision_score, recall_score, f1_score\n",
    "import matplotlib.pyplot as plt\n",
    "from sklearn.pipeline import Pipeline\n",
    "import seaborn as sns\n",
    "from scipy.special import softmax\n",
    "import numpy as np\n",
    "import pandas as pd\n",
    "from sklearn.model_selection import train_test_split, GridSearchCV, RandomizedSearchCV\n",
    "from sklearn.linear_model import LinearRegression, Lasso, Ridge, ElasticNet\n",
    "from sklearn.preprocessing import StandardScaler\n",
    "from sklearn.metrics import mean_squared_error, mean_absolute_error, r2_score\n",
    "from sklearn.pipeline import Pipeline\n",
    "import matplotlib.pyplot as plt\n",
    "import seaborn as sns"
   ]
  },
  {
   "cell_type": "code",
   "execution_count": null,
   "id": "abc10714",
   "metadata": {},
   "outputs": [],
   "source": [
    "import requests\n",
    "\n",
    "url = \"https://raw.githubusercontent.com/datasciencedojo/datasets/master/titanic.csv\"\n",
    "response = requests.get(url)\n",
    "with open(\"titanic.csv\", \"wb\") as file:\n",
    "    file.write(response.content)"
   ]
  },
  {
   "cell_type": "code",
   "execution_count": null,
   "id": "121a1df2",
   "metadata": {},
   "outputs": [],
   "source": [
    "titanic = pd.read_csv('titanic.csv')"
   ]
  },
  {
   "cell_type": "code",
   "execution_count": null,
   "id": "0a8ee74f",
   "metadata": {},
   "outputs": [],
   "source": [
    "print(titanic.head())\n",
    "print(titanic.info())\n",
    "print(titanic.describe())\n",
    "print(titanic.shape)"
   ]
  },
  {
   "cell_type": "code",
   "execution_count": null,
   "id": "8af6a62a",
   "metadata": {},
   "outputs": [],
   "source": [
    "titanic = pd.get_dummies(titanic, columns=['Sex'], prefix='Sex')\n",
    "titanic['single'] = titanic.apply(lambda row: 0 if row['SibSp'] + row['Parch'] > 0 else 1, axis=1)\n",
    "titanic['Age'] = titanic['Age'].fillna(titanic['Age'].median())\n",
    "\n"
   ]
  },
  {
   "cell_type": "code",
   "execution_count": null,
   "id": "9b50043f",
   "metadata": {},
   "outputs": [],
   "source": [
    "titanic = titanic.drop(['PassengerId', 'Name', 'Ticket','Cabin', 'Embarked', 'SibSp', 'Parch'], axis=1)"
   ]
  },
  {
   "cell_type": "code",
   "execution_count": null,
   "id": "3504119d",
   "metadata": {},
   "outputs": [],
   "source": [
    "corr_matrix = titanic.corr()\n",
    "plt.figure(figsize=(12, 10))\n",
    "sns.heatmap(corr_matrix, annot=True, cmap=plt.cm.Reds)\n",
    "plt.show()\n"
   ]
  },
  {
   "cell_type": "code",
   "execution_count": null,
   "id": "c1c4d860",
   "metadata": {},
   "outputs": [],
   "source": [
    "\n",
    "x = np.array([[titanic['Survived']],\n",
    "             [titanic['single']],\n",
    "             [titanic['Age']],\n",
    "             [titanic['Fare']],\n",
    "             [titanic['Pclass']],\n",
    "             [titanic['Sex_female']],\n",
    "             [titanic['Sex_male']]],\n",
    "             )\n",
    "\n",
    "m = softmax(x)\n",
    "\n",
    "print(m)"
   ]
  },
  {
   "cell_type": "code",
   "execution_count": null,
   "id": "42a95742",
   "metadata": {},
   "outputs": [],
   "source": [
    "\n",
    "# Example: Plotting the distribution of the 'Age' column\n",
    "plt.hist(titanic['Survived'], bins=2, color='blue', edgecolor='black', alpha=0.7)\n",
    "plt.title('Distribution')\n",
    "plt.xlabel('x')\n",
    "plt.ylabel('y')\n",
    "plt.show()"
   ]
  },
  {
   "cell_type": "code",
   "execution_count": null,
   "id": "a3456679",
   "metadata": {},
   "outputs": [],
   "source": [
    "#- Dealing with Imbalanced Classes\n",
    "X = titanic.drop(columns=['Survived'])\n",
    "y = titanic['Survived']\n",
    "\n",
    "ros = RandomOverSampler()\n",
    "rus = RandomUnderSampler()\n",
    "smote = SMOTE()\n",
    "\n",
    "\n",
    "X_ros, y_ros = ros.fit_resample(X, y)\n",
    "X_rus, y_rus = rus.fit_resample(X, y)\n",
    "X_smote, y_smote = smote.fit_resample(X, y)"
   ]
  },
  {
   "cell_type": "code",
   "execution_count": null,
   "id": "7369046b",
   "metadata": {},
   "outputs": [],
   "source": [
    "X_trainval, X_test, y_trainval, y_test = train_test_split(X_smote, y_smote, test_size=0.2, random_state=42)"
   ]
  },
  {
   "cell_type": "code",
   "execution_count": null,
   "id": "0212a8a0",
   "metadata": {},
   "outputs": [],
   "source": [
    "# Define the pipelines for each model\n",
    "linear_pipeline = Pipeline([\n",
    "    ('scaler', StandardScaler()),\n",
    "    ('linear', LinearRegression())\n",
    "])\n",
    "\n",
    "lasso_pipeline = Pipeline([\n",
    "    ('scaler', StandardScaler()),\n",
    "    ('lasso', Lasso())\n",
    "])\n",
    "\n",
    "ridge_pipeline = Pipeline([\n",
    "    ('scaler', StandardScaler()),\n",
    "    ('ridge', Ridge())\n",
    "])\n",
    "\n",
    "elasticnet_pipeline = Pipeline([\n",
    "    ('scaler', StandardScaler()),\n",
    "    ('elasticnet', ElasticNet())\n",
    "])"
   ]
  },
  {
   "cell_type": "code",
   "execution_count": null,
   "id": "6dcfcb27",
   "metadata": {},
   "outputs": [],
   "source": [
    "# Define the hyperparameters to search over for each model\n",
    "grid_linear_params = {\n",
    "    'linear__fit_intercept': [True, False]\n",
    "}\n",
    "\n",
    "grid_lasso_params = {\n",
    "    'lasso__alpha': [0.1, 1, 10],\n",
    "    'lasso__max_iter': [100, 1000, 10000]\n",
    "}\n",
    "\n",
    "grid_ridge_params = {\n",
    "    'ridge__alpha': [0.1, 1, 10],\n",
    "    'ridge__max_iter': [100, 1000, 10000]\n",
    "}\n",
    "\n",
    "grid_elasticnet_params = {\n",
    "    'elasticnet__alpha': [0.1, 1, 10],\n",
    "    'elasticnet__l1_ratio': [0.1, 0.5, 0.9],\n",
    "    'elasticnet__max_iter': [100, 1000, 10000]\n",
    "}"
   ]
  },
  {
   "cell_type": "code",
   "execution_count": null,
   "id": "4577f5c6",
   "metadata": {},
   "outputs": [],
   "source": [
    "# Perform hyperparameter tuning with GridSearchCV\n",
    "grid_search_linear = GridSearchCV(linear_pipeline, grid_linear_params, cv=5, n_jobs=-1)\n",
    "grid_search_lasso = GridSearchCV(lasso_pipeline, grid_lasso_params, cv=5, n_jobs=-1)\n",
    "grid_search_ridge = GridSearchCV(ridge_pipeline, grid_ridge_params, cv=5, n_jobs=-1)\n",
    "grid_search_elasticnet = GridSearchCV(elasticnet_pipeline, grid_elasticnet_params, cv=5, n_jobs=-1)\n",
    "\n",
    "grid_search_linear.fit(X_trainval, y_trainval)\n",
    "grid_search_lasso.fit(X_trainval, y_trainval)\n",
    "grid_search_ridge.fit(X_trainval, y_trainval)\n",
    "grid_search_elasticnet.fit(X_trainval, y_trainval)"
   ]
  },
  {
   "cell_type": "code",
   "execution_count": null,
   "id": "c6c58b81",
   "metadata": {},
   "outputs": [],
   "source": [
    "# Define the hyperparameters to search over for each model\n",
    "rand_lasso_params = {\n",
    "    'lasso__alpha': np.arange(0, 10, 0.01),\n",
    "}\n",
    "\n",
    "rand_ridge_params = {\n",
    "    'ridge__alpha': np.arange(0, 10, 0.01),\n",
    "    'ridge__max_iter': [10, 100, 1000, 10000]\n",
    "}\n",
    "\n",
    "rand_elasticnet_params = {\n",
    "    'elasticnet__alpha': np.arange(0, 10, 0.01),\n",
    "    'elasticnet__l1_ratio': np.arange(0, 1, 0.01),\n",
    "    'elasticnet__max_iter': [10, 100, 1000, 10000]\n",
    "}"
   ]
  },
  {
   "cell_type": "code",
   "execution_count": null,
   "id": "0fba2678",
   "metadata": {},
   "outputs": [],
   "source": [
    "# Perform hyperparameter tuning with RandomizedSearchCV\n",
    "random_search_lasso = RandomizedSearchCV(lasso_pipeline, rand_lasso_params, cv=5, n_jobs=-1, random_state=42)\n",
    "random_search_ridge = RandomizedSearchCV(ridge_pipeline, rand_ridge_params, cv=5, n_jobs=-1, random_state=42)\n",
    "random_search_elasticnet = RandomizedSearchCV(elasticnet_pipeline, rand_elasticnet_params, cv=5, n_jobs=-1, random_state=42)\n",
    "\n",
    "random_search_lasso.fit(X_trainval, y_trainval)\n",
    "random_search_ridge.fit(X_trainval, y_trainval)\n",
    "random_search_elasticnet.fit(X_trainval, y_trainval)"
   ]
  },
  {
   "cell_type": "code",
   "execution_count": null,
   "id": "978befec",
   "metadata": {},
   "outputs": [],
   "source": [
    "# Get the best model and its parameters from GridSearchCV\n",
    "best_model_grid_linear = grid_search_linear.best_estimator_\n",
    "\n",
    "best_model_lasso = grid_search_lasso.best_estimator_\n",
    "best_params_lasso = grid_search_lasso.best_params_\n",
    "\n",
    "best_model_ridge = grid_search_ridge.best_estimator_\n",
    "best_params_ridge = grid_search_ridge.best_params_\n",
    "\n",
    "best_model_elasticnet = grid_search_elasticnet.best_estimator_\n",
    "best_params_elasticnet = grid_search_elasticnet.best_params_"
   ]
  },
  {
   "cell_type": "code",
   "execution_count": null,
   "id": "d460a04c",
   "metadata": {},
   "outputs": [],
   "source": [
    "# Get the best model and its parameters from RandomizedSearchCV\n",
    "best_model_random_lasso = random_search_lasso.best_estimator_\n",
    "best_params_random_lasso = random_search_lasso.best_params_\n",
    "\n",
    "best_model_random_ridge = random_search_ridge.best_estimator_\n",
    "best_params_random_ridge = random_search_ridge.best_params_\n",
    "\n",
    "best_model_random_elasticnet = random_search_elasticnet.best_estimator_\n",
    "best_params_random_elasticnet = random_search_elasticnet.best_params_"
   ]
  },
  {
   "cell_type": "code",
   "execution_count": null,
   "id": "91be7d89",
   "metadata": {},
   "outputs": [],
   "source": [
    "best_model_random_elasticnet"
   ]
  },
  {
   "cell_type": "code",
   "execution_count": 142,
   "id": "e2c280ed",
   "metadata": {},
   "outputs": [],
   "source": [
    "# Evaluate the models on the test set\n",
    "y_pred_linear = best_model_grid_linear.predict(X_test)\n",
    "\n",
    "y_pred_lasso = best_model_lasso.predict(X_test)\n",
    "mse_lasso = mean_squared_error(y_test, y_pred_lasso)\n",
    "mae_lasso = mean_absolute_error(y_test, y_pred_lasso)\n",
    "r2_lasso = r2_score(y_test, y_pred_lasso)\n",
    "\n",
    "y_pred_ridge = best_model_ridge.predict(X_test)\n",
    "mse_ridge = mean_squared_error(y_test, y_pred_ridge)\n",
    "mae_ridge = mean_absolute_error(y_test, y_pred_ridge)\n",
    "r2_ridge = r2_score(y_test, y_pred_ridge)\n",
    "\n",
    "y_pred_elasticnet = best_model_elasticnet.predict(X_test)\n",
    "mse_elasticnet = mean_squared_error(y_test, y_pred_elasticnet)\n",
    "mae_elasticnet = mean_absolute_error(y_test, y_pred_elasticnet)\n",
    "r2_elasticnet = r2_score(y_test, y_pred_elasticnet)\n",
    "\n",
    "y_pred_random_lasso = best_model_random_lasso.predict(X_test)\n",
    "mse_random_lasso = mean_squared_error(y_test, y_pred_random_lasso)\n",
    "mae_random_lasso = mean_absolute_error(y_test, y_pred_random_lasso)\n",
    "r2_random_lasso = r2_score(y_test, y_pred_random_lasso)\n",
    "\n",
    "y_pred_random_ridge = best_model_random_ridge.predict(X_test)\n",
    "mse_random_ridge = mean_squared_error(y_test, y_pred_random_ridge)\n",
    "mae_random_ridge = mean_absolute_error(y_test, y_pred_random_ridge)\n",
    "r2_random_ridge = r2_score(y_test, y_pred_random_ridge)\n",
    "\n",
    "y_pred_random_elasticnet = best_model_random_elasticnet.predict(X_test)\n",
    "mse_random_elasticnet = mean_squared_error(y_test, y_pred_random_elasticnet)\n",
    "mae_random_elasticnet = mean_absolute_error(y_test, y_pred_random_elasticnet)\n",
    "r2_random_elasticnet = r2_score(y_test, y_pred_random_elasticnet)"
   ]
  },
  {
   "cell_type": "code",
   "execution_count": 143,
   "id": "d9b1faa9",
   "metadata": {},
   "outputs": [
    {
     "name": "stdout",
     "output_type": "stream",
     "text": [
      "Results for best LinearRegression model:\n",
      "MSE: 0.1174\n",
      "MAE: 0.2694\n",
      "R^2: 0.5283\n",
      "\n",
      "Results for best Lasso model (GridSearchCV):\n",
      "MSE: 0.1445\n",
      "MAE: 0.3541\n",
      "R^2: 0.4198\n",
      "Best parameters: {'lasso__alpha': 0.1, 'lasso__max_iter': 100}\n",
      "\n",
      "Results for best Ridge model (GridSearchCV):\n",
      "MSE: 0.1174\n",
      "MAE: 0.2695\n",
      "R^2: 0.5283\n",
      "Best parameters: {'ridge__alpha': 1, 'ridge__max_iter': 100}\n",
      "\n",
      "Results for best ElasticNet model (GridSearchCV):\n",
      "MSE: 0.1201\n",
      "MAE: 0.2855\n",
      "R^2: 0.5178\n",
      "Best parameters: {'elasticnet__alpha': 0.1, 'elasticnet__l1_ratio': 0.1, 'elasticnet__max_iter': 100}\n",
      "\n",
      "Results for best Lasso model (RandomizedSearchCV):\n",
      "MSE: 0.1927\n",
      "MAE: 0.4331\n",
      "R^2: 0.2261\n",
      "Best parameters: {'lasso__alpha': np.float64(0.2)}\n",
      "\n",
      "Results for best Ridge model (RandomizedSearchCV):\n",
      "MSE: 0.1175\n",
      "MAE: 0.2695\n",
      "R^2: 0.5283\n",
      "Best parameters: {'ridge__max_iter': 10, 'ridge__alpha': np.float64(2.15)}\n",
      "\n",
      "Results for best ElasticNet model (RandomizedSearchCV):\n",
      "MSE: 0.2474\n",
      "MAE: 0.4974\n",
      "R^2: 0.0062\n",
      "Best parameters: {'elasticnet__max_iter': 1000, 'elasticnet__l1_ratio': np.float64(0.21), 'elasticnet__alpha': np.float64(1.37)}\n",
      "\n"
     ]
    }
   ],
   "source": [
    "# Print the results\n",
    "print(\"Results for best LinearRegression model:\")\n",
    "print(\"MSE: {:.4f}\".format(mean_squared_error(y_test, y_pred_linear)))\n",
    "print(\"MAE: {:.4f}\".format(mean_absolute_error(y_test, y_pred_linear)))\n",
    "print(\"R^2: {:.4f}\".format(r2_score(y_test, y_pred_linear)))\n",
    "print()\n",
    "\n",
    "print(\"Results for best Lasso model (GridSearchCV):\")\n",
    "print(\"MSE: {:.4f}\".format(mse_lasso))\n",
    "print(\"MAE: {:.4f}\".format(mae_lasso))\n",
    "print(\"R^2: {:.4f}\".format(r2_lasso))\n",
    "print(\"Best parameters: {}\".format(best_params_lasso))\n",
    "print()\n",
    "\n",
    "print(\"Results for best Ridge model (GridSearchCV):\")\n",
    "print(\"MSE: {:.4f}\".format(mse_ridge))\n",
    "print(\"MAE: {:.4f}\".format(mae_ridge))\n",
    "print(\"R^2: {:.4f}\".format(r2_ridge))\n",
    "print(\"Best parameters: {}\".format(best_params_ridge))\n",
    "print()\n",
    "\n",
    "print(\"Results for best ElasticNet model (GridSearchCV):\")\n",
    "print(\"MSE: {:.4f}\".format(mse_elasticnet))\n",
    "print(\"MAE: {:.4f}\".format(mae_elasticnet))\n",
    "print(\"R^2: {:.4f}\".format(r2_elasticnet))\n",
    "print(\"Best parameters: {}\".format(best_params_elasticnet))\n",
    "print()\n",
    "\n",
    "print(\"Results for best Lasso model (RandomizedSearchCV):\")\n",
    "print(\"MSE: {:.4f}\".format(mse_random_lasso))\n",
    "print(\"MAE: {:.4f}\".format(mae_random_lasso))\n",
    "print(\"R^2: {:.4f}\".format(r2_random_lasso))\n",
    "print(\"Best parameters: {}\".format(best_params_random_lasso))\n",
    "print()\n",
    "\n",
    "print(\"Results for best Ridge model (RandomizedSearchCV):\")\n",
    "print(\"MSE: {:.4f}\".format(mse_random_ridge))\n",
    "print(\"MAE: {:.4f}\".format(mae_random_ridge))\n",
    "print(\"R^2: {:.4f}\".format(r2_random_ridge))\n",
    "print(\"Best parameters: {}\".format(best_params_random_ridge))\n",
    "print()\n",
    "\n",
    "print(\"Results for best ElasticNet model (RandomizedSearchCV):\")\n",
    "print(\"MSE: {:.4f}\".format(mse_random_elasticnet))\n",
    "print(\"MAE: {:.4f}\".format(mae_random_elasticnet))\n",
    "print(\"R^2: {:.4f}\".format(r2_random_elasticnet))\n",
    "print(\"Best parameters: {}\".format(best_params_random_elasticnet))\n",
    "print()"
   ]
  }
 ],
 "metadata": {
  "kernelspec": {
   "display_name": "Python 3",
   "language": "python",
   "name": "python3"
  },
  "language_info": {
   "codemirror_mode": {
    "name": "ipython",
    "version": 3
   },
   "file_extension": ".py",
   "mimetype": "text/x-python",
   "name": "python",
   "nbconvert_exporter": "python",
   "pygments_lexer": "ipython3",
   "version": "3.13.0"
  }
 },
 "nbformat": 4,
 "nbformat_minor": 5
}
