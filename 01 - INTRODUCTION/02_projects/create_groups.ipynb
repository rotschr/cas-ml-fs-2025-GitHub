{
 "cells": [
  {
   "cell_type": "code",
   "execution_count": null,
   "metadata": {},
   "outputs": [],
   "source": [
    "import pandas as pd\n",
    "import numpy as np\n",
    "\n",
    "tn = pd.read_csv(\"teilnehmer.csv\")\n",
    "tn"
   ]
  },
  {
   "cell_type": "code",
   "execution_count": null,
   "metadata": {},
   "outputs": [],
   "source": [
    "tn[\"rand\"] = np.random.rand(len(tn)).tolist()\n",
    "tn = tn.sort_values(\"rand\")\n",
    "\n",
    "result = [element for element in [1,2,3,4,5,6,7,8] for i in range(3)]\n",
    "result\n",
    "\n",
    "tn[\"group\"] = result[:len(tn)]\n",
    "\n",
    "tn"
   ]
  }
 ],
 "metadata": {
  "kernelspec": {
   "display_name": ".venv",
   "language": "python",
   "name": "python3"
  },
  "language_info": {
   "codemirror_mode": {
    "name": "ipython",
    "version": 3
   },
   "file_extension": ".py",
   "mimetype": "text/x-python",
   "name": "python",
   "nbconvert_exporter": "python",
   "pygments_lexer": "ipython3",
   "version": "3.12.6"
  }
 },
 "nbformat": 4,
 "nbformat_minor": 2
}
