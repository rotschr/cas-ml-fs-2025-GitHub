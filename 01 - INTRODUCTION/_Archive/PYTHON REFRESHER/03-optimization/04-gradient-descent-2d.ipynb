{
 "cells": [
  {
   "cell_type": "markdown",
   "metadata": {},
   "source": [
    "# Gradient Descent 2d\n",
    "\n",
    "<img src=\"img/himmelblau.png\" width=\"600\">\n",
    "\n",
    "Example: [Himmelblau's function](https://en.wikipedia.org/wiki/Himmelblau%27s_function) $\\displaystyle f(x,y)=(x^{2}+y-11)^{2}+(x+y^{2}-7)^{2}$\n",
    "\n",
    "Known extrema:\n",
    "\n",
    "- local maximum $\\displaystyle f(-0.270845, -0.923039) = 181.617$\n",
    "- local minimum $\\displaystyle f(3.0,2.0)=0.0$\n",
    "- local minimum $\\displaystyle f(-2.805118,3.131312)=0.0$\n",
    "- local minimum $\\displaystyle f(-3.779310,-3.283186)=0.0$\n",
    "- local minimum $\\displaystyle f(3.584428,-1.848126)=0.0$\n"
   ]
  },
  {
   "cell_type": "code",
   "execution_count": null,
   "metadata": {},
   "outputs": [],
   "source": [
    "import numpy as np\n",
    "import matplotlib.pyplot as plt\n",
    "\n",
    "\n",
    "# 2d objective function (Himmelblau's function)\n",
    "def himmelblau(x, y):\n",
    "    return (x**2 + y - 11) ** 2 + (x + y**2 - 7) ** 2\n",
    "\n",
    "\n",
    "# Define the gradient of Himmelblau's function\n",
    "def gradient(x, y):\n",
    "    grad_x = 4 * x * (x**2 + y - 11) + 2 * (x + y**2 - 7)\n",
    "    grad_y = 2 * (x**2 + y - 11) + 4 * y * (x + y**2 - 7)\n",
    "    return np.array([grad_x, grad_y])"
   ]
  },
  {
   "cell_type": "code",
   "execution_count": null,
   "metadata": {},
   "outputs": [],
   "source": [
    "def himmelblau(x, y):\n",
    "    return (x**2 + y - 11) ** 2 + (x + y**2 - 7) ** 2\n",
    "\n",
    "\n",
    "def plot_himmelblau(scale=1.0):\n",
    "    # compute Himmelblau over meshgrid\n",
    "    x = np.linspace(-6, 6, 500)\n",
    "    y = np.linspace(-6, 6, 500)\n",
    "    X, Y = np.meshgrid(x, y)\n",
    "    Z = np.log(himmelblau(X, Y))\n",
    "\n",
    "    plt.figure(figsize=(8 * scale, 6 * scale))\n",
    "    plt.contourf(X, Y, Z, levels=50, cmap=\"Blues\")\n",
    "    contours = plt.contour(X, Y, Z, levels=30, cmap=\"plasma\", linewidths=1)\n",
    "    plt.clabel(contours, inline=True, fontsize=7)\n",
    "    plt.xlabel(\"x\")\n",
    "    plt.ylabel(\"y\")"
   ]
  },
  {
   "cell_type": "code",
   "execution_count": null,
   "metadata": {},
   "outputs": [],
   "source": [
    "def run_gradient_descent(x0, gamma=0.01, tol=1e-6, max_iter=10000):\n",
    "\n",
    "    # Initial guess\n",
    "    x, y = x0\n",
    "\n",
    "    # Gradient descent loop\n",
    "    x_hist = [(x, y)]\n",
    "    for i in range(max_iter):\n",
    "        grad = gradient(x, y)\n",
    "        new_x = x - gamma * grad[0]\n",
    "        new_y = y - gamma * grad[1]\n",
    "        x_hist.append((new_x, new_y))\n",
    "\n",
    "        # converged?\n",
    "        if np.linalg.norm([new_x - x, new_y - y]) < tol:\n",
    "            break\n",
    "\n",
    "        x, y = new_x, new_y\n",
    "    else:\n",
    "        print(\"Max iterations reached without convergence.\")\n",
    "        return None\n",
    "\n",
    "    return x_hist\n",
    "\n",
    "\n",
    "def plot_traj(x_hist):\n",
    "    xs = [x[0] for x in x_hist]\n",
    "    ys = [x[1] for x in x_hist]\n",
    "    plt.plot(xs, ys, \"y.-\")\n",
    "\n",
    "\n",
    "plot_himmelblau(1.8)\n",
    "if True:\n",
    "    x_hist = run_gradient_descent((0, 0), gamma=0.001)\n",
    "    plot_traj(x_hist)\n",
    "else:\n",
    "    for x in np.arange(-6, 7):\n",
    "        for y in np.arange(-6, 7):\n",
    "            x0 = (x, y)\n",
    "            x_hist = run_gradient_descent(x0, gamma=0.001)\n",
    "            plot_traj(x_hist)"
   ]
  },
  {
   "cell_type": "markdown",
   "metadata": {},
   "source": []
  }
 ],
 "metadata": {
  "kernelspec": {
   "display_name": "dev",
   "language": "python",
   "name": "python3"
  },
  "language_info": {
   "codemirror_mode": {
    "name": "ipython",
    "version": 3
   },
   "file_extension": ".py",
   "mimetype": "text/x-python",
   "name": "python",
   "nbconvert_exporter": "python",
   "pygments_lexer": "ipython3",
   "version": "3.11.8"
  }
 },
 "nbformat": 4,
 "nbformat_minor": 2
}
