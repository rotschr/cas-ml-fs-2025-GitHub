{
 "cells": [
  {
   "cell_type": "markdown",
   "metadata": {},
   "source": [
    "# Computational complexity theory"
   ]
  },
  {
   "cell_type": "markdown",
   "metadata": {},
   "source": [
    "### Measuring efficiency\n",
    "\n",
    "Objective is to measure efficiency of any algorithm in terms of:\n",
    "\n",
    "- running time (CPU cycles)\n",
    "- space requirements (memory)\n",
    "\n",
    "This makes algorithms solving **a particular problem** comparable\n",
    "\n",
    "Tool to do that: **Big-O notation**. Describes worst-case scenario, or the maximum\n",
    "amount of time or space an algorithm will require to solve a given problem\n"
   ]
  },
  {
   "cell_type": "markdown",
   "metadata": {},
   "source": [
    "### Time Complexity\n",
    "\n",
    "Measures amount of time an algorithm takes to run for a problem if size $n$\n",
    "\n",
    "- Expressed using Big-O notation, i.e. the required time in the worst-case scenario\n",
    "- Example: Linear search through a list of $n$ elements has time complexity $O(n)$\n"
   ]
  },
  {
   "cell_type": "markdown",
   "metadata": {},
   "source": [
    "### Space Complexity\n",
    "\n",
    "Like time complexity,\n",
    "\n",
    "- Expressed using Big-O notation, i.e. the required amount of memory required in the\n",
    "  worst-case scenario\n",
    "- For example, an algorithm creating a list of size $n$ has a space complexity of $O(n)$\n"
   ]
  },
  {
   "cell_type": "markdown",
   "metadata": {},
   "source": [
    "### Complexity Classes\n",
    "\n",
    "<img src=\"img/problem_classes.png\" width=\"800\">\n",
    "\n",
    "Common Big-O notations and their names:\n",
    "\n",
    "- $O(1)$: Constant time\n",
    "- $O(\\log n)$: Logarithmic time\n",
    "- $O(n)$: Linear time\n",
    "- $O(n \\log n)$: Linearithmic time\n",
    "- $O(n^2)$: Quadratic time\n",
    "- $O(n^3)$: Cubic time\n",
    "- $O(2^n)$: Exponential time\n",
    "- $O(n!)$: Factorial time\n",
    "\n",
    "For example, for an algorithm sorting a list of integers, $n$ is the number of integers\n",
    "in the list.\n",
    "\n",
    "Notes:\n",
    "\n",
    "- $O(\\cdot)$ describes how something scales and not how long something runs in seconds\n",
    "- Only leading terms are retained: $O(n^2) + O(n) = O(n^2)$\n"
   ]
  },
  {
   "cell_type": "markdown",
   "metadata": {},
   "source": [
    "### Example 1: Summing a list of $n$ numbers\n"
   ]
  },
  {
   "cell_type": "code",
   "execution_count": 2,
   "metadata": {},
   "outputs": [],
   "source": [
    "import time\n",
    "import numpy as np\n",
    "\n",
    "# Example code\n",
    "def sum_them(xs):\n",
    "    sum = 0\n",
    "    for i in xs:\n",
    "        sum += i\n",
    "    return sum\n",
    "\n",
    "for i in range(10):\n",
    "    xs = np.random.randint(0, 100, 1000)\n",
    "    tic = time.time()\n"
   ]
  },
  {
   "cell_type": "markdown",
   "metadata": {},
   "source": [
    "Computational efforts:\n",
    "- Need to load $n$ items into the CPU's register\n",
    "- Need to execute $n - 1$ ADD operations\n",
    "\n",
    "$\\displaystyle \\Rightarrow\\;\\; c_1 \\; n + c_2 \\; (n - 1) = (c_1 + c_2) \\; n - c_2 \\; \\propto \\; n$ operations\n",
    "\n",
    "Hence above algorithm is of time complexity $O(n)$\n"
   ]
  },
  {
   "cell_type": "markdown",
   "metadata": {},
   "source": [
    "### Example 2: Multiplication of two $n \\times n$ matrices (MMM)\n",
    "Analysis:\n",
    "- Computing a *single* element of the result matrix takes $n$ multiplications and $n - 1$ additions\n",
    "- Needs to repeat the above for each of the $n^2$ resulting entries\n",
    "\n",
    "$\\displaystyle \\Rightarrow \\;\\; (c_1 \\; n + c_2 \\; (n - 1))\\; n^2 = (c_1 + c_2)\\; n^3 - n^2 \\; \\propto \\; n^3$ operations\n",
    "\n",
    "Hence MMM is of time complexity $O(n^3)$\n",
    "\n"
   ]
  },
  {
   "cell_type": "markdown",
   "metadata": {},
   "source": [
    "### Complexity of common Python data structures\n",
    "\n",
    "https://wiki.python.org/moin/TimeComplexity\n",
    "\n",
    "E.g. `x in xs` operation:\n",
    "- `list`: $O(n)$\n",
    "- `set`: $O(1)$\n",
    "\n",
    "So why not always use a `set`?"
   ]
  }
 ],
 "metadata": {
  "kernelspec": {
   "display_name": ".venv",
   "language": "python",
   "name": "python3"
  },
  "language_info": {
   "codemirror_mode": {
    "name": "ipython",
    "version": 3
   },
   "file_extension": ".py",
   "mimetype": "text/x-python",
   "name": "python",
   "nbconvert_exporter": "python",
   "pygments_lexer": "ipython3",
   "version": "3.12.6"
  }
 },
 "nbformat": 4,
 "nbformat_minor": 2
}
