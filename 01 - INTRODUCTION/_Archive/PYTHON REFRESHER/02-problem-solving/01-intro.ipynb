{
 "cells": [
  {
   "cell_type": "markdown",
   "metadata": {},
   "source": [
    "# Problem Solving"
   ]
  },
  {
   "cell_type": "markdown",
   "metadata": {},
   "source": [
    "### What's this?\n",
    "Ability  to understand, dissect, and solve complex problems, often trained and tested\n",
    "through coding, system design, or algorithmic challenges. \n",
    "\n",
    "### Why useful?\n",
    "\n",
    "Solving such problems trains/test various highly desirable skills, even far outside the software domain:\n",
    "\n",
    "**Analytical Thinking**: Requires a logical and systematic approach to problems\n",
    "\n",
    "**Creativity**: Forces to think outside the box, find innovative solutions and maintain mental flexibility\n",
    "\n",
    "**Technical Proficiency**: Improves programmatic literacy and use of optimal data structures.\n",
    "\n",
    "**Attention to Detail**: Optimal solutions can only found by taking every aspect of the problem into account\n",
    "\n",
    "**Efficiency**: Forces practical decisions that balance time and space complexities\n",
    "\n",
    "**Communication Skills**: In interview situations, tests the candidates' ability to\n",
    "articulate their thought process, logic, and solution\n"
   ]
  }
 ],
 "metadata": {
  "kernelspec": {
   "display_name": "ml3",
   "language": "python",
   "name": "python3"
  },
  "language_info": {
   "codemirror_mode": {
    "name": "ipython",
    "version": 3
   },
   "file_extension": ".py",
   "mimetype": "text/x-python",
   "name": "python",
   "nbconvert_exporter": "python",
   "pygments_lexer": "ipython3",
   "version": "3.11.8"
  }
 },
 "nbformat": 4,
 "nbformat_minor": 2
}
