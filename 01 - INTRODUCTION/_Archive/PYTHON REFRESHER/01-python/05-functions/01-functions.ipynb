{
 "cells": [
  {
   "cell_type": "markdown",
   "metadata": {},
   "source": [
    "# Functions "
   ]
  },
  {
   "cell_type": "markdown",
   "metadata": {},
   "source": [
    "### Imports\n",
    "\n",
    "Imports make extra functionality available. \n"
   ]
  },
  {
   "cell_type": "code",
   "execution_count": null,
   "metadata": {},
   "outputs": [],
   "source": [
    "# import the `math` package from the standard libarary\n",
    "import math\n"
   ]
  },
  {
   "cell_type": "markdown",
   "metadata": {},
   "source": [
    "### Good old Pythagos\n",
    "Objective: Given $a$ and $b$, compute $c = \\sqrt{a^2 + b^2}$ "
   ]
  },
  {
   "cell_type": "markdown",
   "metadata": {},
   "source": [
    "### One-off"
   ]
  },
  {
   "cell_type": "code",
   "execution_count": null,
   "metadata": {},
   "outputs": [],
   "source": [
    "a = 3\n",
    "b = 4\n",
    "c = math.sqrt(a**2 + b**2)\n",
    "print(f\"{c:.3f}\")\n"
   ]
  },
  {
   "cell_type": "markdown",
   "metadata": {},
   "source": [
    "### Better: Wrap it in a function\n",
    "Move this code block inside a function"
   ]
  },
  {
   "cell_type": "code",
   "execution_count": null,
   "metadata": {},
   "outputs": [],
   "source": [
    "# Function definition\n",
    "def pythagoras():\n",
    "    a = 3\n",
    "    b = 4\n",
    "    c = math.sqrt(a**2 + b**2)\n",
    "    print(f\"{c:.3f}\")\n"
   ]
  },
  {
   "cell_type": "markdown",
   "metadata": {},
   "source": [
    "Syntax:\n",
    "* Indenting block shows what belongs to the function\n",
    "* Remember the `:` at the end of the first line \n",
    "\n",
    "When we run the above cell, nothing happens\n",
    "* Because we have *defined* a function\n",
    "* Now we have to *call* it to execute the contained code"
   ]
  },
  {
   "cell_type": "code",
   "execution_count": null,
   "metadata": {},
   "outputs": [],
   "source": [
    "# Function call\n",
    "pythagoras()\n"
   ]
  },
  {
   "cell_type": "markdown",
   "metadata": {},
   "source": [
    "### Returning values\n",
    "The result of the calculation should not be printed to the screen but returned instead for future use"
   ]
  },
  {
   "cell_type": "code",
   "execution_count": null,
   "metadata": {},
   "outputs": [],
   "source": [
    "def pythagoras():\n",
    "    a = 3\n",
    "    b = 4\n",
    "    return math.sqrt(a**2 + b**2)\n"
   ]
  },
  {
   "cell_type": "code",
   "execution_count": null,
   "metadata": {},
   "outputs": [],
   "source": [
    "result = pythagoras()\n",
    "print(f\"Return value: {result:.3f}\")\n"
   ]
  },
  {
   "cell_type": "markdown",
   "metadata": {},
   "source": [
    "Functions in Python always return a value. If the `return` statement is missing, `None` is returned automatically"
   ]
  },
  {
   "cell_type": "markdown",
   "metadata": {},
   "source": [
    "### Function parameters\n",
    "The numbers `a` and `b` for calculating `c` should not be fixed in the function, but rather passed as *parameters*:"
   ]
  },
  {
   "cell_type": "code",
   "execution_count": null,
   "metadata": {},
   "outputs": [],
   "source": [
    "def pythagoras(a, b):\n",
    "    return math.sqrt(a**2 + b**2)\n"
   ]
  },
  {
   "cell_type": "code",
   "execution_count": null,
   "metadata": {},
   "outputs": [],
   "source": [
    "result = pythagoras(3, 4)\n",
    "print(f\"pythagoras(3, 4) = {result:.3f}\")\n"
   ]
  },
  {
   "cell_type": "markdown",
   "metadata": {},
   "source": [
    "### Multiple return values\n",
    "Assume that we want to return two values for `c`, one exact and one rounded to two decimal places"
   ]
  },
  {
   "cell_type": "code",
   "execution_count": null,
   "metadata": {},
   "outputs": [],
   "source": [
    "def pythagoras(a, b):\n",
    "    c = math.sqrt(a**2 + b**2)\n",
    "    precise = c\n",
    "    rounded = int(c * 100) / 100\n",
    "    return precise, rounded\n"
   ]
  },
  {
   "cell_type": "code",
   "execution_count": null,
   "metadata": {},
   "outputs": [],
   "source": [
    "result = pythagoras(1, 2)\n",
    "print(result)\n",
    "print(type(result))\n"
   ]
  },
  {
   "cell_type": "code",
   "execution_count": null,
   "metadata": {},
   "outputs": [],
   "source": [
    "# Python allows \"unpacking\" the return value:\n",
    "c1, c2 = pythagoras(10, 20)\n",
    "print(c1)\n",
    "print(c2)\n"
   ]
  },
  {
   "cell_type": "code",
   "execution_count": null,
   "metadata": {},
   "outputs": [],
   "source": [
    "# Alternatively, return a dictionary:\n",
    "def pythagoras(a, b):\n",
    "    c = math.sqrt(a**2 + b**2)\n",
    "    precise = c\n",
    "    rounded = int(c * 100) / 100\n",
    "    return {\"precise\": precise, \"rounded\": rounded}  # return a dict, not a tuple"
   ]
  },
  {
   "cell_type": "code",
   "execution_count": null,
   "metadata": {},
   "outputs": [],
   "source": [
    "result = pythagoras(1, 2)\n",
    "print(\"precise: \", result.get(\"precise\", None))\n",
    "print(\"rounded: \", result.get(\"rounded\", None))\n",
    "print(\"sth else:\", result.get(\"sth else\"))"
   ]
  },
  {
   "cell_type": "code",
   "execution_count": null,
   "metadata": {},
   "outputs": [],
   "source": [
    "# or same, but following \"fail early\"\n",
    "result = pythagoras(1, 2)\n",
    "print(\"precise: \", result[\"precise\"])\n",
    "print(\"rounded: \", result[\"rounded\"])\n",
    "print(\"sth else:\", result[\"sth else\"])  # raises KeyError"
   ]
  }
 ],
 "metadata": {
  "kernelspec": {
   "display_name": "Python 3",
   "language": "python",
   "name": "python3"
  },
  "language_info": {
   "codemirror_mode": {
    "name": "ipython",
    "version": 3
   },
   "file_extension": ".py",
   "mimetype": "text/x-python",
   "name": "python",
   "nbconvert_exporter": "python",
   "pygments_lexer": "ipython3",
   "version": "3.11.8"
  }
 },
 "nbformat": 4,
 "nbformat_minor": 4
}
