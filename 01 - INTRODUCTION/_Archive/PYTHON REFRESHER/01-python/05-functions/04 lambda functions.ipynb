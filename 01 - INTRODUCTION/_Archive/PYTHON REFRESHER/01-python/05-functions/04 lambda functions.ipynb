{
 "cells": [
  {
   "cell_type": "markdown",
   "metadata": {},
   "source": [
    "# Lambda functions"
   ]
  },
  {
   "cell_type": "markdown",
   "metadata": {},
   "source": [
    "Properties:\n",
    "\n",
    "- have no name\n",
    "- are limited to one expression\n",
    "\n",
    "In practice wide-spread use for short fucntions\n",
    "\n",
    "Particularly useful as _predicates_, i.e. boolean-valued functions passed to some higher-order function such as `filter()`.\n"
   ]
  },
  {
   "cell_type": "markdown",
   "metadata": {},
   "source": [
    "## Examples"
   ]
  },
  {
   "cell_type": "markdown",
   "metadata": {},
   "source": [
    "### `is_even` (regular use)"
   ]
  },
  {
   "cell_type": "code",
   "execution_count": null,
   "metadata": {},
   "outputs": [],
   "source": [
    "is_even = lambda x: x % 2 == 0\n"
   ]
  },
  {
   "cell_type": "code",
   "execution_count": null,
   "metadata": {},
   "outputs": [],
   "source": [
    "print(is_even(2))\n",
    "print(is_even(3))\n"
   ]
  },
  {
   "cell_type": "markdown",
   "metadata": {},
   "source": [
    "### `is_even` (predicate use)"
   ]
  },
  {
   "cell_type": "code",
   "execution_count": null,
   "metadata": {},
   "outputs": [],
   "source": [
    "xs = [1, 2, 3, 4, 5, 6]\n",
    "even_numbers = filter(is_even, xs)\n",
    "list(even_numbers)\n"
   ]
  },
  {
   "cell_type": "markdown",
   "metadata": {},
   "source": [
    "### `add`"
   ]
  },
  {
   "cell_type": "code",
   "execution_count": null,
   "metadata": {},
   "outputs": [],
   "source": [
    "add = lambda x, y: x + y\n",
    "add(3, 4)\n"
   ]
  },
  {
   "cell_type": "code",
   "execution_count": null,
   "metadata": {},
   "outputs": [],
   "source": [
    "# or \"curried\" use\n",
    "(lambda x, y: x + y)(3, 4)\n"
   ]
  },
  {
   "cell_type": "markdown",
   "metadata": {},
   "source": [
    "### Note\n",
    "\n",
    "The answer to whether or not lambdas should be assigned to vars depends a lot on who you ask. It's religion, pick your own.\n",
    "\n",
    "Pros (for assigning lambdas to vars):\n",
    "\n",
    "- improved readability\n",
    "- good for code re-use, especially in simple cases\n",
    "\n",
    "Cons:\n",
    "\n",
    "- improved readability when using named functions instead\n",
    "- PEP 8 suggests using a def statement instead\n",
    "\n",
    "\n",
    "\n",
    "Recommendation:\n",
    "- Ok to use lambdas for simple tasks, e.g. predicates for filtering a list\n",
    "- Not ok for complex tasks, e.g. computing the convex polygon of a set of 2d points\n"
   ]
  }
 ],
 "metadata": {
  "kernelspec": {
   "display_name": "Python 3",
   "language": "python",
   "name": "python3"
  },
  "language_info": {
   "codemirror_mode": {
    "name": "ipython",
    "version": 3
   },
   "file_extension": ".py",
   "mimetype": "text/x-python",
   "name": "python",
   "nbconvert_exporter": "python",
   "pygments_lexer": "ipython3",
   "version": "3.10.6"
  }
 },
 "nbformat": 4,
 "nbformat_minor": 4
}
