{
 "cells": [
  {
   "cell_type": "markdown",
   "metadata": {},
   "source": [
    "# Python Decorators\n",
    "\n",
    "### Why decorators?\n",
    "\n",
    "Decorators are a flexible means to **extend the functionality of a callable** (function,\n",
    "method, or class). Useful e.g. for logging, access control, memoization, and performance\n",
    "measurement\n",
    "\n",
    "Allows to adhere to **best practices** such as modularity and separation of concerns by allowing\n",
    "functionality to be added to existing code in a clean, efficient, and reusable manner.\n",
    "\n",
    "This is achieved **without the need for inheritance or modifying the original callables**'s\n",
    "code, thus keeping the code [DRY](https://en.wikipedia.org/wiki/Don%27t_repeat_yourself)\n",
    "(Don't Repeat Yourself) and adhering to the [open/closed\n",
    "principle](https://www.pythontutorial.net/python-oop/python-open-closed-principle/).\n",
    "\n",
    "$f(\\cdot) \\mapsto F(f(\\cdot))$: Think of decorators of as **functions that take another\n",
    "function** as an argument and return a new function, thereby wrapping the original\n",
    "function in order to provide additional functionality.\n",
    "\n",
    "### Example: Measuring Function Execution Time\n",
    "\n",
    "Say we want to measure the execution time of any function which we choose to decorate.\n",
    "\n",
    "The example below illustrates the elegance and power of decorators in adding\n",
    "functionality (in this case, performance measurement) in a modular and non-intrusive\n",
    "manner. Decorators are a testament to Python's commitment to clean, readable, and\n",
    "expressive code.\n"
   ]
  },
  {
   "cell_type": "code",
   "execution_count": null,
   "metadata": {},
   "outputs": [],
   "source": [
    "import time\n",
    "\n",
    "def timeit_decorator(func):\n",
    "    def wrapper(*args, **kwargs):\n",
    "        start_time = time.time()\n",
    "        result = func(*args, **kwargs)\n",
    "        end_time = time.time()\n",
    "        running_time = end_time - start_time\n",
    "        return (running_time, result)\n",
    "\n",
    "    return wrapper"
   ]
  },
  {
   "cell_type": "code",
   "execution_count": null,
   "metadata": {},
   "outputs": [],
   "source": [
    "@timeit_decorator\n",
    "def sample_function(n):\n",
    "    \"\"\"Function to sum the first n natural numbers.\"\"\"\n",
    "    return sum(range(1, n + 1))\n",
    "\n",
    "running_time, result = sample_function(1000000)\n",
    "print(f\"Running time: {running_time*1000:.3f} ms, Result: {result}\")\n"
   ]
  },
  {
   "cell_type": "markdown",
   "metadata": {},
   "source": [
    "### Example: Standard library's `dataclass`\n",
    "\n",
    "Decorator applied to class that generates common special methods (`__init__`, `__repr__`, `__eq__`, etc)\n",
    "\n",
    "Helps to write cleaner, more concise code by eliminating the need to write code that\n",
    "e.g. initializes or compares instances of a class"
   ]
  },
  {
   "cell_type": "code",
   "execution_count": null,
   "metadata": {},
   "outputs": [],
   "source": [
    "from dataclasses import dataclass\n",
    "\n",
    "@dataclass(frozen=True)\n",
    "class Person:\n",
    "    name: str\n",
    "    age: int\n",
    "\n",
    "# Creating an instance of Person\n",
    "person1 = Person(\"John Doe\", 30)\n",
    "\n",
    "# The __repr__ method is automatically generated, so this will print a nicely formatted\n",
    "# representation of the object\n",
    "print(person1)\n",
    "\n",
    "# Comparison is automatically handled\n",
    "person2 = Person(\"Jane Doe\", 29)\n",
    "person3 = Person(\"John Doe\", 30)\n",
    "print(\"person1 == person2:\", person1 == person2)\n",
    "print(\"person1 == person3:\", person1 == person3)\n",
    "\n",
    "# Accessing attributes\n",
    "print(f\"{person1.name} is {person1.age} yo\")"
   ]
  },
  {
   "cell_type": "markdown",
   "metadata": {},
   "source": [
    "### Example: Standard library's `partial`\n",
    "\n",
    "Decorator applied to functions used to create *partial* functions. \n",
    "\n",
    "Partial functions allow pre-setting some of the arguments of the original function and generate a new function with those arguments already filled in.\n"
   ]
  },
  {
   "cell_type": "code",
   "execution_count": null,
   "metadata": {},
   "outputs": [],
   "source": [
    "from functools import partial\n",
    "\n",
    "\n",
    "def multiply(x, y, z):\n",
    "    return f\"{x} * {y} * {z} = {x * y * z}\"\n",
    "\n",
    "\n",
    "# Another form of using a decorator (no '@')\n",
    "two_times = partial(multiply, 2)\n",
    "print(\"times_two(3, 4):  \", two_times(3, 4))\n",
    "\n",
    "# Bind arbitrary arguments using keyword arguments\n",
    "two_times_six = partial(multiply, 2, z=6)\n",
    "print(\"two_times_five(3):\", two_times_six(3))"
   ]
  },
  {
   "cell_type": "markdown",
   "metadata": {},
   "source": [
    "### Example: Third-party library `tenacity`\n",
    "\n",
    "Consider a scenario where we're making requests to a **remote, failure-prone service**\n",
    "\n",
    "`tenacity` enables the application to withstand and recover from temporary issues $\\Rightarrow$ more resilient applications and **much improved user experience**"
   ]
  },
  {
   "cell_type": "code",
   "execution_count": null,
   "metadata": {},
   "outputs": [],
   "source": [
    "class UnstableRequestsSimulator:\n",
    "    def __init__(self, succeed_at_attempt):\n",
    "        self._succeed_at_attempt = succeed_at_attempt\n",
    "        self._attempt = 0\n",
    "\n",
    "    def __call__(self):\n",
    "        self._attempt += 1\n",
    "        if self._succeed_at_attempt is None or self._attempt < self._succeed_at_attempt:\n",
    "            raise Exception(\"Request failed due to unstable network connection\")\n",
    "\n",
    "        self._attempt = 0\n",
    "        return \"Success!\"\n",
    "\n",
    "make_request_3 = UnstableRequestsSimulator(succeed_at_attempt=3)\n",
    "\n",
    "for i in range(10):\n",
    "    try:\n",
    "        make_request_3()\n",
    "        print(f\"Attempt {i + 1}: OK\")\n",
    "    except:\n",
    "        print(f\"Attempt {i + 1}: Failed\")\n"
   ]
  },
  {
   "cell_type": "code",
   "execution_count": null,
   "metadata": {},
   "outputs": [],
   "source": [
    "from tenacity import retry, stop_after_attempt, wait_fixed\n",
    "\n",
    "make_request_3 = UnstableRequestsSimulator(succeed_at_attempt=3)\n",
    "\n",
    "@retry(stop=stop_after_attempt(5), wait=wait_fixed(1))\n",
    "def make_request_with_retry():\n",
    "    print(\"Making request...\")\n",
    "    return make_request_3()\n",
    "\n",
    "result = make_request_with_retry()\n",
    "print(result)"
   ]
  },
  {
   "cell_type": "markdown",
   "metadata": {},
   "source": [
    "`tenacity` is highly configurable, worth having a look at the [docs](https://tenacity.readthedocs.io/en/latest/)"
   ]
  }
 ],
 "metadata": {
  "kernelspec": {
   "display_name": "ml3",
   "language": "python",
   "name": "python3"
  },
  "language_info": {
   "codemirror_mode": {
    "name": "ipython",
    "version": 3
   },
   "file_extension": ".py",
   "mimetype": "text/x-python",
   "name": "python",
   "nbconvert_exporter": "python",
   "pygments_lexer": "ipython3",
   "version": "3.11.8"
  }
 },
 "nbformat": 4,
 "nbformat_minor": 2
}
