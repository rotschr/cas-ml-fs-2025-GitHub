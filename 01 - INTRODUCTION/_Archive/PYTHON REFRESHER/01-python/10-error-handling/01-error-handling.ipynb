{
  "cells": [
    {
      "cell_type": "markdown",
      "metadata": {},
      "source": [
        "# Error Management"
      ]
    },
    {
      "cell_type": "markdown",
      "metadata": {},
      "source": [
        "### Murphy's Law\n",
        "\n",
        "> Whatever can go wrong, will go wrong\n",
        "\n",
        "### Python's Philopsophy\n",
        "\n",
        "> It's easier to ask for forgiveness than permission.\n",
        "\n",
        "Instead of trying to fence for all possible edge cases, we do what we do and handle\n",
        "errors as they occur. \n",
        "\n",
        "Even the std lib uses errors to communicate state, e.g. `StopIteration`\n",
        "\n",
        "\n",
        "\n",
        "\n"
      ]
    },
    {
      "cell_type": "markdown",
      "metadata": {},
      "source": [
        "### Catching errors"
      ]
    },
    {
      "cell_type": "code",
      "execution_count": null,
      "metadata": {},
      "outputs": [],
      "source": [
        "def read_number(file):\n",
        "    # What we want:             # What may go wrong:\n",
        "    data = open(file).read()    # file inaccessible\n",
        "    number = int(data)          # string may not be a number\n",
        "    return number\n"
      ]
    },
    {
      "cell_type": "code",
      "execution_count": null,
      "metadata": {},
      "outputs": [],
      "source": [
        "number = read_number(\"not_there.txt\")"
      ]
    },
    {
      "cell_type": "code",
      "execution_count": null,
      "metadata": {},
      "outputs": [],
      "source": [
        "# Preparing for potentially missing files\n",
        "try:\n",
        "    number = read_number(\"does-not-exist.txt\")\n",
        "    print(number)\n",
        "except FileNotFoundError as ex:\n",
        "    print(ex)\n"
      ]
    },
    {
      "cell_type": "code",
      "execution_count": null,
      "metadata": {},
      "outputs": [],
      "source": [
        "# More trouble ahead\n",
        "try:\n",
        "    number = read_number(\"data_1.txt\")\n",
        "    print(number)\n",
        "except FileNotFoundError as ex:\n",
        "    print(ex)\n"
      ]
    },
    {
      "cell_type": "code",
      "execution_count": null,
      "metadata": {},
      "outputs": [],
      "source": [
        "# Add handling of bad values\n",
        "try:\n",
        "    number = read_number(\"data_1.txt\")\n",
        "    print(number)\n",
        "except FileNotFoundError as ex:\n",
        "    print(ex)\n",
        "except ValueError as ex:\n",
        "    print(ex)\n"
      ]
    },
    {
      "cell_type": "code",
      "execution_count": null,
      "metadata": {},
      "outputs": [],
      "source": [
        "try:\n",
        "    number = read_number(\"data_2.txt\")\n",
        "    print(number)\n",
        "except FileNotFoundError as ex:\n",
        "    print(ex)\n",
        "except ValueError as ex:\n",
        "    print(ex)"
      ]
    },
    {
      "cell_type": "markdown",
      "metadata": {},
      "source": [
        "### Example\n",
        "\n",
        "`dict` keys may or may not exist\n"
      ]
    },
    {
      "cell_type": "code",
      "execution_count": null,
      "metadata": {},
      "outputs": [],
      "source": [
        "beverage = {\"category\": \"whiskey\", \"brand\": \"glenfiddich\"}\n"
      ]
    },
    {
      "cell_type": "code",
      "execution_count": null,
      "metadata": {},
      "outputs": [],
      "source": [
        "beverage[\"brand\"]\n"
      ]
    },
    {
      "cell_type": "code",
      "execution_count": null,
      "metadata": {},
      "outputs": [],
      "source": [
        "beverage[\"price\"]\n"
      ]
    },
    {
      "cell_type": "markdown",
      "metadata": {},
      "source": [
        "### DON'T"
      ]
    },
    {
      "cell_type": "code",
      "execution_count": null,
      "metadata": {},
      "outputs": [],
      "source": [
        "if \"price\" in beverage:\n",
        "    print(beverage[\"price\"])\n",
        "else:\n",
        "    print(f\"No key named 'price'\")\n"
      ]
    },
    {
      "cell_type": "markdown",
      "metadata": {},
      "source": [
        "### DO"
      ]
    },
    {
      "cell_type": "code",
      "execution_count": null,
      "metadata": {},
      "outputs": [],
      "source": [
        "try:\n",
        "    print(beverage['price'])\n",
        "except KeyError:\n",
        "    print(f\"No key named 'price'\")\n"
      ]
    },
    {
      "cell_type": "markdown",
      "metadata": {},
      "source": [
        "Or in this specific case of `dict`, more consisely:"
      ]
    },
    {
      "cell_type": "code",
      "execution_count": null,
      "metadata": {},
      "outputs": [],
      "source": [
        "print(beverage.get('price'))\n"
      ]
    },
    {
      "cell_type": "code",
      "execution_count": null,
      "metadata": {},
      "outputs": [],
      "source": [
        "print(beverage.get(\"price\", \"No key named 'price'\"))\n"
      ]
    },
    {
      "cell_type": "markdown",
      "metadata": {},
      "source": [
        "### Example"
      ]
    },
    {
      "cell_type": "markdown",
      "metadata": {},
      "source": [
        "List element may or may not exist"
      ]
    },
    {
      "cell_type": "code",
      "execution_count": null,
      "metadata": {},
      "outputs": [],
      "source": [
        "def print_index(students, query):\n",
        "    try:\n",
        "        ix = students.index(query)\n",
        "        print(f\"Student '{query}' found at index {ix}\")\n",
        "    except ValueError:\n",
        "        print(f\"No such student '{query}'\")\n",
        "\n",
        "students = [\"Bob\", \"Grace\", \"Alice\", \"Eve\"]\n",
        "print_index(students, \"Grace\")\n",
        "print_index(students, \"Scooby Doo\")\n"
      ]
    }
  ],
  "metadata": {
    "kernelspec": {
      "display_name": "Python 3",
      "language": "python",
      "name": "python3"
    },
    "language_info": {
      "codemirror_mode": {
        "name": "ipython",
        "version": 3
      },
      "file_extension": ".py",
      "mimetype": "text/x-python",
      "name": "python",
      "nbconvert_exporter": "python",
      "pygments_lexer": "ipython3",
      "version": "3.11.8"
    }
  },
  "nbformat": 4,
  "nbformat_minor": 4
}
