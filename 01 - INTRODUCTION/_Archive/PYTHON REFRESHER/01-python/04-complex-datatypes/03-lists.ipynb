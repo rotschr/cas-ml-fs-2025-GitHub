{
 "cells": [
  {
   "cell_type": "markdown",
   "metadata": {},
   "source": [
    "# Lists"
   ]
  },
  {
   "cell_type": "markdown",
   "metadata": {},
   "source": [
    "Lists are collections with two key properties:\n",
    "* **ordered**: Lists are indexable, i.e., elements have a fixed order\n",
    "* **mutable**: Lists can be modified (add, remove) as well as elements itself can be modified\n",
    "\n",
    "List elements can have any type, e.g., `string`, `float`, `list`, ... and can be mixed freely\n",
    "\n",
    "Key property: Lists provide random access to elements (via an index)"
   ]
  },
  {
   "cell_type": "markdown",
   "metadata": {},
   "source": [
    "### Lists are collections"
   ]
  },
  {
   "cell_type": "code",
   "execution_count": null,
   "metadata": {},
   "outputs": [],
   "source": [
    "xs = [\"Alice\", \"Bob\", \"Eve\"]\n"
   ]
  },
  {
   "cell_type": "code",
   "execution_count": null,
   "metadata": {},
   "outputs": [],
   "source": [
    "type(xs)\n"
   ]
  },
  {
   "cell_type": "code",
   "execution_count": null,
   "metadata": {},
   "outputs": [],
   "source": [
    "print(xs)\n"
   ]
  },
  {
   "cell_type": "code",
   "execution_count": null,
   "metadata": {},
   "outputs": [],
   "source": [
    "xs[0]\n"
   ]
  },
  {
   "cell_type": "code",
   "execution_count": null,
   "metadata": {},
   "outputs": [],
   "source": [
    "xs[:2]\n"
   ]
  },
  {
   "cell_type": "code",
   "execution_count": null,
   "metadata": {},
   "outputs": [],
   "source": [
    "xs[-1]\n"
   ]
  },
  {
   "cell_type": "code",
   "execution_count": null,
   "metadata": {},
   "outputs": [],
   "source": [
    "xs.index(\"Bob\")\n"
   ]
  },
  {
   "cell_type": "code",
   "execution_count": null,
   "metadata": {},
   "outputs": [],
   "source": [
    "xs = [\"Alice\", \"Bob\", \"Eve\", \"Bob\"]\n",
    "xs.count(\"Bob\")\n"
   ]
  },
  {
   "cell_type": "markdown",
   "metadata": {},
   "source": [
    "### Idiomatic looping\n",
    "Looping through a collection with or without index"
   ]
  },
  {
   "cell_type": "code",
   "execution_count": null,
   "metadata": {},
   "outputs": [],
   "source": [
    "xs = (8, 9, \"ab\")\n"
   ]
  },
  {
   "cell_type": "markdown",
   "metadata": {},
   "source": [
    "##### DON'T"
   ]
  },
  {
   "cell_type": "code",
   "execution_count": null,
   "metadata": {},
   "outputs": [],
   "source": [
    "for i in range(len(xs)):\n",
    "    print(xs[i], end=\" \")\n"
   ]
  },
  {
   "cell_type": "markdown",
   "metadata": {},
   "source": [
    "##### DO"
   ]
  },
  {
   "cell_type": "markdown",
   "metadata": {},
   "source": [
    "Looping through items"
   ]
  },
  {
   "cell_type": "code",
   "execution_count": null,
   "metadata": {},
   "outputs": [],
   "source": [
    "for x in xs:\n",
    "    print(x, end=\" \")\n"
   ]
  },
  {
   "cell_type": "markdown",
   "metadata": {},
   "source": [
    "Looping through items with index"
   ]
  },
  {
   "cell_type": "code",
   "execution_count": null,
   "metadata": {},
   "outputs": [],
   "source": [
    "for ix, x in enumerate(xs):\n",
    "    print(f\"{ix}: {x}\")\n"
   ]
  },
  {
   "cell_type": "markdown",
   "metadata": {},
   "source": [
    "### `in` opereator"
   ]
  },
  {
   "cell_type": "markdown",
   "metadata": {},
   "source": [
    "Pythonic way to test for membership\n",
    "\n",
    "Really just syntactic sugar for `__contains__()`"
   ]
  },
  {
   "cell_type": "code",
   "execution_count": null,
   "metadata": {},
   "outputs": [],
   "source": [
    "xs = [\"Alice\", \"Bob\", \"Eve\"]\n",
    "'Bob' in xs\n"
   ]
  },
  {
   "cell_type": "code",
   "execution_count": null,
   "metadata": {},
   "outputs": [],
   "source": [
    "# careful: using`in` is not comparing recursively\n",
    "xs = [\"Alice\", \"Bob\", \"Eve\"]\n",
    "print([\"Alice\", \"Bob\"] in xs)\n",
    "print([\"Alice\", \"Bob\"] in [\"Alice\", \"Bob\", \"Eve\"])\n"
   ]
  },
  {
   "cell_type": "code",
   "execution_count": null,
   "metadata": {},
   "outputs": [],
   "source": [
    "\"Grace\" not in xs\n"
   ]
  },
  {
   "cell_type": "markdown",
   "metadata": {},
   "source": [
    "### Adding elements"
   ]
  },
  {
   "cell_type": "code",
   "execution_count": null,
   "metadata": {},
   "outputs": [],
   "source": [
    "xs = [\"Alice\", \"Bob\", \"Eve\"]\n",
    "print(id(xs))\n",
    "xs += [\"Grace\"]\n",
    "print(id(xs))\n",
    "xs\n"
   ]
  },
  {
   "cell_type": "code",
   "execution_count": null,
   "metadata": {},
   "outputs": [],
   "source": [
    "xs = [\"Alice\", \"Bob\", \"Eve\"]\n",
    "xs.append(\"Grace\")\n",
    "xs\n"
   ]
  },
  {
   "cell_type": "code",
   "execution_count": null,
   "metadata": {},
   "outputs": [],
   "source": [
    "xs = [\"Alice\", \"Bob\", \"Eve\"]\n",
    "xs.append([\"Heidi\", \"Judy\"])\n",
    "xs\n"
   ]
  },
  {
   "cell_type": "code",
   "execution_count": null,
   "metadata": {},
   "outputs": [],
   "source": [
    "# `append()` vs. `extend()`\n",
    "xs = [\"Alice\", \"Bob\", \"Eve\"]\n",
    "xs.extend([\"Heidi\", \"Judy\"])\n",
    "xs\n"
   ]
  },
  {
   "cell_type": "code",
   "execution_count": null,
   "metadata": {},
   "outputs": [],
   "source": [
    "xs = [\"Alice\", \"Bob\", \"Eve\"]\n",
    "xs.insert(2, \"Grace\")\n",
    "xs\n"
   ]
  },
  {
   "cell_type": "markdown",
   "metadata": {},
   "source": [
    "### Removing elements"
   ]
  },
  {
   "cell_type": "code",
   "execution_count": null,
   "metadata": {},
   "outputs": [],
   "source": [
    "xs = [\"Alice\", \"Bob\", \"Eve\"]\n",
    "xs.remove('Bob')\n",
    "xs\n"
   ]
  },
  {
   "cell_type": "code",
   "execution_count": null,
   "metadata": {},
   "outputs": [],
   "source": [
    "def v1():\n",
    "    xs = [\"Alice\", \"Bob\", \"Eve\"]\n",
    "    xs.remove('Bob')\n",
    "\n",
    "def v2():\n",
    "    xs = [\"Alice\", \"Bob\", \"Eve\"]\n",
    "    del xs[1]\n",
    "\n",
    "\n",
    "%timeit v2()\n"
   ]
  },
  {
   "cell_type": "code",
   "execution_count": null,
   "metadata": {},
   "outputs": [],
   "source": [
    "xs = [\"Alice\", \"Bob\", \"Eve\"]\n",
    "del xs[1]\n",
    "xs\n"
   ]
  },
  {
   "cell_type": "code",
   "execution_count": null,
   "metadata": {},
   "outputs": [],
   "source": [
    "xs.clear()\n",
    "xs\n"
   ]
  },
  {
   "cell_type": "markdown",
   "metadata": {},
   "source": [
    "### Replacing elements"
   ]
  },
  {
   "cell_type": "code",
   "execution_count": null,
   "metadata": {},
   "outputs": [],
   "source": [
    "xs = [\"Alice\", \"Bob\", \"Eve\"]\n",
    "xs[2] = \"Grace\"\n",
    "xs\n"
   ]
  },
  {
   "cell_type": "markdown",
   "metadata": {},
   "source": [
    "### Using lists as stacks"
   ]
  },
  {
   "cell_type": "code",
   "execution_count": null,
   "metadata": {},
   "outputs": [],
   "source": [
    "xs = [\"Alice\", \"Bob\", \"Eve\"]\n",
    "xs.pop()\n",
    "print(xs)\n",
    "\n",
    "xs.pop()\n",
    "print(xs)\n",
    "\n",
    "xs.pop()\n",
    "print(xs)\n"
   ]
  },
  {
   "cell_type": "markdown",
   "metadata": {},
   "source": [
    "### Support for `min()` and `max()`"
   ]
  },
  {
   "cell_type": "code",
   "execution_count": null,
   "metadata": {},
   "outputs": [],
   "source": [
    "xs = [11, -42, 36, 0]\n",
    "print(\"xs extrema:\", min(xs), \",\", max(xs))\n"
   ]
  },
  {
   "cell_type": "code",
   "execution_count": null,
   "metadata": {},
   "outputs": [],
   "source": [
    "xs = [\"Bob\", \"Grace\", \"Alice\", \"Eve\"]\n",
    "print(\"ys extrema:\", min(xs), \",\", max(xs))\n"
   ]
  },
  {
   "cell_type": "markdown",
   "metadata": {},
   "source": [
    "### Sorting lists: `sorted()` vs. `sort()`"
   ]
  },
  {
   "cell_type": "code",
   "execution_count": null,
   "metadata": {},
   "outputs": [],
   "source": [
    "# Copies the list\n",
    "xs = [\"Bob\", \"Grace\", \"Alice\", \"Eve\"]\n",
    "xs_sorted = sorted(xs)\n",
    "print(\"xs:       \", xs)\n",
    "print(\"sorted:   \", xs_sorted)\n",
    "print(\"same list:\", xs is xs_sorted)\n"
   ]
  },
  {
   "cell_type": "code",
   "execution_count": null,
   "metadata": {},
   "outputs": [],
   "source": [
    "# Operates in-place\n",
    "xs = [\"Bob\", \"Grace\", \"Alice\", \"Eve\"]\n",
    "# xs_sorted = xs.sort()  # ! sort() returns None\n",
    "print(xs.sort(reverse=True))\n",
    "\n",
    "print(\"xs:     \", xs)\n",
    "print(\"sorted: \", xs_sorted)\n"
   ]
  },
  {
   "cell_type": "markdown",
   "metadata": {},
   "source": [
    "### Constructing `list`s"
   ]
  },
  {
   "cell_type": "code",
   "execution_count": null,
   "metadata": {},
   "outputs": [],
   "source": [
    "list([\"hello\"])\n"
   ]
  },
  {
   "cell_type": "code",
   "execution_count": null,
   "metadata": {},
   "outputs": [],
   "source": [
    "# List from genereator (see below)\n",
    "list(range(1, 5))\n"
   ]
  },
  {
   "cell_type": "code",
   "execution_count": null,
   "metadata": {},
   "outputs": [],
   "source": [
    "# `range` also knows from:to:step semantics, just like slicing\n",
    "list(range(2, 10, 3))\n"
   ]
  },
  {
   "cell_type": "code",
   "execution_count": null,
   "metadata": {},
   "outputs": [],
   "source": [
    "for i in range(2, 10, 3):\n",
    "    print(i)\n"
   ]
  },
  {
   "cell_type": "markdown",
   "metadata": {},
   "source": [
    "### Copying lists\n",
    "\n",
    "Always double-check whether the copy is shallow or deep.\n",
    "\n",
    "##### Shallow copies\n",
    "A shallow copy creates a new list containing references to the same elements held by the original list. For example:\n",
    "\n",
    "```python\n",
    "xs1 = [\"Bob\", \"Alice\"]\n",
    "\n",
    "xs2 = xs1.copy()  # using copy() method\n",
    "\n",
    "# or\n",
    "xs2 = list(xs1)  # using list() method\n",
    "\n",
    "# or\n",
    "xs2 = xs1[:]  # using slicing\n",
    "```\n",
    "\n",
    "##### Deep copies\n",
    "A deep copy creates a new list and recursively adds copies of the elements of the original list to it. \n",
    "\n",
    "Therefore, changes to the original list will not affect the copied list and vice versa. For example:\n",
    "\n",
    "```python\n",
    "import copy\n",
    "xs1 = [\"Bob\", \"Alice\"]\n",
    "xs3 = copy.deepcopy(xs1)\n",
    "```"
   ]
  },
  {
   "cell_type": "markdown",
   "metadata": {},
   "source": [
    "##### Example: Mutability of `list` elements\n",
    "Difference shallow/deep copying becomes relevant when list holds **mutable objects** (e.g., list of lists)"
   ]
  },
  {
   "cell_type": "markdown",
   "metadata": {},
   "source": [
    "**Case 1**: List of **immutable** objects (e.g. strings) => no surprises\n"
   ]
  },
  {
   "cell_type": "code",
   "execution_count": null,
   "metadata": {},
   "outputs": [],
   "source": [
    "xs1 = [\"Bob\", \"Alice\"]\n",
    "print(\"xs1:\", xs1)\n",
    "\n",
    "xs2 = xs1[:]  # shallow\n",
    "print(\"xs2:\", xs2)\n",
    "\n",
    "print(\"Same elems (after copy):\", xs1 == xs2)\n",
    "print(\"Same list objs (after copy):\", xs1 is xs2)\n",
    "\n",
    "print(\"--- modifying xs2 => xs1 unaffected\")\n",
    "\n",
    "xs2[1] = \"Heidi\"\n",
    "print(\"xs1:\", xs1)\n",
    "print(\"xs2:\", xs2)\n"
   ]
  },
  {
   "cell_type": "markdown",
   "metadata": {},
   "source": [
    "**Case 2**: List of **mutable** objects (e.g. lists) => careful!"
   ]
  },
  {
   "cell_type": "code",
   "execution_count": null,
   "metadata": {},
   "outputs": [],
   "source": [
    "xs1 = [\"Eve\", [\"Bob\", \"Grace\"]]\n",
    "print(\"xs1:\", xs1)\n",
    "\n",
    "xs2 = xs1[:]  # shallow\n",
    "print(\"xs2:\", xs2)\n",
    "\n",
    "print(\"Same elems (after copy):\", xs1 == xs2)\n",
    "\n",
    "print(\"--- modifying element in xs2 => xs1 affected (!)\")\n",
    "\n",
    "xs2[1][0] = \"John\"\n",
    "print(\"xs1:\", xs1)\n",
    "print(\"xs2:\", xs2)\n"
   ]
  }
 ],
 "metadata": {
  "kernelspec": {
   "display_name": "Python 3",
   "language": "python",
   "name": "python3"
  },
  "language_info": {
   "codemirror_mode": {
    "name": "ipython",
    "version": 3
   },
   "file_extension": ".py",
   "mimetype": "text/x-python",
   "name": "python",
   "nbconvert_exporter": "python",
   "pygments_lexer": "ipython3",
   "version": "3.11.8"
  }
 },
 "nbformat": 4,
 "nbformat_minor": 4
}
