{
 "cells": [
  {
   "cell_type": "markdown",
   "metadata": {},
   "source": [
    "# Dicts"
   ]
  },
  {
   "cell_type": "markdown",
   "metadata": {},
   "source": [
    "Dictionaries are collections of **key-value pairs** providing efficient, direct asccess to values through a key\n",
    "\n",
    "Main properties:\n",
    "\n",
    "- **associative**: key-based access\n",
    "- **mutable**: add/remove operations on items are changing the dict instance\n",
    "- **unordered**: no logical order between items\n",
    "\n",
    "Constraints:\n",
    "\n",
    "- keys must be unique and hashable\n",
    "- values may be of arbitrary type\n",
    "\n",
    "Note: `dict` is insertion-ordered (Python 3.7+). But yet do not rely on this, use\n",
    "`collections.OrderedDict` instead"
   ]
  },
  {
   "cell_type": "markdown",
   "metadata": {},
   "source": [
    "### Basics"
   ]
  },
  {
   "cell_type": "code",
   "execution_count": null,
   "metadata": {},
   "outputs": [],
   "source": [
    "# {}: Creates a `dict` instance\n",
    "contact = {\"name\": \"Alice\", \"age\": 35, \"country\": \"Switzerland\"}\n",
    "print(contact)"
   ]
  },
  {
   "cell_type": "code",
   "execution_count": null,
   "metadata": {},
   "outputs": [],
   "source": [
    "contact[\"name\"]\n"
   ]
  },
  {
   "cell_type": "code",
   "execution_count": null,
   "metadata": {},
   "outputs": [],
   "source": [
    "contact[\"city\"]\n"
   ]
  },
  {
   "cell_type": "markdown",
   "metadata": {},
   "source": [
    "### Check if key is contained in the `dict`"
   ]
  },
  {
   "cell_type": "code",
   "execution_count": null,
   "metadata": {},
   "outputs": [],
   "source": [
    "\"name\" in contact\n"
   ]
  },
  {
   "cell_type": "code",
   "execution_count": null,
   "metadata": {},
   "outputs": [],
   "source": [
    "\"city\" in contact\n"
   ]
  },
  {
   "cell_type": "code",
   "execution_count": null,
   "metadata": {},
   "outputs": [],
   "source": [
    "# DON'T\n",
    "city = None\n",
    "if \"city\" in contact:\n",
    "    city = contact[\"city\"]\n",
    "print(city)"
   ]
  },
  {
   "cell_type": "code",
   "execution_count": null,
   "metadata": {},
   "outputs": [],
   "source": [
    "# DO\n",
    "print(contact.get(\"city\", None))\n"
   ]
  },
  {
   "cell_type": "markdown",
   "metadata": {},
   "source": [
    "Alternatively use error handling with `try/except` clause (see later)"
   ]
  },
  {
   "cell_type": "markdown",
   "metadata": {},
   "source": [
    "### Create-or-Update"
   ]
  },
  {
   "cell_type": "code",
   "execution_count": null,
   "metadata": {},
   "outputs": [],
   "source": [
    "ctc = contact.copy()\n",
    "\n",
    "ctc[\"age\"] = 30  # key exists => in-place update\n",
    "print(ctc)\n",
    "\n",
    "ctc[\"interests\"] = [\"Aviation\", \"Mountain biking\"]\n",
    "print(ctc)\n"
   ]
  },
  {
   "cell_type": "markdown",
   "metadata": {},
   "source": [
    "### Removing Keys"
   ]
  },
  {
   "cell_type": "code",
   "execution_count": null,
   "metadata": {},
   "outputs": [],
   "source": [
    "ctc = contact.copy()\n",
    "\n",
    "print(ctc)\n",
    "ctc.pop(\"age\")\n",
    "print(ctc)\n"
   ]
  },
  {
   "cell_type": "markdown",
   "metadata": {},
   "source": [
    "### Key set"
   ]
  },
  {
   "cell_type": "code",
   "execution_count": null,
   "metadata": {},
   "outputs": [],
   "source": [
    "print(contact)\n",
    "for k in contact:\n",
    "    print(k)\n"
   ]
  },
  {
   "cell_type": "code",
   "execution_count": null,
   "metadata": {},
   "outputs": [],
   "source": [
    "for k, v in contact.items():\n",
    "    print(f\"{k}: {v}\")\n"
   ]
  },
  {
   "cell_type": "markdown",
   "metadata": {},
   "source": [
    "### Dynamic Keys\n",
    "Keys don't need to be literals, may be generated at runtime"
   ]
  },
  {
   "cell_type": "code",
   "execution_count": null,
   "metadata": {},
   "outputs": [],
   "source": [
    "from faker import Faker  # for generating fake data\n",
    "import json  # for dict formatting\n",
    "\n",
    "fake = Faker(\"en_CA\")\n"
   ]
  },
  {
   "cell_type": "code",
   "execution_count": null,
   "metadata": {},
   "outputs": [],
   "source": [
    "people = {}\n",
    "for i in range(3):\n",
    "    people[f\"person_{i}\"] = {  # key is known at runtime only\n",
    "        \"first\": fake.first_name(),\n",
    "        \"last\": fake.last_name(),\n",
    "        \"city\": fake.city(),\n",
    "    }\n",
    "print(json.dumps(people, indent=2))\n"
   ]
  },
  {
   "cell_type": "code",
   "execution_count": null,
   "metadata": {},
   "outputs": [],
   "source": [
    "people[\"person_2\"]\n"
   ]
  }
 ],
 "metadata": {
  "kernelspec": {
   "display_name": "Python 3",
   "language": "python",
   "name": "python3"
  },
  "language_info": {
   "codemirror_mode": {
    "name": "ipython",
    "version": 3
   },
   "file_extension": ".py",
   "mimetype": "text/x-python",
   "name": "python",
   "nbconvert_exporter": "python",
   "pygments_lexer": "ipython3",
   "version": "3.11.8"
  }
 },
 "nbformat": 4,
 "nbformat_minor": 4
}
