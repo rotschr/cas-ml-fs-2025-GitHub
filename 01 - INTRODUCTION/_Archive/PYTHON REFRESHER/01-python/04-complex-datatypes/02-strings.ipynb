{
 "cells": [
  {
   "cell_type": "markdown",
   "metadata": {},
   "source": [
    "# Strings\n",
    "\n",
    "### Basics\n",
    "\n",
    "Strings are *immutable*: Once created, they cannot be changed\n",
    "\n",
    "Single and double quotes can be use interchangeably and can be mixed freely\n",
    "\n",
    "Caveat: It may appear as if strings were mutable. They're not. Failing to remember this may affect execution time and/or memory usage.\n",
    "\n"
   ]
  },
  {
   "cell_type": "code",
   "execution_count": null,
   "metadata": {},
   "outputs": [],
   "source": [
    "s1 = \"Hello World\"\n",
    "print(s1)\n",
    "print(type(s1))\n"
   ]
  },
  {
   "cell_type": "code",
   "execution_count": null,
   "metadata": {},
   "outputs": [],
   "source": [
    "print(\"A quoted string inside a string: 'hello'\")\n",
    "print('A quoted string inside a string: \\'hello\\'')\n"
   ]
  },
  {
   "cell_type": "markdown",
   "metadata": {},
   "source": [
    "### Simple `string` operations"
   ]
  },
  {
   "cell_type": "code",
   "execution_count": null,
   "metadata": {},
   "outputs": [],
   "source": [
    "# Comparison\n",
    "\"hello\" == 'hello'\n"
   ]
  },
  {
   "cell_type": "code",
   "execution_count": null,
   "metadata": {},
   "outputs": [],
   "source": [
    "# Concatenation\n",
    "\"abc\" + \"def\"\n"
   ]
  },
  {
   "cell_type": "code",
   "execution_count": null,
   "metadata": {},
   "outputs": [],
   "source": [
    "# 'Inplace' operator\n",
    "x = \"abc\"\n",
    "print(x)\n",
    "\n",
    "x += \"def\"\n",
    "print(x)\n"
   ]
  },
  {
   "cell_type": "code",
   "execution_count": null,
   "metadata": {},
   "outputs": [],
   "source": [
    "# But note, x points to a new str instance after the operation\n",
    "x = \"abc\"\n",
    "print(id(x))\n",
    "\n",
    "x += \"def\"\n",
    "print(id(x))\n"
   ]
  },
  {
   "cell_type": "code",
   "execution_count": null,
   "metadata": {},
   "outputs": [],
   "source": [
    "# Searching in strings\n",
    "\"l\" in \"hello\"\n"
   ]
  },
  {
   "cell_type": "code",
   "execution_count": null,
   "metadata": {},
   "outputs": [],
   "source": [
    "# Replacing parts\n",
    "s1 = \"Hello, World!\"\n",
    "s2 = s1.replace(\"Hello\", \"Good afternoon\")\n",
    "print(s1)\n",
    "print(s2)"
   ]
  },
  {
   "cell_type": "code",
   "execution_count": null,
   "metadata": {},
   "outputs": [],
   "source": [
    "# And again, id(s1) != id(s2)\n",
    "print(id(s1))\n",
    "print(id(s2))"
   ]
  }
 ],
 "metadata": {
  "kernelspec": {
   "display_name": "Python 3",
   "language": "python",
   "name": "python3"
  },
  "language_info": {
   "codemirror_mode": {
    "name": "ipython",
    "version": 3
   },
   "file_extension": ".py",
   "mimetype": "text/x-python",
   "name": "python",
   "nbconvert_exporter": "python",
   "pygments_lexer": "ipython3",
   "version": "3.11.8"
  }
 },
 "nbformat": 4,
 "nbformat_minor": 4
}
