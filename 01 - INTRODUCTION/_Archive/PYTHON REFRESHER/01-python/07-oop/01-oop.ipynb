{
 "cells": [
  {
   "cell_type": "markdown",
   "metadata": {},
   "source": [
    "# Object-oriented Programming in Python\n",
    "\n",
    "Purpose: Object-Oriented Programming (OOP) in Python revolves around creating reusable\n",
    "code through the use of classes and objects\n",
    "\n",
    "Basic concepts of Python OOP:\n",
    "\n",
    "- class definition\n",
    "- object instantiation\n",
    "- inheritance\n",
    "- polymorphism\n",
    "- encapsulation\n",
    "- abstraction\n"
   ]
  },
  {
   "cell_type": "markdown",
   "metadata": {},
   "source": [
    "### Class Definition\n",
    "\n",
    "A class is a blueprint for objects\n"
   ]
  },
  {
   "cell_type": "code",
   "execution_count": null,
   "metadata": {},
   "outputs": [],
   "source": [
    "class Dog:\n",
    "    # Class attribute\n",
    "    species = \"Canis lupus familiaris\"\n",
    "\n",
    "    # Constructor\n",
    "    def __init__(self, name, age):\n",
    "        # Instance attributes\n",
    "        self.name = name\n",
    "        self.age = age\n",
    "\n",
    "    # Instance method\n",
    "    def description(self):\n",
    "        return f\"{self.name} is a {self.age} years old dog\""
   ]
  },
  {
   "cell_type": "markdown",
   "metadata": {},
   "source": [
    "### Creating Objects\n",
    "\n",
    "Objects are instances of classes.\n"
   ]
  },
  {
   "cell_type": "code",
   "execution_count": null,
   "metadata": {},
   "outputs": [],
   "source": [
    "scooby = Dog(\"Scooby Doo\", 4)  # instance of class Dog\n",
    "bobby = Dog(\"Greyfriars Bobby\", 7)  # another instance of class Dog"
   ]
  },
  {
   "cell_type": "markdown",
   "metadata": {},
   "source": [
    "### Accessing Attributes and Methods\n"
   ]
  },
  {
   "cell_type": "code",
   "execution_count": null,
   "metadata": {},
   "outputs": [],
   "source": [
    "# Accessing attributes\n",
    "print(scooby.name, scooby.age, scooby.species)\n",
    "\n",
    "# Calling methods\n",
    "print(bobby.description())"
   ]
  },
  {
   "cell_type": "markdown",
   "metadata": {},
   "source": [
    "### Inheritance\n",
    "\n",
    "Inheritance allows new classes to inherit the properties and methods of existing classes\n"
   ]
  },
  {
   "cell_type": "code",
   "execution_count": null,
   "metadata": {},
   "outputs": [],
   "source": [
    "class Bulldog(Dog):  # Bulldog \"is a\" Dog\n",
    "    def run(self, speed):\n",
    "        return f\"{self.name} runs {speed}\""
   ]
  },
  {
   "cell_type": "markdown",
   "metadata": {},
   "source": [
    "### Polymorphism\n",
    "\n",
    "Polymorphism allows\n",
    "\n",
    "- for the use of a shared interface for different data types\n",
    "- for different classes to be used interchangeably based on a shared method or attribute\n"
   ]
  },
  {
   "cell_type": "code",
   "execution_count": null,
   "metadata": {},
   "outputs": [],
   "source": [
    "class Cat:\n",
    "    def __init__(self, name, age):\n",
    "        self.name = name\n",
    "        self.age = age\n",
    "\n",
    "    def description(self):\n",
    "        return f\"{self.name} is a {self.age} years old cat\""
   ]
  },
  {
   "cell_type": "code",
   "execution_count": null,
   "metadata": {},
   "outputs": [],
   "source": [
    "def describe_pet(pet):\n",
    "    # remember the \"duck test\"?\n",
    "    print(pet.description())\n",
    "\n",
    "\n",
    "describe_pet(Dog(\"Buddy\", 5))\n",
    "describe_pet(Cat(\"Garfield\", 7))"
   ]
  },
  {
   "cell_type": "markdown",
   "metadata": {},
   "source": [
    "> The above works, violates the DRY principle (Don't-Repeat-Yourself!)\n",
    ">\n",
    "> $\\rightarrow$ use inheritance\n"
   ]
  },
  {
   "cell_type": "code",
   "execution_count": null,
   "metadata": {},
   "outputs": [],
   "source": [
    "class Pet:\n",
    "    def __init__(self, name, age):\n",
    "        self.name = name\n",
    "        self.age = age\n",
    "\n",
    "    def description(self):\n",
    "        return f\"{self.name} is a {self.age} years old pet\""
   ]
  },
  {
   "cell_type": "code",
   "execution_count": null,
   "metadata": {},
   "outputs": [],
   "source": [
    "# Re-define Dog and Cat classes to make them inherit from Pet => DRY\n",
    "\n",
    "\n",
    "class Dog(Pet):\n",
    "    pass\n",
    "\n",
    "\n",
    "class Cat(Pet):\n",
    "    pass"
   ]
  },
  {
   "cell_type": "code",
   "execution_count": null,
   "metadata": {},
   "outputs": [],
   "source": [
    "describe_pet(Dog(\"Buddy\", 5))\n",
    "describe_pet(Cat(\"Garfield\", 7))"
   ]
  },
  {
   "cell_type": "markdown",
   "metadata": {},
   "source": [
    "### Abstraction\n",
    "\n",
    "Abstraction involves hiding the complex implementation away from the user and exposing only what is necessary.\n"
   ]
  },
  {
   "cell_type": "code",
   "execution_count": null,
   "metadata": {},
   "outputs": [],
   "source": [
    "from abc import ABC, abstractmethod\n",
    "\n",
    "\n",
    "class Pet(ABC):\n",
    "    def __init__(self, name, age):  # same as before\n",
    "        self.name = name\n",
    "        self.age = age\n",
    "\n",
    "    def description(self):  # same as before\n",
    "        return f\"{self.name} is a {self.age} years old pet\"\n",
    "\n",
    "    @abstractmethod\n",
    "    def make_sound(self):  # new: abstract method\n",
    "        ...\n",
    "\n",
    "    def long_description(self):\n",
    "        return f\"{self.description()} and says {self.make_sound()}\"  # new: use of abstract method"
   ]
  },
  {
   "cell_type": "code",
   "execution_count": null,
   "metadata": {},
   "outputs": [],
   "source": [
    "# Can't instantiate Pet because it contains an abstract method\n",
    "pet = Pet(\"pet\", 3)\n"
   ]
  },
  {
   "cell_type": "code",
   "execution_count": null,
   "metadata": {},
   "outputs": [],
   "source": [
    "# Inheriting from Pet requires to implement all abstract methods\n",
    "\n",
    "\n",
    "class Dog(Pet):\n",
    "    def make_sound(self):  # mandatory to implement\n",
    "        return \"Woof\"\n",
    "\n",
    "\n",
    "class Cat(Pet):\n",
    "    def make_sound(self):\n",
    "        return \"Meow\""
   ]
  },
  {
   "cell_type": "code",
   "execution_count": null,
   "metadata": {},
   "outputs": [],
   "source": [
    "def describe_pet(pet: Pet):\n",
    "    desc = pet.long_description()\n",
    "\n",
    "    # DON'T explicitly check the class of the pet if not necessary\n",
    "    if isinstance(pet, Dog):\n",
    "        desc += \" - It's a dog!\"\n",
    "    elif isinstance(pet, Cat):\n",
    "        desc += \" - It's a cat!\"\n",
    "    return desc\n",
    "\n",
    "buddy: Pet = Dog(\"Buddy\", 5)\n",
    "garfield: Pet = Cat(\"Garfield\", 7)\n",
    "\n",
    "print(describe_pet(buddy))\n",
    "print(describe_pet(garfield))\n"
   ]
  },
  {
   "cell_type": "markdown",
   "metadata": {},
   "source": [
    "### Encapsulation\n",
    "\n",
    "Encapsulation involves restricting access to methods and attributes to prevent data from being directly modified.\n"
   ]
  },
  {
   "cell_type": "code",
   "execution_count": null,
   "metadata": {},
   "outputs": [],
   "source": [
    "class MouseCatcher(Cat):\n",
    "    __n_mice_caught = 0\n",
    "\n",
    "    def catch_mouse(self):\n",
    "        self.__n_mice_caught += 1\n",
    "        return self\n",
    "\n",
    "    def __str__(self):  # new: override __str__ \"dunder method\"\n",
    "        return f\"{self.name} ({self.__n_mice_caught} mice caught)\"\n",
    "\n",
    "\n",
    "tom = MouseCatcher(\"Tom\", 5).catch_mouse().catch_mouse().catch_mouse()\n",
    "print(tom)"
   ]
  },
  {
   "cell_type": "code",
   "execution_count": null,
   "metadata": {},
   "outputs": [],
   "source": [
    "# this will fail: __n_mice_caught is private\n",
    "print(tom.__n_mice_caught)"
   ]
  },
  {
   "cell_type": "code",
   "execution_count": null,
   "metadata": {},
   "outputs": [],
   "source": [
    "# DON'T access private attributes directly\n",
    "print(tom._MouseCatcher__n_mice_caught)"
   ]
  },
  {
   "cell_type": "markdown",
   "metadata": {},
   "source": [
    "That's Python's **name mangling rules** at work, for details see e.g. [here](https://realpython.com/python-double-underscore/#double-leading-underscore-in-classes-pythons-name-mangling)\n",
    "\n",
    "> In general, DO NOT call methods or access attributes of classes and objects that start with an underscore"
   ]
  }
 ],
 "metadata": {
  "kernelspec": {
   "display_name": "Python 3",
   "language": "python",
   "name": "python3"
  },
  "language_info": {
   "codemirror_mode": {
    "name": "ipython",
    "version": 3
   },
   "file_extension": ".py",
   "mimetype": "text/x-python",
   "name": "python",
   "nbconvert_exporter": "python",
   "pygments_lexer": "ipython3",
   "version": "3.11.8"
  }
 },
 "nbformat": 4,
 "nbformat_minor": 4
}
