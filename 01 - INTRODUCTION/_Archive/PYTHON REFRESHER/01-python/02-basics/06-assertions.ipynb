{
 "cells": [
  {
   "cell_type": "markdown",
   "metadata": {},
   "source": [
    "# Assertions"
   ]
  },
  {
   "cell_type": "markdown",
   "metadata": {},
   "source": [
    "Enforce some condition to be true or an AssertionError will be raised\n",
    "\n",
    "Usage: `assert <condition>, <error message>`"
   ]
  },
  {
   "cell_type": "markdown",
   "metadata": {},
   "source": [
    "### Example"
   ]
  },
  {
   "cell_type": "code",
   "execution_count": 5,
   "metadata": {},
   "outputs": [
    {
     "name": "stdout",
     "output_type": "stream",
     "text": [
      "2.0\n"
     ]
    }
   ],
   "source": [
    "a = 0\n",
    "\n",
    "for i in range(10):\n",
    "    if i == 5 or i == 6:\n",
    "        a = i ** 2\n",
    "\n",
    "assert a > 0, \"a has not been assigned\"\n",
    "\n",
    "b = 72 / a  # use a, knowing it is strictly positive\n",
    "print(b)\n"
   ]
  },
  {
   "cell_type": "markdown",
   "metadata": {},
   "source": [
    "### When to use\n",
    "\n",
    "Good practice to use throughout a code base to enforce assumptions at runtime\n",
    "\n",
    "May be globally disabled in production code as performance optimization"
   ]
  }
 ],
 "metadata": {
  "kernelspec": {
   "display_name": "Python 3",
   "language": "python",
   "name": "python3"
  },
  "language_info": {
   "codemirror_mode": {
    "name": "ipython",
    "version": 3
   },
   "file_extension": ".py",
   "mimetype": "text/x-python",
   "name": "python",
   "nbconvert_exporter": "python",
   "pygments_lexer": "ipython3",
   "version": "3.11.8"
  }
 },
 "nbformat": 4,
 "nbformat_minor": 4
}
