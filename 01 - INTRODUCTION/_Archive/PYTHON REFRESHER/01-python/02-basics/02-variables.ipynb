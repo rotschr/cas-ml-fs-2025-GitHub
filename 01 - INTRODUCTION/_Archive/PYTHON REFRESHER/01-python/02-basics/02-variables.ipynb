{
 "cells": [
  {
   "cell_type": "markdown",
   "metadata": {},
   "source": [
    "# Variables"
   ]
  },
  {
   "cell_type": "markdown",
   "metadata": {},
   "source": [
    "### Basics\n",
    "\n",
    "Variables are just \"labels\" rather than \"containers\": Each variable _references_ an object in memory\n",
    "\n",
    "Python uses `=` to assign the expression on the right-hand side (rhs) to the variable on the left-hand side (lhs):\n",
    "```python\n",
    "   a = <rhs expression>\n",
    "```\n",
    "\n",
    "In such a statement, Python always evaluates the rhs expression first, and then makes the lhs variable refer to that result.\n",
    "\n",
    "For instance,\n",
    "```python\n",
    "   a = 8 * 5 + 2\n",
    "```\n",
    "first evaluates the rhs to 40, then makes `a` point to an integer object with value 40"
   ]
  },
  {
   "cell_type": "markdown",
   "metadata": {},
   "source": [
    "### Naming variables\n",
    "Simple help for getting started: An appropriate variable name describes the referenced object as accurately as possible, and:\n",
    "- starts with a lowercase letter,\n",
    "- followed by additional letters and numbers from a..z, A..Z, 0..9,\n",
    "- multi-part names are separated by an underscore `_` (\"snake_case\")\n",
    "\n",
    "##### Do\n",
    "```python\n",
    "    pi = 3.14\n",
    "    amount = 123\n",
    "    number_of_items = 456\n",
    "    total2023 = 12345\n",
    "    total_2023 = 12345\n",
    "```\n",
    "\n",
    "##### Don't\n",
    "```python\n",
    "    Pi = 3.14        # do not start capitalized (reserved for classes, see later)\n",
    "    n_rüebli = 7     # avoid chars outside ASCII charset (umlaut)\n",
    "    λ0 = 42          # avoid chars outside ASCII charset (greek letter)\n",
    "    numItems = -10   # this is camelCase, not snake_case \n",
    "```\n",
    "\n",
    "Rules for naming can vary and are often summarized in a so-called style guide, e.g. [Google's Python Style Guide](https://google.github.io/styleguide/pyguide.html)"
   ]
  },
  {
   "cell_type": "markdown",
   "metadata": {},
   "source": [
    "### Printing variables and formatting\n",
    "Given `a = 123.4567`\n",
    "\n",
    "Multiple ways for formatting the output:\n",
    "1. Using the `print()` function directly:\n",
    "   ```python\n",
    "   print(a)\n",
    "   ```\n",
    "\n",
    "2. Using string concatenation:\n",
    "   ```python\n",
    "   print(\"The value of a is: \" + str(a))\n",
    "   ```\n",
    "\n",
    "3. Using string formatting (old style):\n",
    "   ```python\n",
    "   print(\"The value of a is: %s\" % a)\n",
    "   ```\n",
    "\n",
    "4. Using string formatting with precision (old style):\n",
    "   ```python\n",
    "   print(\"The value of a is: %.2f\" % a)\n",
    "   ```\n",
    "\n",
    "5. Using string formatting (new style):\n",
    "   ```python\n",
    "   print(\"The value of a is: {}\".format(a))\n",
    "   ```\n",
    "\n",
    "6. Using string formatting with precision (new style):\n",
    "   ```python\n",
    "   print(\"The value of a is: {:.2f}\".format(a))\n",
    "   ```\n",
    "\n",
    "7. Using f-string formatting (recommended):\n",
    "   ```python\n",
    "   print(f\"The value of a is: {a}\")\n",
    "   ```\n",
    "\n",
    "8. Using f-string formatting with precision (recommended):\n",
    "   ```python\n",
    "   print(f\"The value of a is: {a:.2f}\")\n",
    "   ```\n"
   ]
  },
  {
   "cell_type": "markdown",
   "metadata": {},
   "source": [
    "### Working with variables"
   ]
  },
  {
   "cell_type": "code",
   "execution_count": null,
   "metadata": {},
   "outputs": [],
   "source": [
    "e = 2.71828\n",
    "print(e)\n"
   ]
  },
  {
   "cell_type": "code",
   "execution_count": null,
   "metadata": {},
   "outputs": [],
   "source": [
    "f = e\n",
    "print(f)\n"
   ]
  },
  {
   "cell_type": "code",
   "execution_count": null,
   "metadata": {},
   "outputs": [],
   "source": [
    "e == f\n"
   ]
  },
  {
   "cell_type": "code",
   "execution_count": null,
   "metadata": {},
   "outputs": [],
   "source": [
    "e is f\n"
   ]
  },
  {
   "cell_type": "code",
   "execution_count": null,
   "metadata": {},
   "outputs": [],
   "source": [
    "print(id(e))\n",
    "print(id(f))\n"
   ]
  },
  {
   "cell_type": "code",
   "execution_count": null,
   "metadata": {},
   "outputs": [],
   "source": [
    "e = e + 8\n",
    "print(e)\n",
    "print(f)\n"
   ]
  },
  {
   "cell_type": "code",
   "execution_count": null,
   "metadata": {},
   "outputs": [],
   "source": [
    "# Remember, first define, then use\n",
    "g = g + 1  # 'g' not defined\n"
   ]
  },
  {
   "cell_type": "markdown",
   "metadata": {},
   "source": [
    "### In-place operators\n",
    "Aka _augmented assignment operators_"
   ]
  },
  {
   "cell_type": "markdown",
   "metadata": {},
   "source": [
    "Pyhton offers the following in-place operators:\n",
    "\n",
    "* `+=` : In-place addition\n",
    "* `-=` : In-place subtraction\n",
    "* `*=` : In-place multiplication\n",
    "* `/=` : In-place division\n",
    "* `//=` : In-place floor division\n",
    "* `%=` : In-place modulus\n",
    "* `**=` : In-place exponentiation\n",
    "* `&=` : In-place AND\n",
    "* `|=` : In-place OR\n",
    "* `^=` : In-place XOR\n",
    "* `>>=` : In-place right shift\n",
    "* `<<=` : In-place left shift"
   ]
  },
  {
   "cell_type": "code",
   "execution_count": null,
   "metadata": {},
   "outputs": [],
   "source": [
    "a = 10\n",
    "a -= 2\n",
    "a\n"
   ]
  },
  {
   "cell_type": "code",
   "execution_count": null,
   "metadata": {},
   "outputs": [],
   "source": [
    "b = 100\n",
    "b >>= 2\n",
    "b\n"
   ]
  },
  {
   "cell_type": "markdown",
   "metadata": {},
   "source": [
    "### Python is dynamically, strongly typed"
   ]
  },
  {
   "cell_type": "markdown",
   "metadata": {},
   "source": [
    "##### Dynamic typing\n",
    "Same variable, different runtime types. For example in Java or C++ this would be invalid (statically typed)\n"
   ]
  },
  {
   "cell_type": "code",
   "execution_count": null,
   "metadata": {},
   "outputs": [],
   "source": [
    "price = 10\n",
    "print(type(price))\n",
    "\n",
    "price = 10.0\n",
    "print(type(price))\n",
    "\n",
    "price = \"10 $\"\n",
    "print(type(price))\n"
   ]
  },
  {
   "cell_type": "markdown",
   "metadata": {},
   "source": [
    "##### Strong typing\n",
    "Enforces at compile time/runtime that all operations between variables are of appropriate data types.\n",
    "\n",
    "For example `\"Hello \" + 123` is valid in JavaScript (weakly typed) while in Python this results (thankfully) in a `TypeError`."
   ]
  },
  {
   "cell_type": "code",
   "execution_count": null,
   "metadata": {},
   "outputs": [],
   "source": [
    "\"Hello \" + 123\n"
   ]
  },
  {
   "cell_type": "markdown",
   "metadata": {},
   "source": [
    "However, Python still allows (and sensibly so!) operations between `int`s and `float`s:"
   ]
  },
  {
   "cell_type": "code",
   "execution_count": null,
   "metadata": {},
   "outputs": [],
   "source": [
    "type(1000 + 2.5)\n"
   ]
  },
  {
   "cell_type": "markdown",
   "metadata": {},
   "source": [
    "### Datatypes and the \"Duck Test\"\n",
    "\n",
    "In general, Python's approach to objects follows the \"Duck Test\":\n",
    "\n",
    "> _If it looks like a duck, swims like a duck, and quacks like a duck, then it probably is a duck._"
   ]
  }
 ],
 "metadata": {
  "kernelspec": {
   "display_name": "Python 3",
   "language": "python",
   "name": "python3"
  },
  "language_info": {
   "codemirror_mode": {
    "name": "ipython",
    "version": 3
   },
   "file_extension": ".py",
   "mimetype": "text/x-python",
   "name": "python",
   "nbconvert_exporter": "python",
   "pygments_lexer": "ipython3",
   "version": "3.11.5"
  }
 },
 "nbformat": 4,
 "nbformat_minor": 4
}
