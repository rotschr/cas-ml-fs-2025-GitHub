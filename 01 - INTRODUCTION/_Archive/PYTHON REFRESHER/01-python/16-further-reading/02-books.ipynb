{
 "cells": [
  {
   "cell_type": "markdown",
   "metadata": {},
   "source": [
    "### Some noteworthy Python books"
   ]
  },
  {
   "cell_type": "markdown",
   "metadata": {},
   "source": [
    "Many recommendable:\n",
    "- \"Fluent Python: Clear, Concise, and Effective Programming\" by Luciano Ramalho\n",
    "- \"Python Cookbook\" by David Beazley and Brian K. Jones\n",
    "- \"Effective Python: 90 Specific Ways to Write Better Python\" by Brett Slatkin\n",
    "- \"Python for Data Analysis\" by Wes McKinney\n",
    "- \"Python Machine Learning\" by Sebastian Raschka and Vahid Mirjalili"
   ]
  },
  {
   "cell_type": "markdown",
   "metadata": {},
   "source": [
    "One **must-read**\n",
    "\n",
    "<img src=\"img/clean_arch.jpg\" width=\"400\">"
   ]
  }
 ],
 "metadata": {
  "language_info": {
   "name": "python"
  }
 },
 "nbformat": 4,
 "nbformat_minor": 2
}
