{
 "cells": [
  {
   "cell_type": "markdown",
   "metadata": {},
   "source": [
    "### Quizzes -- Solutions\n"
   ]
  },
  {
   "cell_type": "markdown",
   "metadata": {},
   "source": [
    "##### Quiz 1 Example Solutions"
   ]
  },
  {
   "cell_type": "code",
   "execution_count": 1,
   "metadata": {},
   "outputs": [
    {
     "name": "stdout",
     "output_type": "stream",
     "text": [
      "[10, 18, 78]\n",
      "[10, 18, 78]\n"
     ]
    }
   ],
   "source": [
    "# example list\n",
    "xs = [1, 3, 5, 8, 10, 13, 18, 36, 78]\n",
    "\n",
    "# minimal solution\n",
    "ys_1 = [x for x in xs[::2] if x % 2 == 0]\n",
    "\n",
    "# slightly less readable solution\n",
    "ys_2 = [x for i, x in enumerate(xs) if i % 2 == 0 and x % 2 == 0]\n",
    "\n",
    "print(ys_1)\n",
    "print(ys_2)"
   ]
  }
 ],
 "metadata": {
  "kernelspec": {
   "display_name": "ml2",
   "language": "python",
   "name": "python3"
  },
  "language_info": {
   "codemirror_mode": {
    "name": "ipython",
    "version": 3
   },
   "file_extension": ".py",
   "mimetype": "text/x-python",
   "name": "python",
   "nbconvert_exporter": "python",
   "pygments_lexer": "ipython3",
   "version": "3.11.8"
  }
 },
 "nbformat": 4,
 "nbformat_minor": 2
}
