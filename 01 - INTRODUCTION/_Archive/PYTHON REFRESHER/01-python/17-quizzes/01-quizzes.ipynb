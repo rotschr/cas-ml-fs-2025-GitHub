{
 "cells": [
  {
   "cell_type": "markdown",
   "metadata": {},
   "source": [
    "# Quizzes\n",
    "\n",
    "Note that quiz 2 and later are **trick questions**, showing actual edge cases of the language\n"
   ]
  },
  {
   "cell_type": "markdown",
   "metadata": {},
   "source": [
    "---\n",
    "\n",
    "### Quiz 1\n",
    "\n",
    "You're given a list `xs` of integers. Use a single list comprehension to produce another list with only the even values of the original list that occur at even indices.\n",
    "\n",
    "Examples: \n",
    "- If `xs[2]` contains an even number, that number should be included, since it is also at an even index (i.e., 2) in the original list\n",
    "- If `xs[3]` contains an even number, that number should not be included (uneven index)\n"
   ]
  },
  {
   "cell_type": "code",
   "execution_count": null,
   "metadata": {},
   "outputs": [],
   "source": [
    "xs = [1, 3, 5, 8, 10, 13, 18, 36, 78]\n",
    "\n",
    "# Type your answer here. Expected output for above xs: [10, 18, 78]\n"
   ]
  },
  {
   "cell_type": "markdown",
   "metadata": {},
   "source": [
    "---\n",
    "\n",
    "### Quiz 2\n",
    "What will be the output of the following snippet?\n",
    "\n",
    "```python\n",
    "    def extend_list(x, xs=[]):\n",
    "        xs.append(x)\n",
    "        return xs\n",
    "\n",
    "    xs1 = extend_list(10)\n",
    "    xs2 = extend_list(123, [])\n",
    "    xs3 = extend_list('a')\n",
    "\n",
    "    print(\"list1:\", xs1)\n",
    "    print(\"list2:\", xs2)\n",
    "    print(\"list3:\", xs3)\n",
    "```"
   ]
  },
  {
   "cell_type": "markdown",
   "metadata": {},
   "source": [
    "Your answer:\n",
    "\n",
    "```text\n",
    "    list1: [...]\n",
    "    list2: [...]\n",
    "    list3: [...]\n",
    "```"
   ]
  },
  {
   "cell_type": "code",
   "execution_count": null,
   "metadata": {},
   "outputs": [],
   "source": [
    "# Paste the above code and check your answer\n"
   ]
  },
  {
   "cell_type": "markdown",
   "metadata": {},
   "source": [
    "---\n",
    "\n",
    "### Quiz 3\n",
    "\n",
    "What will be the output of the following snippet?\n",
    "\n",
    "```python\n",
    "    def multipliers():\n",
    "        return [lambda x : i * x for i in range(4)]\n",
    "\n",
    "    print([m(2) for m in multipliers()])\n",
    "```"
   ]
  },
  {
   "cell_type": "markdown",
   "metadata": {},
   "source": [
    "Your answer:\n",
    "\n",
    "```text\n",
    "    [...]\n",
    "```"
   ]
  },
  {
   "cell_type": "code",
   "execution_count": null,
   "metadata": {},
   "outputs": [],
   "source": [
    "# Paste the above code and check your answer\n"
   ]
  },
  {
   "cell_type": "markdown",
   "metadata": {},
   "source": [
    "---\n",
    "\n",
    "### Quiz 4\n",
    "\n",
    "What will be the output of the following snippet?\n",
    "\n",
    "```python\n",
    "    class Parent(object):\n",
    "        x = 1\n",
    "\n",
    "    class Child1(Parent):\n",
    "        pass\n",
    "\n",
    "    class Child2(Parent):\n",
    "        pass\n",
    "\n",
    "    print(Parent.x, Child1.x, Child2.x)\n",
    "\n",
    "    Child1.x = 2\n",
    "    print(Parent.x, Child1.x, Child2.x)\n",
    "\n",
    "    Parent.x = 3\n",
    "    print(Parent.x, Child1.x, Child2.x)\n",
    "```"
   ]
  },
  {
   "cell_type": "markdown",
   "metadata": {},
   "source": [
    "Your answer:\n",
    "\n",
    "```text\n",
    "    ? ? ?\n",
    "    ? ? ?\n",
    "    ? ? ?\n",
    "```"
   ]
  },
  {
   "cell_type": "code",
   "execution_count": null,
   "metadata": {},
   "outputs": [],
   "source": [
    "# Paste the above code and check your answer\n"
   ]
  },
  {
   "cell_type": "markdown",
   "metadata": {},
   "source": [
    "---\n",
    "### Quiz 5\n",
    "What will be the output of the following snippet?\n",
    "\n",
    "```python\n",
    "    xs = [ [] ] * 5\n",
    "    print(xs)\n",
    "\n",
    "    xs[0].append(10)\n",
    "    print(xs)\n",
    "\n",
    "    xs[1].append(20)\n",
    "    print(xs)\n",
    "\n",
    "    xs.append(30)\n",
    "    print(xs)\n",
    "```"
   ]
  },
  {
   "cell_type": "markdown",
   "metadata": {},
   "source": [
    "Your answer:\n",
    "\n",
    "```text\n",
    "    [...]\n",
    "    [...]\n",
    "    [...]\n",
    "    [...]\n",
    "```"
   ]
  },
  {
   "cell_type": "code",
   "execution_count": null,
   "metadata": {},
   "outputs": [],
   "source": [
    "# Paste the above code and check your answer\n"
   ]
  },
  {
   "cell_type": "markdown",
   "metadata": {},
   "source": [
    "---\n",
    "\n",
    "### Quiz 6\n",
    "\n",
    "What will be the output of the following snippet?\n",
    "\n",
    "```python\n",
    "    x, y = (0, 1) if True else None, None\n",
    "    print(x, y)\n",
    "```"
   ]
  },
  {
   "cell_type": "markdown",
   "metadata": {},
   "source": [
    "Your answer:\n",
    "\n",
    "```text\n",
    "    ? ?\n",
    "```"
   ]
  },
  {
   "cell_type": "code",
   "execution_count": null,
   "metadata": {},
   "outputs": [],
   "source": [
    "# Paste the above code and check your answer\n"
   ]
  },
  {
   "cell_type": "markdown",
   "metadata": {},
   "source": [
    "---\n",
    "\n",
    "### Quiz 7\n",
    "\n",
    "What will be the output of the following snippet?\n",
    "\n",
    "```python\n",
    "    t = ('one', 'two')\n",
    "    for i in t:\n",
    "        print(i)\n",
    "\n",
    "    t = ('one')\n",
    "    for i in t:\n",
    "        print(i)\n",
    "\n",
    "    t = ()\n",
    "    print(t)\n",
    "```"
   ]
  },
  {
   "cell_type": "markdown",
   "metadata": {},
   "source": [
    "Your answer:\n",
    "\n",
    "```text\n",
    "    ?\n",
    "    ?\n",
    "    ?\n",
    "```"
   ]
  },
  {
   "cell_type": "code",
   "execution_count": null,
   "metadata": {},
   "outputs": [],
   "source": [
    "# Paste the above code and check your answer\n"
   ]
  },
  {
   "cell_type": "markdown",
   "metadata": {},
   "source": [
    "---\n",
    "\n",
    "### Quiz 8\n",
    "\n",
    "What will be the output of the following snippet?\n",
    "\n",
    "```python\n",
    "    xs = [1, 2]\n",
    "    dd = {\n",
    "        \"key_1\": 1,\n",
    "        \"key_2\": 2,\n",
    "    }\n",
    "\n",
    "    xs = xs.append(3)\n",
    "    dd = dd.update({\"key_3\": 3})\n",
    "\n",
    "    print(xs)\n",
    "    print(dd)\n",
    "```"
   ]
  },
  {
   "cell_type": "markdown",
   "metadata": {},
   "source": [
    "Your answer:\n",
    "\n",
    "```text\n",
    "    ?\n",
    "    ?\n",
    "```"
   ]
  },
  {
   "cell_type": "code",
   "execution_count": null,
   "metadata": {},
   "outputs": [],
   "source": [
    "# Paste the above code and check your answer\n"
   ]
  },
  {
   "cell_type": "markdown",
   "metadata": {},
   "source": [
    "---\n",
    "\n",
    "### Quiz 9\n"
   ]
  },
  {
   "cell_type": "code",
   "execution_count": null,
   "metadata": {},
   "outputs": [],
   "source": [
    "# Safe to ignore ;)\n",
    "#\n",
    "import warnings\n",
    "warnings.filterwarnings(\"ignore\")\n",
    "from IPython.display import HTML\n",
    "HTML('''<script>code_show_err=false;function a(){if(code_show_err){$('div.output_stderr').hide();}else{$('div.output_stderr').show();}code_show_err=!code_show_err}$(document).ready(a);</script>''')"
   ]
  },
  {
   "cell_type": "markdown",
   "metadata": {},
   "source": [
    "Will the following snippet raise an `AssertionError`?\n",
    "```python\n",
    "    a = \"python\"\n",
    "    b = \"javascript\"\n",
    "\n",
    "    assert(a == b, \"The languages are different\")\n",
    "```"
   ]
  },
  {
   "cell_type": "markdown",
   "metadata": {},
   "source": [
    "Your answer:\n",
    "\n",
    "```text\n",
    "    ?\n",
    "```"
   ]
  },
  {
   "cell_type": "code",
   "execution_count": null,
   "metadata": {},
   "outputs": [],
   "source": [
    "# Paste the above code and check your answer\n"
   ]
  },
  {
   "cell_type": "markdown",
   "metadata": {},
   "source": [
    "---\n",
    "\n",
    "### More?\n",
    "\n",
    "Understanding edge cases may really make you a better coder.\n",
    "\n",
    "Highly recommended collection of such cases: [What the f*ck Python! 😱](https://github.com/satwikkansal/wtfpython/tree/master)\n",
    "\n",
    "![image.png](img/wtfp.jpg)<br/>\n"
   ]
  }
 ],
 "metadata": {
  "kernelspec": {
   "display_name": "ml2",
   "language": "python",
   "name": "python3"
  },
  "language_info": {
   "codemirror_mode": {
    "name": "ipython",
    "version": 3
   },
   "file_extension": ".py",
   "mimetype": "text/x-python",
   "name": "python",
   "nbconvert_exporter": "python",
   "pygments_lexer": "ipython3",
   "version": "3.11.8"
  }
 },
 "nbformat": 4,
 "nbformat_minor": 2
}
