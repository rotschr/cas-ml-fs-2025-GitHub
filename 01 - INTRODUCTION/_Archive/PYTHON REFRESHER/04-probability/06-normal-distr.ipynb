{
 "cells": [
  {
   "cell_type": "markdown",
   "metadata": {},
   "source": [
    "# Normal Distribution\n",
    "\n",
    "### Theory\n",
    "\n",
    "Setting: \n",
    "- Used to model basically anything, especially if true distribution is unknown\n",
    "- For instance, the outcome of exams\n",
    "\n",
    "Properties:\n",
    "- Probability density function: $\\displaystyle f(x)={\\frac {1}{\\sigma {\\sqrt {2\\pi }}}}e^{-{\\frac12}(x-\\mu)^2/\\sigma^2}$\n",
    "- Mean: $\\mu$\n",
    "- Variance: $\\sigma^2$\n",
    "\n",
    "Notation: $X \\sim \\displaystyle \\mathcal{N}(\\mu, \\sigma^2)$\n",
    "\n",
    "The \"famous\" values: Probability of event within ...\n",
    "- $\\mu \\pm \\sigma$: 68.27%\n",
    "- $\\mu \\pm 2 \\sigma$: 95.45%\n",
    "- $\\mu \\pm 3 \\sigma$: 99.73%\n",
    "\n",
    "For an illustration, see e.g. [here](https://en.wikipedia.org/wiki/Normal_distribution)\n",
    "\n",
    "Potentially the **most important distribution** of all for several reasons:\n",
    "\n",
    "1. **Central Limit Theorem**: Sum of a large number of independent, identically distributed random variables will be approximately normally distributed, regardless of the original distribution of the variables\n",
    "\n",
    "2. **Ubiquity in Nature**: Natural phenomena often exhibit distributions that are approximately normal: Heights, blood pressure, measurement errors, etc.\n",
    "\n",
    "3. **Mathematical Properties**: Convenient mathematical properties: Symmetric, mean = median = mode, sum of Gaussian again Gaussian, etc.\n",
    "\n",
    "4. **Parameter Estimation**: Efficient estimators exist due to its properties, e.g. least squares method for regression\n",
    "\n",
    "Often a good approximation of reality:\n",
    "\n",
    "1. **Predictive Distribution**: Residuals often assumed to be normal $\\Rightarrow$ simplifies making predictions and computing confidence intervals\n",
    "\n",
    "2. **Control Processes**: Quality control in industrial processes often model variations as normal, allowing to efficiently establish control limits\n",
    "\n",
    "3. **Signal Processing**: Gaussian noise is a common and good assumption\n",
    "\n",
    "But yet not always:\n",
    "\n",
    "1. **Finance**: Asset returns typically modeled as normal, yet real-world returns often exhibit heavier tails than the Gaussian distribution\n",
    "\n",
    "\n"
   ]
  },
  {
   "cell_type": "markdown",
   "metadata": {},
   "source": [
    "### Central limit theorem (CLT)\n",
    "\n",
    "CLT: The sampling distribution of the mean will always follow a normal distribution.\n",
    "\n",
    "More accurately:\n",
    "- Let ${X_{1},X_{2},\\dots ,X_{n}}$ be $n$ random samples with expected value $\\mu$ and variance $\\sigma ^{2} < \\infty$\n",
    "- Let $\\bar{X}_{n} = \\frac 1 n \\sum_i X_i$ be their sample mean\n",
    "- Then for $n\\to \\infty:$ $\\;\\;$ $\\displaystyle\n",
    "  \\frac{\\bar{X}_{n}-\\mu}{\\sigma_{{\\bar{X}}_{n}}} \\sim \\mathcal{N}(0, 1)$ $\\;\\;$ and\n",
    "  $\\;\\;$ $\\displaystyle \\sigma_{{\\bar{X}}_{n}}={\\frac {\\sigma }{\\sqrt {n}}}$\n",
    "\n",
    "Assumptions:\n",
    "- Sample size is sufficiently large, in practice $n \\geq 30$; and\n",
    "- Samples are independent and identically distributed (i.i.d.) random variables; and\n",
    "- Population distribution has finite variance, true for most distributions (counter-example: Cauchy distribution)\n"
   ]
  },
  {
   "cell_type": "markdown",
   "metadata": {},
   "source": [
    "### Analytical approach\n",
    "\n",
    "\n",
    "Settings: \n",
    "- $X \\sim \\text{U}(17, 27)$\n",
    "- $n = 30$\n",
    "- $\\mu = (a + b) / 2 = 22$\n",
    "- $\\sigma = \\sqrt{(b - a)^2 / 12} = 10 / \\sqrt{12} \\approx 2.887$\n",
    "\n",
    "Hence:\n",
    "- $\\mu_{\\bar{X}_n} = \\mu = 22$\n",
    "- $\\sigma_{\\bar{X}_n} = \\sigma / \\sqrt{n} = 10 / \\sqrt{12} / \\sqrt{30} \\approx 0.527$\n"
   ]
  },
  {
   "cell_type": "markdown",
   "metadata": {},
   "source": [
    "### Simulation"
   ]
  },
  {
   "cell_type": "code",
   "execution_count": null,
   "metadata": {},
   "outputs": [],
   "source": [
    "import numpy as np\n",
    "import matplotlib.pyplot as plt\n",
    "import seaborn as sns"
   ]
  },
  {
   "cell_type": "code",
   "execution_count": null,
   "metadata": {},
   "outputs": [],
   "source": [
    "n = 30\n",
    "\n",
    "# population: uniform distribution\n",
    "a, b = 17, 27\n",
    "mu = (a + b) / 2\n",
    "std = np.sqrt((b - a)**2 / 12)\n",
    "\n",
    "print(std)\n",
    "\n",
    "# sample from population\n",
    "def run_experiment():\n",
    "    xs = np.random.uniform(a, b, n)\n",
    "    mu_x = np.mean(xs)\n",
    "    return mu_x\n",
    "mu_xs = [run_experiment() for _ in range(1000)]\n",
    "\n",
    "# compute claim of CLT\n",
    "mu_xs_clt = mu\n",
    "std_xs_clt = std / np.sqrt(n)\n",
    "\n",
    "print(f\"mu_xs (sampled): {np.mean(mu_xs):7.5f}\")\n",
    "print(f\"mu_xs (CLT):     {mu_xs_clt:7.5f}\")\n",
    "\n",
    "print(f\"std_xs:       {np.std(mu_xs):7.5f}\")\n",
    "print(f\"std_xs (CLT): {std_xs_clt:7.5f}\")\n",
    "\n",
    "\n",
    "# plot\n",
    "p_normal = lambda x, mu, std: 1 / (std * np.sqrt(2 * np.pi)) * np.exp(-1/2 * ((x - mu) / std)**2)\n",
    "zs = np.linspace(min(mu_xs), max(mu_xs), 1000)\n",
    "plt.plot(zs, p_normal(zs, mu_xs_clt, std_xs_clt), label='CLT distr', color='lightgreen', lw=6)\n",
    "sns.kdeplot(mu_xs, label='Sample mean distr', color='blue')\n",
    "plt.legend()\n",
    "plt.plot(mu_xs, [.03]*len(mu_xs), '.', color='blue', markersize=10, alpha=0.03)\n",
    "plt.grid(False)\n",
    "plt.show()\n"
   ]
  }
 ],
 "metadata": {
  "kernelspec": {
   "display_name": "ml3",
   "language": "python",
   "name": "python3"
  },
  "language_info": {
   "codemirror_mode": {
    "name": "ipython",
    "version": 3
   },
   "file_extension": ".py",
   "mimetype": "text/x-python",
   "name": "python",
   "nbconvert_exporter": "python",
   "pygments_lexer": "ipython3",
   "version": "3.11.8"
  }
 },
 "nbformat": 4,
 "nbformat_minor": 2
}
