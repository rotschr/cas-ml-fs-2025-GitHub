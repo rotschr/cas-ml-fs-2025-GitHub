{
 "cells": [
  {
   "cell_type": "markdown",
   "metadata": {},
   "source": [
    "# Bayes' Theorem"
   ]
  },
  {
   "cell_type": "markdown",
   "metadata": {},
   "source": [
    "### Joint probability\n",
    "\n",
    "$P(\\mathcal A, \\mathcal B)$ is the joint probability of events $\\mathcal A$ and\n",
    "$\\mathcal B$ happening at the same time\n",
    "\n",
    "Example: Two dice with RVs $X_1$ and $X_2$. Then e.g. $P(X_1 = 3, X_2 = 5) = \\frac16 \\cdot \\frac16 = \\frac{1}{36}$"
   ]
  },
  {
   "cell_type": "markdown",
   "metadata": {},
   "source": [
    "### Conditional probability\n",
    "\n",
    "$P(\\mathcal{A} \\mid \\mathcal{B})$ is the condintional probability of $\\mathcal A$ given $\\mathcal B$.\n",
    "\n",
    "Connection with joint probability: $P(\\mathcal A, \\mathcal B) = P(\\mathcal A \\mid \\mathcal B) \\, P(\\mathcal B)$\n",
    "\n",
    "Statistical independence: Events $\\mathcal A$ and $\\mathcal B$ are independent, iff $P(\\mathcal A, \\mathcal B) = P(\\mathcal A) \\, P(\\mathcal B)$\n",
    "\n",
    "##### Example\n",
    "\n",
    "Meaning of the terms in $P(\\mathcal A, \\mathcal B) = P(\\mathcal A \\mid \\mathcal B) \\, P(\\mathcal B)$\n",
    "\n",
    "Given a standard deck of 52 cards. Let $\\mathcal A$ represent drawing an Ace and $\\mathcal B$ represent drawing a heart.\n",
    "\n",
    "- $P(\\mathcal B)$: Have 13 hearts in a deck of 52 cards, so $P(\\mathcal B) = \\frac{13}{52} = \\frac{1}{4}$\n",
    "- $P(\\mathcal A \\mid \\mathcal B)$: There is only 1 Ace in the 13 hearts, so $P(\\mathcal A \\mid \\mathcal B) = \\frac{1}{13}$\n",
    "- $P(\\mathcal A, \\mathcal B)$: There is only one Ace of hearts in a deck, so $P(\\mathcal A, \\mathcal B) = \\frac{1}{52}$\n",
    "\n",
    "Comparison to above definition: $P(\\mathcal A, \\mathcal B) = P(\\mathcal A \\mid \\mathcal B) \\, P(\\mathcal B)$: $\\;$ $\\frac{1}{52} = \\frac{1}{13} \\times \\frac{1}{4}$.\n",
    "\n"
   ]
  },
  {
   "cell_type": "markdown",
   "metadata": {},
   "source": [
    "### Bayes' Theorem\n",
    "\n",
    "Bayes' Theorem provides a way to update our probability estimates based on new evidence. It is expressed as:\n",
    "\n",
    "$\\displaystyle P(\\mathcal{A} \\mid \\mathcal{B}) = \\frac{P(\\mathcal{B} \\mid \\mathcal{A}) \\, P(\\mathcal{A})}{P(\\mathcal{B})}$\n",
    "\n",
    "Where:\n",
    "\n",
    "- $P(\\mathcal{A} \\mid \\mathcal{B})$ is the probability of $\\mathcal{A}$ given $\\mathcal{B}$\n",
    "- $P(\\mathcal{B} \\mid \\mathcal{A})$ is the probability of $\\mathcal{B}$ given $\\mathcal{A}$\n",
    "- $P(\\mathcal{A})$ is the prior probability of $\\mathcal{A}$\n",
    "- $P(\\mathcal{B})$ is the probability of $\\mathcal{B}$\n",
    "\n",
    "##### Example\n",
    "\n",
    "Consider a medical test for some disease (say, e.g., the Dengue fever). \n",
    "\n",
    "Let $\\mathcal{A}$ represent having the disease , and $\\mathcal{B}$ represent testing\n",
    "positive for it.\n",
    "\n",
    "Interested in: $\\displaystyle P(\\mathcal{A} \\mid \\mathcal{B}) \\stackrel{\\text{Bayes}}{=} \\frac{P(\\mathcal{B} \\mid\n",
    "\\mathcal{A}) \\, P(\\mathcal{A})}{P(\\mathcal{B})}$\n",
    "\n",
    "Known from studies:\n",
    "- Prevalence of the disease in the population: $P(\\mathcal{A}) = 0.3\\%$\n",
    "- Probability of a positive test given subject is sick (sensitivity): $P(\\mathcal{B}\n",
    "  \\mid \\mathcal{A}) = 99.8\\%$\n",
    "- Probability of a negative test given subject is not sick (specificity): $P(\\neg\n",
    "  \\mathcal{B} \\mid \\neg \\mathcal{A})= 99.7\\%$\n",
    "\n",
    "What's left: The normalizer $P(\\mathcal{B})$, i.e. overall probability of testing\n",
    "positive.\n",
    "\n",
    "Compute it via $P(\\mathcal{B}) = P(\\mathcal{B} \\mid \\mathcal{A}) \\cdot P(\\mathcal{A}) +\n",
    "  P(\\mathcal{B} \\mid \\neg \\mathcal{A}) \\cdot P(\\neg \\mathcal{A})$ with\n",
    "- $P(\\mathcal{B} \\mid \\neg \\mathcal{A}) = 1 - P(\\neg \\mathcal{B} \\mid \\neg \\mathcal{A}) = 1 - 0.997 = 0.003$\n",
    "- $P(\\neg \\mathcal{A}) = 1 -  P(\\mathcal{A}) = 0.997$\n",
    "\n",
    "Hence $P(\\mathcal{B}) = 0.998 \\cdot 0.003 + 0.003 \\cdot 0.997 = 0.5985\\%$\n",
    "\n",
    "So finally $\\displaystyle P(\\mathcal{A} \\mid \\mathcal{B}) = \\frac{P(\\mathcal{B} \\mid\n",
    "\\mathcal{A}) \\, P(\\mathcal{A})}{P(\\mathcal{B})} = \\frac{0.998 \\times 0.003}{0.005985} \\approx 50.03\\%$\n",
    "\n",
    "Let's visualize this:"
   ]
  },
  {
   "cell_type": "code",
   "execution_count": null,
   "metadata": {},
   "outputs": [],
   "source": [
    "import numpy as np\n",
    "import matplotlib.pyplot as plt\n",
    "\n",
    "def get_posterior(p_a, p_b_given_a, p_not_b_given_not_a):\n",
    "    p_b_given_not_a = 1 - p_not_b_given_not_a\n",
    "    p_not_a = 1 - p_a\n",
    "    p_b = p_b_given_a * p_a + p_b_given_not_a * p_not_a\n",
    "    p_a_given_b = p_b_given_a * p_a / p_b\n",
    "    return p_a_given_b\n",
    "\n",
    "# vary p_a\n",
    "print(\"Prevelance: The more people are infected, the more reliable the test result\")\n",
    "p_as = np.linspace(0, 0.2, 100)\n",
    "p_a_given_b = [get_posterior(p_a, 0.998, 0.997) for p_a in p_as]\n",
    "plt.plot(p_as, p_a_given_b)\n",
    "plt.xlabel('$P(\\mathcal{A})$')\n",
    "plt.ylabel('$P(\\mathcal{A} | \\mathcal{B})$')\n",
    "plt.grid(axis='y')\n",
    "plt.title('Vary $P(\\mathcal{A})$, $P(\\mathcal{B} \\mid \\mathcal{A}) = 0.998$, $P(¬ \\mathcal{B} \\mid ¬ \\mathcal{A}) = 0.997$')\n",
    "plt.show()\n",
    "\n",
    "# vary p_b_given_a\n",
    "print(\"Sensitivity: The lower the infection rate the higher quality the test has to have to be reliable\")\n",
    "p_b_given_as = np.linspace(0, 1, 100)\n",
    "p_a_given_b = [get_posterior(0.0003, p_b_given_a, 0.9999) for p_b_given_a in p_b_given_as]\n",
    "plt.plot(p_b_given_as, p_a_given_b)\n",
    "p_a_given_b = [get_posterior(0.003, p_b_given_a, 0.9999) for p_b_given_a in p_b_given_as]\n",
    "plt.plot(p_b_given_as, p_a_given_b)\n",
    "p_a_given_b = [get_posterior(0.03, p_b_given_a, 0.9999) for p_b_given_a in p_b_given_as]\n",
    "plt.plot(p_b_given_as, p_a_given_b)\n",
    "plt.legend(['$P(\\mathcal{A}) = 0.0003$', '$P(\\mathcal{A}) = 0.003$', '$P(\\mathcal{A}) = 0.03$'])\n",
    "plt.xlabel('$P(\\mathcal{B} \\mid \\mathcal{A})$')\n",
    "plt.ylabel('$P(\\mathcal{A} | \\mathcal{B})$')\n",
    "plt.grid(axis='y')\n",
    "plt.title('$P(\\mathcal{A}) = 0.003$, Vary $P(\\mathcal{B} \\mid \\mathcal{A})$, $P(¬ \\mathcal{B} \\mid ¬ \\mathcal{A}) = 0.9999$')\n",
    "plt.show()\n",
    "\n",
    "# vary p_not_b_given_not_a\n",
    "print(\"Specificity: Major impact on the reliability of the test result\")\n",
    "p_not_b_given_not_as = np.linspace(0.9, 1, 100)\n",
    "p_a_given_b = [get_posterior(0.003, 0.9999, p_not_b_given_not_a) for p_not_b_given_not_a in p_not_b_given_not_as]\n",
    "plt.plot(p_not_b_given_not_as, p_a_given_b)\n",
    "plt.xlabel('$P(¬ \\mathcal{B} \\mid ¬ \\mathcal{A})$')\n",
    "plt.ylabel('$P(\\mathcal{A} | \\mathcal{B})$')\n",
    "plt.grid(axis='y')\n",
    "plt.title('$P(\\mathcal{A}) = 0.003$, $P(\\mathcal{B} \\mid \\mathcal{A}) = 0.9999$, Vary $P(¬ \\mathcal{B} \\mid ¬ \\mathcal{A})$')\n",
    "plt.show()\n"
   ]
  },
  {
   "cell_type": "markdown",
   "metadata": {},
   "source": [
    "### Example: Monty Hall Problem"
   ]
  },
  {
   "cell_type": "markdown",
   "metadata": {},
   "source": [
    "**Game demo**: [Monty Hall Problem Simulator](https://montyhall.io/)\n",
    "\n",
    "**Million dollar question**: What's the winning strategy, switch, stay or both equally good?"
   ]
  },
  {
   "cell_type": "markdown",
   "metadata": {},
   "source": [
    "### Simulation"
   ]
  },
  {
   "cell_type": "code",
   "execution_count": null,
   "metadata": {},
   "outputs": [],
   "source": [
    "import random\n",
    "\n",
    "def play_game(switch):\n",
    "    # pick random door\n",
    "    choice = random.randint(1, 3)\n",
    "\n",
    "    if switch:\n",
    "        # reveal a goat at random\n",
    "        revealed_door = random.choice(tuple({2, 3} - {choice}))\n",
    "\n",
    "        # make the switch\n",
    "        choice = ({1, 2, 3} - {revealed_door, choice}).pop()\n",
    "\n",
    "    # car is always behind door 1 (without loss of generality!)\n",
    "    return choice == 1\n"
   ]
  },
  {
   "cell_type": "code",
   "execution_count": null,
   "metadata": {},
   "outputs": [],
   "source": [
    "def play_batch(n_games, switch):\n",
    "    return sum(play_game(switch) for _ in range(n_games))\n"
   ]
  },
  {
   "cell_type": "code",
   "execution_count": null,
   "metadata": {},
   "outputs": [],
   "source": [
    "n_games = 100000\n",
    "wins_stay = play_batch(n_games, False)\n",
    "wins_switch = play_batch(n_games, True)\n",
    "\n",
    "print(f\"#wins when switching: {100 * wins_switch / n_games:.2f}%\")\n",
    "print(f\"#wins with staying:   {100 * wins_stay / n_games:.2f}%\")\n"
   ]
  },
  {
   "cell_type": "markdown",
   "metadata": {},
   "source": [
    "### Analytical solution\n"
   ]
  },
  {
   "cell_type": "markdown",
   "metadata": {},
   "source": [
    "Proof via Bayes's theorem plenty, e.g. see\n",
    "https://blogs.cornell.edu/info2040/2022/11/10/the-monty-hall-problem-using-bayes-theorem/"
   ]
  }
 ],
 "metadata": {
  "kernelspec": {
   "display_name": "ml3",
   "language": "python",
   "name": "python3"
  },
  "language_info": {
   "codemirror_mode": {
    "name": "ipython",
    "version": 3
   },
   "file_extension": ".py",
   "mimetype": "text/x-python",
   "name": "python",
   "nbconvert_exporter": "python",
   "pygments_lexer": "ipython3",
   "version": "3.11.8"
  }
 },
 "nbformat": 4,
 "nbformat_minor": 2
}
