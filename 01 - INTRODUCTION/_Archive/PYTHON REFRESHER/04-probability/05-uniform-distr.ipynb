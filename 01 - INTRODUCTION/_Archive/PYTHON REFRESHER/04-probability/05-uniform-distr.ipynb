{
 "cells": [
  {
   "cell_type": "markdown",
   "metadata": {},
   "source": [
    "# Uniform Distribution\n",
    "\n",
    "### Theory\n",
    "\n",
    "**Discrete uniform distribution**\n",
    "\n",
    "Models a finite number of $n$ values are equally likely to be observed, hence each an equal probability $1/n$.\n",
    "\n",
    "Properties for $X \\sim \\text{unif}\\{a,b\\}$ and $n = b - a + 1$:\n",
    "- Probability mass function: $P(X = k) = \\begin{cases}1/n &{\\text{for }}a \\leq k \\leq b,\\\\[8pt]0&{\\text{otherwise}}.\\end{cases}$\n",
    "- Mean: $\\frac12 (a + b)$\n",
    "- Variance: $\\frac{1}{12}(n^2 - 1)$\n",
    "\n",
    "**Continuous uniform distribution**\n",
    "\n",
    "Describes an experiment where there is an arbitrary outcome that lies between certain bounds $a$ and $b$\n",
    "\n",
    "Properties for $X \\sim \\text{U}(a,b)$\n",
    "- Probability density function $p(x) = \\displaystyle {\\begin{cases}{1/(b-a)}&{\\text{for }}a\\leq x\\leq b,\\\\[8pt]0&{\\text{otherwise}}.\\end{cases}}$\n",
    "- Mean: $\\frac12 (a + b)$\n",
    "- Variance: $\\frac{1}{12}(b - a)^2$\n"
   ]
  },
  {
   "cell_type": "markdown",
   "metadata": {},
   "source": [
    "### Example (discrete uniform)\n",
    "\n",
    "Given an array of $n$ items, select $k \\leq n$ items with equal probability, i.e. sample items from a discrete uniform distribution.\n",
    "\n",
    "Note that $n$ can be known or unknown"
   ]
  },
  {
   "cell_type": "code",
   "execution_count": null,
   "metadata": {},
   "outputs": [],
   "source": [
    "import numpy as np\n",
    "import matplotlib.pyplot as plt\n",
    "\n",
    "plt.rc('axes', axisbelow=True)"
   ]
  },
  {
   "cell_type": "markdown",
   "metadata": {},
   "source": [
    "### Case 1: $n$ known\n",
    "\n",
    "Want to select $k$ out of $N$ numbers with equal probability."
   ]
  },
  {
   "cell_type": "code",
   "execution_count": null,
   "metadata": {},
   "outputs": [],
   "source": [
    "N = 20\n",
    "k = 5"
   ]
  },
  {
   "cell_type": "code",
   "execution_count": null,
   "metadata": {},
   "outputs": [],
   "source": [
    "def random_choice(xs, k):\n",
    "    # simplistic version of np.random.choice(xs, k, replace=False)\n",
    "    value = []\n",
    "\n",
    "    items = xs.tolist()\n",
    "    for j in range(k):\n",
    "        ix = int(np.random.random() * len(items))\n",
    "        value.append(items[ix])\n",
    "        del items[ix]\n",
    "\n",
    "    return value\n",
    "\n",
    "xs = np.arange(N)\n",
    "print(\"Numbers:  \", xs)\n",
    "\n",
    "sel = random_choice(xs, k)\n",
    "print(\"Selection:\", sel)"
   ]
  },
  {
   "cell_type": "code",
   "execution_count": null,
   "metadata": {},
   "outputs": [],
   "source": [
    "# let's convince ourselves that this is really uniform\n",
    "n_exp = 20000\n",
    "acc = np.zeros(N)\n",
    "for i in range(n_exp):\n",
    "    sel = random_choice(xs, k)\n",
    "    acc[sel] += 1\n",
    "\n",
    "print(\"Expected:\", n_exp * k / N)\n",
    "\n",
    "plt.bar(np.arange(N), acc)\n",
    "plt.grid(axis=\"y\")\n",
    "plt.xticks(np.arange(N))\n",
    "plt.show()"
   ]
  },
  {
   "cell_type": "markdown",
   "metadata": {},
   "source": [
    "### Case 2: $n$ unknown\n",
    "\n",
    "Sample problem: A server needs to run random routine checks on a stream of messages:\n",
    "- There will be capacity to check exactly $k$ messages by the end of day\n",
    "- Whenever a messages arrives, we need to decide immediately whether to hold it back or\n",
    "  to let it pass\n",
    "- We don't know the total number of messages $n$ that will arrive\n",
    "\n",
    "This is an instance of a *reservoir sampling* problem. Many algorithms exists (see e.g.\n",
    "[Wikipedia](https://en.wikipedia.org/wiki/Reservoir_sampling))\n",
    "\n",
    "**Algorithm R**\n",
    "\n",
    "Famous \\& simple (Vitter, 1985)\n",
    "\n",
    "Algorithm:\n",
    "1. Initialize reservoir array $R$ of size $k$ and copy first $k$ messages $m_1 \\dots\n",
    "   m_k$ to that array\n",
    "2. Then for $i > k$: With probability $k/i$, replace a randomly selected message in the\n",
    "   reservoir with the incoming message $m_i$\n",
    "\n",
    "Result: At all times, every message has the same chance to end up in the reservoir (and\n",
    "being ckecked)\n"
   ]
  },
  {
   "cell_type": "code",
   "execution_count": null,
   "metadata": {},
   "outputs": [],
   "source": [
    "def run_experiment(secret_n, k):\n",
    "    assert k <= secret_n\n",
    "    input_stream = np.arange(secret_n)\n",
    "\n",
    "    # run algorithm; note that it doesn't know N\n",
    "    R = input_stream[:k]  # step 1\n",
    "    for i in range(k, N):\n",
    "        if np.random.random() < k / (i + 1):  # step 2, note that i is 0-based\n",
    "            j = int(np.random.random() * k)\n",
    "            R[j] = input_stream[i]\n",
    "\n",
    "    return R\n",
    "\n",
    "\n",
    "# let's convince ourselves that this is really uniform\n",
    "n_exp = 20000\n",
    "acc = np.zeros(N)\n",
    "for i in range(n_exp):\n",
    "    sel = run_experiment(N, k)\n",
    "    acc[sel] += 1\n",
    "\n",
    "print(\"Expected:\", n_exp * k / N)\n",
    "\n",
    "plt.bar(np.arange(N), acc)\n",
    "plt.grid(axis=\"y\")\n",
    "plt.xticks(np.arange(N))\n",
    "plt.show()"
   ]
  },
  {
   "cell_type": "markdown",
   "metadata": {},
   "source": [
    "### Appendix: Derivation of *Algorithm R*\n",
    "\n",
    "First observe that after step $i - 1$ is complete, each item has a $\\displaystyle\n",
    "\\frac{1}{i - 1}$ probability to be in $R$. Then, at step $i$, each item must have a\n",
    "$\\displaystyle \\frac{1}{i}$ probability to be in $R$. \n",
    "\n",
    "Define event $\\mathcal E := $\"item $r$ which is in $R$ at $i-1$ will remain in $R$ at\n",
    "$i$\".\n",
    "\n",
    "Also let $p_i$ be the probability that we select the item at step $i$ and replace a\n",
    "random item in $R$ with it.\n",
    "- Need to choose $p_i$ s.t. the probability for each item present in $R$ drops from\n",
    "  $\\displaystyle \\frac{1}{i - 1}$ to $\\displaystyle \\frac{1}{i}$ between step $i - 1$\n",
    "  and $i$\n",
    "- This means each item in $R$ must see a factor of $\\displaystyle \\frac{i - 1}{i}$\n",
    "  applied to it's probability to remain in $R$\n",
    "  \n",
    "So now we have $P(\\mathcal E) = \\displaystyle \\frac{i - 1}{i}$.\n",
    "\n",
    "We can also derive $P(\\mathcal E)$ by observing that an item $r$ will remain in $R$ in\n",
    "exactly two cases:\n",
    "- We let item $i$ pass, so none of the items in $R$ gets replaced. Happens with\n",
    "  probability $1 - p_i$\n",
    "- We select item $i$ for checking but item $r$ is not being replaced with $i$. Happens\n",
    "  with probability $\\displaystyle p_i\\,\\frac{k - 1}{k}$\n",
    "\n",
    "Since these two cases are mutually exclusive, the probabilities sum: $\\displaystyle\n",
    "P(\\mathcal E) = (1 - p_i) + p_i\\,\\frac{k - 1}{k}$.\n",
    "\n",
    "The two expressions for $P(\\mathcal E)$ must be equal:\n",
    "$\\displaystyle \\frac{i - 1}{i} \\stackrel{!}{=} (1 - p_i) + p_i\\,\\frac{k - 1}{k}$.\n",
    "\n",
    "Solving for $p_i$ yields $\\displaystyle p_i = \\frac{k}{i}$ \n",
    "\n",
    "The general correctness of this rule for $p_i$ can be proven by induction.\n"
   ]
  }
 ],
 "metadata": {
  "kernelspec": {
   "display_name": "ml3",
   "language": "python",
   "name": "python3"
  },
  "language_info": {
   "codemirror_mode": {
    "name": "ipython",
    "version": 3
   },
   "file_extension": ".py",
   "mimetype": "text/x-python",
   "name": "python",
   "nbconvert_exporter": "python",
   "pygments_lexer": "ipython3",
   "version": "3.11.8"
  }
 },
 "nbformat": 4,
 "nbformat_minor": 2
}
