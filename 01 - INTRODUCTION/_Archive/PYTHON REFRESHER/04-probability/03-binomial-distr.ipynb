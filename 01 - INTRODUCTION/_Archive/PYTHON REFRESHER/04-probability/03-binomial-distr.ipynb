{
 "cells": [
  {
   "cell_type": "markdown",
   "metadata": {},
   "source": [
    "# Binomial distribution\n",
    "\n",
    "### Theory\n",
    "\n",
    "Setting:\n",
    "\n",
    "- Models the number of successes $X$ in a sequence of $n$ independent experiments\n",
    "- Each experiment has success probability $p$ and failure probability $q = 1 - p$\n",
    "\n",
    "Properties:\n",
    "\n",
    "- Probability mass function: $\\displaystyle P(X = k) = {\\binom {n}{k}} \\, p^{k} \\, (1-p)^{n-k}$\n",
    "\n",
    "- Mean: $n\\,p$\n",
    "\n",
    "- Variance: $\\displaystyle n\\,p\\,q=n\\,p\\,(1-p)$\n"
   ]
  },
  {
   "cell_type": "markdown",
   "metadata": {},
   "source": [
    "### Example\n",
    "\n",
    "Galton board"
   ]
  },
  {
   "cell_type": "markdown",
   "metadata": {},
   "source": [
    "<img src=\"img/galton.jpg\" style=\"width: 350px;\"/>\n",
    "\n",
    "<small>Source: https://de.wikipedia.org/wiki/Galtonbrett#/media/Datei:Galton-Brett.svg</small>\n"
   ]
  },
  {
   "cell_type": "markdown",
   "metadata": {},
   "source": [
    "### Simulation"
   ]
  },
  {
   "cell_type": "code",
   "execution_count": null,
   "metadata": {},
   "outputs": [],
   "source": [
    "N_BINS = 7\n",
    "N_BALLS = 1000\n",
    "assert N_BINS % 2 == 1, \"n_bins must be odd\"\n"
   ]
  },
  {
   "cell_type": "code",
   "execution_count": null,
   "metadata": {},
   "outputs": [],
   "source": [
    "import numpy as np\n",
    "import matplotlib.pyplot as plt\n",
    "\n",
    "bins = [0] * N_BINS\n",
    "\n",
    "\n",
    "bounce_right = np.random.random((N_BALLS, N_BINS - 1)) < 0.5\n",
    "rights = np.sum(bounce_right, axis=1) - N_BINS // 2  # in -n_bins//2, ..., n_bins//2\n",
    "\n",
    "plt.hist(\n",
    "    rights,\n",
    "    bins=np.arange(-N_BINS // 2 + 0.5, N_BINS // 2 + 1.5, 1),\n",
    "    rwidth=0.8,\n",
    "    align=\"mid\",\n",
    "    density=True,\n",
    ")\n",
    "plt.show()\n",
    "\n",
    "for i in range(-N_BINS // 2, N_BINS // 2 + 1):\n",
    "    print(f\"{i:-3d}: {np.sum(rights == i):6d}\")"
   ]
  },
  {
   "cell_type": "markdown",
   "metadata": {},
   "source": [
    "### Analytical solution\n",
    "\n",
    "Probability of success for the **binomial distribution**: $p = 1 {\\large/} \\binom{42}{6} = 1 / 5245786 \\approx 0.0000191\\%$"
   ]
  },
  {
   "cell_type": "code",
   "execution_count": null,
   "metadata": {},
   "outputs": [],
   "source": [
    "from math import comb\n",
    "\n",
    "# compute expected distribution\n",
    "p = 0.5\n",
    "pmf = lambda k: comb(N_BINS - 1, k) * p**k * (1 - p) ** (N_BINS - k - 1)\n",
    "hist = np.round(np.asarray([pmf(k) for k in range(N_BINS)]) * N_BALLS)\n",
    "hist = hist / np.sum(hist)  # normalize\n",
    "\n",
    "plt.bar(\n",
    "    x=np.arange(-N_BINS // 2 + 1, N_BINS // 2 + 1, 1),\n",
    "    height=hist,\n",
    "    width=0.8,\n",
    "    alpha=0.5,\n",
    ")\n",
    "plt.hist(\n",
    "    rights,\n",
    "    bins=np.arange(-N_BINS // 2 + 0.5, N_BINS // 2 + 1.5, 1),\n",
    "    rwidth=0.5,\n",
    "    align=\"mid\",\n",
    "    color=\"blue\",\n",
    "    alpha=0.7,\n",
    "    density=True,\n",
    ")\n",
    "plt.legend([\"binomial\", \"simulated\"])\n",
    "plt.show()"
   ]
  }
 ],
 "metadata": {
  "kernelspec": {
   "display_name": "ml3",
   "language": "python",
   "name": "python3"
  },
  "language_info": {
   "codemirror_mode": {
    "name": "ipython",
    "version": 3
   },
   "file_extension": ".py",
   "mimetype": "text/x-python",
   "name": "python",
   "nbconvert_exporter": "python",
   "pygments_lexer": "ipython3",
   "version": "3.11.8"
  }
 },
 "nbformat": 4,
 "nbformat_minor": 2
}
