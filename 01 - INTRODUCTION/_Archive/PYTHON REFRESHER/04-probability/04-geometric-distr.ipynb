{
 "cells": [
  {
   "cell_type": "markdown",
   "metadata": {},
   "source": [
    "# Geometric Distribution\n",
    "\n",
    "### Theory\n",
    "\n",
    "Setting: \n",
    "- We run a series of *failing* Bernoulli trials until the first success occurs at some trial $X > 0$\n",
    "- Trials are i.i.d. with success probability $p$\n",
    "- The geometric distribution models the number of failures $Y = X - 1$ before the first success. \n",
    "\n",
    "Properties:\n",
    "- Probability mass function: $P[Y = k] = (1 - p)^k \\, p$\n",
    "- Mean: $(1 - p) / p$\n",
    "- Variance: $(1-p) / p^2$\n"
   ]
  },
  {
   "cell_type": "markdown",
   "metadata": {},
   "source": [
    "### Example"
   ]
  },
  {
   "cell_type": "markdown",
   "metadata": {},
   "source": [
    "\"I can find the winning sequence of lottery numbers in the constellation of the stars in the milky way\" [Unnamed Genius]\n",
    "\n",
    "<img src=\"img/lottery.jpg\" style=\"width: 250px;\"/>\n",
    "\n",
    "Well, so can we <span style=\"font-size: 26px\">🤑</span>"
   ]
  },
  {
   "cell_type": "markdown",
   "metadata": {},
   "source": [
    "Our milky way: An infinitely long, random sequence of numbers, e.g.\n",
    "\n",
    "    15 29 32 33 19 31 23 1 31 30 11 9 3 32 10 14 21 4 21 11 32 9 28 26 31 35 15 21 19 37 7 15 4 13 14 42 10 ...\n",
    "\n",
    "And see how long it takes us to find the above sequence"
   ]
  },
  {
   "cell_type": "markdown",
   "metadata": {},
   "source": [
    "### Simulation"
   ]
  },
  {
   "cell_type": "code",
   "execution_count": null,
   "metadata": {},
   "outputs": [],
   "source": [
    "WINNING_NUMBERS = {10, 13, 14, 23, 24, 30}"
   ]
  },
  {
   "cell_type": "code",
   "execution_count": null,
   "metadata": {},
   "outputs": [],
   "source": [
    "import numpy as np\n",
    "import time\n",
    "from math import comb"
   ]
  },
  {
   "cell_type": "code",
   "execution_count": null,
   "metadata": {},
   "outputs": [],
   "source": [
    "def trials_to_success() -> int:\n",
    "    block_sz = len(WINNING_NUMBERS)\n",
    "\n",
    "    # return np.random.randint(500000, 10_000_000)\n",
    "\n",
    "    n_trials = 0\n",
    "    while True:\n",
    "        ints = np.random.randint(1, 43, 1_000_000)\n",
    "        for i in range(0, ints.size - block_sz):\n",
    "            n_trials += 1\n",
    "\n",
    "            if set(ints[i : i + block_sz]) == WINNING_NUMBERS:\n",
    "                print(n_trials)\n",
    "                return n_trials\n",
    "\n",
    "def run_trials(n: int) -> tuple[float, float]:\n",
    "    trials = [trials_to_success() for _ in range(n)]\n",
    "    return np.mean(trials), np.std(trials)\n",
    "\n",
    "\n",
    "np.random.seed(123)\n",
    "mu_exp, sigma_exp = run_trials(10)\n",
    "\n",
    "print(\"---\")\n",
    "print(f\"Mean: {mu_exp:.0f}\")\n",
    "print(f\"Std:  {sigma_exp:.0f}\")"
   ]
  },
  {
   "cell_type": "markdown",
   "metadata": {},
   "source": [
    "### Analytical solution\n",
    "\n",
    "Probability of success for the **geometric distribution**: $p = 1 {\\large/} \\binom{42}{6} = 1 / 5245786 \\approx 0.0000191\\%$"
   ]
  },
  {
   "cell_type": "code",
   "execution_count": null,
   "metadata": {},
   "outputs": [],
   "source": [
    "p = 1 / comb(42, 6)\n",
    "\n",
    "mu = (1 - p) / p\n",
    "sigma = np.sqrt((1 - p) / p**2)\n",
    "\n",
    "print(f\"Mean: {mu:.0f}\")\n",
    "print(f\"Std:  {sigma:.0f}\")"
   ]
  }
 ],
 "metadata": {
  "kernelspec": {
   "display_name": "ml3",
   "language": "python",
   "name": "python3"
  },
  "language_info": {
   "codemirror_mode": {
    "name": "ipython",
    "version": 3
   },
   "file_extension": ".py",
   "mimetype": "text/x-python",
   "name": "python",
   "nbconvert_exporter": "python",
   "pygments_lexer": "ipython3",
   "version": "3.11.8"
  }
 },
 "nbformat": 4,
 "nbformat_minor": 2
}
