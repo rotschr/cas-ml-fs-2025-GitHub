{
 "cells": [
  {
   "cell_type": "markdown",
   "metadata": {},
   "source": [
    "# Probability Theory By Example"
   ]
  },
  {
   "cell_type": "markdown",
   "metadata": {},
   "source": [
    "### Axioms of Probability\n",
    "\n",
    "**Probabilities**\n",
    "\n",
    "A _probability function_ maps events onto real values ${P: \\mathcal{A} \\subseteq \\mathcal{S} \\rightarrow [0,1]}$.\n",
    "\n",
    "The probability of an event $\\mathcal{A}$ in the given sample space $\\mathcal{S}$, denoted $P(\\mathcal{A})$\n",
    "satisfies the following properties (Kolmogorov, 1933):\n",
    "\n",
    "Example: Rolling a regular die\n",
    "- Sample space: $\\mathcal{S} = \\{1, 2, 3, 4, 5, 6\\}$\n",
    "- Event space: $\\mathcal{A}_1 = \\{1\\}$, $\\ldots$, $\\mathcal{A}_6 = \\{6\\}$\n",
    "- Probabilities (fair die): $P(\\mathcal{A}_1) = \\ldots = P(\\mathcal{A}_6) = \\frac16$\n",
    "\n",
    "**Axiom 1**\n",
    "\n",
    "$P(\\mathcal{A}) \\geq 0$: Probability of any event $\\mathcal{A}$ is a non-negative real number\n",
    "\n",
    "Example (cont'd): $P(\\mathcal{A}_5) = -\\frac12$ does not make any sense\n",
    "\n",
    "**Axiom 2**\n",
    "\n",
    "$P(\\mathcal{S}) = 1$: Probability of the entire sample space is $1$\n",
    "\n",
    "Example (cont'd): The throw will produce *some* number\n",
    "\n",
    "**Axiom 3**\n",
    "\n",
    "$P(\\bigcup_{i=1}^{\\infty} \\mathcal{A}_i) = \\sum_{i=1}^{\\infty} P(\\mathcal{A}_i)$:\n",
    "Probability for any combination of events to occur is equal to the sum of their individual\n",
    "probabilities\n",
    "\n",
    "This assumes a _mutually exclusive_ set of events, i.e. $\\; \\mathcal{A}_i \\cap\n",
    "\\mathcal{A}_j = \\emptyset\\;\\;\\;\\forall i \\neq j$\n",
    "\n",
    "Example (cont'd): \n",
    "- Define an event $\\mathcal{E} := \\mathcal{A}_5 \\cup \\mathcal{A}_6$\n",
    "- Since $\\mathcal{A}_5$ and $\\mathcal{A}_6$ are mutually exclusive, $P(\\mathcal{E}) = P(\\mathcal{A}_5 \\cup \\mathcal{A}_6) = P(\\mathcal{A}_5) + P(\\mathcal{A}_6)$\n",
    "\n"
   ]
  },
  {
   "cell_type": "markdown",
   "metadata": {},
   "source": [
    "### Random Variables (RVs)\n",
    "\n",
    "The value of a random variable $X$ is a subset of the underlying sample space or simply an event.\n",
    "\n",
    "**Discrete case: probability mass functions (pmf)**\n",
    "\n",
    "$P(X = x)$ is the probability that $X$ takes on the value $x$\n",
    "\n",
    "Example (cont'd): $P(X = 5) = \\frac16$\n",
    "\n",
    "**Continuous case: probability density functions (pdf)**\n",
    "\n",
    "Consider RV $H$ describing the height of a person\n",
    "\n",
    "- $P(H = 1.87965)$ makes little sense as the height is continuous\n",
    "- $p(H = h)$ is the probability density at $h$\n",
    "\n",
    "Properties of a continuous RV $X$ (analagous to discrete case):\n",
    "\n",
    "- ${\\displaystyle p(x) \\geq 0 }$\n",
    "- ${\\displaystyle \\int_{-\\infty}^{\\infty} p(x) \\, dx = 1 }$\n",
    "\n",
    "Computing actual probabilities: $\\displaystyle P(X\\in(a, b]) = \\int _ {a}^{b} p(x) \\,d x$\n",
    "\n",
    "**Example**\n",
    "\n",
    "$P(X\\in(-2, 3]) = \\int _ {-2}^{3} p(x) \\,d x$\n",
    "\n",
    "<img src=\"img/prob_density_2.svg\" style=\"width: 300px;\"/>\n"
   ]
  },
  {
   "cell_type": "markdown",
   "metadata": {},
   "source": [
    "### Mean and Variance\n",
    "\n",
    "**Mean**\n",
    "\n",
    "Discrete RV: $\\displaystyle \\mu_X = \\text{E}[X] = \\sum_i x_i\\,p_i \\quad$\n",
    "\n",
    "Continuous RV: $\\displaystyle \\mu_X = \\text{E}[X] = \\int_{-\\infty}^\\infty x\\,p(x) \\,d x$\n",
    "\n",
    "**Variance**\n",
    "\n",
    "Variance (both discrete and continuous): $\\sigma_X^2 = \\mathrm{Var}(X) = \\text{E}\\left[(X-\\mu_X)^2\\right]$\n",
    "\n",
    "**Example: Parking the car**\n",
    "\n",
    "You're given two options\n",
    "\n",
    "1. Park car in parking garage. Cost: CHF 24\n",
    "2. Park car around the corner and risk a fine. Cost: CHF 40 if caught. Chance of getting caught: $p = 3/4$\n",
    "\n",
    "Let $X_1$ and $X_2$ be the cost of option 1 and 2, respectively\n",
    "\n",
    "Compute expected cost in both cases:\n",
    "\n",
    "1. $\\text{E}[X_1] = 24 \\cdot 1 = 24$\n",
    "2. $\\text{E}[X_2] = 40 \\cdot \\frac34 + 0 \\cdot \\frac13 = 30$\n",
    "\n",
    "So: Economically speaking, in expectation it's better to use the parking garage\n"
   ]
  }
 ],
 "metadata": {
  "kernelspec": {
   "display_name": "ml3",
   "language": "python",
   "name": "python3"
  },
  "language_info": {
   "codemirror_mode": {
    "name": "ipython",
    "version": 3
   },
   "file_extension": ".py",
   "mimetype": "text/x-python",
   "name": "python",
   "nbconvert_exporter": "python",
   "pygments_lexer": "ipython3",
   "version": "3.11.8"
  }
 },
 "nbformat": 4,
 "nbformat_minor": 2
}
