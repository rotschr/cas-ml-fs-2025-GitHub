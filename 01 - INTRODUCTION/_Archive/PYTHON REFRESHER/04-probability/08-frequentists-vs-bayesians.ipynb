{
 "cells": [
  {
   "cell_type": "markdown",
   "metadata": {},
   "source": [
    "# Example: True bias of a coin\n",
    "\n",
    "We're given a sequence of coin tosses, e.g. `h t t h h h t t h h t t t t ...`\n",
    "\n",
    "Say, we observe 35 heads in 100 tosses.\n",
    "\n",
    "What is the true (\"hidden\") parameter $r := P(\\text{heads})$ of the coin?"
   ]
  },
  {
   "cell_type": "markdown",
   "metadata": {},
   "source": [
    "### Quick note: Frequentist vs. Bayesian statistics\n",
    "\n",
    "**Frequentist stats**:\n",
    "- Treats probability as the long-run frequency of occurrence of an event\n",
    "- Parameters considered unknown but *deterministic* quantities\n",
    "- Relies on sampling, estimators, hypothesis testing, etc *without* incorporating prior information\n",
    "\n",
    "**Bayesian stats**:\n",
    "- Treats probability as a measure of belief or certainty about an event\n",
    "- Parameters modeled as *random variables* with own probability distributions\n",
    "- Combines prior beliefs with observed data through Bayes' theorem\n",
    "\n",
    "Bayesian stats receive an increased interest, e.g. in medical research:\n",
    "\n",
    "<img src=\"img/bayesian-medical.jpg\" style=\"width: 450px;\"/>\n",
    "\n",
    "<small>Source: https://www.ncbi.nlm.nih.gov/pmc/articles/PMC6406060/</small>"
   ]
  },
  {
   "cell_type": "markdown",
   "metadata": {},
   "source": [
    "### Frequentist approach"
   ]
  },
  {
   "cell_type": "markdown",
   "metadata": {},
   "source": [
    "So-called frequentist guess is:\n",
    "- Mean: $\\mu = 35/100 = 0.35$\n",
    "- Std: (cannot estimate, have a single sample only)\n",
    "\n",
    "We're already done here :/"
   ]
  },
  {
   "cell_type": "markdown",
   "metadata": {},
   "source": [
    "### Bayesian approach\n",
    "\n",
    "Symbols used:\n",
    "- $H$, $T$: Random variables expressing the numbers of heads and tails, respectively\n",
    "- $h$, $t$: Actually observed numbers of heads and tails, respectively\n",
    "- $N$: Total number of coin tosses, $N = H + T = h + t$\n",
    "- $r$: Unknown probability of observing heads, $P(\\text{heads})$\n",
    " \n",
    "\n",
    "The posterior density of $r$ conditional on $h$ and $t$ is (Bayes' theorem): \n",
    "    \n",
    "$\\displaystyle p(r\\mid H=h, T=t) = \\frac{P(H=h\\mid r, N=h+t)\\,p(r)}{\\int _{0}^{1}\\Pr(H=h\\mid s, N=h+t)\\,p(s)\\,ds}$\n",
    "\n",
    "where\n",
    "- $p(r) = \\text{uniform}(0, 1)$ the prior distribution\n",
    "- $\\displaystyle \\Pr(H=h\\mid r,N=h+t)={N \\choose h}r^{h}(1-r)^{t}$ the likelihood distribution\n",
    "\n",
    "Plugging this back into the posterior (and using a popular trick called [conjugate priors](https://en.wikipedia.org/wiki/Conjugate_prior)) yields\n",
    "\n",
    "${\\displaystyle p(r\\mid H=h,T=t)={\\frac {(h+t+1)!}{h!\\,t!}}r^{h}(1-r)^{t}.}$"
   ]
  },
  {
   "cell_type": "code",
   "execution_count": null,
   "metadata": {},
   "outputs": [],
   "source": [
    "import matplotlib.pyplot as plt\n",
    "import numpy as np\n",
    "from scipy import special\n",
    "\n",
    "N = 100\n",
    "K = 35\n",
    "\n",
    "p_r = lambda r: special.comb(N, K) * r**K * (1 - r) ** (N - K)\n",
    "\n",
    "rs = np.linspace(0, 1, 1000)\n",
    "ps = np.fromiter((p_r(r) for r in rs), float)\n",
    "ps /= np.sum(ps)  # re-normalize the distribution\n",
    "\n",
    "# mean and std of the distribution\n",
    "print(f\"mean: {np.sum(ps * rs):.5f}\")\n",
    "print(f\"std:  {np.std(ps*rs):.5f}\")\n",
    "plt.figure(figsize=(9, 5))\n",
    "plt.plot(rs, ps)\n",
    "plt.xlabel(\"True bias r\")\n",
    "plt.ylabel(\"p(q)\")\n",
    "plt.grid(True)"
   ]
  }
 ],
 "metadata": {
  "kernelspec": {
   "display_name": "dev",
   "language": "python",
   "name": "python3"
  },
  "language_info": {
   "codemirror_mode": {
    "name": "ipython",
    "version": 3
   },
   "file_extension": ".py",
   "mimetype": "text/x-python",
   "name": "python",
   "nbconvert_exporter": "python",
   "pygments_lexer": "ipython3",
   "version": "3.11.8"
  },
  "orig_nbformat": 4,
  "vscode": {
   "interpreter": {
    "hash": "67ee0ea068a96d3b7701187d17c7075fa64586b81268d13adf10e29d7340f70b"
   }
  }
 },
 "nbformat": 4,
 "nbformat_minor": 2
}
