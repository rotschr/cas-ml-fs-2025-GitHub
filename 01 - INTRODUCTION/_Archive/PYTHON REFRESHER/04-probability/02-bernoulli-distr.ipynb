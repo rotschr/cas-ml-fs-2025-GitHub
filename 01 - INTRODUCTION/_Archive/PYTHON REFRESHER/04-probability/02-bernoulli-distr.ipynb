{
 "cells": [
  {
   "cell_type": "markdown",
   "metadata": {},
   "source": [
    "# Bernoulli distribution\n",
    "\n",
    "### Theory\n",
    "\n",
    "Setting: \n",
    "- Models an experiment with a single binary outcome $X \\in \\{0, 1\\}$\n",
    "- Probability of success ($X = 1$) is $p$\n",
    "\n",
    "\n",
    "Properties:\n",
    "- Probability mass function: $P(X = k) = \\displaystyle {\\begin{cases}1-p&{\\text{if }}k=0\\\\p&{\\text{if }}k=1\\end{cases}}$\n",
    "\n",
    "- Mean: $p$\n",
    "\n",
    "- Variance: $(1-p)\\,p$"
   ]
  },
  {
   "cell_type": "markdown",
   "metadata": {},
   "source": [
    "### Example\n",
    "\n",
    "How many heads will we get from 1000 coin tosses of an unfair coin? Assume $p = P(\\text{heads}) = 0.7$ \n"
   ]
  },
  {
   "cell_type": "markdown",
   "metadata": {},
   "source": [
    "### Simulation"
   ]
  },
  {
   "cell_type": "code",
   "execution_count": null,
   "metadata": {},
   "outputs": [],
   "source": [
    "import numpy as np\n",
    "import matplotlib.pyplot as plt\n",
    "\n",
    "plt.rc('axes', axisbelow=True)\n",
    "\n",
    "p = 0.7"
   ]
  },
  {
   "cell_type": "code",
   "execution_count": null,
   "metadata": {},
   "outputs": [],
   "source": [
    "n = 1000\n",
    "heads = (np.random.random(n) < p).astype(int)\n",
    "\n",
    "print(f\"Mean:     {np.mean(heads):.5f}\")\n",
    "print(f\"Variance: {np.var(heads):.5f}\")\n",
    "\n",
    "plt.hist(heads, bins=[-0.5, 0.5, 1.5], align=\"mid\", rwidth=0.2, density=True)\n",
    "plt.grid(axis='y')\n",
    "plt.ylabel(\"# heads [normalized]\")\n",
    "plt.show()"
   ]
  },
  {
   "cell_type": "markdown",
   "metadata": {},
   "source": [
    "### Analytical solution\n",
    "\n",
    "Let RV $X$ describe the outcome of the toss. Sample space $\\mathcal S = \\{0\\;(\\text{tails}), 1\\;(\\text{heads})\\}$"
   ]
  },
  {
   "cell_type": "code",
   "execution_count": null,
   "metadata": {},
   "outputs": [],
   "source": [
    "mu = p\n",
    "sigma2 = (1 - p) * p\n",
    "\n",
    "print(f\"Mean:     {mu:.5f}\")\n",
    "print(f\"Variance: {sigma2:.5f}\")"
   ]
  }
 ],
 "metadata": {
  "kernelspec": {
   "display_name": ".venv",
   "language": "python",
   "name": "python3"
  },
  "language_info": {
   "codemirror_mode": {
    "name": "ipython",
    "version": 3
   },
   "file_extension": ".py",
   "mimetype": "text/x-python",
   "name": "python",
   "nbconvert_exporter": "python",
   "pygments_lexer": "ipython3",
   "version": "3.12.6"
  }
 },
 "nbformat": 4,
 "nbformat_minor": 2
}
