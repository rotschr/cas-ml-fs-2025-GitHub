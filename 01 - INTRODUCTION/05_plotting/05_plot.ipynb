{
 "cells": [
  {
   "cell_type": "markdown",
   "id": "1a6ae68f-70fe-48ca-9279-ead6132a6622",
   "metadata": {
    "editable": true,
    "slideshow": {
     "slide_type": ""
    },
    "tags": []
   },
   "source": [
    "# Create graphics\n",
    "\n",
    "Creating graphics usually takes a relatively long time. In the notebook we will discuss the most common types of visualisations and how visualisations can be saved. We use the `Matplotlib` library for this purpose. See [here](https://matplotlib.org/stable/tutorials/pyplot.html) for a basic introduction to Matlibplot. The last two examples use `Plotly` ([documentation](https://plotly.com/python/plotly-fundamentals/)).\n",
    "\n",
    "Since we have just discussed pandas, we assume that the data is available in pandas. The sample data is read from a CSV file that can be found in the same Ilias folder as the notebook and that has to be stored in the same directory as the notebook on your computer.\n",
    "\n",
    "The libraries must first be imported:"
   ]
  },
  {
   "cell_type": "code",
   "execution_count": null,
   "id": "b8cfb3bc",
   "metadata": {
    "editable": true,
    "slideshow": {
     "slide_type": ""
    },
    "tags": []
   },
   "outputs": [],
   "source": [
    "#%pip install matplotlib pandas plotly"
   ]
  },
  {
   "cell_type": "code",
   "execution_count": null,
   "id": "53110ac7-b705-4dea-ba74-a9e75da6688e",
   "metadata": {
    "tags": []
   },
   "outputs": [],
   "source": [
    "import matplotlib.pyplot as plt\n",
    "import matplotlib.dates as mdates\n",
    "\n",
    "import plotly.express as px\n",
    "import plotly.figure_factory as ff\n",
    "\n",
    "import pandas as pd"
   ]
  },
  {
   "cell_type": "markdown",
   "id": "027c948d-f3f4-4a92-8ada-ced6ffb33d5c",
   "metadata": {},
   "source": [
    "## Load data\n",
    "\n",
    "First we load the data we want to visualize:\n",
    "\n",
    "- On the one hand, we load the regional portraits of the Swiss municipalities from 2019 (see [here](https://opendata.swiss/de/dataset/regionalportrats-2021-kennzahlen-aller-gemeinden)). Each Swiss municipality (approx. 2000) is described with key figures on population, economy and politics.\n",
    "\n",
    "- We also load bicycle data from the city of Zurich ([here](https://data.stadt-zuerich.ch/dataset/ted_taz_verkehrszaehlungen_werte_fussgaenger_velo)). We know the number of passing bicycles per hour at one location in the city, i.e. Langstrasse Unterführung, in January 2021."
   ]
  },
  {
   "cell_type": "code",
   "execution_count": null,
   "id": "c456d38a-5521-4eab-b39e-bb3dd79b4f19",
   "metadata": {
    "tags": []
   },
   "outputs": [],
   "source": [
    "gem = pd.read_csv(\"gemeindeportraits.csv\", sep=\";\", encoding=\"utf-8\")\n",
    "\n",
    "print(gem.info())\n",
    "display(gem.head(5))"
   ]
  },
  {
   "cell_type": "code",
   "execution_count": null,
   "id": "c83fccff-12a3-4cb8-8fed-6668cd0d1a88",
   "metadata": {
    "tags": []
   },
   "outputs": [],
   "source": [
    "velo = pd.read_csv(\"velozaehldaten_aufbereitet.csv\", sep=\",\", encoding=\"utf-8\")\n",
    "\n",
    "print(velo.info())\n",
    "display(velo.head(5))"
   ]
  },
  {
   "cell_type": "markdown",
   "id": "37381050-f3ad-41b3-b59a-dfd5042b39fe",
   "metadata": {},
   "source": [
    "## Bar and pie plot\n",
    "\n",
    "How does the age structure in Zurich look like?\n",
    "\n",
    "- First we filter the data for Zurich\n",
    "- Then we select only the desired columns with the age structure\n",
    "- And finally, we make life easy for ourselves by taking the mean of this one row (makes no sense!). This gives us a ready to use data structure for Matplotlib"
   ]
  },
  {
   "cell_type": "code",
   "execution_count": null,
   "id": "a333a3e5-3709-434f-858e-ac9140a1b603",
   "metadata": {
    "tags": []
   },
   "outputs": [],
   "source": [
    "gem_zh = gem[gem[\"gemeinde\"] == \"Zürich\"]\n",
    "gem_zh_alt = gem_zh[[\"0_19_y\", \"20_64_y\", \"65_y\"]].mean()\n",
    "\n",
    "print(gem_zh_alt)"
   ]
  },
  {
   "cell_type": "markdown",
   "id": "d9279209-811d-468b-84a4-1049926c097b",
   "metadata": {},
   "source": [
    "- We select the `bar()` plot\n",
    "- We pass the `index` of the data (i.e. the labels) as X and the percentage values of the age structure (`values`) as Y.\n",
    "- Each bar plot is assigned a fill color (`color`). \n",
    "- All available colors can be found in this [list](https://matplotlib.org/stable/gallery/color/named_colors.html#css-colors)"
   ]
  },
  {
   "cell_type": "code",
   "execution_count": null,
   "id": "3f97deea-0250-48e5-ba5c-75fec3925928",
   "metadata": {
    "tags": []
   },
   "outputs": [],
   "source": [
    "# Grösse des Plot\n",
    "plt.figure(figsize=(8, 6))\n",
    "\n",
    "# Typ des Plot und Inputdaten\n",
    "plt.bar(gem_zh_alt.index, gem_zh_alt.values, color=['skyblue', 'salmon', 'lightgreen'])\n",
    "\n",
    "# y-Achse soll von 0 bis 100% gehen\n",
    "plt.ylim(0,100)\n",
    "\n",
    "# Beschriftung\n",
    "plt.xlabel('Altersgruppen')\n",
    "plt.ylabel('Prozent der Bevölkerung')\n",
    "plt.title('Altersverteilung in Zürich')\n",
    "\n",
    "# Anzeige der Plot\n",
    "plt.show()"
   ]
  },
  {
   "cell_type": "markdown",
   "id": "c23649b2-04e4-49fb-af6b-e3da8f9e4923",
   "metadata": {},
   "source": [
    "- We can also display the same as a pieplot (`pie()`)\n",
    "- For pieplots, it makes sense to label the areas with the % (`autopct`)"
   ]
  },
  {
   "cell_type": "code",
   "execution_count": null,
   "id": "8d387459-1c1e-4784-8d05-2a566039dce4",
   "metadata": {
    "tags": []
   },
   "outputs": [],
   "source": [
    "# Grösse des Plot\n",
    "plt.figure(figsize=(6, 6))\n",
    "\n",
    "# Pie-Plot\n",
    "plt.pie(gem_zh_alt.values, labels=gem_zh_alt.index, autopct='%1.1f%%', colors=['skyblue', 'salmon', 'lightgreen'])\n",
    "\n",
    "# Beschriftung\n",
    "plt.title('Altersverteilung in Zürich')\n",
    "plt.show()"
   ]
  },
  {
   "cell_type": "markdown",
   "id": "902a2214-78d6-46ce-b262-b5c00845e879",
   "metadata": {},
   "source": [
    "## Scatterplot\n",
    "\n",
    "Scatterplot can be used to compare pairs of values as point distributions. How about an obligatory comparison of the % of foreigners with the % of people that depend on social welfare per municipality?\n",
    "\n",
    "- We use the `scatter()` function\n",
    "- The two measurements per municipality can be passed directly as columns of the Pandas dataframe\n",
    "- Does it make sense to scale the two axes from 0-100?"
   ]
  },
  {
   "cell_type": "code",
   "execution_count": null,
   "id": "07d52139-83ad-4663-8763-b882f8cc1492",
   "metadata": {
    "tags": []
   },
   "outputs": [],
   "source": [
    "# Grösse\n",
    "plt.figure(figsize=(6, 4))\n",
    "\n",
    "# Scatterplot\n",
    "plt.scatter(gem[\"auslaender_proz\"], gem[\"sozialhilfequote\"], color='skyblue', alpha=0.6)\n",
    "\n",
    "# Achsen Limiten\n",
    "plt.xlim(0,100)\n",
    "plt.ylim(0,100)\n",
    "\n",
    "# Beschriftung\n",
    "plt.xlabel('Prozent Ausländer')\n",
    "plt.ylabel('Sozialhilfequote')\n",
    "plt.title('Vergleich Sozialhilfequote und Anteil Ausländer')\n",
    "plt.show()"
   ]
  },
  {
   "cell_type": "markdown",
   "id": "fca1b387",
   "metadata": {},
   "source": [
    "You can test if a relashionship occurs if the `xlim()` and `ylim()` of the plot is changed!?"
   ]
  },
  {
   "cell_type": "markdown",
   "id": "3919b833-9ad0-47bf-a950-939efdb3777e",
   "metadata": {},
   "source": [
    " ## Boxplot\n",
    " \n",
    "Boxplots are very useful for comparing several numerical columns. Just as a reminder on how to read boxplots (and an example of how to show images in markdown:)):\n",
    "\n",
    "<img src=\"boxplot.png\" width=500/>\n",
    "\n",
    "We compare the voter shares of the largest parties across all municipalities.\n",
    "\n",
    "- We can apply the `boxplot()` directly to the (filtered) dataframe"
   ]
  },
  {
   "cell_type": "code",
   "execution_count": null,
   "id": "b3b4c93d-5004-4c67-9fb1-deb615ba09cf",
   "metadata": {
    "tags": []
   },
   "outputs": [],
   "source": [
    "# Grösse\n",
    "plt.figure(figsize=(8, 4))\n",
    "\n",
    "# Boxplot\n",
    "gem[['svp', 'fdp', 'cvp', 'sp']].boxplot()\n",
    "\n",
    "# Beschriftung\n",
    "plt.xlabel('Parteien')\n",
    "plt.ylabel('Wähleranteil')\n",
    "plt.title('Wähleranteil der grössten Parteien pro Gemeinde')\n",
    "plt.show()"
   ]
  },
  {
   "cell_type": "markdown",
   "id": "aced52a9-0cb7-43af-a032-f4eab775a8d8",
   "metadata": {},
   "source": [
    "## Line and time series plot\n",
    "\n",
    "Line plots are most commonly used to visualize phenomena that have been measured multiple times. A typical example is time series, i.e. measurements of the same phenomenon that have been taken repeatedly over time. \n",
    "\n",
    "We work with the Zürich bicycle count data.\n",
    "\n",
    "The simplest visualization shows all measurements in the order in which they were registered."
   ]
  },
  {
   "cell_type": "code",
   "execution_count": null,
   "id": "5ae5742c-f824-437f-928f-d68e4ebb8085",
   "metadata": {
    "tags": []
   },
   "outputs": [],
   "source": [
    "# Grösse\n",
    "plt.figure(figsize=(14, 4))\n",
    "\n",
    "# einfacher Lineplot\n",
    "plt.plot(velo[\"y\"], color = \"darkorange\")\n",
    "\n",
    "# Beschriftung\n",
    "plt.xlabel('Messung')\n",
    "plt.ylabel('Anzal Velos (Stunde)')\n",
    "plt.title('Messungen zur Anzahl Velos in der Langstrassenunterführung Zürich (Januar 2021)')\n",
    "plt.show()"
   ]
  },
  {
   "cell_type": "markdown",
   "id": "e53ab2ca-2e2e-425c-a86a-8ce8368fbca6",
   "metadata": {},
   "source": [
    "It gets a little more complicated if you want to display the date format appropriately (x-axis).\n",
    "\n",
    "- First we have to convert the time field in the data into a datetime format (see [here](https://pandas.pydata.org/docs/user_guide/timeseries.html) for some examples of working with datetime in pandas)\n",
    "- When plotting, we transfer the time field and the measurements\n",
    "- Now comes a lot of axis formatting and labeling"
   ]
  },
  {
   "cell_type": "code",
   "execution_count": null,
   "id": "7166b4ac-7617-4bc5-8671-3b0ffa631d0e",
   "metadata": {
    "tags": []
   },
   "outputs": [],
   "source": [
    "velo['ds'] = pd.to_datetime(velo['ds'], format=\"%Y-%m-%d %H:%M:%S\") # the time field looks like this: \"2021-01-01 01:01:15\""
   ]
  },
  {
   "cell_type": "code",
   "execution_count": null,
   "id": "77c623be-8f5f-4153-8fd8-bb80ba1d7a20",
   "metadata": {
    "tags": []
   },
   "outputs": [],
   "source": [
    "# Grösse\n",
    "fig = plt.figure(figsize=(14, 4))\n",
    "\n",
    "# Lineplot\n",
    "plt.plot(velo['ds'], velo['y'], label='Velozählungen', color = \"darkorange\")\n",
    "\n",
    "# Formatierung der Achsenbeschriftung\n",
    "ax = plt.gca()\n",
    "ax.xaxis.set_major_formatter(mdates.DateFormatter('%Y-%m-%d'))\n",
    "ax.xaxis.set_major_locator(mdates.DayLocator())\n",
    "\n",
    "# Welche Gridlines?\n",
    "ax.xaxis.set_major_locator(mdates.WeekdayLocator(interval=1))\n",
    "ax.xaxis.set_minor_locator(mdates.DayLocator(interval=1))\n",
    "ax.xaxis.set_major_formatter(mdates.DateFormatter('%y-%m-%d'))\n",
    "\n",
    "# Art der Gridlijnes\n",
    "ax.xaxis.grid(True, which='major', linestyle='-', linewidth='0.5', color='black')\n",
    "ax.xaxis.grid(True, which='minor', linestyle=':', linewidth='0.5', color='gray')\n",
    "\n",
    "# Sonstite Beschriftung\n",
    "plt.xlabel('Datum')\n",
    "plt.ylabel('Anzal Velos (Stunde)')\n",
    "plt.title('Messungen zur Anzahl Velos in der Langstrassenunterführung Zürich  (Januar 2021)')\n",
    "\n",
    "plt.show()"
   ]
  },
  {
   "cell_type": "markdown",
   "id": "bc437c0a-f0bb-47ec-b23b-08fb67b52cfc",
   "metadata": {},
   "source": [
    "## Saving plots\n",
    "\n",
    "We like the last plot and therefore save it as an image file. It is important that we have saved the plot above in the *fig* object (`fig = plt.figure(figsize=(14, 4))`).\n",
    "\n",
    "Saving as an image is now very simple:"
   ]
  },
  {
   "cell_type": "code",
   "execution_count": null,
   "id": "43b1b56f-2c03-4464-a422-ad679b6bca05",
   "metadata": {
    "tags": []
   },
   "outputs": [],
   "source": [
    "fig.savefig(\"velozaehlung.png\", format=\"png\", dpi=300)"
   ]
  },
  {
   "cell_type": "markdown",
   "id": "acf66c1e",
   "metadata": {},
   "source": [
    "You can find the image file in the same directory as the notebook."
   ]
  },
  {
   "cell_type": "markdown",
   "id": "de865925",
   "metadata": {},
   "source": [
    "## Interactive plots\n",
    "\n",
    "*Matplotlib* is good for static plots. However, if you want to explore the data interactively, you can use libraries like *Plotly*.\n",
    "\n",
    "In the following we crate a heat-map from correlations between features in the Gemeinde-Tabelle."
   ]
  },
  {
   "cell_type": "code",
   "execution_count": null,
   "id": "affefbc5",
   "metadata": {},
   "outputs": [],
   "source": [
    "# Select features in a list\n",
    "features = [\n",
    "    \"sozialhilfequote\",\n",
    "    \"auslaender_proz\",\n",
    "    \"geburtenziffer\", \n",
    "    \"sterbeziffer\",\n",
    "    \"heiratsziffer\", \n",
    "    \"scheidungsziffer\",\n",
    "    \"leerwohnungsziffer\", \n",
    "    \"siedlung_proz\",\n",
    "    \"landw_proz\",\n",
    "    \"sp\", \n",
    "    \"svp\",\n",
    "    \"fdp\",\n",
    "]\n",
    "\n",
    "# Compute pair-wise correlations between all features\n",
    "correlation_matrix = gem[features].corr()\n",
    "\n",
    "# plot the correlations as a heatmap\n",
    "fig = px.imshow(correlation_matrix, \n",
    "                text_auto=True, # Display the correlation coefficients on the heatmap\n",
    "                title='Heatmap mit Gemeinde-Korrelationen',\n",
    "                color_continuous_scale='Viridis',  # Choose a color scale\n",
    "                width=1200,  # Specify width\n",
    "                height=1200  # Specify height\n",
    "                )\n",
    "\n",
    "fig.show()"
   ]
  },
  {
   "cell_type": "markdown",
   "id": "1ef840a1",
   "metadata": {},
   "source": [
    "## Histogram and Density Plot\n",
    "\n",
    "Two widely used plots that we are still missing are histograms and density plots (the later being a version of the first).\n",
    "\n",
    "In histograms, the occurrence of individual \"things\" are counted. Most often, histograms are applied to categorical data, which we don't have. We therefore create one histogram from synthetic categorical data and another histogram from numerical data from a previous dataset."
   ]
  },
  {
   "cell_type": "code",
   "execution_count": null,
   "id": "703a5d75",
   "metadata": {},
   "outputs": [],
   "source": [
    "# synthetic data\n",
    "data = {\n",
    "    'categories': ['A', 'B', 'A', 'C', 'B', 'A', 'D', 'B', 'B', 'A', 'D', 'B', 'B', 'B', 'D']\n",
    "}\n",
    "df = pd.DataFrame(data)\n",
    "\n",
    "# Create a histogram using Plotly\n",
    "fig = px.histogram(df, \n",
    "                   x='categories',          # Specify the column to plot\n",
    "                   title='Histogram of Categories', \n",
    "                   labels={'categories': 'Category'},  # Label for x-axis\n",
    "                   color_discrete_sequence=['lightblue'],  # Set color of the bars\n",
    "                   category_orders={'categories': ['A', 'B', 'C', 'D']}  # Order categories if desired\n",
    ")\n",
    "\n",
    "# Show the figure\n",
    "fig.show()"
   ]
  },
  {
   "cell_type": "code",
   "execution_count": null,
   "id": "b99f3275",
   "metadata": {},
   "outputs": [],
   "source": [
    "# Create a histogram from numerical data in a dataframe\n",
    "fig = px.histogram(\n",
    "    gem[[\"einwohner\"]], \n",
    "    x='einwohner',\n",
    "    nbins = 10, # the bins need to be specified. This is the number of groups in the histogram\n",
    "    title='Histogram der Anzahl Einwohner pro Gemeinde',\n",
    "    opacity=0.75, \n",
    "    text_auto=True \n",
    ")\n",
    "\n",
    "# Show the figure\n",
    "fig.show()"
   ]
  },
  {
   "cell_type": "markdown",
   "id": "cbbf6c90",
   "metadata": {},
   "source": [
    "Ok, this is not very helpful. Almost all Gemeinden are smaller than 50k Einwohner. In these cases it might make sense to use a more advanced plot, such as density from [figure_factory](https://plotly.com/python/figure-factories/)."
   ]
  },
  {
   "cell_type": "code",
   "execution_count": null,
   "id": "01a708d1",
   "metadata": {},
   "outputs": [],
   "source": [
    "fig = ff.create_distplot([gem[\"einwohner\"].to_list()], [\"einwohner\"])\n",
    "fig.show()"
   ]
  }
 ],
 "metadata": {
  "kernelspec": {
   "display_name": ".venv",
   "language": "python",
   "name": "python3"
  },
  "language_info": {
   "codemirror_mode": {
    "name": "ipython",
    "version": 3
   },
   "file_extension": ".py",
   "mimetype": "text/x-python",
   "name": "python",
   "nbconvert_exporter": "python",
   "pygments_lexer": "ipython3",
   "version": "3.12.6"
  }
 },
 "nbformat": 4,
 "nbformat_minor": 5
}
