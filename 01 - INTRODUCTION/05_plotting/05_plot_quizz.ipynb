{
 "cells": [
  {
   "cell_type": "markdown",
   "id": "a980fa65-f746-4494-8804-d8b29ce55da9",
   "metadata": {},
   "source": [
    "# Plot Quizz\n",
    "\n",
    "Some exercises to test your plotting-skills.\n",
    "\n",
    "Some data for the following exercises:"
   ]
  },
  {
   "cell_type": "code",
   "execution_count": null,
   "id": "f09f5212",
   "metadata": {},
   "outputs": [],
   "source": [
    "import pandas as pd\n",
    "import numpy as np\n",
    "import matplotlib.pyplot as plt\n",
    "import plotly.express as px\n",
    "import plotly.graph_objects as go"
   ]
  },
  {
   "cell_type": "code",
   "execution_count": null,
   "id": "11311850",
   "metadata": {},
   "outputs": [],
   "source": [
    "# Sample data\n",
    "data = {\n",
    "    'Name': ['Alice', 'Bob', 'Charlie', 'David', 'Eve', 'Frank', 'Grace'],\n",
    "    'Age': [25, 30, 35, 40, 29, 32, 38],\n",
    "    'Department': ['HR', 'IT', 'IT', 'HR', 'Marketing', 'IT', 'Marketing'],\n",
    "    'Salary': [55000, 60000, 75000, 50000, 70000, 65000, 72000]\n",
    "}\n",
    "\n",
    "df = pd.DataFrame(data)"
   ]
  },
  {
   "cell_type": "markdown",
   "id": "3c410427",
   "metadata": {},
   "source": [
    "## Task 1: Bar and Pie Charts\n",
    "\n",
    "*Key Concepts: Bar and pie charts, categorical data visualization.*\n",
    "\n",
    "- Create a bar chart using matplotlib to show the count of employees in each department. (Hint: `df[\"Department\"].value_counts()` counts the number of times, each department occurs in the dataframe)\n",
    "- Create a pie chart showing the proportion of each department.\n"
   ]
  },
  {
   "cell_type": "code",
   "execution_count": null,
   "id": "7061b2a8",
   "metadata": {},
   "outputs": [],
   "source": [
    "# solve the task here:"
   ]
  },
  {
   "cell_type": "markdown",
   "id": "4a6fe335",
   "metadata": {},
   "source": [
    "## Task 2: Scatterplot and Boxplot\n",
    "\n",
    "*Key Concepts: Scatterplots, boxplots, data distribution, comparing numerical data.*\n",
    "\n",
    "- Create a scatterplot with Matplotlib to visualize the relationship between age and salary.\n",
    "- Create a boxplot showing the distribution of salaries by department."
   ]
  },
  {
   "cell_type": "code",
   "execution_count": null,
   "id": "75595de0",
   "metadata": {},
   "outputs": [],
   "source": [
    "# solve the task here:"
   ]
  },
  {
   "cell_type": "markdown",
   "id": "848213fe",
   "metadata": {},
   "source": [
    "## Task 3: Interactive Plots with Plotly\n",
    "\n",
    "*Key Concepts: Interactive plots, imshow, histograms, density plots with plotly.*\n",
    "\n",
    "- Create an imshow plot with Plotly to visualize a random 10x10 matrix (`np.random.rand(10, 10)`).\n",
    "- Create an interactive histogram of the \"Salary\" column."
   ]
  },
  {
   "cell_type": "code",
   "execution_count": null,
   "id": "20d8bf7c",
   "metadata": {},
   "outputs": [],
   "source": [
    "# solve the task here:"
   ]
  },
  {
   "cell_type": "markdown",
   "id": "5b5d3319",
   "metadata": {},
   "source": [
    "## Solutions"
   ]
  },
  {
   "cell_type": "code",
   "execution_count": null,
   "id": "e2f38d44",
   "metadata": {},
   "outputs": [],
   "source": [
    "# Task 1: Bar and Pie Charts\n",
    "# --------------------------\n",
    "\n",
    "# Step 1: Bar chart - Count of employees per department\n",
    "department_counts = df['Department'].value_counts()\n",
    "plt.figure(figsize=(8, 5))\n",
    "plt.bar(department_counts.index, department_counts.values, color='skyblue')\n",
    "plt.xlabel('Department')\n",
    "plt.ylabel('Number of Employees')\n",
    "plt.title('Count of Employees per Department')\n",
    "plt.show()\n",
    "\n",
    "# Step 2: Pie chart - Proportion of each department\n",
    "plt.figure(figsize=(8, 5))\n",
    "plt.pie(department_counts, labels=department_counts.index, autopct='%1.1f%%', startangle=140)\n",
    "plt.title('Proportion of Each Department')\n",
    "plt.show()\n",
    "\n",
    "# Task 2: Scatterplot and Boxplot\n",
    "# -------------------------------\n",
    "\n",
    "# Step 1: Scatterplot - Age vs. Salary\n",
    "plt.figure(figsize=(8, 5))\n",
    "plt.scatter(df['Age'], df['Salary'], color='teal')\n",
    "plt.xlabel('Age')\n",
    "plt.ylabel('Salary')\n",
    "plt.title('Scatterplot of Age vs. Salary')\n",
    "plt.show()\n",
    "\n",
    "# Step 2: Boxplot - Salary distribution by department\n",
    "plt.figure(figsize=(8, 5))\n",
    "df.boxplot(column='Salary', by='Department', grid=False)\n",
    "plt.xlabel('Department')\n",
    "plt.ylabel('Salary')\n",
    "plt.title('Salary Distribution by Department')\n",
    "plt.suptitle(\"\")  # Remove automatic 'Boxplot grouped by' title\n",
    "plt.show()\n",
    "\n",
    "# Task 3: Interactive Plots with Plotly\n",
    "# -------------------------------------\n",
    "\n",
    "# Step 1: Imshow - Visualize a random 10x10 matrix\n",
    "random_matrix = np.random.rand(10, 10)\n",
    "fig = px.imshow(random_matrix, color_continuous_scale='Viridis', title=\"Random 10x10 Matrix\")\n",
    "fig.show()\n",
    "\n",
    "# Step 2: Interactive Histogram - Salary distribution\n",
    "fig = px.histogram(df, x='Salary', nbins=10, title=\"Salary Distribution\")\n",
    "fig.show()"
   ]
  }
 ],
 "metadata": {
  "kernelspec": {
   "display_name": ".venv",
   "language": "python",
   "name": "python3"
  },
  "language_info": {
   "codemirror_mode": {
    "name": "ipython",
    "version": 3
   },
   "file_extension": ".py",
   "mimetype": "text/x-python",
   "name": "python",
   "nbconvert_exporter": "python",
   "pygments_lexer": "ipython3",
   "version": "3.12.6"
  }
 },
 "nbformat": 4,
 "nbformat_minor": 5
}
