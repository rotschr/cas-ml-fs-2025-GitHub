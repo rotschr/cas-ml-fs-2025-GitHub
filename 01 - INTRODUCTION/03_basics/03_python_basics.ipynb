{
 "cells": [
  {
   "cell_type": "markdown",
   "id": "a980fa65-f746-4494-8804-d8b29ce55da9",
   "metadata": {},
   "source": [
    "# Python Basics\n",
    "\n",
    "This notebook describes the first steps with Python. Topics include: What is a Jupyter Notebook? How to define variables? What data types exist? How to iterate over data? etc.\n",
    "\n",
    "There are many great Python introductions. You may want to take a closer look at these two (very different) courses:\n",
    "- https://developers.google.com/edu/python\n",
    "- https://www.coursera.org/specializations/python"
   ]
  },
  {
   "cell_type": "markdown",
   "id": "d5c58eb6-5ac2-4093-bd5a-c0bf84c40215",
   "metadata": {},
   "source": [
    "## Jupyter Notebook and Markdown\n",
    "\n",
    "This is a Jupyter Notebook (JN). A JN is a Python file with the extension *.ipynb*. Unlike Python scripts with the *.py* extension, a JN contains both code and text. Both are contained in cells. \n",
    "\n",
    "This is a text cell, called *Markdown*. With the + symbols at the top right of each cell (or if you work with VSCode: *+Markdown* between cells), you can create a new cell above or below the current cell. If the new cell is a code cell, you can convert it from *Code* to *Markdown* in the top menu (or the right bottom corner in VSCode).\n",
    "\n",
    "In Markdown, you can write plain text, like here:\n",
    "\n",
    "- or you can list things\n",
    "- like here...\n",
    "\n",
    "and much more, see e.g. [here](https://jupyter-notebook.readthedocs.io/en/stable/examples/Notebook/Working%20With%20Markdown%20Cells.html)...btw., this is a hyperlink.\n",
    "\n",
    "Use double-click to edit the cell and the play icon in the top menu (or CNTR-Enter) to see the formatted content."
   ]
  },
  {
   "cell_type": "markdown",
   "id": "1cd79b65-7378-4a8d-9c06-a584c9cea70d",
   "metadata": {},
   "source": [
    "## Getting Started with Python\n",
    "\n",
    "(did you realize that headers always start with \\#. The fewer \\#, the larger the header)"
   ]
  },
  {
   "cell_type": "code",
   "execution_count": null,
   "id": "12a7cfcb-b974-4ef8-912a-d2a534fd4cd7",
   "metadata": {
    "tags": []
   },
   "outputs": [],
   "source": [
    "# This is a code cell. Code cells can contain comments like this one\n",
    "# A comment must start with \"#\" for Python to understand it\n",
    "# To run a code cell just use cntr-enter or run it with the play button"
   ]
  },
  {
   "cell_type": "code",
   "execution_count": null,
   "id": "c10c9355",
   "metadata": {},
   "outputs": [],
   "source": [
    "if you add a comment to a code cell without # you will get an invalid-syntax error"
   ]
  },
  {
   "cell_type": "markdown",
   "id": "5d51cc1b-81c8-4cd1-840e-7ae230337aa8",
   "metadata": {},
   "source": [
    "### Variables and Data Types\n",
    "\n",
    "- Variables should start with lower-case letters (no numbers)\n",
    "- Long variable names are concatenated with underscores (_).\n",
    "- Please don't use special characters in variable names (e.g. ä, ö, &, ...)\n",
    "- To the left of `=` is the name of the variable\n",
    "- To the right of `=` is its content\n",
    "- Variables and the respective values are stored in memory and can be re-used further down in the code\n",
    "- Python automatically detects data types and variables can be overwritten with another data type (*dynamic typing*)\n",
    "- Basic data types are: String (\"Curdin\"), Integer (44), Float (188.3), Boolean (True, False), None\n",
    "- With `type()` the data type can be displayed"
   ]
  },
  {
   "cell_type": "code",
   "execution_count": null,
   "id": "042904f3-263d-4545-a33c-4b52b53c1b18",
   "metadata": {
    "tags": []
   },
   "outputs": [],
   "source": [
    "vor_name = \"Curdin\"\n",
    "nach_name = \"Derungs\"\n",
    "\n",
    "alter = 44 #please handle with care\n",
    "\n",
    "groesse = 188.3"
   ]
  },
  {
   "cell_type": "markdown",
   "id": "6ade8125-b216-4c67-bf91-7a6e882954dc",
   "metadata": {},
   "source": [
    "- If you want feedback from a code cell, it is best to use `print()`. \n",
    "- Sometimes it makes sense to combine several variables in a string to make the feedback clearer (this concept of `f'blablalba {<variable>}'` is very often useful, by the way, not only within `print()`)"
   ]
  },
  {
   "cell_type": "code",
   "execution_count": null,
   "id": "b8d2b809-4c1b-4157-8534-39dd5bbf789a",
   "metadata": {
    "tags": []
   },
   "outputs": [],
   "source": [
    "print(type(vor_name))\n",
    "print(type(alter))\n",
    "print(type(groesse))"
   ]
  },
  {
   "cell_type": "code",
   "execution_count": null,
   "id": "65bf15cb-04f2-45e3-ada4-99839cd79a7a",
   "metadata": {
    "tags": []
   },
   "outputs": [],
   "source": [
    "print(f\"Ich heisse {vor_name} {nach_name}, bin maximal {alter} Jahre alt und ziemlich gross ({groesse}cm)\")"
   ]
  },
  {
   "cell_type": "markdown",
   "id": "10aabf00-2708-4958-b847-b3575b98b718",
   "metadata": {},
   "source": [
    "- The data type of variables can also be changed (if appropriate):"
   ]
  },
  {
   "cell_type": "code",
   "execution_count": null,
   "id": "a61d551c-c645-476d-b99a-95a64ca20c69",
   "metadata": {
    "tags": []
   },
   "outputs": [],
   "source": [
    "# Integer to string\n",
    "str(alter)"
   ]
  },
  {
   "cell_type": "code",
   "execution_count": null,
   "id": "b925f4b2-1880-4b13-84b3-e51179e932d3",
   "metadata": {
    "tags": []
   },
   "outputs": [],
   "source": [
    "# Back to integer\n",
    "int(\"44\")"
   ]
  },
  {
   "cell_type": "code",
   "execution_count": null,
   "id": "30fa6c5c-86cc-46db-b028-9b94170dfc4f",
   "metadata": {
    "tags": []
   },
   "outputs": [],
   "source": [
    "#but only if appropriate :)\n",
    "int(vor_name)"
   ]
  },
  {
   "cell_type": "markdown",
   "id": "38e59376",
   "metadata": {},
   "source": [
    "It might make sense to quickly discuss a way to deal with exceptions in Python:"
   ]
  },
  {
   "cell_type": "code",
   "execution_count": null,
   "id": "3a4a28af",
   "metadata": {},
   "outputs": [],
   "source": [
    "try:\n",
    "    print(int(vor_name))\n",
    "except:\n",
    "    print(f\"Achtung: Die Variable mit dem Inhalt '{vor_name}' kann nicht in einen Integer umgewandelt werden\")"
   ]
  },
  {
   "cell_type": "markdown",
   "id": "7d461cee-77cd-493f-b3b6-6287bbcaea50",
   "metadata": {},
   "source": [
    "### Calculation\n",
    "\n",
    "We can calculate with variables:"
   ]
  },
  {
   "cell_type": "code",
   "execution_count": null,
   "id": "b801011f-71b2-4afa-a8d4-811d21f95123",
   "metadata": {
    "tags": []
   },
   "outputs": [],
   "source": [
    "a = 10\n",
    "b = 7"
   ]
  },
  {
   "cell_type": "code",
   "execution_count": null,
   "id": "f8ab209b-e1f1-4df3-9db3-d6163515149a",
   "metadata": {
    "tags": []
   },
   "outputs": [],
   "source": [
    "a + b\n"
   ]
  },
  {
   "cell_type": "code",
   "execution_count": null,
   "id": "af4024ca-b120-4ff7-8e6a-83609a70fb36",
   "metadata": {
    "tags": []
   },
   "outputs": [],
   "source": [
    "a - b\n"
   ]
  },
  {
   "cell_type": "code",
   "execution_count": null,
   "id": "3de911b3-26da-4547-bece-a46309e75716",
   "metadata": {
    "tags": []
   },
   "outputs": [],
   "source": [
    "a / b\n"
   ]
  },
  {
   "cell_type": "code",
   "execution_count": null,
   "id": "e763f742-75d4-4e79-ad3b-ebfc5d8ef9ef",
   "metadata": {
    "tags": []
   },
   "outputs": [],
   "source": [
    "a * b\n"
   ]
  },
  {
   "cell_type": "code",
   "execution_count": null,
   "id": "4c8a11db-8186-448e-917c-d5f704a71623",
   "metadata": {
    "tags": []
   },
   "outputs": [],
   "source": [
    "# a power b\n",
    "a**b"
   ]
  },
  {
   "cell_type": "code",
   "execution_count": null,
   "id": "e424eed9-e671-4225-9bcc-db40d2852088",
   "metadata": {
    "tags": []
   },
   "outputs": [],
   "source": [
    "# Modulus\n",
    "a // b"
   ]
  },
  {
   "cell_type": "code",
   "execution_count": null,
   "id": "d925cf02-1aa5-43ce-9165-6be17bc18f68",
   "metadata": {
    "tags": []
   },
   "outputs": [],
   "source": [
    "# Remainder after division\n",
    "a % b"
   ]
  },
  {
   "cell_type": "markdown",
   "id": "6bc93443-b2e2-456b-9cb6-9d81d86659b5",
   "metadata": {},
   "source": [
    "## Complex Data Types\n",
    "\n",
    "In addition to simple data types, there are also complex data types. These are usually containers of several objects (often of basic data type)."
   ]
  },
  {
   "cell_type": "markdown",
   "id": "24c927d8-f429-4ee4-a59f-04fa8d707d47",
   "metadata": {},
   "source": [
    "### Lists\n",
    "\n",
    "- Lists are vectors that contain a series of individual objects.\n",
    "- Different data types can be stored in lists (but this usually makes little sense and sooner or later leads to crashes:()\n",
    "- Elements of lists can be extracted using indices. The index starts at 0 and ends at `len(list)-1`"
   ]
  },
  {
   "cell_type": "code",
   "execution_count": null,
   "id": "6ae91a7f-f496-4323-a96c-447f7757a895",
   "metadata": {
    "tags": []
   },
   "outputs": [],
   "source": [
    "beruehmt = [\"Obama\", \"Swift\", \"Curdin\", 24]"
   ]
  },
  {
   "cell_type": "code",
   "execution_count": null,
   "id": "bf1c98aa-5816-407b-acfe-d316f3d72916",
   "metadata": {
    "tags": []
   },
   "outputs": [],
   "source": [
    "print(beruehmt)"
   ]
  },
  {
   "cell_type": "code",
   "execution_count": null,
   "id": "26a1c9ae-a381-4ffe-856d-5f7248e8f5c7",
   "metadata": {
    "tags": []
   },
   "outputs": [],
   "source": [
    "type(beruehmt)"
   ]
  },
  {
   "cell_type": "code",
   "execution_count": null,
   "id": "8f59a9e8-bdcf-4a2c-bfb6-f035c5b6dc0c",
   "metadata": {
    "tags": []
   },
   "outputs": [],
   "source": [
    "len(beruehmt)"
   ]
  },
  {
   "cell_type": "code",
   "execution_count": null,
   "id": "31c0fbac-2694-4fc3-8e82-93d0ed45b16c",
   "metadata": {
    "tags": []
   },
   "outputs": [],
   "source": [
    "beruehmt[0]"
   ]
  },
  {
   "cell_type": "code",
   "execution_count": null,
   "id": "fc932bb8",
   "metadata": {},
   "outputs": [],
   "source": [
    "beruehmt[len(beruehmt)-1]"
   ]
  },
  {
   "cell_type": "code",
   "execution_count": null,
   "id": "72c65b39-ced9-4842-96b9-41dbb143ce10",
   "metadata": {
    "tags": []
   },
   "outputs": [],
   "source": [
    "beruehmt[4]"
   ]
  },
  {
   "cell_type": "code",
   "execution_count": null,
   "id": "dbe4a2ad-0acc-4930-a7cf-cd975892fbda",
   "metadata": {
    "tags": []
   },
   "outputs": [],
   "source": [
    "beruehmt[0:2]"
   ]
  },
  {
   "cell_type": "code",
   "execution_count": null,
   "id": "53dca955",
   "metadata": {},
   "outputs": [],
   "source": [
    "beruehmt[:2]"
   ]
  },
  {
   "cell_type": "code",
   "execution_count": null,
   "id": "0c71f27f",
   "metadata": {},
   "outputs": [],
   "source": [
    "beruehmt[1:]"
   ]
  },
  {
   "cell_type": "code",
   "execution_count": null,
   "id": "84c46492-823b-4210-9d2d-e16de9ad4e3b",
   "metadata": {
    "tags": []
   },
   "outputs": [],
   "source": [
    "beruehmt.index(\"Curdin\")"
   ]
  },
  {
   "cell_type": "code",
   "execution_count": null,
   "id": "8416330e-3a38-431d-b657-8bb3c0749ee6",
   "metadata": {
    "tags": []
   },
   "outputs": [],
   "source": [
    "type(beruehmt[0])"
   ]
  },
  {
   "cell_type": "code",
   "execution_count": null,
   "id": "c20c97c5-b9ab-4641-8701-07a1b4da225c",
   "metadata": {
    "tags": []
   },
   "outputs": [],
   "source": [
    "type(beruehmt[3])"
   ]
  },
  {
   "cell_type": "markdown",
   "id": "61720cf2-5355-424e-b147-b7fdf03460dc",
   "metadata": {},
   "source": [
    "You can remove elements from lists, add new ones or replace them"
   ]
  },
  {
   "cell_type": "code",
   "execution_count": null,
   "id": "2ddac9dd-451b-4869-8dd2-63363c945134",
   "metadata": {
    "tags": []
   },
   "outputs": [],
   "source": [
    "beruehmt.remove(24)\n",
    "\n",
    "print(beruehmt)"
   ]
  },
  {
   "cell_type": "code",
   "execution_count": null,
   "id": "cc014ecb-e4e7-4f75-b469-6e2aea950e22",
   "metadata": {
    "tags": []
   },
   "outputs": [],
   "source": [
    "# adding\n",
    "beruehmt.append(\"Plato\")\n",
    "\n",
    "print(beruehmt)"
   ]
  },
  {
   "cell_type": "code",
   "execution_count": null,
   "id": "93aa10b7-7484-4f39-936e-1e350755998b",
   "metadata": {
    "tags": []
   },
   "outputs": [],
   "source": [
    "# adding at a specific position\n",
    "beruehmt.insert(2, \"Schwarzenegger\")\n",
    "\n",
    "print(beruehmt)"
   ]
  },
  {
   "cell_type": "code",
   "execution_count": null,
   "id": "22247187-451c-4fba-a927-a04ee31c92e6",
   "metadata": {
    "tags": []
   },
   "outputs": [],
   "source": [
    "# adding a list to another list\n",
    "auch_beruehmt = [\"Gates\", \"Harris\"]\n",
    "beruehmt.extend(auch_beruehmt)\n",
    "\n",
    "print(beruehmt)"
   ]
  },
  {
   "cell_type": "code",
   "execution_count": null,
   "id": "ee9be15b-f67b-4089-8286-dd926091cfb8",
   "metadata": {
    "tags": []
   },
   "outputs": [],
   "source": [
    "# replace\n",
    "beruehmt[3] = \"Eva\"\n",
    "\n",
    "print(beruehmt)"
   ]
  },
  {
   "cell_type": "markdown",
   "id": "38a2f557-47c3-4a48-b5c5-274841977439",
   "metadata": {},
   "source": [
    "You can compute with lists"
   ]
  },
  {
   "cell_type": "code",
   "execution_count": null,
   "id": "02510f3a-ce6b-484a-9375-823efea561c4",
   "metadata": {
    "tags": []
   },
   "outputs": [],
   "source": [
    "sorted(beruehmt)"
   ]
  },
  {
   "cell_type": "code",
   "execution_count": null,
   "id": "d50d3507-94e2-47d5-bc99-35e991dcaf11",
   "metadata": {
    "tags": []
   },
   "outputs": [],
   "source": [
    "sorted(beruehmt, reverse=True)"
   ]
  },
  {
   "cell_type": "code",
   "execution_count": null,
   "id": "04a3a670-3c58-4652-bdb6-70491ae1c1d3",
   "metadata": {
    "tags": []
   },
   "outputs": [],
   "source": [
    "zahlen = [1,10,5,100,50]\n",
    "\n",
    "zahlen_max = max(zahlen)\n",
    "zahlen_min = min(zahlen)\n",
    "zahlen_sum = sum(zahlen)\n",
    "\n",
    "print(f\"Maximum, Minimum und Summe der zahlen-List: {zahlen_max}, {zahlen_min}, {zahlen_sum}\")"
   ]
  },
  {
   "cell_type": "markdown",
   "id": "ae089406-0d39-4376-b9c9-27a71bb4269c",
   "metadata": {},
   "source": [
    "### Dictionaries\n",
    "\n",
    "- Dictionaries are very practical for storing several objects (values) under a key -> a bit more organised than Lists!\n",
    "- A simple example is name (key) and age (value)\n",
    "- Lists can also be stored in dictionaries"
   ]
  },
  {
   "cell_type": "code",
   "execution_count": null,
   "id": "3547c0ac-6887-47cf-828e-07d9143c2d86",
   "metadata": {
    "tags": []
   },
   "outputs": [],
   "source": [
    "# create Dictionary\n",
    "people = {\"Curdin\": 44, \"Cla\": 5, \"Adalina\": 3}\n",
    "\n",
    "print(people)"
   ]
  },
  {
   "cell_type": "code",
   "execution_count": null,
   "id": "ce871cd0-f3fb-4823-8db4-28f8e6678845",
   "metadata": {
    "tags": []
   },
   "outputs": [],
   "source": [
    "# Dictionary with Lists\n",
    "results = {\"Curdin\": [3,2,5], \"Cla\":  [8,7,9,10], \"Adalina\":  [10,10,9]}\n",
    "\n",
    "print(results)"
   ]
  },
  {
   "cell_type": "code",
   "execution_count": null,
   "id": "82d7fd83-bd96-4633-974c-bed26e40da97",
   "metadata": {
    "tags": []
   },
   "outputs": [],
   "source": [
    "# display value of key\n",
    "people[\"Curdin\"]"
   ]
  },
  {
   "cell_type": "code",
   "execution_count": null,
   "id": "53307a4e-78b3-4c59-ae57-5598faffda92",
   "metadata": {
    "tags": []
   },
   "outputs": [],
   "source": [
    "results[\"Curdin\"]"
   ]
  },
  {
   "cell_type": "code",
   "execution_count": null,
   "id": "a134042b-34b0-4215-b879-39a71831a2aa",
   "metadata": {
    "tags": []
   },
   "outputs": [],
   "source": [
    "# display all keys\n",
    "people.keys()"
   ]
  },
  {
   "cell_type": "code",
   "execution_count": null,
   "id": "0b7a44f0-10e8-45fc-bf55-808c4b0980e3",
   "metadata": {
    "tags": []
   },
   "outputs": [],
   "source": [
    "# is \"Cla\" a key?\n",
    "\"Cla\" in people"
   ]
  },
  {
   "cell_type": "code",
   "execution_count": null,
   "id": "d3d2c854-6480-491e-be53-a51e10d675d4",
   "metadata": {
    "tags": []
   },
   "outputs": [],
   "source": [
    "# remove key\n",
    "results.pop(\"Curdin\")\n",
    "\n",
    "print(results)"
   ]
  },
  {
   "cell_type": "code",
   "execution_count": null,
   "id": "21aa830a-ddf4-41f7-8df7-64368827dc5f",
   "metadata": {
    "tags": []
   },
   "outputs": [],
   "source": [
    "# update value\n",
    "people[\"Cla\"] = 6\n",
    "\n",
    "print(people)"
   ]
  },
  {
   "cell_type": "code",
   "execution_count": null,
   "id": "705f6509-812b-4553-b96b-0e0733f91104",
   "metadata": {
    "tags": []
   },
   "outputs": [],
   "source": [
    "# Update List-Value\n",
    "results['Adalina'].append(10)\n",
    "\n",
    "print(results)"
   ]
  },
  {
   "cell_type": "code",
   "execution_count": null,
   "id": "034f93ac",
   "metadata": {},
   "outputs": [],
   "source": [
    "# Dictionaries allow only Hard-Lookup -> If a key is not contained: Crash...\n",
    "people[\"Obama\"]"
   ]
  },
  {
   "cell_type": "code",
   "execution_count": null,
   "id": "19ad195b",
   "metadata": {},
   "outputs": [],
   "source": [
    "# Another good application of exception handling\n",
    "try:\n",
    "    people[\"Obama\"]\n",
    "except Exception as X:\n",
    "    print(f\"Fehler: {X} is not a key\")"
   ]
  },
  {
   "cell_type": "markdown",
   "id": "7e0c2059-2906-4c92-8cb3-9b51420ab839",
   "metadata": {},
   "source": [
    "### Strings\n",
    "\n",
    "Strings are actually also complex data types. Here are a few examples of what you can do with strings:\n",
    "- Count letters (bytes)\n",
    "- Concatenate\n",
    "- Find/Replace\n",
    "- Upper/lower case\n",
    "- Split (to list)"
   ]
  },
  {
   "cell_type": "code",
   "execution_count": null,
   "id": "76958b2e-e7b9-4efb-ae8e-2a6982835362",
   "metadata": {
    "tags": []
   },
   "outputs": [],
   "source": [
    "name = \"Cla\""
   ]
  },
  {
   "cell_type": "code",
   "execution_count": null,
   "id": "2b7aa776-6e89-4b11-a045-0ea9065f8ccd",
   "metadata": {
    "tags": []
   },
   "outputs": [],
   "source": [
    "# length of string\n",
    "len(name)"
   ]
  },
  {
   "cell_type": "code",
   "execution_count": null,
   "id": "83114865-ff88-437d-99a6-2d0de75dd0d4",
   "metadata": {
    "tags": []
   },
   "outputs": [],
   "source": [
    "# Concatenate\n",
    "zweit_name = \"Batman\"\n",
    "wunsch_name = name + \" \" +zweit_name\n",
    "\n",
    "print(wunsch_name)"
   ]
  },
  {
   "cell_type": "code",
   "execution_count": null,
   "id": "451ba0ec-0afb-408b-9d6f-63664424bc4d",
   "metadata": {
    "tags": []
   },
   "outputs": [],
   "source": [
    "# find\n",
    "\"Bat\" in wunsch_name"
   ]
  },
  {
   "cell_type": "code",
   "execution_count": null,
   "id": "bbb268ca-3644-4faf-9988-8eabdb1652a8",
   "metadata": {
    "tags": []
   },
   "outputs": [],
   "source": [
    "# replace\n",
    "wunsch_name = wunsch_name.replace(\"Bat\", \"Fledermaus-\")\n",
    "\n",
    "print(wunsch_name)"
   ]
  },
  {
   "cell_type": "code",
   "execution_count": null,
   "id": "50ec63c5-a31f-4427-8b40-5ecebbc030e3",
   "metadata": {
    "tags": []
   },
   "outputs": [],
   "source": [
    "# to upper case letters\n",
    "wunsch_name.upper()"
   ]
  },
  {
   "cell_type": "code",
   "execution_count": null,
   "id": "5c1963fe-5a23-4a75-b76b-407038652005",
   "metadata": {
    "tags": []
   },
   "outputs": [],
   "source": [
    "# split string and create list\n",
    "print(wunsch_name.split()) # default is whitespace\n",
    "print(wunsch_name.split(\"e\"))"
   ]
  },
  {
   "cell_type": "markdown",
   "id": "f3368738-55a3-47b1-ab36-0137e57427f7",
   "metadata": {},
   "source": [
    "## For-Loops\n",
    "\n",
    "When working with lists and dictionaries, it is obvious that you want to iterate over the individual elements.\n",
    "\n",
    "Syntax of for-loops:\n",
    "```text\n",
    "for [element] in [object]:\n",
    "    [do something]\n",
    "    [do something else if you like]\n",
    "    \n",
    "[this is not part of the loop anymore]\n",
    "```\n",
    "\n",
    "This is not the first - and certainly not the last - time you see an example of Python syntax that starts the line with a TAB (i.e. *indentation*). Unlike Java and others, Python does not use brackets to separate the content of e.g. loops from the rest of the code. Instead, indentations are use for this pupose (-> a prominent source of errors).\n",
    "\n",
    "With lists, you have direct access to the individual elements"
   ]
  },
  {
   "cell_type": "code",
   "execution_count": null,
   "id": "1ee34e05-73b6-44f7-b080-a2a6416abed1",
   "metadata": {
    "tags": []
   },
   "outputs": [],
   "source": [
    "geraete = [\"Mixer\", \"Staubsauger\", \"Besen\", \"Waschmaschine\", \"Reiskocher\"]\n",
    "\n",
    "# we do not need an index. We can directly access each element in the list with just calling the object\n",
    "for geraet in geraete:\n",
    "    print(geraet)"
   ]
  },
  {
   "cell_type": "markdown",
   "id": "1f6a7669-ed8b-4ab6-978e-e5c477a8184d",
   "metadata": {},
   "source": [
    "Dictionaries are normally iterated by key"
   ]
  },
  {
   "cell_type": "code",
   "execution_count": null,
   "id": "c3b7be9e-9966-47dc-98dc-17d33be7ee1e",
   "metadata": {
    "tags": []
   },
   "outputs": [],
   "source": [
    "laender = {\"Deutschland\": 90, \"Frankreich\": 60, \"Italien\": 40}\n",
    "\n",
    "# calling a dictionary iterates through the keys, which allow access to the values\n",
    "for key in laender:\n",
    "    print(f\"{key} hat {laender[key]} Millionen Einwohner\")"
   ]
  },
  {
   "cell_type": "markdown",
   "id": "54075e83-748a-475a-9ddf-a453e55bc1e4",
   "metadata": {},
   "source": [
    "You can also just do \"something\" multiple times with a loop"
   ]
  },
  {
   "cell_type": "code",
   "execution_count": null,
   "id": "edf93842-f787-477e-85fc-bab43283d5cb",
   "metadata": {
    "tags": []
   },
   "outputs": [],
   "source": [
    "for i in range(5):\n",
    "    print(i)"
   ]
  },
  {
   "cell_type": "code",
   "execution_count": null,
   "id": "8883d4b4",
   "metadata": {},
   "outputs": [],
   "source": [
    "# range for iterating lists\n",
    "for i in range(len(geraete)):\n",
    "    print(geraete[i])"
   ]
  },
  {
   "cell_type": "markdown",
   "id": "135b9247-cee3-4af2-8d07-1e69f43ea336",
   "metadata": {},
   "source": [
    "`range()` has many applications"
   ]
  },
  {
   "cell_type": "code",
   "execution_count": null,
   "id": "9a5be194-9d33-49ac-9db0-e702fe12686b",
   "metadata": {
    "tags": []
   },
   "outputs": [],
   "source": [
    "for i in range(10,15):\n",
    "    print(i)\n",
    "\n",
    "print()\n",
    "for i in range(-2,2):\n",
    "    print(i)\n",
    "    \n",
    "print()\n",
    "for i in range(-4,4,2):\n",
    "    print(i)\n",
    "    \n",
    "print()\n",
    "for i in range(4,-4,-2):\n",
    "    print(i)\n",
    "\n",
    "print(list(range(4,-4,-2)))"
   ]
  },
  {
   "cell_type": "markdown",
   "id": "3731545d-dff3-41a2-9ae4-842101df4ae9",
   "metadata": {},
   "source": [
    "Of course, you can do more than just print in the loop"
   ]
  },
  {
   "cell_type": "code",
   "execution_count": null,
   "id": "24285d05-1c56-4fbb-a4dc-a6d887a68f36",
   "metadata": {
    "tags": []
   },
   "outputs": [],
   "source": [
    "for geraet in geraete:\n",
    "    geraet_upper = geraet.upper()\n",
    "    print(geraet_upper)\n",
    "print(\"this is outside the loop and therefore only performed once and in the end.\")"
   ]
  },
  {
   "cell_type": "markdown",
   "id": "95bcbbab-aa68-4108-83a5-2f459c576abd",
   "metadata": {},
   "source": [
    "With `enumerate()` we get not only the individual elements but also the index of the elements"
   ]
  },
  {
   "cell_type": "code",
   "execution_count": null,
   "id": "ff79d778-0f62-4337-b3c3-6f48a2169758",
   "metadata": {
    "tags": []
   },
   "outputs": [],
   "source": [
    "for idx, geraet in enumerate(geraete):\n",
    "    print(f\"Index: {idx}, Element direkt: {geraet}, Element per Index: {geraete[idx]}\") #OK, das macht wenig Sinn!"
   ]
  },
  {
   "cell_type": "markdown",
   "id": "f7772698-a3c9-4b92-87da-c64bae2481e7",
   "metadata": {},
   "source": [
    "### List Comprehensions\n",
    "\n",
    "- List comprehensions are unique (and a bit confusing) in Python\n",
    "- Comprehensions are a kind of for-loop within lists\n",
    "- The output is immediately a list again (this is also the advantage)"
   ]
  },
  {
   "cell_type": "code",
   "execution_count": null,
   "id": "dddff56c-2128-4804-b39d-85b3f1a5c6fb",
   "metadata": {
    "tags": []
   },
   "outputs": [],
   "source": [
    "[geraet.upper() for geraet in geraete]"
   ]
  },
  {
   "cell_type": "markdown",
   "id": "37d714b2-a354-4b9b-9e4a-d5fe29c2e591",
   "metadata": {},
   "source": [
    "- Uups, über if-else haben wir noch gar nicht gesprochen...kommt bald. Geht aber auch innerhalb von Comprehensions."
   ]
  },
  {
   "cell_type": "code",
   "execution_count": null,
   "id": "a4ced83b-f9fc-4cc7-8c85-a7649495b93f",
   "metadata": {
    "tags": []
   },
   "outputs": [],
   "source": [
    "[geraet.upper() for geraet in geraete if \"a\" in geraet]"
   ]
  },
  {
   "cell_type": "markdown",
   "id": "c2660589-b5e1-4d1b-b911-3e76b351b427",
   "metadata": {
    "tags": []
   },
   "source": [
    "## If-Else\n",
    "\n",
    "`If-Else` statements allow to create a series of logical statements\n",
    "\n",
    "Structure of `If-Else` statements:\n",
    "\n",
    "```text\n",
    "if [logic expression]:\n",
    "    [do something]\n",
    "elif [another logic expression]:\n",
    "    [do something else]\n",
    "else:\n",
    "    [do something else]\n",
    "```"
   ]
  },
  {
   "cell_type": "code",
   "execution_count": null,
   "id": "67a53da0-5c51-4306-bf43-2162c3c0eab9",
   "metadata": {
    "tags": []
   },
   "outputs": [],
   "source": [
    "note = 4.5\n",
    "\n",
    "comment = \"\"\n",
    "if note < 4:\n",
    "    comment = \"Durchgefallen:(\"\n",
    "elif note < 5:\n",
    "    comment = \"OK\"\n",
    "elif note < 5.5:\n",
    "    comment = \"Gut\"\n",
    "else:\n",
    "    comment = \"Super!\"\n",
    "\n",
    "print(f\"Note: {note}, Bedeutung: {comment}\")"
   ]
  },
  {
   "cell_type": "markdown",
   "id": "ea5e907a-63c5-4a1c-9837-37136bb92923",
   "metadata": {},
   "source": [
    "- Logical expressions are an important component of IF-Else.\n",
    "- If `False`, then it goes to the next expression\n",
    "- If `True`, then something is done and the expression is ended"
   ]
  },
  {
   "cell_type": "code",
   "execution_count": null,
   "id": "cb6c3c27-d54f-4e66-a25b-8ad1693f1fe0",
   "metadata": {
    "tags": []
   },
   "outputs": [],
   "source": [
    "note < 4"
   ]
  },
  {
   "cell_type": "code",
   "execution_count": null,
   "id": "e033abb7-0566-42b1-aed6-e4daae17c24b",
   "metadata": {
    "tags": []
   },
   "outputs": [],
   "source": [
    "note == 4.5"
   ]
  },
  {
   "cell_type": "code",
   "execution_count": null,
   "id": "f2a6a822-783a-4d65-90bf-82888f1d6b74",
   "metadata": {
    "tags": []
   },
   "outputs": [],
   "source": [
    "note <= 4.5"
   ]
  },
  {
   "cell_type": "code",
   "execution_count": null,
   "id": "621de10e-0642-4cb7-85f5-8f46148b8cd4",
   "metadata": {
    "tags": []
   },
   "outputs": [],
   "source": [
    "\"Curdin\" == \"Curdin\""
   ]
  },
  {
   "cell_type": "code",
   "execution_count": null,
   "id": "be98111f",
   "metadata": {},
   "outputs": [],
   "source": [
    "\"urd\" in \"Curdin\""
   ]
  },
  {
   "cell_type": "markdown",
   "id": "57d37d4c-f429-4e50-a54e-8f6761426b61",
   "metadata": {},
   "source": [
    "## Functions\n",
    "\n",
    "- You often do the same things over and over again (that's why it's worth programming)\n",
    "- We can define a process as a function and then call the function instead of defining the process again\n",
    "- We can use parameters to control a function from “outside”\n",
    "\n",
    "Definition of functions:\n",
    "```text\n",
    "def name_of_function(parameter_1, parameter_2):\n",
    "    result = [do something with the two parameters]\n",
    "    return result\n",
    "```\n",
    "\n",
    "It makes sense to document functions well:\n",
    "\n",
    "```\n",
    "    function_name does this and that\n",
    "\n",
    "    :param p1: is this\n",
    "    :param p2: is this\n",
    "    :return: that comes out\n",
    "``` "
   ]
  },
  {
   "cell_type": "code",
   "execution_count": null,
   "id": "c0f0a0c9-6593-4294-a124-09c41364bcf6",
   "metadata": {
    "tags": []
   },
   "outputs": [],
   "source": [
    "import math #load package\n",
    "\n",
    "def pythagoras(a, b):\n",
    "    \"\"\"\n",
    "    pythagoras computes the pythagoras for a and b\n",
    "\n",
    "    :param a: length tangent 1\n",
    "    :param b: length tangent 2\n",
    "    :return: length hypothenuse\n",
    "    \"\"\" \n",
    "    c = math.sqrt(a**2 + b**2) # we use the sqrt function from the math package\n",
    "    return c"
   ]
  },
  {
   "cell_type": "code",
   "execution_count": null,
   "id": "91170476-76aa-49e8-a7e0-771240170806",
   "metadata": {
    "tags": []
   },
   "outputs": [],
   "source": [
    "py = pythagoras(2,4)\n",
    "\n",
    "print(py)"
   ]
  },
  {
   "cell_type": "markdown",
   "id": "80509126-9c7d-4990-85eb-bbf61aed4602",
   "metadata": {},
   "source": [
    "Functions can also be nested inside functions (a bit complicated here as we want a list back)"
   ]
  },
  {
   "cell_type": "code",
   "execution_count": null,
   "id": "8d22084a-697b-4f56-8f4b-a59e349b7ea5",
   "metadata": {
    "tags": []
   },
   "outputs": [],
   "source": [
    "def pyth_for_list(a_list, b_list):\n",
    "    \"\"\"\n",
    "    py_for_list calculates the Pythagoras for a list of a and b using function pythagoras\n",
    "\n",
    "    :param a: list with lengths of tangent 1\n",
    "    :param b: list with lengths of length tangent 2\n",
    "    :return: list with hypothenuses\n",
    "    \"\"\" \n",
    "    result_list = [] #Leere Liste\n",
    "    for idx, i in enumerate(a_list):\n",
    "        result = pythagoras(a_list[idx],b_list[idx])\n",
    "        result_list.append(result)\n",
    "    return result_list"
   ]
  },
  {
   "cell_type": "code",
   "execution_count": null,
   "id": "babf563c-813c-4280-a079-7c398283f110",
   "metadata": {
    "tags": []
   },
   "outputs": [],
   "source": [
    "a_list = [1,4,6,3,1]\n",
    "b_list = [6,4,3,8,2]\n",
    "\n",
    "result_list = pyth_for_list(a_list, b_list)\n",
    "\n",
    "print(result_list)"
   ]
  }
 ],
 "metadata": {
  "kernelspec": {
   "display_name": ".venv",
   "language": "python",
   "name": "python3"
  },
  "language_info": {
   "codemirror_mode": {
    "name": "ipython",
    "version": 3
   },
   "file_extension": ".py",
   "mimetype": "text/x-python",
   "name": "python",
   "nbconvert_exporter": "python",
   "pygments_lexer": "ipython3",
   "version": "3.12.6"
  }
 },
 "nbformat": 4,
 "nbformat_minor": 5
}
