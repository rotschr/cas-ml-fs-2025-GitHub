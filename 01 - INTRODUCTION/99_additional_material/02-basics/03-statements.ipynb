{
 "cells": [
  {
   "cell_type": "markdown",
   "metadata": {},
   "source": [
    "# Statements\n"
   ]
  },
  {
   "cell_type": "markdown",
   "metadata": {},
   "source": [
    "A statement in Python comprises one line\n",
    "\n",
    "Technically you can write several statements separated by \";\" in a single line - don't, bad style\n"
   ]
  },
  {
   "cell_type": "code",
   "execution_count": null,
   "metadata": {},
   "outputs": [],
   "source": [
    "a = 1\n",
    "b = 2\n",
    "c = 3  # avoid!\n",
    "print(a, b, c)"
   ]
  },
  {
   "cell_type": "markdown",
   "metadata": {},
   "source": [
    "### Comments\n"
   ]
  },
  {
   "cell_type": "code",
   "execution_count": null,
   "metadata": {},
   "outputs": [],
   "source": [
    "# This line is a comment and is not interpreted so nothing happens"
   ]
  },
  {
   "cell_type": "code",
   "execution_count": null,
   "metadata": {},
   "outputs": [],
   "source": [
    "\"\"\"\n",
    "This block is a \"multiline comment\"\n",
    "\n",
    "Technically, this is a `string` without reference and hence is ignored by the interpreter\n",
    "\"\"\""
   ]
  },
  {
   "cell_type": "markdown",
   "metadata": {},
   "source": [
    "### Conditions\n"
   ]
  },
  {
   "cell_type": "markdown",
   "metadata": {},
   "source": [
    "Conditions allow to control the flow of the program. This allows us to decide how we want to react to information that will become available at runtime only.\n",
    "\n",
    "Structure of `if` statements:\n",
    "\n",
    "```text\n",
    "if [some logical expression]:\n",
    "    [do something]\n",
    "elif [another logical expression]:\n",
    "    [do something else]\n",
    "else:\n",
    "    [do a third thing]\n",
    "```\n",
    "\n",
    "Note: `elif` and `else` are optional\n"
   ]
  },
  {
   "cell_type": "markdown",
   "metadata": {},
   "source": [
    "### Example\n"
   ]
  },
  {
   "cell_type": "code",
   "execution_count": null,
   "metadata": {},
   "outputs": [],
   "source": [
    "score = 91  # some exam score in [0, 100]\n",
    "\n",
    "comment = \"\"\n",
    "if score < 60:\n",
    "    comment = \"Failed! Partying less and studying more may help.\"\n",
    "elif score < 70:\n",
    "    comment = \"Okay.\"\n",
    "elif score < 80:\n",
    "    comment = \"Nice.\"\n",
    "elif score < 95:\n",
    "    comment = \"Impressive!\"\n",
    "else:\n",
    "    comment = \"Genius!\"\n",
    "\n",
    "print(f\"Score: {score}, Comment: {comment}\")"
   ]
  },
  {
   "cell_type": "markdown",
   "metadata": {},
   "source": [
    "### DO: Use `pass` frequently\n"
   ]
  },
  {
   "cell_type": "markdown",
   "metadata": {},
   "source": [
    "`pass` in Python is a placeholder that does nothing.\n",
    "\n",
    "Useful in the typical process:\n",
    "\n",
    "- Step 1: Write the rough structure of the code and use `pass` as a placeholder\n",
    "- Step 2: Replace `pass` with real functionality\n",
    "\n",
    "Without `pass`, the code is syntactically invalid, which may impair editor tooling.\n"
   ]
  },
  {
   "cell_type": "code",
   "execution_count": null,
   "metadata": {},
   "outputs": [],
   "source": [
    "x = 42\n",
    "comment = \"\"\n",
    "if x < 100:\n",
    "    pass\n",
    "elif x < 1000:\n",
    "    pass\n",
    "else:\n",
    "    pass\n",
    "\n",
    "print(\"x is\", x)"
   ]
  },
  {
   "cell_type": "markdown",
   "metadata": {},
   "source": [
    "Note: Use the ellipsis `...` instead of `pass` (matter of preference)"
   ]
  },
  {
   "cell_type": "markdown",
   "metadata": {},
   "source": [
    "### Ternary operator\n",
    "\n",
    "Syntactic sugar for single-line if statements\n",
    "\n",
    "Form:\n",
    "```text\n",
    "[value if condition is true] if [condition] else [value if condition is false]\n",
    "```\n"
   ]
  },
  {
   "cell_type": "code",
   "execution_count": 2,
   "metadata": {},
   "outputs": [
    {
     "name": "stdout",
     "output_type": "stream",
     "text": [
      "43\n"
     ]
    }
   ],
   "source": [
    "x = 42\n",
    "y = 43\n",
    "\n",
    "print(x if x > y else y)"
   ]
  }
 ],
 "metadata": {
  "kernelspec": {
   "display_name": ".venv",
   "language": "python",
   "name": "python3"
  },
  "language_info": {
   "codemirror_mode": {
    "name": "ipython",
    "version": 3
   },
   "file_extension": ".py",
   "mimetype": "text/x-python",
   "name": "python",
   "nbconvert_exporter": "python",
   "pygments_lexer": "ipython3",
   "version": "3.12.6"
  }
 },
 "nbformat": 4,
 "nbformat_minor": 4
}
