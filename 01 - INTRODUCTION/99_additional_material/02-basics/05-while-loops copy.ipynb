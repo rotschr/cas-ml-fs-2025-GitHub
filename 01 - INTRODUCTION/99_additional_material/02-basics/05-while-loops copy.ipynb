{
 "cells": [
  {
   "cell_type": "markdown",
   "metadata": {},
   "source": [
    "# `while`"
   ]
  },
  {
   "cell_type": "markdown",
   "metadata": {},
   "source": [
    "Mostly same semantics and functionality as `for` loop:"
   ]
  },
  {
   "cell_type": "code",
   "execution_count": 2,
   "metadata": {},
   "outputs": [
    {
     "name": "stdout",
     "output_type": "stream",
     "text": [
      "1 2 3 4 "
     ]
    }
   ],
   "source": [
    "i = 1\n",
    "while i < 5:\n",
    "    print(i, end=\" \")\n",
    "    i = i + 1\n"
   ]
  },
  {
   "cell_type": "markdown",
   "metadata": {},
   "source": [
    "Also applies e.g. to `break` and `else`:"
   ]
  },
  {
   "cell_type": "code",
   "execution_count": 3,
   "metadata": {},
   "outputs": [
    {
     "name": "stdout",
     "output_type": "stream",
     "text": [
      "1 2 3 "
     ]
    }
   ],
   "source": [
    "i = 1\n",
    "while i < 5:\n",
    "    print(i, end=\" \")\n",
    "    if i > 2:\n",
    "        break\n",
    "    i = i + 1\n"
   ]
  },
  {
   "cell_type": "markdown",
   "metadata": {},
   "source": [
    "## Quiz\n",
    "\n",
    "Write a while-loop that starts at 2 and squares after each iteration for as long as the sum of all numbers is less than 1000."
   ]
  },
  {
   "cell_type": "code",
   "execution_count": 9,
   "metadata": {},
   "outputs": [
    {
     "name": "stdout",
     "output_type": "stream",
     "text": [
      "Current sum: 2, Current number: 2\n",
      "Current sum: 4, Current number: 4\n",
      "Current sum: 8, Current number: 16\n",
      "Current sum: 24, Current number: 256\n",
      "Current sum: 280, Current number: 65536\n"
     ]
    }
   ],
   "source": [
    "n = 2\n",
    "n_sum = 2\n",
    "\n",
    "while n_sum < 1000:\n",
    "    print(f\"Current sum: {n_sum}, Current number: {n}\")\n",
    "    n_sum += n\n",
    "    n = n**2\n"
   ]
  }
 ],
 "metadata": {
  "kernelspec": {
   "display_name": ".venv",
   "language": "python",
   "name": "python3"
  },
  "language_info": {
   "codemirror_mode": {
    "name": "ipython",
    "version": 3
   },
   "file_extension": ".py",
   "mimetype": "text/x-python",
   "name": "python",
   "nbconvert_exporter": "python",
   "pygments_lexer": "ipython3",
   "version": "3.12.6"
  }
 },
 "nbformat": 4,
 "nbformat_minor": 4
}
