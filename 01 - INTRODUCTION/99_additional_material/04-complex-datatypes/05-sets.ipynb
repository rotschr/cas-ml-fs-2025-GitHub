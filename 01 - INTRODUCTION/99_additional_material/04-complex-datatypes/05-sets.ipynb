{
 "cells": [
  {
   "cell_type": "markdown",
   "metadata": {},
   "source": [
    "# Sets\n"
   ]
  },
  {
   "cell_type": "markdown",
   "metadata": {},
   "source": [
    "Sets are collections of **unique** and **hashable** items.\n",
    "\n",
    "\n",
    "Key properties:\n",
    "- **unordered**: elements are stored in unspecified order\n",
    "- **mutable**: elements can be altered, added, or removed\n",
    "\n",
    "Remember: Each element may occur at most once\n",
    "\n",
    "Note: Unlike dicts, sets are _not_ insertion-ordered\n"
   ]
  },
  {
   "cell_type": "markdown",
   "metadata": {},
   "source": [
    "### Basics\n"
   ]
  },
  {
   "cell_type": "code",
   "execution_count": null,
   "metadata": {},
   "outputs": [],
   "source": [
    "xs1 = {3, 4, 5}  # DO\n",
    "print(xs1)\n",
    "\n",
    "xs2 = set([3, 4, 5])  # DON'T\n",
    "print(xs2)\n",
    "\n",
    "print(\"same elems:\", xs1 == xs2)\n",
    "print(\"same objs: \", xs1 is xs2)\n"
   ]
  },
  {
   "cell_type": "code",
   "execution_count": null,
   "metadata": {},
   "outputs": [],
   "source": [
    "print(3 in xs1)\n",
    "print(1 in xs1)\n"
   ]
  },
  {
   "cell_type": "code",
   "execution_count": null,
   "metadata": {},
   "outputs": [],
   "source": [
    "xs = {4}\n",
    "xs.add(-27)\n",
    "xs.add(\"hello\")\n",
    "xs\n"
   ]
  },
  {
   "cell_type": "code",
   "execution_count": null,
   "metadata": {},
   "outputs": [],
   "source": [
    "xs = {4}\n",
    "xs.add(-27)\n",
    "xs.add(-27)\n",
    "xs.add(-27)\n",
    "xs\n"
   ]
  },
  {
   "cell_type": "code",
   "execution_count": null,
   "metadata": {},
   "outputs": [],
   "source": [
    "xs = {3, 4, 5}\n",
    "xs.remove(4)\n",
    "xs\n"
   ]
  },
  {
   "cell_type": "markdown",
   "metadata": {},
   "source": [
    "### Set ops\n"
   ]
  },
  {
   "cell_type": "code",
   "execution_count": null,
   "metadata": {},
   "outputs": [],
   "source": [
    "a = {1, 2, 3}\n",
    "b = {2, 3, 4, 5}\n"
   ]
  },
  {
   "cell_type": "code",
   "execution_count": null,
   "metadata": {},
   "outputs": [],
   "source": [
    "# Intersection\n",
    "a & b\n"
   ]
  },
  {
   "cell_type": "code",
   "execution_count": null,
   "metadata": {},
   "outputs": [],
   "source": [
    "# Union\n",
    "a | b\n"
   ]
  },
  {
   "cell_type": "code",
   "execution_count": null,
   "metadata": {},
   "outputs": [],
   "source": [
    "# Set difference (non-symmetric): all elems from a which are not in b\n",
    "a - b\n"
   ]
  },
  {
   "cell_type": "code",
   "execution_count": null,
   "metadata": {},
   "outputs": [],
   "source": [
    "# Set difference (symmetric): all elems that occur only in either a or b but not both\n",
    "a ^ b\n"
   ]
  },
  {
   "cell_type": "markdown",
   "metadata": {},
   "source": [
    "### Immutable counterpart: `frozenset`\n"
   ]
  },
  {
   "cell_type": "code",
   "execution_count": null,
   "metadata": {},
   "outputs": [],
   "source": [
    "# tuple of vowels\n",
    "vowels = ('a', 'e', 'i', 'o', 'u')\n",
    "\n",
    "fset = frozenset(vowels)\n",
    "print(fset)"
   ]
  },
  {
   "cell_type": "code",
   "execution_count": null,
   "metadata": {},
   "outputs": [],
   "source": [
    "fset.add('v')  # bad idea"
   ]
  },
  {
   "cell_type": "markdown",
   "metadata": {},
   "source": [
    "Since `set` is mutable, it supports methods that modify the set in place, which are *not* available in `frozenset`:\n",
    "\n",
    "- `add(elem)`: Adds an element to the set\n",
    "- `remove(elem)`: Removes an element from the set. Raises a `KeyError` if the element is not present\n",
    "- `discard(elem)`: Removes an element from the set if it is a member. If the element is not a member, does nothing\n",
    "- `pop()`: Removes and returns an arbitrary element from the set. Raises a `KeyError` if the set is empty\n",
    "- `clear()`: Removes all elements from the set\n",
    "- `update(*others)`: Updates the set, adding elements from all others\n",
    "- `intersection_update(*others)`: Updates the set, keeping only elements found in it and all others\n",
    "- `difference_update(*others)`: Updates the set, removing elements found in others\n",
    "- `symmetric_difference_update(other)`: Updates the set, keeping only elements found in either the set or other, but not in both\n"
   ]
  }
 ],
 "metadata": {
  "kernelspec": {
   "display_name": "Python 3",
   "language": "python",
   "name": "python3"
  },
  "language_info": {
   "codemirror_mode": {
    "name": "ipython",
    "version": 3
   },
   "file_extension": ".py",
   "mimetype": "text/x-python",
   "name": "python",
   "nbconvert_exporter": "python",
   "pygments_lexer": "ipython3",
   "version": "3.11.8"
  }
 },
 "nbformat": 4,
 "nbformat_minor": 4
}
