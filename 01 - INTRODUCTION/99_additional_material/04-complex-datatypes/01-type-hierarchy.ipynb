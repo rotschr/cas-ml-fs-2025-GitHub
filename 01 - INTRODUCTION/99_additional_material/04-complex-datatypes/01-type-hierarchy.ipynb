{
 "cells": [
  {
   "cell_type": "markdown",
   "metadata": {},
   "source": [
    "# Python's Type Hierarchy (simplified)\n",
    "\n",
    "Numbers\n",
    "\n",
    "- Integers\n",
    "- Floating point numbers\n",
    "- Complex numbers\n",
    "\n",
    "Sequences (mutable)\n",
    "\n",
    "- Lists\n",
    "- Arrays (array module)\n",
    "\n",
    "Sequences (immutable)\n",
    "\n",
    "- Tuples\n",
    "- Strings\n",
    "\n",
    "Unordered collections\n",
    "\n",
    "- Sets\n",
    "\n",
    "Mappings\n",
    "\n",
    "- Dictionaries\n",
    "\n",
    "Callable types\n",
    "\n",
    "- User-defined functions & methods\n",
    "- Built-in functions & methods\n",
    "- Classes & Class instances\n",
    "\n",
    "Files\n",
    "\n",
    "None\n",
    "\n",
    "Ellipsis\n"
   ]
  }
 ],
 "metadata": {
  "language_info": {
   "name": "python"
  }
 },
 "nbformat": 4,
 "nbformat_minor": 2
}
