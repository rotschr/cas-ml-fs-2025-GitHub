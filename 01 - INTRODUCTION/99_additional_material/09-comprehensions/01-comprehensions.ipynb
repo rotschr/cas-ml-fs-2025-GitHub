{
 "cells": [
  {
   "cell_type": "markdown",
   "metadata": {},
   "source": [
    "# Comprehensions "
   ]
  },
  {
   "cell_type": "markdown",
   "metadata": {},
   "source": [
    "Types of comprehensions:\n",
    "\n",
    "1. List Comprehensions\n",
    "2. Dictionary Comprehensions\n",
    "3. Set Comprehensions\n",
    "4. Generator Comprehensions"
   ]
  },
  {
   "cell_type": "markdown",
   "metadata": {},
   "source": [
    "### List comprehensions"
   ]
  },
  {
   "cell_type": "markdown",
   "metadata": {},
   "source": [
    "Say, we need a list of square numbers\n",
    "\n",
    "Procedural \"vanilla\" way:"
   ]
  },
  {
   "cell_type": "code",
   "execution_count": null,
   "metadata": {},
   "outputs": [],
   "source": [
    "items = []\n",
    "for i in range(10):\n",
    "    items.append(i ** 2)\n",
    "items"
   ]
  },
  {
   "cell_type": "markdown",
   "metadata": {},
   "source": [
    "Now translate this into a list comprehension:\n",
    "* Start with an empty list `[]`\n",
    "* Write a regular for-loop (over the `iterable` of interest)\n",
    "* Write to the left of the `for`-loop, what should happen with each element of the `iterable`"
   ]
  },
  {
   "cell_type": "code",
   "execution_count": null,
   "metadata": {},
   "outputs": [],
   "source": [
    "[i**2 for i in range(10)]"
   ]
  },
  {
   "cell_type": "markdown",
   "metadata": {},
   "source": [
    "Goodie: Filtering elements"
   ]
  },
  {
   "cell_type": "code",
   "execution_count": null,
   "metadata": {},
   "outputs": [],
   "source": [
    "[i**2 for i in range(10) if i % 2 == 0]"
   ]
  },
  {
   "cell_type": "markdown",
   "metadata": {},
   "source": [
    "##### Another example (from earlier)\n",
    "\n",
    "```python\n",
    "students = [\"Alice\", \"Bob\", \"Eve\"]\n",
    "people = [\"Eve\", \"Alice\"]\n",
    "```\n",
    "\n",
    "Question: Are all `people` also `students`?\n"
   ]
  },
  {
   "cell_type": "code",
   "execution_count": null,
   "metadata": {},
   "outputs": [],
   "source": [
    "students = [\"Alice\", \"Bob\", \"Eve\", \"John\"]\n",
    "people = [\"John\", \"Eve\", \"Alice\"]"
   ]
  },
  {
   "cell_type": "code",
   "execution_count": null,
   "metadata": {},
   "outputs": [],
   "source": [
    "# not answering our question\n",
    "people in students"
   ]
  },
  {
   "cell_type": "code",
   "execution_count": null,
   "metadata": {},
   "outputs": [],
   "source": [
    "# this is what we want\n",
    "flags = [p in students for p in people]\n",
    "all(flags)"
   ]
  },
  {
   "cell_type": "markdown",
   "metadata": {},
   "source": [
    "### Dict Comprehensions "
   ]
  },
  {
   "cell_type": "markdown",
   "metadata": {},
   "source": [
    "Like list comprehensions, except that\n",
    "\n",
    "- we use curly braces `{...}`; and\n",
    "- the LHS expression must have the form \"key: value\"\n"
   ]
  },
  {
   "cell_type": "code",
   "execution_count": null,
   "metadata": {},
   "outputs": [],
   "source": [
    "keys = [\"one\", \"two\", \"three\", \"four\", \"five\"]\n",
    "{ keys[v]: v + 1 for v in range(len(keys)) }"
   ]
  },
  {
   "cell_type": "markdown",
   "metadata": {},
   "source": [
    "### Set comprehensions"
   ]
  },
  {
   "cell_type": "markdown",
   "metadata": {},
   "source": [
    "Like list comprehensions, except that we use curly braces `{...}`\n"
   ]
  },
  {
   "cell_type": "code",
   "execution_count": null,
   "metadata": {},
   "outputs": [],
   "source": [
    "{i**2 for i in range(10)}"
   ]
  },
  {
   "cell_type": "markdown",
   "metadata": {},
   "source": [
    "### Generator comprehensions\n",
    "Like lazily evaluated list comprehensions using parentheses `(...)`\n",
    "\n",
    "Comprehension expression produces a generator \n",
    "\n",
    "Good practice in general but of great value for large collections"
   ]
  },
  {
   "cell_type": "code",
   "execution_count": null,
   "metadata": {},
   "outputs": [],
   "source": [
    "gen = (i**2 for i in range(10))\n",
    "type(gen)"
   ]
  },
  {
   "cell_type": "code",
   "execution_count": null,
   "metadata": {},
   "outputs": [],
   "source": [
    "tuple(i**2 for i in range(10))"
   ]
  },
  {
   "cell_type": "code",
   "execution_count": null,
   "metadata": {},
   "outputs": [],
   "source": [
    "# Student example revisited\n",
    "students = [\"Alice\", \"Bob\", \"Eve\", \"John\"]\n",
    "people = [\"John\", \"Eve\", \"Alice\"]\n",
    "\n",
    "\n",
    "flags = (p in students for p in people)  # not allocating a `len(people)`-array\n",
    "all(flags)  # evaluates generator only until first False"
   ]
  }
 ],
 "metadata": {
  "kernelspec": {
   "display_name": "Python 3",
   "language": "python",
   "name": "python3"
  },
  "language_info": {
   "codemirror_mode": {
    "name": "ipython",
    "version": 3
   },
   "file_extension": ".py",
   "mimetype": "text/x-python",
   "name": "python",
   "nbconvert_exporter": "python",
   "pygments_lexer": "ipython3",
   "version": "3.11.8"
  }
 },
 "nbformat": 4,
 "nbformat_minor": 4
}
