{
 "cells": [
  {
   "cell_type": "markdown",
   "metadata": {},
   "source": [
    "# Iterables and iterators"
   ]
  },
  {
   "cell_type": "markdown",
   "metadata": {},
   "source": [
    "### Introduction\n",
    "Recall: In a `for` statement looping through a collection, we can simply use the `in` keyword.\n"
   ]
  },
  {
   "cell_type": "code",
   "execution_count": null,
   "metadata": {},
   "outputs": [],
   "source": [
    "for x in [\"one\", \"two\", \"three\"]:\n",
    "    print(x, end=\" \")"
   ]
  },
  {
   "cell_type": "markdown",
   "metadata": {},
   "source": [
    "### Definition\n",
    "Iterator\n",
    "\n",
    "- is an object that keeps state and **produces the next value** when `next()` is called on it\n",
    "- returns actual data, one element at a time\n",
    "\n",
    "\n",
    "Iterable\n",
    "\n",
    "- an object that is able to **return an iterator**\n",
    "- most built-in containers like list, tuple, string etc. are iterables\n",
    "\n",
    "\n",
    "### Why useful?\n",
    "\n",
    "**Memory Efficiency**<br/>Avoids storing all elements in memory at once but generate each value on the fly during looping\n",
    "\n",
    "**Lazy Evaluation**<br/>Deferred evaluation of elements until actually needed $\\Rightarrow$ significant performance gains for large data sets.\n",
    "\n",
    "**Versatility**<br/>Enables e.g. `for` loops to iterate over anything iterable\n",
    "\n",
    "**Flexibility**<br/>May write custom iterable objects, see `__iter__()` and `__next__()`. Enables encapsulation of complex looping logic within iterable object itself\n",
    "\n",
    "**Compatibility**<br/>Many built-in functions support iteration, e.g. `sum()`, `min()`, `max()`, `map()`, `filter()`, etc. Also work with list comprehensions and generator expressions (see below)\n"
   ]
  },
  {
   "cell_type": "markdown",
   "metadata": {},
   "source": [
    "### Example: Iterables vs. iterators in practice\n",
    "The **iterable protocol** is a way to make an object iterable, i.e. it can be looped over. \n",
    "\n",
    "There's two associated \"dunder\" methods: \n",
    "* `__iter__()`: Used in the initialization of the loop. Expected to return an object having a `__next__()` method. Often it returns the object itself\n",
    "* `__next__()`: Returns the next value in the sequence. Raises `StopIteration` exception once exhausted. Called at each iteration of the loop\n",
    "\n",
    "Typically both iterables and iterators implement the iterable protocol and hence both can be used in `for` loops.\n",
    "\n",
    "Basic example:"
   ]
  },
  {
   "cell_type": "code",
   "execution_count": null,
   "metadata": {},
   "outputs": [],
   "source": [
    "class MyIterable:\n",
    "    def __init__(self, data):\n",
    "        self.data = data\n",
    "        self.index = 0\n",
    "\n",
    "    def __iter__(self):  # iterable protocol\n",
    "        return self\n",
    "\n",
    "    def __next__(self):  # iterable protocol\n",
    "        if self.index >= len(self.data):\n",
    "            raise StopIteration\n",
    "        result = self.data[self.index]\n",
    "        self.index += 1\n",
    "        return result\n",
    "\n",
    "\n",
    "it = MyIterable((4, 5, 6))\n",
    "for x in it:\n",
    "    print(x)"
   ]
  },
  {
   "cell_type": "markdown",
   "metadata": {},
   "source": [
    "### `iter()` and `next()`\n",
    "\n",
    "Manual use possible, less commonplace though"
   ]
  },
  {
   "cell_type": "code",
   "execution_count": null,
   "metadata": {},
   "outputs": [],
   "source": [
    "xs = [\"one\", \"two\", \"three\"]\n",
    "\n",
    "it = iter(xs)  # make an iterator from an iterable\n",
    "print(it)"
   ]
  },
  {
   "cell_type": "code",
   "execution_count": null,
   "metadata": {},
   "outputs": [],
   "source": [
    "print(next(it))\n",
    "print(next(it))\n",
    "print(next(it))"
   ]
  },
  {
   "cell_type": "code",
   "execution_count": null,
   "metadata": {},
   "outputs": [],
   "source": [
    "# this will raise `StopIteration`--iterator is exhausted\n",
    "print(next(it))"
   ]
  }
 ],
 "metadata": {
  "kernelspec": {
   "display_name": "Python 3",
   "language": "python",
   "name": "python3"
  },
  "language_info": {
   "codemirror_mode": {
    "name": "ipython",
    "version": 3
   },
   "file_extension": ".py",
   "mimetype": "text/x-python",
   "name": "python",
   "nbconvert_exporter": "python",
   "pygments_lexer": "ipython3",
   "version": "3.11.8"
  }
 },
 "nbformat": 4,
 "nbformat_minor": 4
}
