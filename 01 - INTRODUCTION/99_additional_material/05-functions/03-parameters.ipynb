{
  "cells": [
    {
      "cell_type": "markdown",
      "metadata": {},
      "source": [
        "# Function parameters\n",
        "\n",
        "A Python function can accept the following kinds of parameters:\n",
        "\n",
        "1. **Positional Parameters**: Most common and required as input. Must be passed in the correct positional order\n",
        "\n",
        "2. **Default Parameters**: Have a default value provided in the function definition are are therefore optional\n",
        "\n",
        "3. **Keyword Parameters**: Identified by parameter name rather than position. May occur in any order\n",
        "\n",
        "4. **Variable Positional Parameters**: Used when number of positional args is unknown. Defined by prefixing the parameter name with an asterisk (`*`)\n",
        "\n",
        "5. **Variable Keyword Parameters**: Used when number of keyword args is unknown. Defined by prefixing the parameter name with two asterisks (`**`)\n",
        "\n",
        "Conventional naming of special params:\n",
        "\n",
        "- `*args`: Placeholder for any number of _positional arguments_\n",
        "- `**kwargs`: Placeholder for any number of _keyword arguments_\n"
      ]
    },
    {
      "cell_type": "code",
      "execution_count": null,
      "metadata": {},
      "outputs": [],
      "source": [
        "# Some typical function\n",
        "def headline(msg, n_stars=None, capitalize=False):\n",
        "    if n_stars:\n",
        "        print(\"*\" * n_stars)\n",
        "    print(msg.upper() if capitalize else msg)\n",
        "    if n_stars:\n",
        "        print(\"*\" * n_stars)\n"
      ]
    },
    {
      "cell_type": "markdown",
      "metadata": {},
      "source": [
        "### 1) Positional arguments\n"
      ]
    },
    {
      "cell_type": "code",
      "execution_count": null,
      "metadata": {},
      "outputs": [],
      "source": [
        "headline(\"foo\", 10, False)\n"
      ]
    },
    {
      "cell_type": "markdown",
      "metadata": {},
      "source": [
        "### 2) Optional/default arguments\n"
      ]
    },
    {
      "cell_type": "code",
      "execution_count": null,
      "metadata": {},
      "outputs": [],
      "source": [
        "headline(\"bar\", 10)\n"
      ]
    },
    {
      "cell_type": "markdown",
      "metadata": {},
      "source": [
        "##### Note: Common Pitfall"
      ]
    },
    {
      "cell_type": "markdown",
      "metadata": {},
      "source": [
        "Regular behavior when default arguments are **immutable**:"
      ]
    },
    {
      "cell_type": "code",
      "execution_count": 8,
      "metadata": {},
      "outputs": [
        {
          "name": "stdout",
          "output_type": "stream",
          "text": [
            "1: apple\n",
            "2: pear\n"
          ]
        }
      ],
      "source": [
        "def append_str(x, xs=\"\"):  # string is immutable\n",
        "    xs += x\n",
        "    return xs\n",
        "\n",
        "\n",
        "values = append_str(\"apple\")\n",
        "print(\"1:\", values)\n",
        "\n",
        "values = append_str(\"pear\")\n",
        "print(\"2:\", values)  # no surprises here"
      ]
    },
    {
      "cell_type": "markdown",
      "metadata": {},
      "source": [
        "However often trouble ensues when **mutable** default arguments are involved:"
      ]
    },
    {
      "cell_type": "code",
      "execution_count": 6,
      "metadata": {},
      "outputs": [
        {
          "name": "stdout",
          "output_type": "stream",
          "text": [
            "1: ['apple']\n",
            "2: ['apple', 'pear']\n"
          ]
        }
      ],
      "source": [
        "def add_item(x, xs=[]):  # list is mutable\n",
        "    xs.append(x)\n",
        "    return xs\n",
        "\n",
        "\n",
        "values = add_item(\"apple\")\n",
        "print(\"1:\", values)\n",
        "\n",
        "values = add_item(\"pear\")\n",
        "print(\"2:\", values)  # ! not what we may expect"
      ]
    },
    {
      "cell_type": "markdown",
      "metadata": {},
      "source": [
        "### 3) Keyword arguments\n"
      ]
    },
    {
      "cell_type": "code",
      "execution_count": null,
      "metadata": {},
      "outputs": [],
      "source": [
        "headline(\"foo\", capitalize=True)\n"
      ]
    },
    {
      "cell_type": "code",
      "execution_count": null,
      "metadata": {},
      "outputs": [],
      "source": [
        "headline(\"bar\", capitalize=False, n_stars=10)\n"
      ]
    },
    {
      "cell_type": "markdown",
      "metadata": {},
      "source": [
        "### 4) Variable Positional Parameters"
      ]
    },
    {
      "cell_type": "code",
      "execution_count": null,
      "metadata": {},
      "outputs": [],
      "source": [
        "def invite_guests(party_name, *args):\n",
        "    headline(party_name, n_stars=len(party_name))\n",
        "    print(\"Today with:\" if len(args) > 0 else \"Event canceled\")\n",
        "    for guest in args:\n",
        "        print(\"- \", guest)\n"
      ]
    },
    {
      "cell_type": "code",
      "execution_count": null,
      "metadata": {},
      "outputs": [],
      "source": [
        "invite_guests(\"After work beers\", \"Alice\", \"Bob\", \"Eve\")\n"
      ]
    },
    {
      "cell_type": "code",
      "execution_count": null,
      "metadata": {},
      "outputs": [],
      "source": [
        "invite_guests(\"After work beers\")\n"
      ]
    },
    {
      "cell_type": "markdown",
      "metadata": {},
      "source": [
        "### 5) Variable Keyword Arguments"
      ]
    },
    {
      "cell_type": "code",
      "execution_count": null,
      "metadata": {},
      "outputs": [],
      "source": [
        "def register_guest(name, for_dinner, **kwargs):\n",
        "    print(f\"Registered {name + ':':8s} for_dinner={for_dinner} \", end=\"\")\n",
        "    for k, v in kwargs.items():\n",
        "        print(f\"{k}={v}\", end=\" \")\n",
        "    print()\n"
      ]
    },
    {
      "cell_type": "code",
      "execution_count": null,
      "metadata": {},
      "outputs": [],
      "source": [
        "register_guest(\"Alice\", True, veggie=False, nutsAllergy=True)\n",
        "register_guest(\"Bob\", True, veggie=True, eatsALot=True)\n"
      ]
    }
  ],
  "metadata": {
    "kernelspec": {
      "display_name": "Python 3",
      "language": "python",
      "name": "python3"
    },
    "language_info": {
      "codemirror_mode": {
        "name": "ipython",
        "version": 3
      },
      "file_extension": ".py",
      "mimetype": "text/x-python",
      "name": "python",
      "nbconvert_exporter": "python",
      "pygments_lexer": "ipython3",
      "version": "3.11.8"
    }
  },
  "nbformat": 4,
  "nbformat_minor": 4
}
