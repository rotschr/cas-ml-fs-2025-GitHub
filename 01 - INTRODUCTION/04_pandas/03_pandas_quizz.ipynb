{
 "cells": [
  {
   "cell_type": "markdown",
   "id": "a980fa65-f746-4494-8804-d8b29ce55da9",
   "metadata": {},
   "source": [
    "# Pandas Quizz\n",
    "\n",
    "Here some sample data for the exercises:"
   ]
  },
  {
   "cell_type": "code",
   "execution_count": null,
   "id": "902b29b8",
   "metadata": {},
   "outputs": [],
   "source": [
    "import pandas as pd"
   ]
  },
  {
   "cell_type": "code",
   "execution_count": null,
   "id": "11311850",
   "metadata": {},
   "outputs": [],
   "source": [
    "# Sample data for demonstration\n",
    "data = {\n",
    "    'Name': ['Alice', 'Bob', 'Charlie', 'David', 'Eve'],\n",
    "    'Age': [25, None, 35, 45, 29],\n",
    "    'JoinDate': ['2023-01-15', '2022-05-10', '2023-07-19', '2021-11-03', '2022-08-21'],\n",
    "    'Department': ['HR', 'IT', 'IT', 'HR', 'Marketing'],\n",
    "    'Salary': [55000, 60000, 75000, 50000, 70000]\n",
    "}\n",
    "\n",
    "# Convert data into a DataFrame\n",
    "df = pd.DataFrame(data)\n",
    "\n",
    "display(df)"
   ]
  },
  {
   "cell_type": "markdown",
   "id": "92849900",
   "metadata": {},
   "source": [
    "## Task 1: Filtering Data\n",
    "\n",
    "*Key Concepts: DataFrame filtering, logical conditions.*\n",
    "\n",
    "- Filter the df with employees to show only those working in the \"IT\" department.\n",
    "- Further, filter this subset to include only employees with a salary above 60'000."
   ]
  },
  {
   "cell_type": "code",
   "execution_count": null,
   "id": "563478c0",
   "metadata": {},
   "outputs": [],
   "source": [
    "# solve the task here:"
   ]
  },
  {
   "cell_type": "markdown",
   "id": "ed175b67",
   "metadata": {},
   "source": [
    "## Task 2: Handling Missing Data\n",
    "\n",
    "*Key Concepts: Checking for missing values, handling missing data, calculating averages.*\n",
    "\n",
    "- Check for any missing values in each column of the DataFrame.\n",
    "- If there are missing values in the \"Age\" column, fill these with the average age of all employees (`df['Age'].mean()`)."
   ]
  },
  {
   "cell_type": "code",
   "execution_count": null,
   "id": "698ab18c",
   "metadata": {},
   "outputs": [],
   "source": [
    "# solve the task here:"
   ]
  },
  {
   "cell_type": "markdown",
   "id": "848213fe",
   "metadata": {},
   "source": [
    "## Task 3: Date and Time Manipulation and Aggregation with Groupby\n",
    "\n",
    "*Key Concepts: Date and time conversion, creating new columns, groupby with aggregation.*\n",
    "\n",
    "- Convert the \"JoinDate\" column to a date format.\n",
    "- Calculate the number of days each employee has been in the company based on the \"JoinDate\" column and add this as a new column called \"DaysInCompany\". (Hint: The current date is `pd.Timestamp.now()`)\n",
    "- Use `groupby` to calculate the average salary and maximum \"DaysInCompany\" for each department."
   ]
  },
  {
   "cell_type": "code",
   "execution_count": null,
   "id": "c5dbd0a0",
   "metadata": {},
   "outputs": [],
   "source": [
    "# solve the task here:"
   ]
  },
  {
   "cell_type": "markdown",
   "id": "5b5d3319",
   "metadata": {},
   "source": [
    "## Solutions"
   ]
  },
  {
   "cell_type": "code",
   "execution_count": null,
   "id": "e2f38d44",
   "metadata": {},
   "outputs": [],
   "source": [
    "# Task 1: Filtering Data\n",
    "# ----------------------\n",
    "# Step 1: Filter to show only employees in the 'IT' department\n",
    "it_department = df[df['Department'] == 'IT']\n",
    "print(it_department)\n",
    "\n",
    "# Step 2: Further filter to include only employees with Salary > 60000\n",
    "high_salary_it = it_department[it_department['Salary'] > 60000]\n",
    "print(f\"Employees in IT department with salary above 60000:\\n {high_salary_it}\")\n",
    "\n",
    "# Task 2: Handling Missing Data\n",
    "# -----------------------------\n",
    "# Step 1: Check for missing values in each column\n",
    "print(f\"\\nMissing values in each column:\\n {df.isna().sum(axis=0)}\")\n",
    "\n",
    "# Step 2: Fill missing 'Age' values with the average age\n",
    "average_age = df['Age'].mean()\n",
    "df['Age'] = df['Age'].fillna(average_age)\n",
    "print(f\"\\nData after filling missing 'Age' values with the average:\\n {df}\", )\n",
    "\n",
    "# Task 3: Date and Time Manipulation and Aggregation with Groupby\n",
    "# ---------------------------------------------------------------\n",
    "# Step 1: Convert 'JoinDate' to a datetime format\n",
    "df['JoinDate'] = pd.to_datetime(df['JoinDate'], format=\"%Y-%m-%d\")\n",
    "\n",
    "# Step 2: Calculate 'DaysInCompany' based on 'JoinDate'\n",
    "df['DaysInCompany'] = (pd.Timestamp.now() - df['JoinDate']).dt.days\n",
    "print(f\"\\nData with 'DaysInCompany' calculated:\\n {df}\")\n",
    "\n",
    "# Step 3: Group by 'Department' and calculate average salary and max 'DaysInCompany'\n",
    "department_summary = df.groupby('Department').agg(\n",
    "    AverageSalary=('Salary', 'mean'),\n",
    "    MaxDaysInCompany=('DaysInCompany', 'max')\n",
    ")\n",
    "print(f\"\\nDepartment summary (average salary and max days in company):\\n {department_summary}\")"
   ]
  }
 ],
 "metadata": {
  "kernelspec": {
   "display_name": ".venv",
   "language": "python",
   "name": "python3"
  },
  "language_info": {
   "codemirror_mode": {
    "name": "ipython",
    "version": 3
   },
   "file_extension": ".py",
   "mimetype": "text/x-python",
   "name": "python",
   "nbconvert_exporter": "python",
   "pygments_lexer": "ipython3",
   "version": "3.12.6"
  }
 },
 "nbformat": 4,
 "nbformat_minor": 5
}
