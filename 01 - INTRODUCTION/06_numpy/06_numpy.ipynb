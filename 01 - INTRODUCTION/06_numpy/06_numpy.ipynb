{
 "cells": [
  {
   "cell_type": "markdown",
   "id": "1351bcc3-49fd-45b2-8d17-231d37217930",
   "metadata": {},
   "source": [
    "# Programming with Numpy\n",
    "\n",
    "Numpy is a library for working with multidimensional data structures (especially numerical). A good overview of many Numpy functions can be found [here](https://numpy.org/devdocs/user/basics.html)\n",
    "\n",
    "Numpy is widely used in the data sciences and can greatly accelerate computation time. One example we will look at in the notebook is using Numpy instead of iterating over the data. But we also need a bit of linear algebra (which often goes hand in hand with Numpy)."
   ]
  },
  {
   "cell_type": "code",
   "execution_count": 1,
   "id": "75cfd604-d8f6-4ac1-b71d-089f426cde67",
   "metadata": {
    "tags": []
   },
   "outputs": [],
   "source": [
    "import numpy as np\n",
    "import matplotlib.pyplot as plt\n",
    "import pandas as pd\n",
    "from datetime import datetime\n",
    "import time"
   ]
  },
  {
   "cell_type": "markdown",
   "id": "0b1b3189-14bb-4fd6-a770-04b4c4707e43",
   "metadata": {},
   "source": [
    "## Creating arrays\n",
    "\n",
    "The basic data structure in Numpy are `arrays`. There are different ways to create a Numpy array. \n",
    "\n",
    "Here are a few examples:\n",
    "\n",
    "### Array from list\n",
    "\n",
    "The following three arrays all contain the same number of values (integers 1 - 8). The first array is created from a simple list, the second array from a 2-dimensional list and the third from a 3-dimensional list. The dimensions can be displayed in the same way as in `Pandas`."
   ]
  },
  {
   "cell_type": "code",
   "execution_count": 2,
   "id": "fba26664-c165-488e-b7de-2f97c72dabc6",
   "metadata": {
    "tags": []
   },
   "outputs": [],
   "source": [
    "ar_1d = np.array([1, 2, 3, 4, 5, 6, 7, 8])\n",
    "ar_2d = np.array([[1, 2, 3, 4], [5, 6, 7, 8]])\n",
    "ar_3d = np.array([[[1, 2], [3, 4]], [[5, 6], [7, 8]]])"
   ]
  },
  {
   "cell_type": "code",
   "execution_count": 3,
   "id": "fe9d4456-063f-443a-86dc-722b48852390",
   "metadata": {
    "tags": []
   },
   "outputs": [
    {
     "name": "stdout",
     "output_type": "stream",
     "text": [
      "(8,)\n",
      "(2, 4)\n",
      "(2, 2, 2)\n"
     ]
    }
   ],
   "source": [
    "print(ar_1d.shape)\n",
    "print(ar_2d.shape)\n",
    "print(ar_3d.shape)"
   ]
  },
  {
   "cell_type": "markdown",
   "id": "4e46fb42-9468-4a99-bd8d-d9de4e84091b",
   "metadata": {},
   "source": [
    "When creating an array, the data type can also be specified. Displaying the data type is not exactly the same as in basic Python: `type()` vs. `.dtype`."
   ]
  },
  {
   "cell_type": "code",
   "execution_count": null,
   "id": "adbea255-cebd-48e8-88ca-dc1d0c83d8b8",
   "metadata": {
    "tags": []
   },
   "outputs": [
    {
     "name": "stdout",
     "output_type": "stream",
     "text": [
      "int32\n",
      "float64\n"
     ]
    }
   ],
   "source": [
    "ar_1d_int = np.array([1, 2, 3, 4, 5, 6, 7, 8], dtype= np.int32) # 32-bit Integers i.e. 2^32 unterschiedliche Integer möglich\n",
    "ar_1d_fl = np.array([1, 2, 3, 4, 5, 6, 7, 8], dtype= float)\n",
    "\n",
    "print(ar_1d_int.dtype)\n",
    "print(ar_1d_fl.dtype)"
   ]
  },
  {
   "cell_type": "code",
   "execution_count": 6,
   "id": "5d12aa2c-f1e3-464a-9d19-059e6ee4b278",
   "metadata": {
    "tags": []
   },
   "outputs": [
    {
     "data": {
      "text/plain": [
       "array([1., 2., 3., 4., 5., 6., 7., 8.])"
      ]
     },
     "execution_count": 6,
     "metadata": {},
     "output_type": "execute_result"
    }
   ],
   "source": [
    "ar_1d_fl"
   ]
  },
  {
   "cell_type": "markdown",
   "id": "e6d484f6-e08e-4dbf-9e1d-381fc3d0fcd6",
   "metadata": {},
   "source": [
    "### Arrays from Numpy Functions\n",
    "\n",
    "`arange()` is similar to `range()` in basic Python:"
   ]
  },
  {
   "cell_type": "code",
   "execution_count": 8,
   "id": "08cd9b33-2b11-46c2-85c3-2896de3aa4d9",
   "metadata": {
    "tags": []
   },
   "outputs": [
    {
     "name": "stdout",
     "output_type": "stream",
     "text": [
      "[0 1 2 3 4 5 6 7 8 9]\n",
      "[2 3 4 5 6 7]\n",
      "[2 4 6]\n"
     ]
    }
   ],
   "source": [
    "a = np.arange(10) # 0 bis 9\n",
    "b = np.arange(2,8) # beginnt bei 2\n",
    "c = np.arange(2,8,2) # geht in 2er Schritten\n",
    "\n",
    "print(a)\n",
    "print(b)\n",
    "print(c)"
   ]
  },
  {
   "cell_type": "markdown",
   "id": "07e9ebc1-8711-4256-9065-f978a56edbff",
   "metadata": {},
   "source": [
    "With `linspace()` a certain number of elements can be created between two values (evenly spaced):"
   ]
  },
  {
   "cell_type": "code",
   "execution_count": 9,
   "id": "91b3ca33-1779-4a4a-a122-4a0c74123faf",
   "metadata": {
    "tags": []
   },
   "outputs": [
    {
     "name": "stdout",
     "output_type": "stream",
     "text": [
      "(6,)\n",
      "[2.  3.2 4.4 5.6 6.8 8. ]\n"
     ]
    }
   ],
   "source": [
    "d = np.linspace(2,8,6)\n",
    "\n",
    "print(d.shape)\n",
    "print(d)"
   ]
  },
  {
   "cell_type": "markdown",
   "id": "66cb289d-a011-48f6-82d4-7950d55ed186",
   "metadata": {},
   "source": [
    "Filled multidimensional arrays can be created with `ones()` and `zeros()`:"
   ]
  },
  {
   "cell_type": "code",
   "execution_count": 10,
   "id": "422f6c2f-8a83-4514-9b1b-ed1bdba2d97b",
   "metadata": {
    "tags": []
   },
   "outputs": [
    {
     "name": "stdout",
     "output_type": "stream",
     "text": [
      "[[0. 0. 0.]\n",
      " [0. 0. 0.]]\n",
      "[[[1. 1.]\n",
      "  [1. 1.]\n",
      "  [1. 1.]\n",
      "  [1. 1.]]\n",
      "\n",
      " [[1. 1.]\n",
      "  [1. 1.]\n",
      "  [1. 1.]\n",
      "  [1. 1.]]\n",
      "\n",
      " [[1. 1.]\n",
      "  [1. 1.]\n",
      "  [1. 1.]\n",
      "  [1. 1.]]]\n"
     ]
    }
   ],
   "source": [
    "zero = np.zeros((2, 3))\n",
    "one = np.ones((3, 4, 2))\n",
    "\n",
    "print(zero)\n",
    "print(one)"
   ]
  },
  {
   "cell_type": "markdown",
   "id": "ba5b1c35-b887-4b35-b5b0-7ccb80cc46cb",
   "metadata": {},
   "source": [
    "#### Random\n",
    "\n",
    "Multidimensional arrays (with random numbers) can also be filled with Numpys `random`-function. There are many possibilities (i.e. different random distributions):\n",
    "\n",
    "Random numbers between 0 and 1:"
   ]
  },
  {
   "cell_type": "code",
   "execution_count": 12,
   "id": "c6136e20-7d9e-4999-8a89-31b4f8fca5a9",
   "metadata": {
    "tags": []
   },
   "outputs": [
    {
     "data": {
      "text/plain": [
       "array([[0.52773685, 0.78974411],\n",
       "       [0.03531975, 0.45559507],\n",
       "       [0.53039742, 0.06966036]])"
      ]
     },
     "execution_count": 12,
     "metadata": {},
     "output_type": "execute_result"
    }
   ],
   "source": [
    "np.random.rand(3,2) # (3,2) dimensional matrix"
   ]
  },
  {
   "cell_type": "markdown",
   "id": "3d968119-b47b-41ae-9f71-00454458d751",
   "metadata": {},
   "source": [
    "Random numbers of the *standard normal distribution* (mean = 0, sd = 1):"
   ]
  },
  {
   "cell_type": "code",
   "execution_count": 13,
   "id": "222fe81f-b49d-4cf0-a5e5-3b137f4f38ca",
   "metadata": {
    "tags": []
   },
   "outputs": [
    {
     "data": {
      "text/plain": [
       "array([[-1.4330295 , -1.05056175,  0.58439726],\n",
       "       [-1.31834317,  1.13076116, -0.09932636],\n",
       "       [ 0.02804345,  0.09556326, -0.93851394],\n",
       "       [-0.50457846,  0.30833847, -0.71357171]])"
      ]
     },
     "execution_count": 13,
     "metadata": {},
     "output_type": "execute_result"
    }
   ],
   "source": [
    "np.random.randn(4,3)"
   ]
  },
  {
   "cell_type": "markdown",
   "id": "cf6fb303",
   "metadata": {},
   "source": [
    "When creating many samples for a 1-d normal distribution we should see the Gaussian bellshaped curve."
   ]
  },
  {
   "cell_type": "code",
   "execution_count": 25,
   "id": "b7ae03eb",
   "metadata": {},
   "outputs": [
    {
     "data": {
      "image/png": "[encoded data removed]",
      "text/plain": [
       "<Figure size 640x480 with 1 Axes>"
      ]
     },
     "metadata": {},
     "output_type": "display_data"
    }
   ],
   "source": [
    "import matplotlib.pyplot as plt\n",
    "rand = np.random.randn(10000)\n",
    "plt.hist(rand, bins=30)\n",
    "plt.show()"
   ]
  },
  {
   "cell_type": "markdown",
   "id": "b4709de1-fc1e-42af-9a3a-d0e66c340795",
   "metadata": {},
   "source": [
    "Random integers between 20 and 100 as a (3,2)-dimensional array"
   ]
  },
  {
   "cell_type": "code",
   "execution_count": 22,
   "id": "394cf803-635f-4466-9d2b-ff4b73822e00",
   "metadata": {
    "tags": []
   },
   "outputs": [
    {
     "data": {
      "text/plain": [
       "array([[58, 93],\n",
       "       [27, 99],\n",
       "       [77, 96]])"
      ]
     },
     "execution_count": 22,
     "metadata": {},
     "output_type": "execute_result"
    }
   ],
   "source": [
    "np.random.randint(20, 100, size=(3,2))\n"
   ]
  },
  {
   "cell_type": "markdown",
   "id": "75f7efbc-3933-41ac-b07e-c0528af22785",
   "metadata": {},
   "source": [
    "Randomly choose from a list of available values to create a (2,3)-dimensional array:"
   ]
  },
  {
   "cell_type": "code",
   "execution_count": 23,
   "id": "a7f7159b-853d-4a39-921e-fe3bdb8723fc",
   "metadata": {
    "tags": []
   },
   "outputs": [
    {
     "data": {
      "text/plain": [
       "array([[7, 5, 5],\n",
       "       [9, 3, 5]])"
      ]
     },
     "execution_count": 23,
     "metadata": {},
     "output_type": "execute_result"
    }
   ],
   "source": [
    "np.random.choice([3, 5, 7, 9], size=(2, 3))"
   ]
  },
  {
   "cell_type": "markdown",
   "id": "ef795229-1943-47ae-a3cb-2c41960e911f",
   "metadata": {},
   "source": [
    "And many more...see [here](https://numpy.org/doc/1.16/reference/routines.random.html) for inspiration."
   ]
  },
  {
   "cell_type": "markdown",
   "id": "de931603-f1ff-4766-8e38-a20dfc832ab5",
   "metadata": {},
   "source": [
    "## Index in arrays\n",
    "\n",
    "Indexing can be a bit confusing with multiple dimensions. \n",
    "\n",
    "- Basically, we can use integer numbers per dimension to specify which data we want (e.g. 0 for the first dimension means that we only ever want the first value of this dimension)\n",
    "- If we enter *:* for a dimension, this means that we want all values\n",
    "- With *2:* we want all values from the 3rd onwards for the dimension in question. With *:2* we want the first three numbers of the dimension.\n",
    "\n",
    "Here we go... We create a 3-dimensional array of integer values between 0 and 50:"
   ]
  },
  {
   "cell_type": "code",
   "execution_count": 27,
   "id": "8f571d00-ee0b-4462-8369-ca82e2320f30",
   "metadata": {
    "tags": []
   },
   "outputs": [
    {
     "data": {
      "text/plain": [
       "array([[[39, 34, 48, 44],\n",
       "        [45, 47,  3, 47]],\n",
       "\n",
       "       [[41, 39, 46, 41],\n",
       "        [ 8, 23, 14, 12]],\n",
       "\n",
       "       [[49, 48, 26, 35],\n",
       "        [42, 23, 44, 44]]])"
      ]
     },
     "execution_count": 27,
     "metadata": {},
     "output_type": "execute_result"
    }
   ],
   "source": [
    "rand_int = np.random.randint(50, size=(3,2,4))\n",
    "rand_int"
   ]
  },
  {
   "cell_type": "markdown",
   "id": "43188651-4724-48c8-be19-a5773db1f0f7",
   "metadata": {},
   "source": [
    "We would like to have only the first value of each dimension and all values of the other dimensions:"
   ]
  },
  {
   "cell_type": "code",
   "execution_count": 28,
   "id": "1b96719e-0001-4a75-b069-dbdc5c373ee4",
   "metadata": {
    "tags": []
   },
   "outputs": [
    {
     "data": {
      "text/plain": [
       "array([[39, 34, 48, 44],\n",
       "       [45, 47,  3, 47]])"
      ]
     },
     "execution_count": 28,
     "metadata": {},
     "output_type": "execute_result"
    }
   ],
   "source": [
    "rand_int[0, :, :]"
   ]
  },
  {
   "cell_type": "code",
   "execution_count": 29,
   "id": "7222e8a2-68e6-4f84-ad51-b5e0bfe23088",
   "metadata": {
    "tags": []
   },
   "outputs": [
    {
     "data": {
      "text/plain": [
       "array([[39, 34, 48, 44],\n",
       "       [41, 39, 46, 41],\n",
       "       [49, 48, 26, 35]])"
      ]
     },
     "execution_count": 29,
     "metadata": {},
     "output_type": "execute_result"
    }
   ],
   "source": [
    "rand_int[:,0,:]"
   ]
  },
  {
   "cell_type": "code",
   "execution_count": 30,
   "id": "6fc20477-c25e-4b33-8ac5-9fe2c806090d",
   "metadata": {
    "tags": []
   },
   "outputs": [
    {
     "data": {
      "text/plain": [
       "array([[39, 45],\n",
       "       [41,  8],\n",
       "       [49, 42]])"
      ]
     },
     "execution_count": 30,
     "metadata": {},
     "output_type": "execute_result"
    }
   ],
   "source": [
    "rand_int[:, :, 0]"
   ]
  },
  {
   "cell_type": "markdown",
   "id": "a54cef35-dac6-4403-beab-a7bb9fdcd046",
   "metadata": {},
   "source": [
    "We would like to have only the first two values of the first dimension and all other values:"
   ]
  },
  {
   "cell_type": "code",
   "execution_count": 31,
   "id": "ba0c9b23-8c09-4263-8cd2-36ff7196425d",
   "metadata": {
    "tags": []
   },
   "outputs": [
    {
     "data": {
      "text/plain": [
       "array([[[39, 34, 48, 44],\n",
       "        [45, 47,  3, 47]],\n",
       "\n",
       "       [[41, 39, 46, 41],\n",
       "        [ 8, 23, 14, 12]]])"
      ]
     },
     "execution_count": 31,
     "metadata": {},
     "output_type": "execute_result"
    }
   ],
   "source": [
    "rand_int[:2, :, :]"
   ]
  },
  {
   "cell_type": "markdown",
   "id": "1b138b76-ad27-40fd-8e2c-fe0a8966c418",
   "metadata": {},
   "source": [
    "We only want the last two values of the third dimension and all other values:"
   ]
  },
  {
   "cell_type": "code",
   "execution_count": 32,
   "id": "05f633b8-7caf-4efd-b4c1-7c7bf28c3c4d",
   "metadata": {
    "tags": []
   },
   "outputs": [
    {
     "data": {
      "text/plain": [
       "array([[[48, 44],\n",
       "        [ 3, 47]],\n",
       "\n",
       "       [[46, 41],\n",
       "        [14, 12]],\n",
       "\n",
       "       [[26, 35],\n",
       "        [44, 44]]])"
      ]
     },
     "execution_count": 32,
     "metadata": {},
     "output_type": "execute_result"
    }
   ],
   "source": [
    "rand_int[:, :, -2:]"
   ]
  },
  {
   "cell_type": "markdown",
   "id": "f24e94ae-9215-4b47-abce-a5a87fd59988",
   "metadata": {},
   "source": [
    "## Change dimensions\n",
    "\n",
    "We will not go into the depths of the topic here. There are a number of functions to change the dimensionality of arrays very quickly. A few common examples are shown using a 2d array with 6 elements:"
   ]
  },
  {
   "cell_type": "code",
   "execution_count": 33,
   "id": "5098451f-2224-4493-8ca9-e4d0cf24409d",
   "metadata": {
    "tags": []
   },
   "outputs": [
    {
     "data": {
      "text/plain": [
       "array([[20, 10],\n",
       "       [24, 25],\n",
       "       [32, 30]])"
      ]
     },
     "execution_count": 33,
     "metadata": {},
     "output_type": "execute_result"
    }
   ],
   "source": [
    "rand_int = np.random.randint(50, size=(3,2))\n",
    "rand_int"
   ]
  },
  {
   "cell_type": "markdown",
   "id": "bad459d4-6fc5-46f1-ad01-fa2e6c773a2f",
   "metadata": {},
   "source": [
    "`reshape()` gives us the opportunity to choose the new dimensions ourselves:"
   ]
  },
  {
   "cell_type": "code",
   "execution_count": 34,
   "id": "064fb201-d229-4374-aa98-ee9c82827972",
   "metadata": {
    "tags": []
   },
   "outputs": [
    {
     "data": {
      "text/plain": [
       "array([[20, 10, 24],\n",
       "       [25, 32, 30]])"
      ]
     },
     "execution_count": 34,
     "metadata": {},
     "output_type": "execute_result"
    }
   ],
   "source": [
    "rand_int.reshape(2,3)"
   ]
  },
  {
   "cell_type": "markdown",
   "id": "42200c1f-4062-416c-8305-869fe28f5104",
   "metadata": {},
   "source": [
    "We can also `transpose` the array (i.e. mirror it, columns as rows and rows as columns, often used in statistical modeling):"
   ]
  },
  {
   "cell_type": "code",
   "execution_count": 35,
   "id": "9e65a20f-797a-411e-9d47-435ab783e797",
   "metadata": {
    "tags": []
   },
   "outputs": [
    {
     "data": {
      "text/plain": [
       "array([[20, 24, 32],\n",
       "       [10, 25, 30]])"
      ]
     },
     "execution_count": 35,
     "metadata": {},
     "output_type": "execute_result"
    }
   ],
   "source": [
    "rand_int.T"
   ]
  },
  {
   "cell_type": "markdown",
   "id": "5e7dc5d5-1502-4c94-af88-f3b579b7b2ca",
   "metadata": {},
   "source": [
    "A common special case of `reshape` is `flatten`. This creates a 1d array, regardless of the origin (a common first step in neural networks):"
   ]
  },
  {
   "cell_type": "code",
   "execution_count": 36,
   "id": "c0a1b3c3-09c6-49f4-83a2-092cc80c6b60",
   "metadata": {
    "tags": []
   },
   "outputs": [
    {
     "data": {
      "text/plain": [
       "array([20, 10, 24, 25, 32, 30])"
      ]
     },
     "execution_count": 36,
     "metadata": {},
     "output_type": "execute_result"
    }
   ],
   "source": [
    "rand_int.flatten()"
   ]
  },
  {
   "cell_type": "markdown",
   "id": "599a01ce-e532-4d9a-b5bb-8d36a29e129a",
   "metadata": {},
   "source": [
    "Not surprising either; we can cut the dimensions to size with `resize()`. Perhaps more surprising is the example of expanding an existing array."
   ]
  },
  {
   "cell_type": "code",
   "execution_count": 37,
   "id": "73fa4b9f-4efe-483e-9b69-689405a9af82",
   "metadata": {
    "tags": []
   },
   "outputs": [
    {
     "data": {
      "text/plain": [
       "array([[20, 10],\n",
       "       [24, 25]])"
      ]
     },
     "execution_count": 37,
     "metadata": {},
     "output_type": "execute_result"
    }
   ],
   "source": [
    "np.resize(rand_int, (2,2))"
   ]
  },
  {
   "cell_type": "code",
   "execution_count": 38,
   "id": "a72877bd-8032-4640-aa06-f87da0f0b5b9",
   "metadata": {
    "tags": []
   },
   "outputs": [
    {
     "data": {
      "text/plain": [
       "array([[20, 10],\n",
       "       [24, 25],\n",
       "       [32, 30],\n",
       "       [20, 10]])"
      ]
     },
     "execution_count": 38,
     "metadata": {},
     "output_type": "execute_result"
    }
   ],
   "source": [
    "np.resize(rand_int, (4,2))"
   ]
  },
  {
   "cell_type": "markdown",
   "id": "64c8da1a-4634-42d7-8f5e-dcc406c552ce",
   "metadata": {},
   "source": [
    "## Pandas to Numpy and back\n",
    "\n",
    "We reload the bike measurements from Langstrasse Zurich as Pandas Dataframe."
   ]
  },
  {
   "cell_type": "code",
   "execution_count": 39,
   "id": "d461d266-4776-48a3-8f05-87af3fa3d78b",
   "metadata": {
    "tags": []
   },
   "outputs": [],
   "source": [
    "velo = pd.read_csv(\"velozaehldaten_aufbereitet.csv\", sep=\",\", encoding=\"utf-8\")\n",
    "velo['ds'] = pd.to_datetime(velo['ds'], format=\"%Y-%m-%d %H:%M:%S\")"
   ]
  },
  {
   "cell_type": "markdown",
   "id": "7901a81a-4b1a-4ad2-a48d-52763298ec58",
   "metadata": {},
   "source": [
    "We filter the dataframe so that we have the first three weeks of January 2021 as separate dataframes (since the time field in the dataframe has datetime format, we must also pass the filter with `datetime()`)."
   ]
  },
  {
   "cell_type": "code",
   "execution_count": 40,
   "id": "64795023-f80d-4c84-9013-e59e37f792f5",
   "metadata": {},
   "outputs": [],
   "source": [
    "velo_w1 = velo[(velo['ds'] >= datetime(2021, 1, 4)) & (velo['ds'] <= datetime(2021, 1, 11))]\n",
    "velo_w2 = velo[(velo['ds'] >= datetime(2021, 1, 11)) & (velo['ds'] <= datetime(2021, 1, 18))]\n",
    "velo_w3 = velo[(velo['ds'] >= datetime(2021, 1, 18)) & (velo['ds'] <= datetime(2021, 1, 25))]"
   ]
  },
  {
   "cell_type": "markdown",
   "id": "211e8634-aa72-44a8-807e-02527f7798b3",
   "metadata": {},
   "source": [
    "The measured values of the three Pandas data frames can easily be converted into numpy arrays."
   ]
  },
  {
   "cell_type": "code",
   "execution_count": 41,
   "id": "d016fe41-bb37-4098-a03e-579a4c3475b9",
   "metadata": {},
   "outputs": [],
   "source": [
    "w1 = velo_w1['y'].to_numpy()\n",
    "w2 = velo_w2['y'].to_numpy()\n",
    "w3 = velo_w3['y'].to_numpy()"
   ]
  },
  {
   "cell_type": "markdown",
   "id": "a14ccb3c-1d7e-4ade-a40e-8c03b8e080c2",
   "metadata": {},
   "source": [
    "Numpy arrays can also be plotted well with `Matplotlib`."
   ]
  },
  {
   "cell_type": "code",
   "execution_count": 42,
   "id": "a23cc691-b708-491b-a21e-4d4079cd559d",
   "metadata": {
    "tags": []
   },
   "outputs": [
    {
     "data": {
      "image/png": "[encoded data removed]",
      "text/plain": [
       "<Figure size 1400x400 with 1 Axes>"
      ]
     },
     "metadata": {},
     "output_type": "display_data"
    }
   ],
   "source": [
    "plt.figure(figsize=(14, 4))\n",
    "plt.plot(w1, label='Woche 1')\n",
    "plt.plot(w2, label='Woche 2')\n",
    "plt.plot(w3, label='Woche 3')\n",
    "plt.ylabel('Anzahl Velos pro Stunde')\n",
    "plt.legend()\n",
    "plt.show()"
   ]
  },
  {
   "cell_type": "markdown",
   "id": "5c5281de-f973-4967-b802-afb4f0b5544f",
   "metadata": {},
   "source": [
    "In the second week of January, around January 15, you could ski to work in Zurich (see [here](https://www.srf.ch/meteo/meteo-stories/monatsrueckblick-januar-2021-der-grosse-schneemonat-ein-drama)). That's probably why there were only a few bikes on the road...this pattern continues into the 3rd week of January.\n",
    "\n",
    "We now create a new Pandas dataframe, consisting of a column of a dataframe (`Series`) and a numpy array:"
   ]
  },
  {
   "cell_type": "code",
   "execution_count": 43,
   "id": "218603e1-699b-4bc5-8b0a-2f621a95df79",
   "metadata": {
    "tags": []
   },
   "outputs": [],
   "source": [
    "velo_w2_np = pd.DataFrame({\n",
    "    \"ds\": velo_w2[\"ds\"], # Spalte von Dataframe\n",
    "    \"y\": w2 # Numpy Array\n",
    "})"
   ]
  },
  {
   "cell_type": "markdown",
   "id": "8845498c-5d77-459b-9284-8487b73fde51",
   "metadata": {},
   "source": [
    "To test that the Pandas dataframe contains the same values again, here is another plot."
   ]
  },
  {
   "cell_type": "code",
   "execution_count": 44,
   "id": "3f45b50e-64db-4145-b0d3-526b023d94ec",
   "metadata": {
    "tags": []
   },
   "outputs": [
    {
     "data": {
      "image/png": "[encoded data removed]",
      "text/plain": [
       "<Figure size 1400x400 with 1 Axes>"
      ]
     },
     "metadata": {},
     "output_type": "display_data"
    }
   ],
   "source": [
    "plt.figure(figsize=(14, 4))\n",
    "plt.plot(velo_w2_np[\"y\"], color = \"darkorange\")\n",
    "plt.ylabel('Anzahl Velos pro Stunde')\n",
    "plt.show()"
   ]
  },
  {
   "cell_type": "markdown",
   "id": "a6a3efdc-65ef-4113-a61e-29db4c5db173",
   "metadata": {
    "tags": []
   },
   "source": [
    "## Calculating with Numpy\n",
    "\n",
    "As mentioned at the beginning, fast calculation is one of the biggest advantages of Numpy.\n",
    "\n",
    "In particular, operations such as matrix multiplications (scalar product) are processed in parallel thanks to Numpy.\n",
    "\n",
    "### Multiplication of arrays and constants\n",
    "\n",
    "During a multiplication (`dot()`), the constant is automatically multiplied by each value of the array. This is also called *broadcasting* (beware, it can be dangerous!).\n",
    "\n",
    "In the following example, we create a 1d array with 1M random numbers. We compare how long the matrix multiplication takes and how long the multiplication takes in a loop."
   ]
  },
  {
   "cell_type": "code",
   "execution_count": 45,
   "id": "1c3c3e89-0f70-413a-b52e-6c6f73329355",
   "metadata": {
    "tags": []
   },
   "outputs": [],
   "source": [
    "arr = np.random.rand(1000000, 1)\n",
    "konst = 10"
   ]
  },
  {
   "cell_type": "code",
   "execution_count": 46,
   "id": "4384331b-4bcc-4807-b7c4-cda304ca6afb",
   "metadata": {
    "tags": []
   },
   "outputs": [
    {
     "name": "stdout",
     "output_type": "stream",
     "text": [
      "Dauer Matrixmultiplikation: 0.0015180110931396484 sek\n"
     ]
    }
   ],
   "source": [
    "start_time = time.time()\n",
    "\n",
    "np.dot(arr, konst)\n",
    "\n",
    "dot_time = time.time() - start_time\n",
    "print(f\"Dauer Matrixmultiplikation: {dot_time} sek\")"
   ]
  },
  {
   "cell_type": "code",
   "execution_count": 47,
   "id": "41850716-5d83-4394-9c79-0e61fb1acffa",
   "metadata": {
    "tags": []
   },
   "outputs": [
    {
     "name": "stdout",
     "output_type": "stream",
     "text": [
      "Dauer Loop: 0.6624569892883301 sek\n"
     ]
    }
   ],
   "source": [
    "start_time = time.time()\n",
    "\n",
    "for i in range(arr.shape[0]):\n",
    "    arr[i] = arr[i]*konst\n",
    "    \n",
    "loop_time = time.time() - start_time\n",
    "print(f\"Dauer Loop: {loop_time} sek\")"
   ]
  },
  {
   "cell_type": "markdown",
   "id": "11d34d33-b063-442d-9436-5ba4f0e370ad",
   "metadata": {},
   "source": [
    "Quite a difference!"
   ]
  },
  {
   "cell_type": "markdown",
   "id": "247d6ea9-96d4-4f46-bd63-8719fc5029cc",
   "metadata": {},
   "source": [
    "### Multiplication of matrix and matrix\n",
    "\n",
    "It is an advantage if you are aware of how matrix multiplication works when working with Numpy. The following graphic comes from the [Wikipedia article](https://en.wikipedia.org/wiki/Matrix_multiplication) on the topic: \n",
    "\n",
    "<img src=\"Matrix_multiplication.png\" width=400 height=400 />\n",
    "\n",
    "Accordingly, the multiplication (4,2)\\*(2,3) results in a matrix of (4,3):"
   ]
  },
  {
   "cell_type": "code",
   "execution_count": 48,
   "id": "f2c8de1d-9f95-470a-aaa5-910d6445fa35",
   "metadata": {
    "tags": []
   },
   "outputs": [
    {
     "name": "stdout",
     "output_type": "stream",
     "text": [
      "[[4 2]\n",
      " [2 6]\n",
      " [3 0]\n",
      " [7 5]]\n",
      "[[1 6 5]\n",
      " [0 7 9]]\n"
     ]
    }
   ],
   "source": [
    "a = np.random.randint(10, size=(4,2))\n",
    "b = np.random.randint(10, size=(2,3))\n",
    "\n",
    "print(a)\n",
    "print(b)"
   ]
  },
  {
   "cell_type": "code",
   "execution_count": 49,
   "id": "d9a3d206-1e3e-4d68-9c9b-9e60340c58cd",
   "metadata": {
    "tags": []
   },
   "outputs": [
    {
     "name": "stdout",
     "output_type": "stream",
     "text": [
      "(4, 3)\n",
      "[[ 4 38 38]\n",
      " [ 2 54 64]\n",
      " [ 3 18 15]\n",
      " [ 7 77 80]]\n"
     ]
    }
   ],
   "source": [
    "c = np.dot(a,b)\n",
    "\n",
    "print(c.shape)\n",
    "print(c)"
   ]
  },
  {
   "cell_type": "markdown",
   "id": "37057c0d-fc0e-48d9-bb53-0a9f3d84e549",
   "metadata": {},
   "source": [
    "#### Matrix multiplication for linear regression\n",
    "\n",
    "You will certainly encounter matrix multiplication with Numpy again in the context of linear regression or neural networks. \n",
    "\n",
    "Suppose you have a linear regression with two explanatory variables (and without intercept): $y = w_1 x_1 + w_2 x_2$\n",
    "\n",
    "Then it looks like this in Numpy:"
   ]
  },
  {
   "cell_type": "code",
   "execution_count": 50,
   "id": "bf6326a7-7504-470d-8eaa-9871cbe38fdd",
   "metadata": {
    "tags": []
   },
   "outputs": [
    {
     "name": "stdout",
     "output_type": "stream",
     "text": [
      "Vier Predictions: [13 29 45 61]\n"
     ]
    }
   ],
   "source": [
    "# zwei Gewichte w1 und w2\n",
    "w = np.array([3, 5])  # w1 = 3, w2 = 5\n",
    "\n",
    "# Vier Datenpunkte für x1 und x2\n",
    "x = np.array([\n",
    "    [1, 2],\n",
    "    [3, 4],\n",
    "    [5, 6],\n",
    "    [7, 8]\n",
    "])\n",
    "\n",
    "# Voraussage Berechnen\n",
    "y = np.dot(x, w)\n",
    "\n",
    "print(\"Vier Predictions:\", y)\n"
   ]
  },
  {
   "cell_type": "markdown",
   "id": "aca36785-994f-4ce9-a078-67761b8cbab3",
   "metadata": {},
   "source": [
    "### Cosine-Similarity\n",
    "\n",
    "A popular measure for the similarity of vectors is cosine similarity. If the angle between two vectors is 0 degrees, i.e. both vectors point in the same direction, the cosine similarity is 1. \n",
    "\n",
    "With Numpy, the cosine similarity can be calculated very efficiently. First we define a function that calculates the cosine similarity."
   ]
  },
  {
   "cell_type": "code",
   "execution_count": 51,
   "id": "a0aa097f-9f92-4535-a719-963bfd355881",
   "metadata": {
    "tags": []
   },
   "outputs": [],
   "source": [
    "def cosine_similarity(a, b):\n",
    "    return np.dot(a, b) / (np.linalg.norm(a) * np.linalg.norm(b))"
   ]
  },
  {
   "cell_type": "markdown",
   "id": "594773d1-0ee6-463e-bb3b-2e2818aaeec3",
   "metadata": {},
   "source": [
    "We can then apply the function to any array."
   ]
  },
  {
   "cell_type": "code",
   "execution_count": 52,
   "id": "cbc75f52-73f1-4f73-afc3-dbbcf89f7bc1",
   "metadata": {
    "tags": []
   },
   "outputs": [
    {
     "name": "stdout",
     "output_type": "stream",
     "text": [
      "0.9746318461970762\n"
     ]
    }
   ],
   "source": [
    "array1 = np.array([1, 2, 3])\n",
    "array2 = np.array([4, 5, 6])\n",
    "similarity = cosine_similarity(array1, array2)\n",
    "print(similarity)"
   ]
  },
  {
   "cell_type": "markdown",
   "id": "f4895c6b-2d68-40d1-a43b-530a043104ab",
   "metadata": {},
   "source": [
    "Also to the bicycle counts for the two weeks in January 2021:"
   ]
  },
  {
   "cell_type": "code",
   "execution_count": 53,
   "id": "125ef6d6-0893-4f37-94b8-fdc948987692",
   "metadata": {
    "tags": []
   },
   "outputs": [
    {
     "name": "stdout",
     "output_type": "stream",
     "text": [
      "0.7990496980810613\n",
      "0.9440994256579593\n"
     ]
    }
   ],
   "source": [
    "sim_1_2 = cosine_similarity(w1, w2)\n",
    "print(sim_1_2)\n",
    "\n",
    "sim_1_3 = cosine_similarity(w1, w3)\n",
    "print(sim_1_3)"
   ]
  },
  {
   "cell_type": "markdown",
   "id": "366a6af9-f00f-4f23-9d46-3fabbdad0336",
   "metadata": {},
   "source": [
    "As was to be expected, weeks 1 and 3 are more similar than weeks 1 and 2 (Schneesturm!)."
   ]
  }
 ],
 "metadata": {
  "kernelspec": {
   "display_name": ".venv",
   "language": "python",
   "name": "python3"
  },
  "language_info": {
   "codemirror_mode": {
    "name": "ipython",
    "version": 3
   },
   "file_extension": ".py",
   "mimetype": "text/x-python",
   "name": "python",
   "nbconvert_exporter": "python",
   "pygments_lexer": "ipython3",
   "version": "3.12.6"
  }
 },
 "nbformat": 4,
 "nbformat_minor": 5
}
