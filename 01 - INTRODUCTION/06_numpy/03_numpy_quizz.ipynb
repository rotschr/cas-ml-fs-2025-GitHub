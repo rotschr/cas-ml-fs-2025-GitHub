{
 "cells": [
  {
   "cell_type": "markdown",
   "id": "a980fa65-f746-4494-8804-d8b29ce55da9",
   "metadata": {},
   "source": [
    "# Numpy Quizz"
   ]
  },
  {
   "cell_type": "code",
   "execution_count": 2,
   "id": "902b29b8",
   "metadata": {},
   "outputs": [],
   "source": [
    "import numpy as np "
   ]
  },
  {
   "cell_type": "markdown",
   "id": "92849900",
   "metadata": {},
   "source": [
    "## Task 1: Array Creation and Basic Properties\n",
    "\n",
    "*Key Concepts: Array creation, arange, linspace, array properties.*\n",
    "\n",
    "- Create a 1D numpy array from a list with all integers between 10 and 100.\n",
    "- Create an array of even numbers from 0 to 20.\n",
    "- Generate an array with 10 equally spaced values between 0 and 1.\n",
    "- Print the shape, size, and data type of each array.\n"
   ]
  },
  {
   "cell_type": "code",
   "execution_count": null,
   "id": "563478c0",
   "metadata": {},
   "outputs": [],
   "source": [
    "# solve the task here:"
   ]
  },
  {
   "cell_type": "markdown",
   "id": "ed175b67",
   "metadata": {},
   "source": [
    "## Task 2: Array Manipulation with Random Data\n",
    "\n",
    "*Key Concepts: Random arrays, indexing, reshaping, flattening.*\n",
    "\n",
    "- Create a 3x4 array (`size=(3, 4)`) of random integers between 10 and 50.\n",
    "- Index the array to access the element in the second row, third column.\n",
    "- Reshape the array into a 2x6 array, then flatten it to a 1D array.\n",
    "- Create a 2D array of shape (3, 4) with random numbers between 0 and 1.\n"
   ]
  },
  {
   "cell_type": "code",
   "execution_count": null,
   "id": "698ab18c",
   "metadata": {},
   "outputs": [],
   "source": [
    "# solve the task here:"
   ]
  },
  {
   "cell_type": "markdown",
   "id": "388e4e80",
   "metadata": {},
   "source": [
    "## Task 3: Simple Linear Algebra Operations\n",
    "\n",
    "*Key Concepts: Linear algebra operations, element-wise and matrix multiplication, transpose, determinant.*\n",
    "\n",
    "- Create two matrices, A and B. A has dimension (3,4) and consists of random choices of [10, 30, 50, 60] and B has dimension (4,2) and has random choices of [1,4,8,5,2].\n",
    "- Perform element-wise multiplication of the first two rows and columns of A and B.\n",
    "- Compute the addition of each row of A with the first column of B.\n",
    "- Calculate the matrix product of A and B."
   ]
  },
  {
   "cell_type": "code",
   "execution_count": null,
   "id": "5c70d8a0",
   "metadata": {},
   "outputs": [],
   "source": [
    "# solve the task here:"
   ]
  },
  {
   "cell_type": "markdown",
   "id": "5b5d3319",
   "metadata": {},
   "source": [
    "## Solutions"
   ]
  },
  {
   "cell_type": "code",
   "execution_count": null,
   "id": "e2f38d44",
   "metadata": {},
   "outputs": [
    {
     "name": "stdout",
     "output_type": "stream",
     "text": [
      "Array from list:[1 2 3 4 5]\n",
      "Array with even numbers from 0 to 20:[ 0  2  4  6  8 10 12 14 16 18 20]\n",
      "Linspace array:[0.         0.11111111 0.22222222 0.33333333 0.44444444 0.55555556\n",
      " 0.66666667 0.77777778 0.88888889 1.        ]\n",
      "Properties of array_from_list - Shape: (5,) Size: 5 Dtype: int64\n",
      "Properties of even_array - Shape: (11,) Size: 11 Dtype: int64\n",
      "Properties of linspace_array - Shape: (10,) Size: 10 Dtype: float64\n",
      "\n",
      "3x4 Random Integer Array:\n",
      "[[12 23 48 49]\n",
      " [29 15 48 31]\n",
      " [15 45 45 37]]\n",
      "Element at [1, 2]:48\n",
      "Reshaped to 1x9:[[12 23 48 49 29 15]\n",
      " [48 31 15 45 45 37]]\n",
      "Flattened to 1D:[12 23 48 49 29 15 48 31 15 45 45 37]\n",
      "\n",
      "3x4 Random Array:\n",
      "[[0.78469744 0.13352081 0.04884846 0.6354755 ]\n",
      " [0.82202517 0.15116224 0.38581653 0.81543106]\n",
      " [0.35148978 0.20627624 0.73410106 0.60690666]]\n",
      "\n",
      "Matrix A:\n",
      "[[50 50 30 60]\n",
      " [10 30 30 10]\n",
      " [60 10 10 10]]\n",
      "Matrix B:\n",
      "[[1 2]\n",
      " [2 5]\n",
      " [5 4]\n",
      " [2 8]]\n",
      "Element-wise Addition:\n",
      "[[ 50 100]\n",
      " [ 60 300]]\n",
      "Addition of each row of A with the first column of B:\n",
      "[[51 52 35 62]\n",
      " [11 32 35 12]\n",
      " [61 12 15 12]]\n",
      "Matrix Product of A and B:\n",
      "[[420 950]\n",
      " [240 370]\n",
      " [150 290]]\n"
     ]
    }
   ],
   "source": [
    "import numpy as np\n",
    "\n",
    "# Task 1: Array Creation and Basic Properties\n",
    "# -------------------------------------------\n",
    "\n",
    "# Step 1: Create a 1D array from a list\n",
    "array_from_list = np.array(list(range(10,101)))\n",
    "print(f\"Array from list:{array_from_list}\")\n",
    "\n",
    "# Step 2: Create an array of even numbers from 0 to 20\n",
    "even_array = np.arange(0, 21, 2)\n",
    "print(f\"Array with even numbers from 0 to 20:{even_array}\")\n",
    "\n",
    "# Step 3: Generate an array with 10 equally spaced values between 0 and 1\n",
    "linspace_array = np.linspace(0, 1, 10)\n",
    "print(f\"Linspace array:{linspace_array}\")\n",
    "\n",
    "# Step 4: Print shape, size, and dtype of each array\n",
    "print(f\"Properties of array_from_list - Shape:\", array_from_list.shape, \"Size:\", array_from_list.size, \"Dtype:\", array_from_list.dtype)\n",
    "print(f\"Properties of even_array - Shape:\", even_array.shape, \"Size:\", even_array.size, \"Dtype:\", even_array.dtype)\n",
    "print(f\"Properties of linspace_array - Shape:\", linspace_array.shape, \"Size:\", linspace_array.size, \"Dtype:\", linspace_array.dtype)\n",
    "\n",
    "# Task 2: Array Manipulation with Random Data\n",
    "# -------------------------------------------\n",
    "\n",
    "# Step 1: Create a 3x3 array of random integers between 10 and 50\n",
    "random_array = np.random.randint(10, 50, size=(3, 4))\n",
    "print(f\"\\n3x4 Random Integer Array:\\n{random_array}\")\n",
    "\n",
    "# Step 2: Access element in the second row, third column\n",
    "element = random_array[1, 2]\n",
    "print(f\"Element at [1, 2]:{element}\")\n",
    "\n",
    "# Step 3: Reshape the array to 1x9, then flatten it back to 1D\n",
    "reshaped_array = random_array.reshape(2, 6)\n",
    "flattened_array = reshaped_array.flatten()\n",
    "print(f\"Reshaped to 1x9:{reshaped_array}\")\n",
    "print(f\"Flattened to 1D:{flattened_array}\")\n",
    "\n",
    "# Step 4: Create a 2D array of shape (3, 4) with random values between 0 and 1\n",
    "random_array_2d = np.random.rand(3, 4)\n",
    "print(f\"\\n3x4 Random Array:\\n{random_array_2d}\")\n",
    "\n",
    "# Task 3: Simple Linear Algebra Operations\n",
    "# ----------------------------------------\n",
    "\n",
    "# Step 1: Create two 2x2 matrices A and B\n",
    "A = np.random.choice([10,30,50,60], size=(3, 4))\n",
    "B = np.random.choice([1,4,8,5,2], size=(4, 2))\n",
    "print(f\"\\nMatrix A:\\n{A}\")\n",
    "print(f\"Matrix B:\\n{B}\")\n",
    "\n",
    "# Step 2: Perform element-wise addition and multiplication\n",
    "elementwise_multiplication = np.resize(A, (2,2)) * np.resize(B, (2,2))\n",
    "print(f\"Element-wise Addition:\\n{elementwise_multiplication}\")\n",
    "\n",
    "# Step 3: Compute the addition of each row of A with the first column of B\n",
    "addition_result = A + B[:,0].T\n",
    "print(f\"Addition of each row of A with the first column of B:\\n{addition_result}\")\n",
    "\n",
    "# Step 4: Calculate the matrix product of A and B\n",
    "matrix_product = np.dot(A, B)\n",
    "print(f\"Matrix Product of A and B:\\n{matrix_product}\")\n",
    "\n"
   ]
  }
 ],
 "metadata": {
  "kernelspec": {
   "display_name": ".venv",
   "language": "python",
   "name": "python3"
  },
  "language_info": {
   "codemirror_mode": {
    "name": "ipython",
    "version": 3
   },
   "file_extension": ".py",
   "mimetype": "text/x-python",
   "name": "python",
   "nbconvert_exporter": "python",
   "pygments_lexer": "ipython3",
   "version": "3.12.6"
  }
 },
 "nbformat": 4,
 "nbformat_minor": 5
}
