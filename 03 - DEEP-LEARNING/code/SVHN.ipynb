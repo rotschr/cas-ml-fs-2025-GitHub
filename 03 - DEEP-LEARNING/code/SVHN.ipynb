{
 "cells": [
  {
   "cell_type": "code",
   "execution_count": null,
   "id": "300c4cf0-47e8-424d-a136-77fc70cf1c85",
   "metadata": {
    "collapsed": true,
    "jupyter": {
     "outputs_hidden": true
    }
   },
   "outputs": [],
   "source": [
    "import h5py\n",
    "import numpy as np\n",
    "import tensorflow as tf\n",
    "from sklearn.utils.class_weight import compute_class_weight\n",
    "from tensorflow.keras.optimizers import Adam\n",
    "from tensorflow.keras import Sequential\n",
    "from keras.models import Sequential\n",
    "from tensorflow.keras.layers import Conv2D, MaxPooling2D, Dropout, Flatten, Dense, BatchNormalization\n",
    "from tensorflow.keras.utils import to_categorical\n",
    "import matplotlib.pyplot as plt"
   ]
  },
  {
   "cell_type": "code",
   "execution_count": null,
   "id": "aaa46a90-c49f-4914-afd4-c3134bf131a4",
   "metadata": {},
   "outputs": [],
   "source": [
    "tf.keras.utils.set_random_seed(42)"
   ]
  },
  {
   "cell_type": "code",
   "execution_count": null,
   "id": "39d9156d-2170-4231-8178-d84dd95a3455",
   "metadata": {},
   "outputs": [],
   "source": [
    "with h5py.File('SVHN_single_grey1.h5', 'r') as file:\n",
    "    x_train = np.array(file['X_train'])\n",
    "    y_train = np.array(file['y_train'])\n",
    "    x_test = np.array(file['X_test'])\n",
    "    y_test = np.array(file['y_test'])\n",
    "    x_val = np.array(file['X_val'])\n",
    "    y_val = np.array(file['y_val'])"
   ]
  },
  {
   "cell_type": "code",
   "execution_count": null,
   "id": "8481153a-ab91-4822-9f51-78949cf33563",
   "metadata": {},
   "outputs": [],
   "source": [
    "x_train[0].shape"
   ]
  },
  {
   "cell_type": "code",
   "execution_count": null,
   "id": "79d72886-91d7-4cfb-a68a-579353bdcf92",
   "metadata": {},
   "outputs": [],
   "source": [
    "y_train.shape"
   ]
  },
  {
   "cell_type": "code",
   "execution_count": null,
   "id": "78df3226-3313-4786-a671-dcd8e11330c0",
   "metadata": {},
   "outputs": [],
   "source": [
    "# Load and preprocess the SVHN dataset\n",
    "x_train, x_test, x_val = x_train / 255.0, x_test / 255.0, x_val / 255.0"
   ]
  },
  {
   "cell_type": "code",
   "execution_count": null,
   "id": "1d2e9f7c-4d50-450f-9483-3d4cbd5e0211",
   "metadata": {},
   "outputs": [],
   "source": [
    "# Calculate class weights\n",
    "class_weights = compute_class_weight('balanced', classes=np.unique(y_train), y=y_train)\n",
    "class_weight_dict = dict(enumerate(class_weights))"
   ]
  },
  {
   "cell_type": "code",
   "execution_count": null,
   "id": "cdff9354-8d28-4cae-ae8c-7347e7e7f1fd",
   "metadata": {},
   "outputs": [],
   "source": [
    "# Constants\n",
    "input_shape = x_train.shape[1:]\n",
    "nClasses = 10"
   ]
  },
  {
   "cell_type": "code",
   "execution_count": null,
   "id": "f84e4cf8-9ff8-410e-8364-a45e116bc82d",
   "metadata": {},
   "outputs": [],
   "source": [
    "def createModel():\n",
    "    model = Sequential()\n",
    "    model.add(Conv2D(32, (3, 3), padding='same', activation='relu', input_shape=(32, 32, 1)))\n",
    "    model.add(BatchNormalization())\n",
    "    model.add(Conv2D(32, (3, 3), padding='same', activation='relu'))\n",
    "    model.add(MaxPooling2D((2, 2)))\n",
    "    model.add(Dropout(0.3))\n",
    "    \n",
    "    model.add(Conv2D(64, (3, 3), padding='same', activation='relu'))\n",
    "    model.add(BatchNormalization())\n",
    "    model.add(Conv2D(64, (3, 3), padding='same', activation='relu'))\n",
    "    model.add(MaxPooling2D((2, 2)))\n",
    "    model.add(Dropout(0.3))\n",
    "    \n",
    "    model.add(Conv2D(128, (3, 3), padding='same', activation='relu'))\n",
    "    model.add(BatchNormalization())\n",
    "    model.add(Conv2D(128, (3, 3), padding='same', activation='relu'))\n",
    "    model.add(MaxPooling2D((2, 2)))\n",
    "    model.add(Dropout(0.3))\n",
    "    \n",
    "    model.add(Flatten())\n",
    "    model.add(Dense(512, activation='relu'))\n",
    "    model.add(Dropout(0.4))\n",
    "    model.add(Dense(nClasses,  activation='softmax'))\n",
    "\n",
    "    return model"
   ]
  },
  {
   "cell_type": "code",
   "execution_count": null,
   "id": "4bd7d792-aefa-4122-a76a-ef83a212bb06",
   "metadata": {},
   "outputs": [],
   "source": [
    "# Create the model\n",
    "svhn_model = createModel()"
   ]
  },
  {
   "cell_type": "code",
   "execution_count": null,
   "id": "f90288db-4b34-4f89-9991-2d2dbffda0e0",
   "metadata": {},
   "outputs": [],
   "source": [
    "# Display the summary of the model\n",
    "print(\"SVHN Model Architecture:\")\n",
    "svhn_model.summary()"
   ]
  },
  {
   "cell_type": "code",
   "execution_count": null,
   "id": "47f63f5d-b0f4-4907-ac7b-d2d0bae1dd7f",
   "metadata": {},
   "outputs": [],
   "source": [
    "AdamOpt = Adam(learning_rate=0.001)\n",
    "svhn_model.compile(optimizer=AdamOpt,\n",
    "                   loss='sparse_categorical_crossentropy',\n",
    "                   metrics=['sparse_categorical_accuracy'])"
   ]
  },
  {
   "cell_type": "code",
   "execution_count": null,
   "id": "6c3dd1e9-6ab5-49c0-8295-b717422aa6c7",
   "metadata": {},
   "outputs": [],
   "source": [
    "batch_size = 256\n",
    "epochs = 10\n",
    "\n",
    "history = svhn_model.fit(x_train,\n",
    "                         y_train,\n",
    "                         batch_size=batch_size,\n",
    "                         epochs=epochs,\n",
    "                         verbose=1,\n",
    "                         class_weight=class_weight_dict,\n",
    "                         validation_data=(x_val, y_val))"
   ]
  },
  {
   "cell_type": "code",
   "execution_count": null,
   "id": "18f420f1-d860-4a5b-b783-5805eeda8273",
   "metadata": {},
   "outputs": [],
   "source": [
    "# Visualize training and validation errors\n",
    "plt.plot(history.history['loss'], label='Training Loss')\n",
    "plt.plot(history.history['val_loss'], label='Validation Loss')\n",
    "plt.xlabel('Epochs')\n",
    "plt.ylabel('Loss')\n",
    "plt.legend()\n",
    "plt.show()"
   ]
  },
  {
   "cell_type": "markdown",
   "id": "45f061a7-9391-4d1c-945a-6efc9d6ab7df",
   "metadata": {},
   "source": [
    "Note we have started to over-fit (validation loss increases while training loss still decreases).\n",
    "\n",
    "We can set the model to use early stopping based on increasing validation loss:\n",
    "\n",
    "from tensorflow.keras.callbacks import EarlyStopping\n",
    "\n",
    "# Define early stopping callback\n",
    "early_stopping = EarlyStopping(monitor='val_loss', patience=5)\n",
    "\n",
    "# Train the model with early stopping\n",
    "history = model.fit(X_train, y_train, epochs=50, validation_data=(X_val, y_val), callbacks=[early_stopping])"
   ]
  },
  {
   "cell_type": "code",
   "execution_count": null,
   "id": "ab4a49e3-4b64-41a9-b506-5c8282120b19",
   "metadata": {},
   "outputs": [],
   "source": [
    "# Evaluate the model\n",
    "test_loss, test_accuracy = svhn_model.evaluate(x_test, y_test)\n",
    "print(f\"\\nSVHN Model - Test Loss: {test_loss}, Test Accuracy: {test_accuracy}\")"
   ]
  },
  {
   "cell_type": "code",
   "execution_count": null,
   "id": "339d8691-2db1-42af-b8aa-8f881c41a0f1",
   "metadata": {},
   "outputs": [],
   "source": [
    "# Choose a few images for visualization\n",
    "sample_images = x_test[:5]\n",
    "sample_labels = y_test[:5]"
   ]
  },
  {
   "cell_type": "code",
   "execution_count": null,
   "id": "04868aef-ef7a-41cc-b972-27ed765a908d",
   "metadata": {},
   "outputs": [],
   "source": [
    "# Visualize predictions\n",
    "predictions = svhn_model.predict(sample_images)\n",
    "predicted_labels = [tf.argmax(prediction).numpy() for prediction in predictions]"
   ]
  },
  {
   "cell_type": "code",
   "execution_count": null,
   "id": "71c2c3b3-e981-4634-840d-0146642d56bd",
   "metadata": {},
   "outputs": [],
   "source": [
    "# Display the actual and predicted labels\n",
    "print(\"\\nActual Labels:\", sample_labels)\n",
    "print(\"Predicted Labels:\", predicted_labels)"
   ]
  },
  {
   "cell_type": "code",
   "execution_count": null,
   "id": "4c497302-ffff-4b08-96df-700f7fdb4da0",
   "metadata": {},
   "outputs": [],
   "source": [
    "# Visualize sample images\n",
    "for i in range(len(sample_images)):\n",
    "    plt.figure()\n",
    "    plt.imshow(sample_images[i], cmap='gray')\n",
    "    plt.title(f\"Actual: {sample_labels[i]}, Predicted: {predicted_labels[i]}\")\n",
    "    plt.show()"
   ]
  }
 ],
 "metadata": {
  "kernelspec": {
   "display_name": "Python 3 (ipykernel)",
   "language": "python",
   "name": "python3"
  },
  "language_info": {
   "codemirror_mode": {
    "name": "ipython",
    "version": 3
   },
   "file_extension": ".py",
   "mimetype": "text/x-python",
   "name": "python",
   "nbconvert_exporter": "python",
   "pygments_lexer": "ipython3",
   "version": "3.10.12"
  }
 },
 "nbformat": 4,
 "nbformat_minor": 5
}
