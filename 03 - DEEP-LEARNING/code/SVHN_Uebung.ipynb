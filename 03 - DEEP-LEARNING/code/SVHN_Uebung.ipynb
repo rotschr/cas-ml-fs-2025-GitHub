{
 "cells": [
  {
   "cell_type": "code",
   "execution_count": 87,
   "id": "ec72b152",
   "metadata": {},
   "outputs": [],
   "source": [
    "import numpy as np\n",
    "np.object = object   \n",
    "np.bool = bool   \n",
    "np.int = int  \n",
    "np.float = float    \n",
    "from keras.models import Sequential\n",
    "from keras.layers import Dense, Conv2D, MaxPooling2D, Dropout, Flatten\n",
    "\n",
    "from tensorflow import keras\n",
    "import tensorflow.keras.backend as K\n",
    "from tensorflow.keras.optimizers import Adam\n",
    "from tensorflow.keras.callbacks import Callback\n",
    "\n",
    "from tensorflow.keras.datasets import cifar10\n",
    "from tensorflow.keras.layers import BatchNormalization\n",
    "from tensorflow.keras import utils\n",
    "import tensorflow as tf\n",
    "from sklearn.utils.class_weight import compute_class_weight\n",
    "\n",
    "import matplotlib as mpl\n",
    "import matplotlib.pyplot as plt\n",
    "mpl.style.use('classic')\n",
    "#\n",
    "import h5py    "
   ]
  },
  {
   "cell_type": "code",
   "execution_count": 88,
   "id": "3832eb5b",
   "metadata": {},
   "outputs": [],
   "source": [
    "with h5py.File('SVHN_single_grey1.h5', 'r') as file:\n",
    "    x_train = np.array(file['X_train'])\n",
    "    y_train = np.array(file['y_train'])\n",
    "    x_test = np.array(file['X_test'])\n",
    "    y_test = np.array(file['y_test'])\n",
    "    x_val = np.array(file['X_val'])\n",
    "    y_val = np.array(file['y_val']) \n",
    "\n"
   ]
  },
  {
   "cell_type": "code",
   "execution_count": 89,
   "id": "b2cf3319",
   "metadata": {},
   "outputs": [
    {
     "name": "stdout",
     "output_type": "stream",
     "text": [
      "[[[ 33.0704  30.2601  26.852  ...  71.4471  58.2204  42.9939]\n",
      "  [ 25.2283  25.5533  29.9765 ... 113.0209 103.3639  84.2949]\n",
      "  [ 26.2775  22.6137  40.4763 ... 113.3028 121.775  115.4228]\n",
      "  ...\n",
      "  [ 28.5502  36.212   45.0801 ...  24.1359  25.0927  26.0603]\n",
      "  [ 38.4352  26.4733  23.2717 ...  28.1094  29.4683  30.0661]\n",
      "  [ 50.2984  26.0773  24.0389 ...  49.6682  50.853   53.0377]]\n",
      "\n",
      " [[ 86.9591  87.0685  88.3735 ...  91.8014  89.7477  92.5302]\n",
      "  [ 86.688   86.9114  87.4337 ...  90.7306  87.204   88.5629]\n",
      "  [ 85.9654  85.8145  85.9239 ...  63.8626  59.8199  54.8805]\n",
      "  ...\n",
      "  [ 90.2236  91.0448  93.4637 ...  55.3535  48.5822  44.0557]\n",
      "  [ 90.6427  90.4039  90.937  ...  78.2696  77.4977  74.27  ]\n",
      "  [ 88.0236  88.1977  86.6709 ...  75.2206  76.6396  79.2865]]\n",
      "\n",
      " [[123.125  125.8581 122.0757 ... 123.5747 124.1186 123.3144]\n",
      "  [121.1683 124.1294 117.4613 ... 115.6078 119.5751 122.8306]\n",
      "  [124.6132 121.1019 109.6623 ... 111.1783 119.7923 124.7595]\n",
      "  ...\n",
      "  [135.1391 127.3679 117.754  ...  95.0919 105.5917 114.9283]\n",
      "  [134.8402 131.9545 124.0415 ...  93.864  105.3036 115.1132]\n",
      "  [134.8402 132.0685 128.34   ...  93.9349 104.7875 113.8252]]\n",
      "\n",
      " ...\n",
      "\n",
      " [[154.094  155.8057 156.8164 ... 138.9322 136.1605 133.0468]\n",
      "  [145.725  147.4367 150.0343 ... 145.4477 140.9751 136.9647]\n",
      "  [144.9531 144.8391 143.85   ... 143.263  143.263  146.4799]\n",
      "  ...\n",
      "  [150.2237 150.8107 150.1097 ...  96.8207  96.9239  97.2228]\n",
      "  [151.6365 152.2235 151.1096 ... 120.8892 121.8891 123.1771]\n",
      "  [146.5769 147.9358 147.9358 ... 135.1328 136.6596 137.6595]]\n",
      "\n",
      " [[207.4954 208.4953 213.0218 ... 210.1361 208.4244 203.4357]\n",
      "  [204.4957 207.6094 213.6088 ... 209.4243 207.8374 202.5498]\n",
      "  [204.3216 208.3212 212.9078 ... 209.0222 207.1364 201.4359]\n",
      "  ...\n",
      "  [199.1372 202.083  207.4523 ... 212.8477 211.8478 209.5491]\n",
      "  [201.137  201.61   205.2676 ... 213.9616 213.5487 209.1362]\n",
      "  [202.9088 202.9088 206.9084 ... 214.1357 212.1359 209.1362]]\n",
      "\n",
      " [[ 95.0784  96.0783 100.0779 ... 122.7551 122.8691 122.8691]\n",
      "  [ 95.0784  96.0783 100.0779 ... 122.8691 122.9831 122.9831]\n",
      "  [ 95.0784  96.0783 101.0778 ... 126.5698 126.9827 126.9827]\n",
      "  ...\n",
      "  [ 98.833   99.8329 103.8325 ... 129.8962 131.896  131.896 ]\n",
      "  [ 98.833   99.8329 103.8325 ... 136.0805 138.1943 138.1943]\n",
      "  [ 98.833   99.8329 103.8325 ... 138.0803 140.493  140.493 ]]]\n"
     ]
    }
   ],
   "source": [
    "print(x_train)"
   ]
  },
  {
   "cell_type": "code",
   "execution_count": 90,
   "id": "24e7d168",
   "metadata": {},
   "outputs": [],
   "source": [
    "tf.random.set_seed(42)"
   ]
  },
  {
   "cell_type": "code",
   "execution_count": 91,
   "id": "cf7d24ea",
   "metadata": {},
   "outputs": [],
   "source": [
    "x_train = x_train.astype('float32')\n",
    "x_test = x_test.astype('float32')\n",
    "x_train, x_test, x_val = x_train / 255.0, x_test / 255.0, x_val / 255.0"
   ]
  },
  {
   "cell_type": "code",
   "execution_count": 92,
   "id": "cd90de14",
   "metadata": {},
   "outputs": [],
   "source": [
    "mean = np.mean(x_train,axis=(0,1,2))\n",
    "std = np.std(x_train,axis=(0,1,2))\n",
    "x_train = (x_train-mean)/(std+1e-7)\n",
    "x_test = (x_test-mean)/(std+1e-7)"
   ]
  },
  {
   "cell_type": "code",
   "execution_count": 93,
   "id": "757cfea8",
   "metadata": {},
   "outputs": [],
   "source": [
    "nClasses = 10\n",
    "y_train = utils.to_categorical(y_train,nClasses)\n",
    "y_test = utils.to_categorical(y_test,nClasses)"
   ]
  },
  {
   "cell_type": "code",
   "execution_count": 99,
   "id": "a58cd625",
   "metadata": {},
   "outputs": [
    {
     "data": {
      "text/plain": [
       "(42000, 32, 32)"
      ]
     },
     "execution_count": 99,
     "metadata": {},
     "output_type": "execute_result"
    }
   ],
   "source": [
    "x_train.shape[0:]"
   ]
  },
  {
   "cell_type": "code",
   "execution_count": 100,
   "id": "020bc969",
   "metadata": {},
   "outputs": [],
   "source": [
    "def createModel():\n",
    "    model = Sequential()\n",
    "    model.add(Conv2D(32, (3, 3), padding='same', activation='relu', input_shape=x_train.shape[0:]))\n",
    "    model.add(Conv2D(32, (3, 3), activation='relu'))\n",
    "    model.add(MaxPooling2D(pool_size=(2, 2)))\n",
    "    model.add(Dropout(0.25))\n",
    " \n",
    "    model.add(Conv2D(64, (3, 3), padding='same', activation='relu'))\n",
    "    model.add(Conv2D(64, (3, 3), activation='relu'))\n",
    "    model.add(MaxPooling2D(pool_size=(2, 2)))\n",
    "    model.add(Dropout(0.25))\n",
    " \n",
    "    model.add(Conv2D(64, (3, 3), padding='same', activation='relu'))\n",
    "    model.add(Conv2D(64, (3, 3), activation='relu'))\n",
    "    model.add(MaxPooling2D(pool_size=(2, 2)))\n",
    "    model.add(Dropout(0.25))\n",
    " \n",
    "    model.add(Flatten())\n",
    "    model.add(Dense(512, activation='relu'))\n",
    "    model.add(Dropout(0.5))\n",
    "    model.add(Dense(nClasses, activation='softmax'))\n",
    "     \n",
    "    return model"
   ]
  },
  {
   "cell_type": "code",
   "execution_count": 101,
   "id": "20fe2c4d",
   "metadata": {},
   "outputs": [],
   "source": [
    "K.clear_session()\n",
    "model = createModel()"
   ]
  },
  {
   "cell_type": "code",
   "execution_count": 104,
   "id": "09d93a14",
   "metadata": {},
   "outputs": [],
   "source": [
    "AdamOpt = Adam(learning_rate=0.001)\n",
    "model.compile(optimizer=AdamOpt,\n",
    "                loss='sparse_categorical_crossentropy',\n",
    "                metrics=['sparse_categorical_accuracy'])"
   ]
  }
 ],
 "metadata": {
  "kernelspec": {
   "display_name": "Py9",
   "language": "python",
   "name": "python3"
  },
  "language_info": {
   "codemirror_mode": {
    "name": "ipython",
    "version": 3
   },
   "file_extension": ".py",
   "mimetype": "text/x-python",
   "name": "python",
   "nbconvert_exporter": "python",
   "pygments_lexer": "ipython3",
   "version": "3.9.18"
  }
 },
 "nbformat": 4,
 "nbformat_minor": 5
}
