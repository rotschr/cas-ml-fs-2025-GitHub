{
  "cells": [
    {
      "cell_type": "markdown",
      "id": "36ce3a46",
      "metadata": {
        "id": "36ce3a46"
      },
      "source": []
    },
    {
      "cell_type": "markdown",
      "source": [
        "# **Text Similarity Analysis Using Sentence Embeddings**\n",
        "\n",
        "This notebook demonstrates how to analyze the similarity between different texts using sentence embeddings, visualizations, and outlier detection. We will explore variations of the well-known English pangram: **\"The quick brown fox jumps over the lazy dog.\"** This sentence is widely used because it contains every letter of the English alphabet at least once.\n",
        "\n",
        "## **Overview of the Example Texts:**\n",
        "- The example texts include variations of the pangram with spelling errors, shortened versions, synonyms, and an entirely unrelated text.\n",
        "- Our goal is to measure the semantic similarity between these texts and identify the most similar pairs, outliers, and key differences.\n",
        "\n",
        "## **What We Will Do:**\n",
        "1. Generate embeddings using the `sentence-transformers` library.\n",
        "2. Visualize the similarity matrix using a heatmap.\n",
        "3. Use t-SNE to cluster and visualize embeddings.\n",
        "4. Detect outlier texts using the Local Outlier Factor algorithm.\n",
        "5. Highlight differences between the most similar text pairs.\n",
        "\n",
        "\n"
      ],
      "metadata": {
        "id": "dfU5aEUiBDIy"
      },
      "id": "dfU5aEUiBDIy"
    },
    {
      "cell_type": "markdown",
      "source": [
        "# Step 1. Install libraries\n",
        "The optional flag -q installs \"quietly\" without printing out details of the installation."
      ],
      "metadata": {
        "id": "Ootf_BQtBDZt"
      },
      "id": "Ootf_BQtBDZt"
    },
    {
      "cell_type": "code",
      "source": [
        "# Install the required libraries if running in Google Colab\n",
        "# Uncomment the line below if using Colab\n",
        "!pip install sentence-transformers scikit-learn matplotlib seaborn -q"
      ],
      "metadata": {
        "id": "baa4u1dUpVUY"
      },
      "id": "baa4u1dUpVUY",
      "execution_count": 21,
      "outputs": []
    },
    {
      "cell_type": "markdown",
      "id": "6d68629b",
      "metadata": {
        "id": "6d68629b"
      },
      "source": [
        "#Step 2: Importing Libraries\n",
        "\n",
        "* SentenceTransformer: For generating sentence embeddings using pre-trained language models.\n",
        "* cosine_similarity: For computing pairwise similarity between text embeddings.\n",
        "* TSNE: For visualizing high-dimensional embeddings in 2D space.\n",
        "* LocalOutlierFactor: For detecting potential outlier texts.\n",
        "* seaborn and matplotlib: For creating heatmaps and scatter plots.\n",
        "* difflib: For highlighting differences between two similar texts.\n",
        "\n",
        "\n",
        "\n"
      ]
    },
    {
      "cell_type": "code",
      "source": [
        "# Import libraries\n",
        "from sentence_transformers import SentenceTransformer\n",
        "from sklearn.metrics.pairwise import cosine_similarity\n",
        "from sklearn.manifold import TSNE\n",
        "from sklearn.neighbors import LocalOutlierFactor\n",
        "import pandas as pd\n",
        "import seaborn as sns\n",
        "import matplotlib.pyplot as plt\n",
        "import numpy as np\n",
        "import difflib"
      ],
      "metadata": {
        "id": "DWbVVPpIpwp0"
      },
      "id": "DWbVVPpIpwp0",
      "execution_count": 2,
      "outputs": []
    },
    {
      "cell_type": "markdown",
      "id": "408a38f5",
      "metadata": {
        "id": "408a38f5"
      },
      "source": [
        "# Step 3: Embedding Texts Using a Pre-trained Model\n",
        "\n",
        "### Generating Sentence Embeddings\n",
        "We are using the `sentence-transformers` library to convert each text into a dense vector representation. These embeddings capture the semantic meaning of the texts.\n",
        "\n",
        "**get_embeddings**: This function takes a list of texts and generates embeddings using the *all-MiniLM-L6-v2* model, which is fast and effective for most applications.\n",
        "https://huggingface.co/sentence-transformers/all-MiniLM-L6-v2"
      ]
    },
    {
      "cell_type": "code",
      "source": [
        "# Function: get_embeddings\n",
        "def get_embeddings(texts, model_name=\"all-MiniLM-L6-v2\"):\n",
        "    \"\"\"Generates sentence embeddings using SentenceTransformer.\"\"\"\n",
        "    model = SentenceTransformer(model_name)\n",
        "    return model.encode(texts)"
      ],
      "metadata": {
        "id": "6sbY3u-kp0rI"
      },
      "id": "6sbY3u-kp0rI",
      "execution_count": 4,
      "outputs": []
    },
    {
      "cell_type": "markdown",
      "id": "e8b6bde4",
      "metadata": {
        "id": "e8b6bde4"
      },
      "source": [
        "#Step 4: Plotting the Similarity Heatmap\n",
        "### Similarity Heatmap\n",
        "The heatmap visually shows the similarity scores between each pair of texts. The values are based on cosine similarity, where 1.0 means perfect similarity.\n"
      ]
    },
    {
      "cell_type": "markdown",
      "source": [
        "The function plots a heatmap of the cosine similarity between texts.\n",
        "\n",
        "**annot=True**: Displays the similarity values on the heatmap.\n",
        "\n",
        "**fmt=\".2f\"**: Ensures the values are rounded to two decimal places.\n",
        "cmap =  stands for colormap, which defines the color scheme used to represent the data in the heatmap.\n",
        "\n",
        "**cmap='viridis'** - 'viridis' is a popular colormap that transitions from dark purple (low values) to yellow-green (high values).\n",
        "\n"
      ],
      "metadata": {
        "id": "O6oJORVbp4ci"
      },
      "id": "O6oJORVbp4ci"
    },
    {
      "cell_type": "code",
      "source": [
        "# Function: plot_similarity_heatmap\n",
        "def plot_similarity_heatmap(texts, similarity_matrix):\n",
        "    \"\"\"Plots a heatmap of text similarity.\"\"\"\n",
        "    plt.figure(figsize=(10, 8))\n",
        "    sns.heatmap(similarity_matrix,\n",
        "                annot=True,\n",
        "                fmt=\".2f\",\n",
        "                cmap='viridis',\n",
        "                xticklabels=[f\"Text {i+1}\" for i in range(len(texts))],\n",
        "                yticklabels=[f\"Text {i+1}\" for i in range(len(texts))])\n",
        "    plt.title(\"Text Similarity Heatmap\")\n",
        "    plt.show()"
      ],
      "metadata": {
        "id": "zSx6Ay9OqaR2"
      },
      "id": "zSx6Ay9OqaR2",
      "execution_count": 5,
      "outputs": []
    },
    {
      "cell_type": "markdown",
      "id": "f7bce306",
      "metadata": {
        "id": "f7bce306"
      },
      "source": [
        "#Step 5: Visualizing Text Embeddings Using t-SNE\n",
        "### Visualizing Clusters of Texts Using t-SNE\n",
        "This function will create a plot showing how similar texts form clusters based on their embeddings.\n",
        "Points that are closer together represent semantically similar texts.\n",
        "t-SNE is used to reduce the high-dimensional embeddings to 2D for visualization.\n",
        "perplexity=3: Controls the balance between local and global aspects of the data.\n"
      ]
    },
    {
      "cell_type": "markdown",
      "source": [
        "### **Note: What is t-SNE?**\n",
        "t-SNE (t-Distributed Stochastic Neighbor Embedding) is a machine learning algorithm used for dimensionality reduction.\n",
        "\n",
        "It is particularly effective for visualizing high-dimensional data by mapping it to a 2D or 3D space.  \n",
        "t-SNE preserves the **local structure** of the data, meaning that points that are similar in the high-dimensional space remain close to each other in the lower-dimensional space.\n",
        "\n",
        "It is commonly used for exploring clusters and relationships in datasets such as text, images, or embeddings.\n"
      ],
      "metadata": {
        "id": "bdOjVKx9xDJl"
      },
      "id": "bdOjVKx9xDJl"
    },
    {
      "cell_type": "code",
      "source": [
        "# Function: plot_embedding_clusters\n",
        "def plot_embedding_clusters(embeddings, texts, perplexity=3):\n",
        "    \"\"\"Visualizes text embeddings using t-SNE.\"\"\"\n",
        "    tsne = TSNE(n_components=2, perplexity=perplexity, random_state=42)\n",
        "    embeddings_2d = tsne.fit_transform(embeddings)\n",
        "\n",
        "    plt.figure(figsize=(10, 6))\n",
        "    plt.scatter(embeddings_2d[:, 0], embeddings_2d[:, 1])\n",
        "\n",
        "    for i, txt in enumerate(texts):\n",
        "        plt.text(embeddings_2d[i, 0] + 0.1, embeddings_2d[i, 1] + 0.1, f\"Text {i+1}\", fontsize=8)\n",
        "\n",
        "    plt.title(\"Text Embeddings Visualization\")\n",
        "    plt.show()"
      ],
      "metadata": {
        "id": "tbZaifmxp95e"
      },
      "id": "tbZaifmxp95e",
      "execution_count": 6,
      "outputs": []
    },
    {
      "cell_type": "markdown",
      "id": "eeefbced",
      "metadata": {
        "id": "eeefbced"
      },
      "source": [
        "# Step 6: Detecting Outlier Texts\n",
        "### Outlier Detection\n",
        "We use the `LocalOutlierFactor` algorithm to identify texts that are significantly different from the rest.\n",
        "If a text is significantly different from the others, it will be flagged as an outlier."
      ]
    },
    {
      "cell_type": "markdown",
      "source": [
        "## **What is Local Outlier Factor (LOF)?**\n",
        "The **Local Outlier Factor** algorithm is an unsupervised anomaly detection method.\n",
        "\n",
        "It identifies anomalies by comparing the **local density** of a point with that of its neighbors.  \n",
        "Points that have a significantly lower density than their neighbors are flagged as outliers.\n",
        "\n",
        "The **local outlier factor** is based on a concept of a **local density**, where locality is given by *k nearest neighbors*, whose distance is used to estimate the density. By comparing the local density of an object to the local densities of its neighbors, one can identify regions of similar density, and points that have a substantially lower density than their neighbors. These are considered to be outliers. (from Wikipedia: https://en.wikipedia.org/wiki/Local_outlier_factor)\n",
        "\n",
        "In this case, LOF helps detect texts that are semantically different from the majority.\n"
      ],
      "metadata": {
        "id": "mQnT3r900d2Q"
      },
      "id": "mQnT3r900d2Q"
    },
    {
      "cell_type": "code",
      "source": [
        "# Function: detect_outliers\n",
        "def detect_outliers(embeddings, texts):\n",
        "    \"\"\"Detects outlier texts using LocalOutlierFactor.\"\"\"\n",
        "    # we compare the local density of a point to its 2 nearest neighbors.\n",
        "    lof = LocalOutlierFactor(n_neighbors=2)\n",
        "    #Fit the LOF model to the embeddings and predict outliers\n",
        "    outlier_labels = lof.fit_predict(embeddings)\n",
        "    # The model assigns -1 to outliers and 1 to normal points. Collect texts that are flagged as outliers (outlier label = -1)\n",
        "    outliers = [texts[i] for i in range(len(outlier_labels)) if outlier_labels[i] == -1]\n",
        "\n",
        "    if outliers:\n",
        "        print(\"\\nDetected Outliers:\")\n",
        "        for text in outliers:\n",
        "            print(f\"- {text}\")\n",
        "    else:\n",
        "        print(\"\\nNo significant outliers detected.\")"
      ],
      "metadata": {
        "id": "1W9HbWlmqBCf"
      },
      "id": "1W9HbWlmqBCf",
      "execution_count": 7,
      "outputs": []
    },
    {
      "cell_type": "markdown",
      "id": "ea6e77a0",
      "metadata": {
        "id": "ea6e77a0"
      },
      "source": [
        "#Step 7: Finding the Most Similar Text Pairs\n",
        "Here we compare all pairs of texts and returns the most similar pairs based on cosine similarity.\n"
      ]
    },
    {
      "cell_type": "code",
      "source": [
        "# Function to find and sort most similar pairs\n",
        "# This function identifies and ranks the most semantically similar pairs of texts based on cosine similarity scores.\n",
        "def find_most_similar_pairs(texts, similarity_matrix):\n",
        "    \"\"\"Finds and sorts the most similar text pairs.\"\"\"\n",
        "    pairs = []\n",
        "    for i in range(len(texts)):\n",
        "        # Iterate through each pair of texts to compute pairwise similarity\n",
        "        for j in range(i + 1, len(texts)):\n",
        "            # Append a tuple containing indices of the two texts and their similarity score\n",
        "            pairs.append((i, j, similarity_matrix[i][j]))\n",
        "    # Sort the pairs by their similarity score in descending order, so the most similar pairs are at the top\n",
        "    pairs.sort(key=lambda x: x[2], reverse=True)\n",
        "    return pairs"
      ],
      "metadata": {
        "id": "ktyZYouJqEOZ"
      },
      "id": "ktyZYouJqEOZ",
      "execution_count": 22,
      "outputs": []
    },
    {
      "cell_type": "markdown",
      "id": "f3da02c0",
      "metadata": {
        "id": "f3da02c0"
      },
      "source": [
        "#Step 8: Highlighting Differences Between Similar Texts\n",
        "### Highlighting Differences\n",
        "We use the `difflib` library to highlight differences between two similar texts."
      ]
    },
    {
      "cell_type": "code",
      "source": [
        "# This function compares two input texts and highlights their differences.\n",
        "def highlight_text_differences(text1, text2):\n",
        "   # Generate a list of differences using difflib's ndiff function.\n",
        "   # The '+' prefix indicates words that are present in text2 but not in text1.\n",
        "   # The '-' prefix indicates words that are in text1 but not in text2.\n",
        "    \"\"\"Highlights differences between two texts.\"\"\"\n",
        "    diff = difflib.ndiff(text1.split(), text2.split())\n",
        "\n",
        "    # Highlight words with a green color if they are additions in text2 (start with '+').\n",
        "    # Ignore words that are deletions from text1 (start with '-').\n",
        "    # Join the processed words into a single highlighted output string.\n",
        "    highlighted = ' '.join([f\"\\033[92m{word}\\033[0m\" if word.startswith('+') else word for word in diff if not word.startswith('-')])\n",
        "    return highlighted"
      ],
      "metadata": {
        "id": "TgIr3oa_qH6W"
      },
      "id": "TgIr3oa_qH6W",
      "execution_count": 9,
      "outputs": []
    },
    {
      "cell_type": "markdown",
      "id": "a9adcdef",
      "metadata": {
        "id": "a9adcdef"
      },
      "source": [
        "#Step 9. Application to text analysis\n",
        "This example embeds some variations on the pangram, *The quick brown fox jumps over the lazy dog*, including spelling mistakes and shortenings of the phrase. Another pangram and a somewhat unrelated phrase have been included for comparison."
      ]
    },
    {
      "cell_type": "markdown",
      "source": [
        "#### **1. The quick brown fox jumps over the lazy dog.**\n",
        "This is the original pangram used in typing and font demos as it contains all the letters of the alphabet.\n",
        "\n",
        "#### **2. The quick rbown fox jumps over the lazy dog.**\n",
        "This is a slightly modified version of the original sentence, with a minor spelling mistake (\"rbown\" instead of \"brown\"). This variation helps test how embeddings handle small spelling errors.\n",
        "\n",
        "#### **3. teh fast fox jumps over the slow woofer.**\n",
        "This sentence introduces multiple changes:\n",
        "- **Spelling mistake:** \"teh\" instead of \"the\".\n",
        "- **Synonym replacement:** \"fast\" replaces \"quick\", and \"slow woofer\" replaces \"lazy dog\".  \n",
        "It is used to evaluate how well the model generalizes semantic meaning.\n",
        "\n",
        "#### **4. a quick brown fox jmps over lazy dog.**\n",
        "Another variation with a spelling error (\"jmps\" instead of \"jumps\") and missing articles (\"the\" is omitted). This variation tests how robust the model is to missing or mistyped words.\n",
        "\n",
        "#### **5. brown fox jumping over dog**\n",
        "A shortened version of the sentence, omitting \"quick,\" \"the,\" and other words. This text checks whether embeddings still capture the core meaning despite fewer words.\n",
        "\n",
        "#### **6. fox > dog**\n",
        "A symbolic expression representing the relationship between a fox and a dog. This phrase is included to test how embeddings interpret minimal and abstract inputs.\n",
        "\n",
        "#### **7. The five boxing wizards jump quickly.**\n",
        "Another pangram with no spelling errors, used to see how embeddings relate two different but grammatically correct sentences.\n",
        "\n",
        "#### **8. Lorem ipsum dolor sit amet...**\n",
        "A completely unrelated Latin filler text commonly used in design. It serves as a control case to test how dissimilar and unrelated texts are handled by the model.\n"
      ],
      "metadata": {
        "id": "5Vrg_tYICUs3"
      },
      "id": "5Vrg_tYICUs3"
    },
    {
      "cell_type": "code",
      "source": [
        "texts = [\n",
        "        'The quick brown fox jumps over the lazy dog.',\n",
        "        'The quick rbown fox jumps over the lazy dog.',\n",
        "        'teh fast fox jumps over the slow woofer.',\n",
        "        'a quick brown fox jmps over lazy dog.',\n",
        "        'brown fox jumping over dog',\n",
        "        'fox > dog',\n",
        "        'The five boxing wizards jump quickly.',\n",
        "        'Lorem ipsum dolor sit amet...'\n",
        "    ]"
      ],
      "metadata": {
        "id": "KFvg5_Mqq_g4"
      },
      "id": "KFvg5_Mqq_g4",
      "execution_count": 11,
      "outputs": []
    },
    {
      "cell_type": "markdown",
      "source": [
        "#Step 10. **Generating Embeddings and Calculating Similarity**\n",
        "\n",
        "In this step, we generate sentence embeddings for each text using functions above\n",
        "The embeddings capture the semantic meaning of each sentence and convert them into high-dimensional dense vectors.\n",
        "\n",
        "Once we have the embeddings, we calculate the pairwise similarity between the texts using **cosine similarity**.  \n",
        "Cosine similarity measures the angle between two vectors: values close to 1 indicate high similarity, while values near 0 or -1 indicate low similarity.\n"
      ],
      "metadata": {
        "id": "3HNf8BMYrBXo"
      },
      "id": "3HNf8BMYrBXo"
    },
    {
      "cell_type": "code",
      "source": [
        "# Get embeddings and similarity matrix\n",
        "# Generate sentence embeddings for the input texts\n",
        "# Each text is transformed into a high-dimensional dense vector representing its semantic mea\n",
        "embeddings = get_embeddings(texts)\n",
        "\n",
        "# Compute pairwise cosine similarities between the embeddings\n",
        "# The similarity score ranges from -1 (completely different) to 1 (identical), with values\n",
        "similarity_matrix = cosine_similarity(embeddings)\n",
        "\n"
      ],
      "metadata": {
        "id": "8LrpXhHBrB2Y"
      },
      "id": "8LrpXhHBrB2Y",
      "execution_count": 13,
      "outputs": []
    },
    {
      "cell_type": "markdown",
      "source": [
        "Lower similarity scores will be shown in darker purples.\n",
        "Higher similarity scores will be shown in brighter yellow-greens."
      ],
      "metadata": {
        "id": "c9MYVrXSvcXx"
      },
      "id": "c9MYVrXSvcXx"
    },
    {
      "cell_type": "markdown",
      "source": [
        "#Step 11. **Similarity heatmap**"
      ],
      "metadata": {
        "id": "r186YpfbJDdj"
      },
      "id": "r186YpfbJDdj"
    },
    {
      "cell_type": "code",
      "source": [
        "plot_similarity_heatmap(texts, similarity_matrix)\n"
      ],
      "metadata": {
        "colab": {
          "base_uri": "https://localhost:8080/",
          "height": 699
        },
        "id": "fBWVZIaVrP9P",
        "outputId": "f9fc99f1-3e3d-4d11-d8fa-80bf5a0bf319"
      },
      "id": "fBWVZIaVrP9P",
      "execution_count": 14,
      "outputs": [
        {
          "output_type": "display_data",
          "data": {
            "text/plain": [
              "<Figure size 1000x800 with 2 Axes>"
            ],
            "image/png": "[encoded data removed]"
          },
          "metadata": {}
        }
      ]
    },
    {
      "cell_type": "markdown",
      "source": [
        "## **Takeaways from the Similarity Heatmap**\n",
        "\n",
        "1. **High Similarity Scores for Minor Variations**:\n",
        "   - Texts with small spelling mistakes, such as \"The quick rbown fox...\" compared to the original pangram, show **high similarity scores**. This indicates that the embedding model is robust to small errors in spelling and can still capture semantic similarity.\n",
        "\n",
        "2. **Lower Similarity for Synonym and Structural Changes**:\n",
        "   - Sentences like \"teh fast fox jumps over the slow woofer,\" which involve synonym replacements and structural changes, have **moderate similarity scores**. This shows that while the model recognizes some similarity, it penalizes changes in word meaning and structure.\n",
        "\n",
        "3. **Minimal Similarity for Shortened or Abstract Expressions**:\n",
        "   - Shortened sentences such as \"fox > dog\" exhibit **low similarity scores**, as they lose key descriptive information from the original phrase. This demonstrates that minimal or abstract inputs can lead to lower semantic understanding.\n",
        "\n",
        "4. **Control Case with Unrelated Text**:\n",
        "   - The Latin filler text, \"Lorem ipsum dolor sit amet,\" has **very low similarity scores** with most texts. This confirms that the model correctly identifies semantically unrelated content.\n",
        "\n",
        "\n"
      ],
      "metadata": {
        "id": "HxLgIH7-IK3Y"
      },
      "id": "HxLgIH7-IK3Y"
    },
    {
      "cell_type": "markdown",
      "source": [
        "## Step 12. **Visualizing Clusters of Text Embeddings with t-SNE**\n",
        "\n",
        "In this step, we use t-SNE (t-Distributed Stochastic Neighbor Embedding) to reduce the high-dimensional embeddings into 2D space for visualization.  \n",
        "t-SNE helps preserve the local structure of the embeddings, making it easier to visually identify clusters and relationships between similar texts.\n",
        "\n"
      ],
      "metadata": {
        "id": "EQoL4VITIpbL"
      },
      "id": "EQoL4VITIpbL"
    },
    {
      "cell_type": "code",
      "source": [
        "plot_embedding_clusters(embeddings, texts, perplexity=3)\n"
      ],
      "metadata": {
        "colab": {
          "base_uri": "https://localhost:8080/",
          "height": 545
        },
        "id": "V_Rtc8yyrSEY",
        "outputId": "d91da3a6-f301-4f46-9534-97ee634e827e"
      },
      "id": "V_Rtc8yyrSEY",
      "execution_count": 15,
      "outputs": [
        {
          "output_type": "display_data",
          "data": {
            "text/plain": [
              "<Figure size 1000x600 with 1 Axes>"
            ],
            "image/png": "[encoded data removed]"
          },
          "metadata": {}
        }
      ]
    },
    {
      "cell_type": "markdown",
      "source": [
        "### **Key Points:**\n",
        "- Texts that are semantically similar will appear closer together.\n",
        "- Outliers or dissimilar texts will be positioned farther apart.\n",
        "- The `perplexity` parameter controls how t-SNE balances attention between local and global structures.\n"
      ],
      "metadata": {
        "id": "zBSPI--pJWFr"
      },
      "id": "zBSPI--pJWFr"
    },
    {
      "cell_type": "markdown",
      "source": [
        "#Step 13. **Detect Outliers**\n",
        "\n",
        "In this step, we use the Local Outlier Factor (LOF) algorithm to identify texts that are significantly different from the others (see function above).  \n"
      ],
      "metadata": {
        "id": "SB-AyByKJX16"
      },
      "id": "SB-AyByKJX16"
    },
    {
      "cell_type": "code",
      "source": [
        "detect_outliers(embeddings, texts)"
      ],
      "metadata": {
        "colab": {
          "base_uri": "https://localhost:8080/"
        },
        "id": "BY7DQ-2grUDw",
        "outputId": "9e257f7e-4010-48aa-8819-f0a63b68ea7e"
      },
      "id": "BY7DQ-2grUDw",
      "execution_count": 16,
      "outputs": [
        {
          "output_type": "stream",
          "name": "stdout",
          "text": [
            "\n",
            "Detected Outliers:\n",
            "- Lorem ipsum dolor sit amet...\n"
          ]
        }
      ]
    },
    {
      "cell_type": "markdown",
      "source": [
        "#Step 14. **Print most similar text pairs:**"
      ],
      "metadata": {
        "id": "0bLXirG2KJFq"
      },
      "id": "0bLXirG2KJFq"
    },
    {
      "cell_type": "code",
      "source": [
        "print(\"\\nMost Similar Text Pairs:\")\n",
        "# Find and rank all pairs of texts by their similarity score\n",
        "pairs = find_most_similar_pairs(texts, similarity_matrix)\n",
        "# Loop through the top 3 most similar pairs\n",
        "for i, j, score in pairs[:3]:  # try here to change the number of pairs\n",
        "  print(f\"\\nSimilarity Score: {score:.3f}\")\n",
        "  print(f\"Text {i+1}: {texts[i]}\")\n",
        "  print(f\"Text {j+1}: {texts[j]}\")\n",
        "  print(\"Highlighted Differences:\")\n",
        "  # Highlight the differences between the two texts to understand what drives their similarity\n",
        "  print(highlight_text_differences(texts[i], texts[j]))"
      ],
      "metadata": {
        "colab": {
          "base_uri": "https://localhost:8080/"
        },
        "id": "ipBXENmLrbcI",
        "outputId": "312b095b-3800-43c1-e52f-6874e644371c"
      },
      "id": "ipBXENmLrbcI",
      "execution_count": 23,
      "outputs": [
        {
          "output_type": "stream",
          "name": "stdout",
          "text": [
            "\n",
            "Most Similar Text Pairs:\n",
            "\n",
            "Similarity Score: 0.860\n",
            "Text 1: The quick brown fox jumps over the lazy dog.\n",
            "Text 2: The quick rbown fox jumps over the lazy dog.\n",
            "Highlighted Differences:\n",
            "  The   quick ?  -\n",
            " \u001b[92m+ rbown\u001b[0m ? +\n",
            "   fox   jumps   over   the   lazy   dog.\n",
            "\n",
            "Similarity Score: 0.820\n",
            "Text 1: The quick brown fox jumps over the lazy dog.\n",
            "Text 4: a quick brown fox jmps over lazy dog.\n",
            "Highlighted Differences:\n",
            "\u001b[92m+ a\u001b[0m   quick   brown   fox ?  -\n",
            " \u001b[92m+ jmps\u001b[0m   over   lazy   dog.\n",
            "\n",
            "Similarity Score: 0.802\n",
            "Text 1: The quick brown fox jumps over the lazy dog.\n",
            "Text 5: brown fox jumping over dog\n",
            "Highlighted Differences:\n",
            "  brown   fox \u001b[92m+ jumping\u001b[0m   over ?    -\n",
            " \u001b[92m+ dog\u001b[0m\n",
            "\n",
            "Similarity Score: 0.734\n",
            "Text 2: The quick rbown fox jumps over the lazy dog.\n",
            "Text 4: a quick brown fox jmps over lazy dog.\n",
            "Highlighted Differences:\n",
            "\u001b[92m+ a\u001b[0m   quick ?  -\n",
            " \u001b[92m+ brown\u001b[0m ? +\n",
            "   fox ?  -\n",
            " \u001b[92m+ jmps\u001b[0m   over   lazy   dog.\n"
          ]
        }
      ]
    }
  ],
  "metadata": {
    "colab": {
      "provenance": []
    },
    "language_info": {
      "name": "python"
    },
    "kernelspec": {
      "name": "python3",
      "display_name": "Python 3"
    }
  },
  "nbformat": 4,
  "nbformat_minor": 5
}